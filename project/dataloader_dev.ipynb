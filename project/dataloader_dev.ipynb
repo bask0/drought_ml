{
 "cells": [
  {
   "cell_type": "code",
   "execution_count": 2,
   "metadata": {},
   "outputs": [],
   "source": [
    "from dataset import BufferedGeoDataLoader\n",
    "import xarray as xr\n",
    "import numpy as np\n",
    "from tqdm import tqdm\n",
    "import time\n",
    "\n",
    "import pytorch_lightning as pl"
   ]
  },
  {
   "cell_type": "code",
   "execution_count": 2,
   "metadata": {},
   "outputs": [],
   "source": [
    "geodata = BufferedGeoDataLoader(fold_id=0, num_wokers=8)"
   ]
  },
  {
   "cell_type": "code",
   "execution_count": 3,
   "metadata": {},
   "outputs": [],
   "source": [
    "from project.pl_models.tcn_model import TemporalConvNetPL\n",
    "from project.utils.torch_utils import count_parameters"
   ]
  },
  {
   "cell_type": "code",
   "execution_count": 4,
   "metadata": {},
   "outputs": [],
   "source": [
    "tcn = TemporalConvNetPL(\n",
    "    num_inputs=geodata.num_features_hourly, num_geofactors=geodata.num_features_static, num_outputs=1, num_hidden=32, num_layers=3, dropout=0.2, static_dropout=0.2, kernel_size=3,\n",
    "    tasks='fvc', lr=0.001, weight_decay=0.001)"
   ]
  },
  {
   "cell_type": "code",
   "execution_count": 5,
   "metadata": {},
   "outputs": [
    {
     "name": "stderr",
     "output_type": "stream",
     "text": [
      "GPU available: True (cuda), used: True\n",
      "TPU available: False, using: 0 TPU cores\n",
      "IPU available: False, using: 0 IPUs\n",
      "HPU available: False, using: 0 HPUs\n"
     ]
    }
   ],
   "source": [
    "trainer = pl.Trainer(accelerator='gpu', devices=[7])"
   ]
  },
  {
   "cell_type": "code",
   "execution_count": 6,
   "metadata": {},
   "outputs": [
    {
     "name": "stderr",
     "output_type": "stream",
     "text": [
      "/Net/Groups/BGI/people/bkraft/anaconda3/envs/dml/lib/python3.10/site-packages/pytorch_lightning/loops/utilities.py:89: PossibleUserWarning: `max_epochs` was not set. Setting it to 1000 epochs. To train without an epoch limit, set `max_epochs=-1`.\n",
      "  rank_zero_warn(\n",
      "LOCAL_RANK: 0 - CUDA_VISIBLE_DEVICES: [0,1,2,3,4,5,6,7]\n",
      "/Net/Groups/BGI/people/bkraft/anaconda3/envs/dml/lib/python3.10/site-packages/pytorch_lightning/core/optimizer.py:182: UserWarning: `LightningModule.configure_optimizers` returned `None`, this fit will run with no optimizer\n",
      "  rank_zero_warn(\n",
      "\n",
      "  | Name             | Type            | Params\n",
      "-----------------------------------------------------\n",
      "0 | loss_fn          | RegressionLoss  | 0     \n",
      "1 | encode_static    | FeedForward     | 2.5 K \n",
      "2 | flatten_time     | Transform       | 0     \n",
      "3 | to_sequence_last | Transform       | 0     \n",
      "4 | tcn              | TemporalConvNet | 18.8 K\n",
      "5 | tcn_mean         | TemporalConvNet | 7.5 K \n",
      "6 | tcn_var          | TemporalConvNet | 7.5 K \n",
      "7 | softplus         | Softplus        | 0     \n",
      "8 | downscale        | Conv1d          | 769   \n",
      "9 | to_channel_last  | Transform       | 0     \n",
      "-----------------------------------------------------\n",
      "36.9 K    Trainable params\n",
      "0         Non-trainable params\n",
      "36.9 K    Total params\n",
      "0.148     Total estimated model params size (MB)\n"
     ]
    },
    {
     "data": {
      "application/vnd.jupyter.widget-view+json": {
       "model_id": "fb51becc56db4e97af01009c3aae8705",
       "version_major": 2,
       "version_minor": 0
      },
      "text/plain": [
       "Sanity Checking: 0it [00:00, ?it/s]"
      ]
     },
     "metadata": {},
     "output_type": "display_data"
    },
    {
     "name": "stderr",
     "output_type": "stream",
     "text": [
      "/Net/Groups/BGI/people/bkraft/anaconda3/envs/dml/lib/python3.10/site-packages/pytorch_lightning/utilities/data.py:178: UserWarning: Your `IterableDataset` has `__len__` defined. In combination with multi-process data loading (when num_workers > 1), `__len__` could be inaccurate if each worker is not configured independently to avoid having duplicate data.\n",
      "  rank_zero_warn(\n",
      "/Net/Groups/BGI/people/bkraft/anaconda3/envs/dml/lib/python3.10/site-packages/pytorch_lightning/utilities/data.py:132: UserWarning: Your `IterableDataset` has `__len__` defined. In combination with multi-process data loading (when num_workers > 1), `__len__` could be inaccurate if each worker is not configured independently to avoid having duplicate data.\n",
      "  rank_zero_warn(\n"
     ]
    },
    {
     "name": "stdout",
     "output_type": "stream",
     "text": [
      "tensor([[[3.4539e+16],\n",
      "         [3.4539e+16],\n",
      "         [3.4539e+16],\n",
      "         ...,\n",
      "         [       nan],\n",
      "         [       nan],\n",
      "         [       nan]],\n",
      "\n",
      "        [[3.4539e+16],\n",
      "         [3.4539e+16],\n",
      "         [3.4539e+16],\n",
      "         ...,\n",
      "         [       nan],\n",
      "         [       nan],\n",
      "         [       nan]],\n",
      "\n",
      "        [[3.4539e+16],\n",
      "         [3.4539e+16],\n",
      "         [3.4539e+16],\n",
      "         ...,\n",
      "         [       nan],\n",
      "         [       nan],\n",
      "         [       nan]],\n",
      "\n",
      "        ...,\n",
      "\n",
      "        [[3.4539e+16],\n",
      "         [3.4539e+16],\n",
      "         [3.4539e+16],\n",
      "         ...,\n",
      "         [       nan],\n",
      "         [       nan],\n",
      "         [       nan]],\n",
      "\n",
      "        [[3.4539e+16],\n",
      "         [3.4539e+16],\n",
      "         [3.4539e+16],\n",
      "         ...,\n",
      "         [       nan],\n",
      "         [       nan],\n",
      "         [       nan]],\n",
      "\n",
      "        [[3.4539e+16],\n",
      "         [3.4539e+16],\n",
      "         [3.4539e+16],\n",
      "         ...,\n",
      "         [       nan],\n",
      "         [       nan],\n",
      "         [       nan]]], device='cuda:7')\n",
      "tensor([[[3.4539e+16],\n",
      "         [3.4539e+16],\n",
      "         [3.4539e+16],\n",
      "         ...,\n",
      "         [       nan],\n",
      "         [       nan],\n",
      "         [       nan]],\n",
      "\n",
      "        [[3.4539e+16],\n",
      "         [3.4539e+16],\n",
      "         [3.4539e+16],\n",
      "         ...,\n",
      "         [       nan],\n",
      "         [       nan],\n",
      "         [       nan]],\n",
      "\n",
      "        [[3.4539e+16],\n",
      "         [3.4539e+16],\n",
      "         [3.4539e+16],\n",
      "         ...,\n",
      "         [       nan],\n",
      "         [       nan],\n",
      "         [       nan]],\n",
      "\n",
      "        ...,\n",
      "\n",
      "        [[3.4539e+16],\n",
      "         [3.4539e+16],\n",
      "         [3.4539e+16],\n",
      "         ...,\n",
      "         [       nan],\n",
      "         [       nan],\n",
      "         [       nan]],\n",
      "\n",
      "        [[3.4539e+16],\n",
      "         [3.4539e+16],\n",
      "         [3.4539e+16],\n",
      "         ...,\n",
      "         [       nan],\n",
      "         [       nan],\n",
      "         [       nan]],\n",
      "\n",
      "        [[3.4539e+16],\n",
      "         [3.4539e+16],\n",
      "         [3.4539e+16],\n",
      "         ...,\n",
      "         [       nan],\n",
      "         [       nan],\n",
      "         [       nan]]], device='cuda:7')\n"
     ]
    },
    {
     "name": "stderr",
     "output_type": "stream",
     "text": [
      "/Net/Groups/BGI/people/bkraft/anaconda3/envs/dml/lib/python3.10/site-packages/pytorch_lightning/utilities/data.py:132: UserWarning: Your `IterableDataset` has `__len__` defined. In combination with multi-process data loading (when num_workers > 1), `__len__` could be inaccurate if each worker is not configured independently to avoid having duplicate data.\n",
      "  rank_zero_warn(\n"
     ]
    },
    {
     "data": {
      "application/vnd.jupyter.widget-view+json": {
       "model_id": "31c0e636f4ef4ca9b740d13a91afd0ae",
       "version_major": 2,
       "version_minor": 0
      },
      "text/plain": [
       "Training: 0it [00:00, ?it/s]"
      ]
     },
     "metadata": {},
     "output_type": "display_data"
    },
    {
     "name": "stderr",
     "output_type": "stream",
     "text": [
      "/Net/Groups/BGI/people/bkraft/anaconda3/envs/dml/lib/python3.10/site-packages/pytorch_lightning/trainer/trainer.py:653: UserWarning: Detected KeyboardInterrupt, attempting graceful shutdown...\n",
      "  rank_zero_warn(\"Detected KeyboardInterrupt, attempting graceful shutdown...\")\n"
     ]
    }
   ],
   "source": [
    "trainer.fit(tcn, datamodule=geodata)"
   ]
  },
  {
   "cell_type": "code",
   "execution_count": null,
   "metadata": {},
   "outputs": [],
   "source": []
  },
  {
   "cell_type": "markdown",
   "metadata": {},
   "source": []
  },
  {
   "cell_type": "markdown",
   "metadata": {},
   "source": []
  },
  {
   "cell_type": "code",
   "execution_count": 15,
   "metadata": {},
   "outputs": [
    {
     "data": {
      "text/plain": [
       "tensor([[[0.0125],\n",
       "         [0.0167],\n",
       "         [0.0180],\n",
       "         ...,\n",
       "         [0.0172],\n",
       "         [0.0154],\n",
       "         [0.0175]],\n",
       "\n",
       "        [[0.0130],\n",
       "         [0.0169],\n",
       "         [0.0162],\n",
       "         ...,\n",
       "         [0.0173],\n",
       "         [0.0167],\n",
       "         [0.0143]],\n",
       "\n",
       "        [[0.0127],\n",
       "         [0.0160],\n",
       "         [0.0170],\n",
       "         ...,\n",
       "         [0.0163],\n",
       "         [0.0171],\n",
       "         [0.0157]],\n",
       "\n",
       "        ...,\n",
       "\n",
       "        [[0.0123],\n",
       "         [0.0167],\n",
       "         [0.0166],\n",
       "         ...,\n",
       "         [0.0155],\n",
       "         [0.0182],\n",
       "         [0.0174]],\n",
       "\n",
       "        [[0.0140],\n",
       "         [0.0176],\n",
       "         [0.0186],\n",
       "         ...,\n",
       "         [0.0180],\n",
       "         [0.0176],\n",
       "         [0.0169]],\n",
       "\n",
       "        [[0.0123],\n",
       "         [0.0161],\n",
       "         [0.0179],\n",
       "         ...,\n",
       "         [0.0177],\n",
       "         [0.0173],\n",
       "         [0.0165]]], grad_fn=<PermuteBackward0>)"
      ]
     },
     "execution_count": 15,
     "metadata": {},
     "output_type": "execute_result"
    }
   ],
   "source": [
    "tcn(batch.f_hourly, batch.f_static)"
   ]
  },
  {
   "cell_type": "code",
   "execution_count": null,
   "metadata": {},
   "outputs": [],
   "source": []
  },
  {
   "cell_type": "code",
   "execution_count": 6,
   "metadata": {},
   "outputs": [],
   "source": [
    "train_loader = geodata.train_dataloader()"
   ]
  },
  {
   "cell_type": "code",
   "execution_count": 7,
   "metadata": {},
   "outputs": [
    {
     "data": {
      "text/plain": [
       "<matplotlib.collections.QuadMesh at 0x7fe70a19df90>"
      ]
     },
     "execution_count": 7,
     "metadata": {},
     "output_type": "execute_result"
    },
    {
     "data": {
      "image/png": "[encoded data removed]",
      "text/plain": [
       "<Figure size 640x480 with 2 Axes>"
      ]
     },
     "metadata": {},
     "output_type": "display_data"
    }
   ],
   "source": [
    "train_loader.dataset.mask.plot()"
   ]
  },
  {
   "cell_type": "code",
   "execution_count": 8,
   "metadata": {},
   "outputs": [
    {
     "name": "stderr",
     "output_type": "stream",
     "text": [
      "  0%|                                       | 2/2213 [00:57<17:45:35, 28.92s/it]\n",
      "Traceback (most recent call last):\n",
      "  File \"/raid/scratch/tmp/ipykernel_46646/161158528.py\", line 5, in <module>\n",
      "    for i, b in tqdm(enumerate(train_loader), maxinterval=0.1, total=len(train_loader), ncols=80):\n",
      "  File \"/Net/Groups/BGI/people/bkraft/anaconda3/envs/dml/lib/python3.10/site-packages/tqdm/std.py\", line 1195, in __iter__\n",
      "    for obj in iterable:\n",
      "  File \"/Net/Groups/BGI/people/bkraft/anaconda3/envs/dml/lib/python3.10/site-packages/torch/utils/data/dataloader.py\", line 628, in __next__\n",
      "    data = self._next_data()\n",
      "  File \"/Net/Groups/BGI/people/bkraft/anaconda3/envs/dml/lib/python3.10/site-packages/torch/utils/data/dataloader.py\", line 1316, in _next_data\n",
      "    idx, data = self._get_data()\n",
      "  File \"/Net/Groups/BGI/people/bkraft/anaconda3/envs/dml/lib/python3.10/site-packages/torch/utils/data/dataloader.py\", line 1282, in _get_data\n",
      "    success, data = self._try_get_data()\n",
      "  File \"/Net/Groups/BGI/people/bkraft/anaconda3/envs/dml/lib/python3.10/site-packages/torch/utils/data/dataloader.py\", line 1120, in _try_get_data\n",
      "    data = self._data_queue.get(timeout=timeout)\n",
      "  File \"/Net/Groups/BGI/people/bkraft/anaconda3/envs/dml/lib/python3.10/multiprocessing/queues.py\", line 113, in get\n",
      "    if not self._poll(timeout):\n",
      "  File \"/Net/Groups/BGI/people/bkraft/anaconda3/envs/dml/lib/python3.10/multiprocessing/connection.py\", line 262, in poll\n",
      "    return self._poll(timeout)\n",
      "  File \"/Net/Groups/BGI/people/bkraft/anaconda3/envs/dml/lib/python3.10/multiprocessing/connection.py\", line 429, in _poll\n",
      "    r = wait([self], timeout)\n",
      "  File \"/Net/Groups/BGI/people/bkraft/anaconda3/envs/dml/lib/python3.10/multiprocessing/connection.py\", line 936, in wait\n",
      "    ready = selector.select(timeout)\n",
      "  File \"/Net/Groups/BGI/people/bkraft/anaconda3/envs/dml/lib/python3.10/selectors.py\", line 416, in select\n",
      "    fd_event_list = self._selector.poll(timeout)\n",
      "KeyboardInterrupt\n"
     ]
    }
   ],
   "source": [
    "target = xr.full_like(train_loader.dataset.mask, np.nan, dtype='float32')\n",
    "\n",
    "import traceback\n",
    "try:\n",
    "    for i, b in tqdm(enumerate(train_loader), maxinterval=0.1, total=len(train_loader), ncols=80):\n",
    "        target.loc[{'lat': xr.DataArray(b.coords.lat), 'lon': xr.DataArray(b.coords.lon)}] = i\n",
    "        time.sleep(0.5)\n",
    "except:\n",
    "    traceback.print_exc()"
   ]
  },
  {
   "cell_type": "code",
   "execution_count": 11,
   "metadata": {},
   "outputs": [
    {
     "data": {
      "text/plain": [
       "torch.Size([50, 24, 1000, 4])"
      ]
     },
     "execution_count": 11,
     "metadata": {},
     "output_type": "execute_result"
    }
   ],
   "source": [
    "batch.f_hourly.shape"
   ]
  },
  {
   "cell_type": "code",
   "execution_count": 12,
   "metadata": {},
   "outputs": [
    {
     "data": {
      "text/plain": [
       "torch.Size([50, 24, 7305, 4])"
      ]
     },
     "execution_count": 12,
     "metadata": {},
     "output_type": "execute_result"
    }
   ],
   "source": [
    "b.f_hourly.shape"
   ]
  },
  {
   "cell_type": "code",
   "execution_count": 13,
   "metadata": {},
   "outputs": [
    {
     "data": {
      "text/plain": [
       "torch.Size([50, 6])"
      ]
     },
     "execution_count": 13,
     "metadata": {},
     "output_type": "execute_result"
    }
   ],
   "source": [
    "batch.f_static.shape"
   ]
  },
  {
   "cell_type": "code",
   "execution_count": 14,
   "metadata": {},
   "outputs": [
    {
     "data": {
      "text/plain": [
       "torch.Size([50, 6])"
      ]
     },
     "execution_count": 14,
     "metadata": {},
     "output_type": "execute_result"
    }
   ],
   "source": [
    "b.f_static.shape"
   ]
  },
  {
   "cell_type": "code",
   "execution_count": 6,
   "metadata": {},
   "outputs": [
    {
     "ename": "RuntimeError",
     "evalue": "Given groups=1, weight of size [32, 4, 3], expected input[50, 24000, 4] to have 4 channels, but got 24000 channels instead",
     "output_type": "error",
     "traceback": [
      "\u001b[0;31m---------------------------------------------------------------------------\u001b[0m",
      "\u001b[0;31mRuntimeError\u001b[0m                              Traceback (most recent call last)",
      "Cell \u001b[0;32mIn[6], line 1\u001b[0m\n\u001b[0;32m----> 1\u001b[0m tcn(batch\u001b[39m.\u001b[39;49mf_hourly)\n",
      "File \u001b[0;32m/Net/Groups/BGI/people/bkraft/anaconda3/envs/dml/lib/python3.10/site-packages/torch/nn/modules/module.py:1190\u001b[0m, in \u001b[0;36mModule._call_impl\u001b[0;34m(self, *input, **kwargs)\u001b[0m\n\u001b[1;32m   1186\u001b[0m \u001b[39m# If we don't have any hooks, we want to skip the rest of the logic in\u001b[39;00m\n\u001b[1;32m   1187\u001b[0m \u001b[39m# this function, and just call forward.\u001b[39;00m\n\u001b[1;32m   1188\u001b[0m \u001b[39mif\u001b[39;00m \u001b[39mnot\u001b[39;00m (\u001b[39mself\u001b[39m\u001b[39m.\u001b[39m_backward_hooks \u001b[39mor\u001b[39;00m \u001b[39mself\u001b[39m\u001b[39m.\u001b[39m_forward_hooks \u001b[39mor\u001b[39;00m \u001b[39mself\u001b[39m\u001b[39m.\u001b[39m_forward_pre_hooks \u001b[39mor\u001b[39;00m _global_backward_hooks\n\u001b[1;32m   1189\u001b[0m         \u001b[39mor\u001b[39;00m _global_forward_hooks \u001b[39mor\u001b[39;00m _global_forward_pre_hooks):\n\u001b[0;32m-> 1190\u001b[0m     \u001b[39mreturn\u001b[39;00m forward_call(\u001b[39m*\u001b[39;49m\u001b[39minput\u001b[39;49m, \u001b[39m*\u001b[39;49m\u001b[39m*\u001b[39;49mkwargs)\n\u001b[1;32m   1191\u001b[0m \u001b[39m# Do not call functions when jit is used\u001b[39;00m\n\u001b[1;32m   1192\u001b[0m full_backward_hooks, non_full_backward_hooks \u001b[39m=\u001b[39m [], []\n",
      "File \u001b[0;32m/Net/Groups/BGI/people/bkraft/drought_ml/project/pl_models/tcn_model.py:125\u001b[0m, in \u001b[0;36mTemporalConvNetPL.forward\u001b[0;34m(self, x, s)\u001b[0m\n\u001b[1;32m    123\u001b[0m out \u001b[39m=\u001b[39m \u001b[39mself\u001b[39m\u001b[39m.\u001b[39mto_sequence_last(out)\n\u001b[1;32m    124\u001b[0m \u001b[39m# (B, FH, HxS), (B, FS*) -> (B, D, HxS)\u001b[39;00m\n\u001b[0;32m--> 125\u001b[0m out \u001b[39m=\u001b[39m \u001b[39mself\u001b[39;49m\u001b[39m.\u001b[39;49mtcn(out, s)\n\u001b[1;32m    126\u001b[0m \u001b[39m# (B, D, HxS) -> (B, D, S)\u001b[39;00m\n\u001b[1;32m    127\u001b[0m out \u001b[39m=\u001b[39m \u001b[39mself\u001b[39m\u001b[39m.\u001b[39mdownscale(out)\n",
      "File \u001b[0;32m/Net/Groups/BGI/people/bkraft/anaconda3/envs/dml/lib/python3.10/site-packages/torch/nn/modules/module.py:1190\u001b[0m, in \u001b[0;36mModule._call_impl\u001b[0;34m(self, *input, **kwargs)\u001b[0m\n\u001b[1;32m   1186\u001b[0m \u001b[39m# If we don't have any hooks, we want to skip the rest of the logic in\u001b[39;00m\n\u001b[1;32m   1187\u001b[0m \u001b[39m# this function, and just call forward.\u001b[39;00m\n\u001b[1;32m   1188\u001b[0m \u001b[39mif\u001b[39;00m \u001b[39mnot\u001b[39;00m (\u001b[39mself\u001b[39m\u001b[39m.\u001b[39m_backward_hooks \u001b[39mor\u001b[39;00m \u001b[39mself\u001b[39m\u001b[39m.\u001b[39m_forward_hooks \u001b[39mor\u001b[39;00m \u001b[39mself\u001b[39m\u001b[39m.\u001b[39m_forward_pre_hooks \u001b[39mor\u001b[39;00m _global_backward_hooks\n\u001b[1;32m   1189\u001b[0m         \u001b[39mor\u001b[39;00m _global_forward_hooks \u001b[39mor\u001b[39;00m _global_forward_pre_hooks):\n\u001b[0;32m-> 1190\u001b[0m     \u001b[39mreturn\u001b[39;00m forward_call(\u001b[39m*\u001b[39;49m\u001b[39minput\u001b[39;49m, \u001b[39m*\u001b[39;49m\u001b[39m*\u001b[39;49mkwargs)\n\u001b[1;32m   1191\u001b[0m \u001b[39m# Do not call functions when jit is used\u001b[39;00m\n\u001b[1;32m   1192\u001b[0m full_backward_hooks, non_full_backward_hooks \u001b[39m=\u001b[39m [], []\n",
      "File \u001b[0;32m/Net/Groups/BGI/people/bkraft/drought_ml/project/modules/tcn.py:248\u001b[0m, in \u001b[0;36mTemporalConvNet.forward\u001b[0;34m(self, x, s)\u001b[0m\n\u001b[1;32m    238\u001b[0m \u001b[39m\"\"\"Run data through the model.\u001b[39;00m\n\u001b[1;32m    239\u001b[0m \n\u001b[1;32m    240\u001b[0m \u001b[39mArgs:\u001b[39;00m\n\u001b[0;32m   (...)\u001b[0m\n\u001b[1;32m    245\u001b[0m \u001b[39m    the model output tensor with shape (batch, seq, num_outputs).\u001b[39;00m\n\u001b[1;32m    246\u001b[0m \u001b[39m\"\"\"\u001b[39;00m\n\u001b[1;32m    247\u001b[0m x \u001b[39m=\u001b[39m \u001b[39mself\u001b[39m\u001b[39m.\u001b[39mto_sequence_last(x)\n\u001b[0;32m--> 248\u001b[0m out \u001b[39m=\u001b[39m \u001b[39mself\u001b[39;49m\u001b[39m.\u001b[39;49mtcn((x, s))\n\u001b[1;32m    249\u001b[0m out \u001b[39m=\u001b[39m \u001b[39mself\u001b[39m\u001b[39m.\u001b[39mto_channel_last(out)\n\u001b[1;32m    250\u001b[0m out \u001b[39m=\u001b[39m \u001b[39mself\u001b[39m\u001b[39m.\u001b[39mlinear(out)\n",
      "File \u001b[0;32m/Net/Groups/BGI/people/bkraft/anaconda3/envs/dml/lib/python3.10/site-packages/torch/nn/modules/module.py:1190\u001b[0m, in \u001b[0;36mModule._call_impl\u001b[0;34m(self, *input, **kwargs)\u001b[0m\n\u001b[1;32m   1186\u001b[0m \u001b[39m# If we don't have any hooks, we want to skip the rest of the logic in\u001b[39;00m\n\u001b[1;32m   1187\u001b[0m \u001b[39m# this function, and just call forward.\u001b[39;00m\n\u001b[1;32m   1188\u001b[0m \u001b[39mif\u001b[39;00m \u001b[39mnot\u001b[39;00m (\u001b[39mself\u001b[39m\u001b[39m.\u001b[39m_backward_hooks \u001b[39mor\u001b[39;00m \u001b[39mself\u001b[39m\u001b[39m.\u001b[39m_forward_hooks \u001b[39mor\u001b[39;00m \u001b[39mself\u001b[39m\u001b[39m.\u001b[39m_forward_pre_hooks \u001b[39mor\u001b[39;00m _global_backward_hooks\n\u001b[1;32m   1189\u001b[0m         \u001b[39mor\u001b[39;00m _global_forward_hooks \u001b[39mor\u001b[39;00m _global_forward_pre_hooks):\n\u001b[0;32m-> 1190\u001b[0m     \u001b[39mreturn\u001b[39;00m forward_call(\u001b[39m*\u001b[39;49m\u001b[39minput\u001b[39;49m, \u001b[39m*\u001b[39;49m\u001b[39m*\u001b[39;49mkwargs)\n\u001b[1;32m   1191\u001b[0m \u001b[39m# Do not call functions when jit is used\u001b[39;00m\n\u001b[1;32m   1192\u001b[0m full_backward_hooks, non_full_backward_hooks \u001b[39m=\u001b[39m [], []\n",
      "File \u001b[0;32m/Net/Groups/BGI/people/bkraft/anaconda3/envs/dml/lib/python3.10/site-packages/torch/nn/modules/container.py:204\u001b[0m, in \u001b[0;36mSequential.forward\u001b[0;34m(self, input)\u001b[0m\n\u001b[1;32m    202\u001b[0m \u001b[39mdef\u001b[39;00m \u001b[39mforward\u001b[39m(\u001b[39mself\u001b[39m, \u001b[39minput\u001b[39m):\n\u001b[1;32m    203\u001b[0m     \u001b[39mfor\u001b[39;00m module \u001b[39min\u001b[39;00m \u001b[39mself\u001b[39m:\n\u001b[0;32m--> 204\u001b[0m         \u001b[39minput\u001b[39m \u001b[39m=\u001b[39m module(\u001b[39minput\u001b[39;49m)\n\u001b[1;32m    205\u001b[0m     \u001b[39mreturn\u001b[39;00m \u001b[39minput\u001b[39m\n",
      "File \u001b[0;32m/Net/Groups/BGI/people/bkraft/anaconda3/envs/dml/lib/python3.10/site-packages/torch/nn/modules/module.py:1190\u001b[0m, in \u001b[0;36mModule._call_impl\u001b[0;34m(self, *input, **kwargs)\u001b[0m\n\u001b[1;32m   1186\u001b[0m \u001b[39m# If we don't have any hooks, we want to skip the rest of the logic in\u001b[39;00m\n\u001b[1;32m   1187\u001b[0m \u001b[39m# this function, and just call forward.\u001b[39;00m\n\u001b[1;32m   1188\u001b[0m \u001b[39mif\u001b[39;00m \u001b[39mnot\u001b[39;00m (\u001b[39mself\u001b[39m\u001b[39m.\u001b[39m_backward_hooks \u001b[39mor\u001b[39;00m \u001b[39mself\u001b[39m\u001b[39m.\u001b[39m_forward_hooks \u001b[39mor\u001b[39;00m \u001b[39mself\u001b[39m\u001b[39m.\u001b[39m_forward_pre_hooks \u001b[39mor\u001b[39;00m _global_backward_hooks\n\u001b[1;32m   1189\u001b[0m         \u001b[39mor\u001b[39;00m _global_forward_hooks \u001b[39mor\u001b[39;00m _global_forward_pre_hooks):\n\u001b[0;32m-> 1190\u001b[0m     \u001b[39mreturn\u001b[39;00m forward_call(\u001b[39m*\u001b[39;49m\u001b[39minput\u001b[39;49m, \u001b[39m*\u001b[39;49m\u001b[39m*\u001b[39;49mkwargs)\n\u001b[1;32m   1191\u001b[0m \u001b[39m# Do not call functions when jit is used\u001b[39;00m\n\u001b[1;32m   1192\u001b[0m full_backward_hooks, non_full_backward_hooks \u001b[39m=\u001b[39m [], []\n",
      "File \u001b[0;32m/Net/Groups/BGI/people/bkraft/drought_ml/project/modules/tcn.py:154\u001b[0m, in \u001b[0;36mTemporalBlock.forward\u001b[0;34m(self, xs)\u001b[0m\n\u001b[1;32m    136\u001b[0m \u001b[39m\"\"\"Model forward run.\u001b[39;00m\n\u001b[1;32m    137\u001b[0m \n\u001b[1;32m    138\u001b[0m \u001b[39mShapes:\u001b[39;00m\n\u001b[0;32m   (...)\u001b[0m\n\u001b[1;32m    149\u001b[0m \u001b[39m    The output tensor.\u001b[39;00m\n\u001b[1;32m    150\u001b[0m \u001b[39m\"\"\"\u001b[39;00m\n\u001b[1;32m    152\u001b[0m x, s \u001b[39m=\u001b[39m xs\n\u001b[0;32m--> 154\u001b[0m out \u001b[39m=\u001b[39m \u001b[39mself\u001b[39;49m\u001b[39m.\u001b[39;49mconv1(x)\n\u001b[1;32m    155\u001b[0m out \u001b[39m=\u001b[39m \u001b[39mself\u001b[39m\u001b[39m.\u001b[39mchomp1(out)\n\u001b[1;32m    156\u001b[0m out \u001b[39m=\u001b[39m \u001b[39mself\u001b[39m\u001b[39m.\u001b[39mrelu1(out)\n",
      "File \u001b[0;32m/Net/Groups/BGI/people/bkraft/anaconda3/envs/dml/lib/python3.10/site-packages/torch/nn/modules/module.py:1208\u001b[0m, in \u001b[0;36mModule._call_impl\u001b[0;34m(self, *input, **kwargs)\u001b[0m\n\u001b[1;32m   1205\u001b[0m     bw_hook \u001b[39m=\u001b[39m hooks\u001b[39m.\u001b[39mBackwardHook(\u001b[39mself\u001b[39m, full_backward_hooks)\n\u001b[1;32m   1206\u001b[0m     \u001b[39minput\u001b[39m \u001b[39m=\u001b[39m bw_hook\u001b[39m.\u001b[39msetup_input_hook(\u001b[39minput\u001b[39m)\n\u001b[0;32m-> 1208\u001b[0m result \u001b[39m=\u001b[39m forward_call(\u001b[39m*\u001b[39;49m\u001b[39minput\u001b[39;49m, \u001b[39m*\u001b[39;49m\u001b[39m*\u001b[39;49mkwargs)\n\u001b[1;32m   1209\u001b[0m \u001b[39mif\u001b[39;00m _global_forward_hooks \u001b[39mor\u001b[39;00m \u001b[39mself\u001b[39m\u001b[39m.\u001b[39m_forward_hooks:\n\u001b[1;32m   1210\u001b[0m     \u001b[39mfor\u001b[39;00m hook \u001b[39min\u001b[39;00m (\u001b[39m*\u001b[39m_global_forward_hooks\u001b[39m.\u001b[39mvalues(), \u001b[39m*\u001b[39m\u001b[39mself\u001b[39m\u001b[39m.\u001b[39m_forward_hooks\u001b[39m.\u001b[39mvalues()):\n",
      "File \u001b[0;32m/Net/Groups/BGI/people/bkraft/anaconda3/envs/dml/lib/python3.10/site-packages/torch/nn/modules/conv.py:313\u001b[0m, in \u001b[0;36mConv1d.forward\u001b[0;34m(self, input)\u001b[0m\n\u001b[1;32m    312\u001b[0m \u001b[39mdef\u001b[39;00m \u001b[39mforward\u001b[39m(\u001b[39mself\u001b[39m, \u001b[39minput\u001b[39m: Tensor) \u001b[39m-\u001b[39m\u001b[39m>\u001b[39m Tensor:\n\u001b[0;32m--> 313\u001b[0m     \u001b[39mreturn\u001b[39;00m \u001b[39mself\u001b[39;49m\u001b[39m.\u001b[39;49m_conv_forward(\u001b[39minput\u001b[39;49m, \u001b[39mself\u001b[39;49m\u001b[39m.\u001b[39;49mweight, \u001b[39mself\u001b[39;49m\u001b[39m.\u001b[39;49mbias)\n",
      "File \u001b[0;32m/Net/Groups/BGI/people/bkraft/anaconda3/envs/dml/lib/python3.10/site-packages/torch/nn/modules/conv.py:309\u001b[0m, in \u001b[0;36mConv1d._conv_forward\u001b[0;34m(self, input, weight, bias)\u001b[0m\n\u001b[1;32m    305\u001b[0m \u001b[39mif\u001b[39;00m \u001b[39mself\u001b[39m\u001b[39m.\u001b[39mpadding_mode \u001b[39m!=\u001b[39m \u001b[39m'\u001b[39m\u001b[39mzeros\u001b[39m\u001b[39m'\u001b[39m:\n\u001b[1;32m    306\u001b[0m     \u001b[39mreturn\u001b[39;00m F\u001b[39m.\u001b[39mconv1d(F\u001b[39m.\u001b[39mpad(\u001b[39minput\u001b[39m, \u001b[39mself\u001b[39m\u001b[39m.\u001b[39m_reversed_padding_repeated_twice, mode\u001b[39m=\u001b[39m\u001b[39mself\u001b[39m\u001b[39m.\u001b[39mpadding_mode),\n\u001b[1;32m    307\u001b[0m                     weight, bias, \u001b[39mself\u001b[39m\u001b[39m.\u001b[39mstride,\n\u001b[1;32m    308\u001b[0m                     _single(\u001b[39m0\u001b[39m), \u001b[39mself\u001b[39m\u001b[39m.\u001b[39mdilation, \u001b[39mself\u001b[39m\u001b[39m.\u001b[39mgroups)\n\u001b[0;32m--> 309\u001b[0m \u001b[39mreturn\u001b[39;00m F\u001b[39m.\u001b[39;49mconv1d(\u001b[39minput\u001b[39;49m, weight, bias, \u001b[39mself\u001b[39;49m\u001b[39m.\u001b[39;49mstride,\n\u001b[1;32m    310\u001b[0m                 \u001b[39mself\u001b[39;49m\u001b[39m.\u001b[39;49mpadding, \u001b[39mself\u001b[39;49m\u001b[39m.\u001b[39;49mdilation, \u001b[39mself\u001b[39;49m\u001b[39m.\u001b[39;49mgroups)\n",
      "\u001b[0;31mRuntimeError\u001b[0m: Given groups=1, weight of size [32, 4, 3], expected input[50, 24000, 4] to have 4 channels, but got 24000 channels instead"
     ]
    }
   ],
   "source": []
  },
  {
   "cell_type": "code",
   "execution_count": null,
   "metadata": {},
   "outputs": [],
   "source": []
  },
  {
   "cell_type": "code",
   "execution_count": 19,
   "metadata": {},
   "outputs": [],
   "source": [
    "import matplotlib.pyplot as plt"
   ]
  },
  {
   "cell_type": "code",
   "execution_count": 44,
   "metadata": {},
   "outputs": [
    {
     "ename": "AttributeError",
     "evalue": "can't set attribute",
     "output_type": "error",
     "traceback": [
      "\u001b[0;31m---------------------------------------------------------------------------\u001b[0m",
      "\u001b[0;31mAttributeError\u001b[0m                            Traceback (most recent call last)",
      "Cell \u001b[0;32mIn[44], line 1\u001b[0m\n\u001b[0;32m----> 1\u001b[0m b\u001b[39m.\u001b[39;49mf_hourly \u001b[39m=\u001b[39m b\u001b[39m.\u001b[39mf_hourly\u001b[39m.\u001b[39mview(b\u001b[39m.\u001b[39mf_hourly\u001b[39m.\u001b[39mshape[\u001b[39m0\u001b[39m], \u001b[39m-\u001b[39m\u001b[39m1\u001b[39m, b\u001b[39m.\u001b[39mf_hourly\u001b[39m.\u001b[39mshape[\u001b[39m-\u001b[39m\u001b[39m1\u001b[39m])\n",
      "\u001b[0;31mAttributeError\u001b[0m: can't set attribute"
     ]
    }
   ],
   "source": [
    "b.f_hourly = b.f_hourly.view(b.f_hourly.shape[0], -1, b.f_hourly.shape[-1])"
   ]
  },
  {
   "cell_type": "code",
   "execution_count": 43,
   "metadata": {},
   "outputs": [
    {
     "data": {
      "text/plain": [
       "[<matplotlib.lines.Line2D at 0x7f4a4c9588e0>]"
      ]
     },
     "execution_count": 43,
     "metadata": {},
     "output_type": "execute_result"
    },
    {
     "data": {
      "image/png": "[encoded data removed]",
      "text/plain": [
       "<Figure size 640x480 with 1 Axes>"
      ]
     },
     "metadata": {},
     "output_type": "display_data"
    }
   ],
   "source": [
    "plt.plot(br[49, :2000, 1])"
   ]
  },
  {
   "cell_type": "code",
   "execution_count": null,
   "metadata": {},
   "outputs": [],
   "source": []
  },
  {
   "cell_type": "code",
   "execution_count": 14,
   "metadata": {},
   "outputs": [
    {
     "data": {
      "text/plain": [
       "torch.Size([50, 24, 7305, 4])"
      ]
     },
     "execution_count": 14,
     "metadata": {},
     "output_type": "execute_result"
    }
   ],
   "source": [
    "b.f_hourly.shape"
   ]
  },
  {
   "cell_type": "code",
   "execution_count": 5,
   "metadata": {},
   "outputs": [
    {
     "name": "stdout",
     "output_type": "stream",
     "text": [
      "+------------------------------------------+------------+\n",
      "|                 Modules                  | Parameters |\n",
      "+------------------------------------------+------------+\n",
      "| feedforward_static.model.linear00.weight |    192     |\n",
      "|  feedforward_static.model.linear00.bias  |     32     |\n",
      "| feedforward_static.model.linear01.weight |    256     |\n",
      "|  feedforward_static.model.linear01.bias  |     8      |\n",
      "|           tcn.tcn.0.conv1.bias           |     32     |\n",
      "|         tcn.tcn.0.conv1.weight_g         |     32     |\n",
      "|         tcn.tcn.0.conv1.weight_v         |    384     |\n",
      "|           tcn.tcn.0.conv2.bias           |     32     |\n",
      "|         tcn.tcn.0.conv2.weight_g         |     32     |\n",
      "|         tcn.tcn.0.conv2.weight_v         |    3072    |\n",
      "|     tcn.tcn.0.res.downsample.weight      |    152     |\n",
      "|      tcn.tcn.0.res.downsample.bias       |     38     |\n",
      "|           tcn.tcn.1.conv1.bias           |     32     |\n",
      "|         tcn.tcn.1.conv1.weight_g         |     32     |\n",
      "|         tcn.tcn.1.conv1.weight_v         |    3072    |\n",
      "|           tcn.tcn.1.conv2.bias           |     32     |\n",
      "|         tcn.tcn.1.conv2.weight_g         |     32     |\n",
      "|         tcn.tcn.1.conv2.weight_v         |    3072    |\n",
      "|     tcn.tcn.1.res.downsample.weight      |    1216    |\n",
      "|      tcn.tcn.1.res.downsample.bias       |     38     |\n",
      "|           tcn.tcn.2.conv1.bias           |     32     |\n",
      "|         tcn.tcn.2.conv1.weight_g         |     32     |\n",
      "|         tcn.tcn.2.conv1.weight_v         |    3072    |\n",
      "|           tcn.tcn.2.conv2.bias           |     32     |\n",
      "|         tcn.tcn.2.conv2.weight_g         |     32     |\n",
      "|         tcn.tcn.2.conv2.weight_v         |    3072    |\n",
      "|     tcn.tcn.2.res.downsample.weight      |    1216    |\n",
      "|      tcn.tcn.2.res.downsample.bias       |     38     |\n",
      "|     linear_out.model.linear00.weight     |     32     |\n",
      "|      linear_out.model.linear00.bias      |     1      |\n",
      "+------------------------------------------+------------+\n",
      "Total Trainable Params: 19347\n"
     ]
    },
    {
     "data": {
      "text/plain": [
       "19347"
      ]
     },
     "execution_count": 5,
     "metadata": {},
     "output_type": "execute_result"
    }
   ],
   "source": [
    "count_parameters(tcn)"
   ]
  },
  {
   "cell_type": "code",
   "execution_count": 3,
   "metadata": {},
   "outputs": [
    {
     "data": {
      "text/plain": [
       "TemporalConvNetPL(\n",
       "  (feedforward_static): FeedForward(\n",
       "    (model): Sequential(\n",
       "      (linear00): Linear(in_features=6, out_features=32, bias=True)\n",
       "      (dropout00): Dropout(p=0.2, inplace=False)\n",
       "      (activation00): ReLU()\n",
       "      (linear01): Linear(in_features=32, out_features=8, bias=True)\n",
       "      (dropout01): Dropout(p=0.2, inplace=False)\n",
       "      (activation01): Tanh()\n",
       "    )\n",
       "  )\n",
       "  (tcn): TemporalConvNet(\n",
       "    (to_sequence_last): Transform()\n",
       "    (tcn): Sequential(\n",
       "      (0): TemporalBlock(\n",
       "        (conv1): Conv1d(4, 32, kernel_size=(3,), stride=(1,), padding=(2,))\n",
       "        (chomp1): Chomp1d()\n",
       "        (relu1): ReLU()\n",
       "        (dropout1): Dropout(p=0.2, inplace=False)\n",
       "        (conv2): Conv1d(32, 32, kernel_size=(3,), stride=(1,), padding=(2,))\n",
       "        (chomp2): Chomp1d()\n",
       "        (relu2): ReLU()\n",
       "        (dropout2): Dropout(p=0.2, inplace=False)\n",
       "        (res): Residual(\n",
       "          (downsample): Conv1d(4, 38, kernel_size=(1,), stride=(1,))\n",
       "        )\n",
       "        (relu): ReLU()\n",
       "      )\n",
       "      (1): TemporalBlock(\n",
       "        (conv1): Conv1d(32, 32, kernel_size=(3,), stride=(1,), padding=(4,), dilation=(2,))\n",
       "        (chomp1): Chomp1d()\n",
       "        (relu1): ReLU()\n",
       "        (dropout1): Dropout(p=0.2, inplace=False)\n",
       "        (conv2): Conv1d(32, 32, kernel_size=(3,), stride=(1,), padding=(4,), dilation=(2,))\n",
       "        (chomp2): Chomp1d()\n",
       "        (relu2): ReLU()\n",
       "        (dropout2): Dropout(p=0.2, inplace=False)\n",
       "        (res): Residual(\n",
       "          (downsample): Conv1d(32, 38, kernel_size=(1,), stride=(1,))\n",
       "        )\n",
       "        (relu): ReLU()\n",
       "      )\n",
       "      (2): TemporalBlock(\n",
       "        (conv1): Conv1d(32, 32, kernel_size=(3,), stride=(1,), padding=(8,), dilation=(4,))\n",
       "        (chomp1): Chomp1d()\n",
       "        (relu1): ReLU()\n",
       "        (dropout1): Dropout(p=0.2, inplace=False)\n",
       "        (conv2): Conv1d(32, 32, kernel_size=(3,), stride=(1,), padding=(8,), dilation=(4,))\n",
       "        (chomp2): Chomp1d()\n",
       "        (relu2): ReLU()\n",
       "        (dropout2): Dropout(p=0.2, inplace=False)\n",
       "        (res): Residual(\n",
       "          (downsample): Conv1d(32, 38, kernel_size=(1,), stride=(1,))\n",
       "        )\n",
       "        (relu): ReLU()\n",
       "      )\n",
       "    )\n",
       "    (to_channel_last): Transform()\n",
       "    (linear): Identity()\n",
       "  ) [context_len=29]\n",
       "  (linear_out): FeedForward(\n",
       "    (model): Sequential(\n",
       "      (linear00): Linear(in_features=32, out_features=1, bias=True)\n",
       "      (dropout00): Dropout(p=0.0, inplace=False)\n",
       "      (activation00): Identity()\n",
       "    )\n",
       "  )\n",
       ")"
      ]
     },
     "execution_count": 3,
     "metadata": {},
     "output_type": "execute_result"
    }
   ],
   "source": [
    "tcn"
   ]
  },
  {
   "cell_type": "code",
   "execution_count": null,
   "metadata": {},
   "outputs": [],
   "source": []
  },
  {
   "cell_type": "code",
   "execution_count": null,
   "metadata": {},
   "outputs": [],
   "source": []
  },
  {
   "cell_type": "code",
   "execution_count": null,
   "metadata": {},
   "outputs": [],
   "source": []
  },
  {
   "cell_type": "code",
   "execution_count": null,
   "metadata": {},
   "outputs": [],
   "source": []
  },
  {
   "cell_type": "code",
   "execution_count": null,
   "metadata": {},
   "outputs": [],
   "source": [
    "import time\n",
    "\n",
    "class Dataset(object):\n",
    "    def __init__(self, max_items = 5):\n",
    "        self.max_items = max_items\n",
    "        self.chunks = []\n",
    "\n",
    "    def add_item(self, x):\n",
    "        self.chunks.appendd(x)\n",
    "\n",
    "    def get_item(self, n):\n",
    "        if len(self.chunks) >= 0\n",
    "            result = [self.chunks.pop() for _ in range(n)]\n",
    "        else:\n",
    "            raise StopIteration\n",
    "\n",
    "        time.sleep(0.1)\n",
    "\n",
    "        return \n"
   ]
  },
  {
   "cell_type": "code",
   "execution_count": null,
   "metadata": {},
   "outputs": [],
   "source": []
  },
  {
   "cell_type": "code",
   "execution_count": 61,
   "metadata": {},
   "outputs": [],
   "source": [
    "import threading\n",
    "import queue\n",
    "\n",
    "class BackgroundGenerator(threading.Thread):\n",
    "    def __init__(self, generator):\n",
    "        threading.Thread.__init__(self)\n",
    "        self.queue = queue.Queue(1)\n",
    "        self.generator = generator\n",
    "        self.daemon = True\n",
    "        self.start()\n",
    "\n",
    "    def run(self):\n",
    "        for item in self.generator:\n",
    "            self.queue.put(item)\n",
    "        self.queue.put(None)\n",
    "\n",
    "    def next(self):\n",
    "            next_item = self.queue.get()\n",
    "            if next_item is None:\n",
    "                 raise StopIteration\n",
    "            return next_item"
   ]
  },
  {
   "cell_type": "code",
   "execution_count": 62,
   "metadata": {},
   "outputs": [],
   "source": [
    "def generate(n):\n",
    "    for i in range(n):\n",
    "        yield i"
   ]
  },
  {
   "cell_type": "code",
   "execution_count": 64,
   "metadata": {},
   "outputs": [],
   "source": [
    "bgen = BackgroundGenerator(generator=generate(10))"
   ]
  },
  {
   "cell_type": "code",
   "execution_count": null,
   "metadata": {},
   "outputs": [
    {
     "data": {
      "text/plain": [
       "0"
      ]
     },
     "execution_count": 67,
     "metadata": {},
     "output_type": "execute_result"
    }
   ],
   "source": [
    "bgen.next()"
   ]
  },
  {
   "cell_type": "code",
   "execution_count": 69,
   "metadata": {},
   "outputs": [
    {
     "ename": "KeyboardInterrupt",
     "evalue": "",
     "output_type": "error",
     "traceback": [
      "\u001b[0;31m---------------------------------------------------------------------------\u001b[0m",
      "\u001b[0;31mKeyboardInterrupt\u001b[0m                         Traceback (most recent call last)",
      "Cell \u001b[0;32mIn[69], line 1\u001b[0m\n\u001b[0;32m----> 1\u001b[0m bgen\u001b[39m.\u001b[39;49mrun()\n",
      "Cell \u001b[0;32mIn[61], line 14\u001b[0m, in \u001b[0;36mBackgroundGenerator.run\u001b[0;34m(self)\u001b[0m\n\u001b[1;32m     12\u001b[0m \u001b[39mdef\u001b[39;00m \u001b[39mrun\u001b[39m(\u001b[39mself\u001b[39m):\n\u001b[1;32m     13\u001b[0m     \u001b[39mfor\u001b[39;00m item \u001b[39min\u001b[39;00m \u001b[39mself\u001b[39m\u001b[39m.\u001b[39mgenerator:\n\u001b[0;32m---> 14\u001b[0m         \u001b[39mself\u001b[39;49m\u001b[39m.\u001b[39;49mqueue\u001b[39m.\u001b[39;49mput(item)\n\u001b[1;32m     15\u001b[0m     \u001b[39mself\u001b[39m\u001b[39m.\u001b[39mqueue\u001b[39m.\u001b[39mput(\u001b[39mNone\u001b[39;00m)\n",
      "File \u001b[0;32m/Net/Groups/BGI/people/bkraft/anaconda3/envs/dml/lib/python3.10/queue.py:140\u001b[0m, in \u001b[0;36mQueue.put\u001b[0;34m(self, item, block, timeout)\u001b[0m\n\u001b[1;32m    138\u001b[0m \u001b[39melif\u001b[39;00m timeout \u001b[39mis\u001b[39;00m \u001b[39mNone\u001b[39;00m:\n\u001b[1;32m    139\u001b[0m     \u001b[39mwhile\u001b[39;00m \u001b[39mself\u001b[39m\u001b[39m.\u001b[39m_qsize() \u001b[39m>\u001b[39m\u001b[39m=\u001b[39m \u001b[39mself\u001b[39m\u001b[39m.\u001b[39mmaxsize:\n\u001b[0;32m--> 140\u001b[0m         \u001b[39mself\u001b[39;49m\u001b[39m.\u001b[39;49mnot_full\u001b[39m.\u001b[39;49mwait()\n\u001b[1;32m    141\u001b[0m \u001b[39melif\u001b[39;00m timeout \u001b[39m<\u001b[39m \u001b[39m0\u001b[39m:\n\u001b[1;32m    142\u001b[0m     \u001b[39mraise\u001b[39;00m \u001b[39mValueError\u001b[39;00m(\u001b[39m\"\u001b[39m\u001b[39m'\u001b[39m\u001b[39mtimeout\u001b[39m\u001b[39m'\u001b[39m\u001b[39m must be a non-negative number\u001b[39m\u001b[39m\"\u001b[39m)\n",
      "File \u001b[0;32m/Net/Groups/BGI/people/bkraft/anaconda3/envs/dml/lib/python3.10/threading.py:320\u001b[0m, in \u001b[0;36mCondition.wait\u001b[0;34m(self, timeout)\u001b[0m\n\u001b[1;32m    318\u001b[0m \u001b[39mtry\u001b[39;00m:    \u001b[39m# restore state no matter what (e.g., KeyboardInterrupt)\u001b[39;00m\n\u001b[1;32m    319\u001b[0m     \u001b[39mif\u001b[39;00m timeout \u001b[39mis\u001b[39;00m \u001b[39mNone\u001b[39;00m:\n\u001b[0;32m--> 320\u001b[0m         waiter\u001b[39m.\u001b[39;49macquire()\n\u001b[1;32m    321\u001b[0m         gotit \u001b[39m=\u001b[39m \u001b[39mTrue\u001b[39;00m\n\u001b[1;32m    322\u001b[0m     \u001b[39melse\u001b[39;00m:\n",
      "\u001b[0;31mKeyboardInterrupt\u001b[0m: "
     ]
    }
   ],
   "source": [
    "bgen.run()"
   ]
  },
  {
   "cell_type": "code",
   "execution_count": null,
   "metadata": {},
   "outputs": [],
   "source": []
  },
  {
   "cell_type": "code",
   "execution_count": null,
   "metadata": {},
   "outputs": [],
   "source": []
  },
  {
   "cell_type": "code",
   "execution_count": 1,
   "metadata": {},
   "outputs": [
    {
     "name": "stdout",
     "output_type": "stream",
     "text": [
      "Consumer: Running\n",
      "Producer: Running\n",
      ">put value 0 (1 total)\n",
      ">put value 1 (2 total)\n",
      ">get value 0 (1 total)\n",
      ">put value 2 (2 total)>got 0\n",
      "\n",
      ">put value 3 (3 total)\n",
      ">put value 4 (4 total)\n",
      ">put value 5 (5 total)\n",
      ">get value 1 (4 total)\n",
      ">got 1\n",
      ">put value 6 (5 total)\n",
      ">get value 2 (4 total)\n",
      ">got 2\n",
      ">put value 7 (5 total)\n",
      ">get value 3 (4 total)\n",
      ">got 3>put value 8 (5 total)\n",
      "\n",
      ">get value 4 (4 total)\n",
      ">got 4>put value 9 (5 total)\n",
      "\n",
      "Producer: Done\n",
      ">get value 5 (4 total)\n",
      ">got 5\n",
      ">get value 6 (3 total)\n",
      ">got 6\n",
      ">get value 7 (2 total)\n",
      ">got 7\n",
      ">get value 8 (1 total)\n",
      ">got 8\n",
      ">get value 9 (0 total)\n",
      ">got 9\n"
     ]
    },
    {
     "ename": "KeyboardInterrupt",
     "evalue": "",
     "output_type": "error",
     "traceback": [
      "\u001b[0;31m---------------------------------------------------------------------------\u001b[0m",
      "\u001b[0;31mKeyboardInterrupt\u001b[0m                         Traceback (most recent call last)",
      "Cell \u001b[0;32mIn[1], line 72\u001b[0m\n\u001b[1;32m     70\u001b[0m \u001b[39m# wait for all child processes to finish\u001b[39;00m\n\u001b[1;32m     71\u001b[0m producer_process\u001b[39m.\u001b[39mjoin()\n\u001b[0;32m---> 72\u001b[0m consumer_process\u001b[39m.\u001b[39;49mjoin()\n",
      "File \u001b[0;32m/Net/Groups/BGI/people/bkraft/anaconda3/envs/dml/lib/python3.10/multiprocessing/process.py:149\u001b[0m, in \u001b[0;36mBaseProcess.join\u001b[0;34m(self, timeout)\u001b[0m\n\u001b[1;32m    147\u001b[0m \u001b[39massert\u001b[39;00m \u001b[39mself\u001b[39m\u001b[39m.\u001b[39m_parent_pid \u001b[39m==\u001b[39m os\u001b[39m.\u001b[39mgetpid(), \u001b[39m'\u001b[39m\u001b[39mcan only join a child process\u001b[39m\u001b[39m'\u001b[39m\n\u001b[1;32m    148\u001b[0m \u001b[39massert\u001b[39;00m \u001b[39mself\u001b[39m\u001b[39m.\u001b[39m_popen \u001b[39mis\u001b[39;00m \u001b[39mnot\u001b[39;00m \u001b[39mNone\u001b[39;00m, \u001b[39m'\u001b[39m\u001b[39mcan only join a started process\u001b[39m\u001b[39m'\u001b[39m\n\u001b[0;32m--> 149\u001b[0m res \u001b[39m=\u001b[39m \u001b[39mself\u001b[39;49m\u001b[39m.\u001b[39;49m_popen\u001b[39m.\u001b[39;49mwait(timeout)\n\u001b[1;32m    150\u001b[0m \u001b[39mif\u001b[39;00m res \u001b[39mis\u001b[39;00m \u001b[39mnot\u001b[39;00m \u001b[39mNone\u001b[39;00m:\n\u001b[1;32m    151\u001b[0m     _children\u001b[39m.\u001b[39mdiscard(\u001b[39mself\u001b[39m)\n",
      "File \u001b[0;32m/Net/Groups/BGI/people/bkraft/anaconda3/envs/dml/lib/python3.10/multiprocessing/popen_fork.py:43\u001b[0m, in \u001b[0;36mPopen.wait\u001b[0;34m(self, timeout)\u001b[0m\n\u001b[1;32m     41\u001b[0m             \u001b[39mreturn\u001b[39;00m \u001b[39mNone\u001b[39;00m\n\u001b[1;32m     42\u001b[0m     \u001b[39m# This shouldn't block if wait() returned successfully.\u001b[39;00m\n\u001b[0;32m---> 43\u001b[0m     \u001b[39mreturn\u001b[39;00m \u001b[39mself\u001b[39;49m\u001b[39m.\u001b[39;49mpoll(os\u001b[39m.\u001b[39;49mWNOHANG \u001b[39mif\u001b[39;49;00m timeout \u001b[39m==\u001b[39;49m \u001b[39m0.0\u001b[39;49m \u001b[39melse\u001b[39;49;00m \u001b[39m0\u001b[39;49m)\n\u001b[1;32m     44\u001b[0m \u001b[39mreturn\u001b[39;00m \u001b[39mself\u001b[39m\u001b[39m.\u001b[39mreturncode\n",
      "File \u001b[0;32m/Net/Groups/BGI/people/bkraft/anaconda3/envs/dml/lib/python3.10/multiprocessing/popen_fork.py:27\u001b[0m, in \u001b[0;36mPopen.poll\u001b[0;34m(self, flag)\u001b[0m\n\u001b[1;32m     25\u001b[0m \u001b[39mif\u001b[39;00m \u001b[39mself\u001b[39m\u001b[39m.\u001b[39mreturncode \u001b[39mis\u001b[39;00m \u001b[39mNone\u001b[39;00m:\n\u001b[1;32m     26\u001b[0m     \u001b[39mtry\u001b[39;00m:\n\u001b[0;32m---> 27\u001b[0m         pid, sts \u001b[39m=\u001b[39m os\u001b[39m.\u001b[39;49mwaitpid(\u001b[39mself\u001b[39;49m\u001b[39m.\u001b[39;49mpid, flag)\n\u001b[1;32m     28\u001b[0m     \u001b[39mexcept\u001b[39;00m \u001b[39mOSError\u001b[39;00m:\n\u001b[1;32m     29\u001b[0m         \u001b[39m# Child process not yet created. See #1731717\u001b[39;00m\n\u001b[1;32m     30\u001b[0m         \u001b[39m# e.errno == errno.ECHILD == 10\u001b[39;00m\n\u001b[1;32m     31\u001b[0m         \u001b[39mreturn\u001b[39;00m \u001b[39mNone\u001b[39;00m\n",
      "\u001b[0;31mKeyboardInterrupt\u001b[0m: "
     ]
    }
   ],
   "source": []
  },
  {
   "cell_type": "code",
   "execution_count": 76,
   "metadata": {},
   "outputs": [
    {
     "name": "stdout",
     "output_type": "stream",
     "text": [
      "Consumer: Running\n",
      "Producer: Running\n",
      "Put value\n",
      ">got 0.5167574710624812Put value\n",
      "\n",
      "Put value\n",
      "Put value\n",
      "Put value\n",
      "Put value\n",
      "Put value\n",
      "Put value\n",
      "Put value\n",
      "Put value\n",
      "Producer: Done\n",
      ">got 0.8092434984658852\n",
      ">got 0.31689718979925574\n",
      ">got 0.820357973428891\n",
      ">got 0.3068956683358398\n",
      ">got 0.3917735942309919\n",
      ">got 0.7456238883130152\n",
      ">got 0.6774774386586543\n",
      ">got 0.5731500276208481\n",
      ">got 0.27763739356529193\n",
      "Consumer: Done\n"
     ]
    }
   ],
   "source": [
    "# SuperFastPython.com\n",
    "# example of using the simple queue among processes\n",
    "from time import sleep\n",
    "from random import random\n",
    "from multiprocessing import Process\n",
    "from multiprocessing import SimpleQueue\n",
    " \n",
    "# generate work\n",
    "def producer(queue):\n",
    "    print('Producer: Running', flush=True)\n",
    "    # generate work\n",
    "    for i in range(10):\n",
    "        # generate a value\n",
    "        value = random()\n",
    "        # block\n",
    "        #sleep(value)\n",
    "        # add to the queue\n",
    "        print('Put value')\n",
    "        queue.put(value)\n",
    "    # all done\n",
    "    queue.put(None)\n",
    "    print('Producer: Done', flush=True)\n",
    " \n",
    "# consume work\n",
    "def consumer(queue):\n",
    "    print('Consumer: Running', flush=True)\n",
    "    # consume work\n",
    "    while True:\n",
    "        # get a unit of work\n",
    "        item = queue.get()\n",
    "        # check for stop\n",
    "        if item is None:\n",
    "            break\n",
    "        # report\n",
    "        print(f'>got {item}', flush=True)\n",
    "        sleep(1)\n",
    "    # all done\n",
    "    print('Consumer: Done', flush=True)\n",
    " \n",
    "# create the shared queue\n",
    "queue = SimpleQueue()\n",
    "# start the consumer\n",
    "consumer_process = Process(target=consumer, args=(queue,))\n",
    "consumer_process.start()\n",
    "# start the producer\n",
    "producer_process = Process(target=producer, args=(queue,))\n",
    "producer_process.start()\n",
    "# wait for all child processes to finish\n",
    "producer_process.join()\n",
    "consumer_process.join()"
   ]
  },
  {
   "cell_type": "code",
   "execution_count": 73,
   "metadata": {},
   "outputs": [
    {
     "ename": "AttributeError",
     "evalue": "'SimpleQueue' object has no attribute 'qsize'",
     "output_type": "error",
     "traceback": [
      "\u001b[0;31m---------------------------------------------------------------------------\u001b[0m",
      "\u001b[0;31mAttributeError\u001b[0m                            Traceback (most recent call last)",
      "Cell \u001b[0;32mIn[73], line 1\u001b[0m\n\u001b[0;32m----> 1\u001b[0m queue\u001b[39m.\u001b[39;49mqsize()\n",
      "\u001b[0;31mAttributeError\u001b[0m: 'SimpleQueue' object has no attribute 'qsize'"
     ]
    }
   ],
   "source": [
    "queue"
   ]
  },
  {
   "cell_type": "code",
   "execution_count": null,
   "metadata": {},
   "outputs": [],
   "source": []
  },
  {
   "cell_type": "code",
   "execution_count": 60,
   "metadata": {},
   "outputs": [],
   "source": [
    "\n",
    "import torch\n",
    "from torch.utils.data import IterableDataset, DataLoader\n",
    "import time\n",
    "import numpy as np\n"
   ]
  },
  {
   "cell_type": "code",
   "execution_count": 61,
   "metadata": {},
   "outputs": [],
   "source": [
    "# SuperFastPython.com\n",
    "# example of using the simple queue among processes\n",
    "import torch.multiprocessing as mpl\n",
    "from torch.multiprocessing import Process, SimpleQueue\n",
    "from time import sleep\n",
    "from random import random\n",
    "\n",
    "#n_enqueued = mpl.Value('i', 0)\n",
    "\n",
    "# generate work\n",
    "def producer(queue, n_enqueued):\n",
    "    print('Producer: Running', flush=True)\n",
    "    # generate work\n",
    "    current_value = 0\n",
    "    exit = False\n",
    "    while True:\n",
    "        if exit:\n",
    "            break\n",
    "\n",
    "        if n_enqueued.value < 5:\n",
    "            # add to the queue\n",
    "            queue.put(current_value)\n",
    "            with n_enqueued.get_lock():\n",
    "                n_enqueued.value += 1\n",
    "                print(f'>put value {current_value} ({n_enqueued.value} total)')\n",
    "\n",
    "            current_value += 1\n",
    "\n",
    "            if current_value >= 10:\n",
    "                exit = True\n",
    "\n",
    "        else:\n",
    "            sleep(0.5)\n",
    "\n",
    "    # all done\n",
    "    queue.put(None)\n",
    "    print('Producer: Done', flush=True)\n"
   ]
  },
  {
   "cell_type": "code",
   "execution_count": 64,
   "metadata": {},
   "outputs": [],
   "source": [
    "class Buffer(object):\n",
    "    def __init__(self):\n",
    "        self.queue = SimpleQueue()\n",
    "        self.n_enqueued = mpl.Value('i', 0)\n",
    "\n",
    "        self.producer_process = Process(target=producer, args=(self.queue, self.n_enqueued,))\n",
    "        self.producer_process.start()\n",
    "\n",
    "    def next(self):\n",
    "        while True:\n",
    "            if self.n_enqueued.value < 1:\n",
    "                sleep(1)\n",
    "                continue\n",
    "\n",
    "            with self.n_enqueued.get_lock():\n",
    "                self.n_enqueued.value -= 1\n",
    "\n",
    "            value = self.queue.get()\n",
    "            print(f'>get value {value} ({self.n_enqueued.value} total)')\n",
    "            return value\n",
    "\n",
    "    def terminate(self):\n",
    "        self.producer_process.join()\n",
    "\n",
    "\n",
    "class Data(IterableDataset):\n",
    "    def __init__(self):\n",
    "        super().__init__()\n",
    "\n",
    "    def __iter__(self):\n",
    "        queue = SimpleQueue()\n",
    "        buffer = Buffer()\n",
    "\n",
    "        while True:\n",
    "            el = buffer.next()\n",
    "\n",
    "            if el is None:\n",
    "                buffer.terminate()\n",
    "                break\n",
    "\n",
    "            print(el)\n",
    "\n",
    "            yield el\n",
    "\n",
    "\n",
    "data = Data()\n",
    "dataloader = DataLoader(data, prefetch_factor=2, num_workers=1)\n"
   ]
  },
  {
   "cell_type": "code",
   "execution_count": 65,
   "metadata": {},
   "outputs": [
    {
     "ename": "AssertionError",
     "evalue": "Caught AssertionError in DataLoader worker process 0.\nOriginal Traceback (most recent call last):\n  File \"/Net/Groups/BGI/people/bkraft/anaconda3/envs/dml/lib/python3.10/site-packages/torch/utils/data/_utils/worker.py\", line 302, in _worker_loop\n    data = fetcher.fetch(index)\n  File \"/Net/Groups/BGI/people/bkraft/anaconda3/envs/dml/lib/python3.10/site-packages/torch/utils/data/_utils/fetch.py\", line 34, in fetch\n    data.append(next(self.dataset_iter))\n  File \"/raid/scratch/tmp/ipykernel_23727/3276945696.py\", line 32, in __iter__\n    buffer = Buffer()\n  File \"/raid/scratch/tmp/ipykernel_23727/3276945696.py\", line 7, in __init__\n    self.producer_process.start()\n  File \"/Net/Groups/BGI/people/bkraft/anaconda3/envs/dml/lib/python3.10/multiprocessing/process.py\", line 118, in start\n    assert not _current_process._config.get('daemon'), \\\nAssertionError: daemonic processes are not allowed to have children\n",
     "output_type": "error",
     "traceback": [
      "\u001b[0;31m---------------------------------------------------------------------------\u001b[0m",
      "\u001b[0;31mAssertionError\u001b[0m                            Traceback (most recent call last)",
      "Cell \u001b[0;32mIn[65], line 2\u001b[0m\n\u001b[1;32m      1\u001b[0m \u001b[39mif\u001b[39;00m \u001b[39m__name__\u001b[39m \u001b[39m==\u001b[39m \u001b[39m'\u001b[39m\u001b[39m__main__\u001b[39m\u001b[39m'\u001b[39m:\n\u001b[0;32m----> 2\u001b[0m     \u001b[39mfor\u001b[39;00m d \u001b[39min\u001b[39;00m dataloader:\n\u001b[1;32m      3\u001b[0m         sleep(\u001b[39m0.5\u001b[39m)\n\u001b[1;32m      4\u001b[0m         \u001b[39mprint\u001b[39m(d)\n",
      "File \u001b[0;32m/Net/Groups/BGI/people/bkraft/anaconda3/envs/dml/lib/python3.10/site-packages/torch/utils/data/dataloader.py:628\u001b[0m, in \u001b[0;36m_BaseDataLoaderIter.__next__\u001b[0;34m(self)\u001b[0m\n\u001b[1;32m    625\u001b[0m \u001b[39mif\u001b[39;00m \u001b[39mself\u001b[39m\u001b[39m.\u001b[39m_sampler_iter \u001b[39mis\u001b[39;00m \u001b[39mNone\u001b[39;00m:\n\u001b[1;32m    626\u001b[0m     \u001b[39m# TODO(https://github.com/pytorch/pytorch/issues/76750)\u001b[39;00m\n\u001b[1;32m    627\u001b[0m     \u001b[39mself\u001b[39m\u001b[39m.\u001b[39m_reset()  \u001b[39m# type: ignore[call-arg]\u001b[39;00m\n\u001b[0;32m--> 628\u001b[0m data \u001b[39m=\u001b[39m \u001b[39mself\u001b[39;49m\u001b[39m.\u001b[39;49m_next_data()\n\u001b[1;32m    629\u001b[0m \u001b[39mself\u001b[39m\u001b[39m.\u001b[39m_num_yielded \u001b[39m+\u001b[39m\u001b[39m=\u001b[39m \u001b[39m1\u001b[39m\n\u001b[1;32m    630\u001b[0m \u001b[39mif\u001b[39;00m \u001b[39mself\u001b[39m\u001b[39m.\u001b[39m_dataset_kind \u001b[39m==\u001b[39m _DatasetKind\u001b[39m.\u001b[39mIterable \u001b[39mand\u001b[39;00m \\\n\u001b[1;32m    631\u001b[0m         \u001b[39mself\u001b[39m\u001b[39m.\u001b[39m_IterableDataset_len_called \u001b[39mis\u001b[39;00m \u001b[39mnot\u001b[39;00m \u001b[39mNone\u001b[39;00m \u001b[39mand\u001b[39;00m \\\n\u001b[1;32m    632\u001b[0m         \u001b[39mself\u001b[39m\u001b[39m.\u001b[39m_num_yielded \u001b[39m>\u001b[39m \u001b[39mself\u001b[39m\u001b[39m.\u001b[39m_IterableDataset_len_called:\n",
      "File \u001b[0;32m/Net/Groups/BGI/people/bkraft/anaconda3/envs/dml/lib/python3.10/site-packages/torch/utils/data/dataloader.py:1333\u001b[0m, in \u001b[0;36m_MultiProcessingDataLoaderIter._next_data\u001b[0;34m(self)\u001b[0m\n\u001b[1;32m   1331\u001b[0m \u001b[39melse\u001b[39;00m:\n\u001b[1;32m   1332\u001b[0m     \u001b[39mdel\u001b[39;00m \u001b[39mself\u001b[39m\u001b[39m.\u001b[39m_task_info[idx]\n\u001b[0;32m-> 1333\u001b[0m     \u001b[39mreturn\u001b[39;00m \u001b[39mself\u001b[39;49m\u001b[39m.\u001b[39;49m_process_data(data)\n",
      "File \u001b[0;32m/Net/Groups/BGI/people/bkraft/anaconda3/envs/dml/lib/python3.10/site-packages/torch/utils/data/dataloader.py:1359\u001b[0m, in \u001b[0;36m_MultiProcessingDataLoaderIter._process_data\u001b[0;34m(self, data)\u001b[0m\n\u001b[1;32m   1357\u001b[0m \u001b[39mself\u001b[39m\u001b[39m.\u001b[39m_try_put_index()\n\u001b[1;32m   1358\u001b[0m \u001b[39mif\u001b[39;00m \u001b[39misinstance\u001b[39m(data, ExceptionWrapper):\n\u001b[0;32m-> 1359\u001b[0m     data\u001b[39m.\u001b[39;49mreraise()\n\u001b[1;32m   1360\u001b[0m \u001b[39mreturn\u001b[39;00m data\n",
      "File \u001b[0;32m/Net/Groups/BGI/people/bkraft/anaconda3/envs/dml/lib/python3.10/site-packages/torch/_utils.py:543\u001b[0m, in \u001b[0;36mExceptionWrapper.reraise\u001b[0;34m(self)\u001b[0m\n\u001b[1;32m    539\u001b[0m \u001b[39mexcept\u001b[39;00m \u001b[39mTypeError\u001b[39;00m:\n\u001b[1;32m    540\u001b[0m     \u001b[39m# If the exception takes multiple arguments, don't try to\u001b[39;00m\n\u001b[1;32m    541\u001b[0m     \u001b[39m# instantiate since we don't know how to\u001b[39;00m\n\u001b[1;32m    542\u001b[0m     \u001b[39mraise\u001b[39;00m \u001b[39mRuntimeError\u001b[39;00m(msg) \u001b[39mfrom\u001b[39;00m \u001b[39mNone\u001b[39m\n\u001b[0;32m--> 543\u001b[0m \u001b[39mraise\u001b[39;00m exception\n",
      "\u001b[0;31mAssertionError\u001b[0m: Caught AssertionError in DataLoader worker process 0.\nOriginal Traceback (most recent call last):\n  File \"/Net/Groups/BGI/people/bkraft/anaconda3/envs/dml/lib/python3.10/site-packages/torch/utils/data/_utils/worker.py\", line 302, in _worker_loop\n    data = fetcher.fetch(index)\n  File \"/Net/Groups/BGI/people/bkraft/anaconda3/envs/dml/lib/python3.10/site-packages/torch/utils/data/_utils/fetch.py\", line 34, in fetch\n    data.append(next(self.dataset_iter))\n  File \"/raid/scratch/tmp/ipykernel_23727/3276945696.py\", line 32, in __iter__\n    buffer = Buffer()\n  File \"/raid/scratch/tmp/ipykernel_23727/3276945696.py\", line 7, in __init__\n    self.producer_process.start()\n  File \"/Net/Groups/BGI/people/bkraft/anaconda3/envs/dml/lib/python3.10/multiprocessing/process.py\", line 118, in start\n    assert not _current_process._config.get('daemon'), \\\nAssertionError: daemonic processes are not allowed to have children\n"
     ]
    }
   ],
   "source": [
    "if __name__ == '__main__':\n",
    "    for d in dataloader:\n",
    "        sleep(0.5)\n",
    "        print(d)"
   ]
  },
  {
   "cell_type": "code",
   "execution_count": null,
   "metadata": {},
   "outputs": [],
   "source": []
  },
  {
   "cell_type": "code",
   "execution_count": null,
   "metadata": {},
   "outputs": [],
   "source": []
  },
  {
   "cell_type": "code",
   "execution_count": 28,
   "metadata": {},
   "outputs": [],
   "source": [
    "import torch.multiprocessing as mp"
   ]
  },
  {
   "cell_type": "code",
   "execution_count": 36,
   "metadata": {},
   "outputs": [],
   "source": [
    "class A(object):\n",
    "    def __init__(self):\n",
    "        self.n = 0\n",
    "\n",
    "    def increase(self):\n",
    "        self.n += 1"
   ]
  },
  {
   "cell_type": "code",
   "execution_count": 37,
   "metadata": {},
   "outputs": [],
   "source": [
    "processes = []\n",
    "aaa = []\n",
    "for _ in range(2):\n",
    "    a = A()\n",
    "\n",
    "    aaa.append(a)\n",
    "    process = mp.Process(target=a.increase)\n",
    "    process.start()\n",
    "    processes.append(process)\n",
    "\n",
    "for process in processes:\n",
    "    process.join()\n"
   ]
  },
  {
   "cell_type": "code",
   "execution_count": 39,
   "metadata": {},
   "outputs": [
    {
     "data": {
      "text/plain": [
       "0"
      ]
     },
     "execution_count": 39,
     "metadata": {},
     "output_type": "execute_result"
    }
   ],
   "source": [
    "aaa[1].n"
   ]
  },
  {
   "cell_type": "code",
   "execution_count": 41,
   "metadata": {},
   "outputs": [],
   "source": [
    "import xarray as xr\n",
    "import numpy as np"
   ]
  },
  {
   "cell_type": "code",
   "execution_count": 53,
   "metadata": {},
   "outputs": [],
   "source": [
    "mask = xr.DataArray(np.random.choice(2, size=(10, 10)), dims=['lat', 'lon'], coords={'lat': np.arange(10), 'lon': np.arange(10)})"
   ]
  },
  {
   "cell_type": "code",
   "execution_count": 67,
   "metadata": {},
   "outputs": [
    {
     "data": {
      "text/plain": [
       "array([ 0,  2,  3,  5,  7, 10, 12, 15, 16, 17, 18, 20, 21, 22, 26, 27, 28,\n",
       "       30, 32, 33, 37, 42, 44, 46, 47, 48, 49, 50, 52, 54, 55, 56, 57, 58,\n",
       "       62, 64, 65, 66, 67, 69, 73, 76, 77, 79, 80, 84, 86, 87, 89, 91, 93,\n",
       "       95, 98, 99])"
      ]
     },
     "execution_count": 67,
     "metadata": {},
     "output_type": "execute_result"
    }
   ],
   "source": [
    "np.argwhere(mask.stack(sample=('lat', 'lon')).values).squeeze()"
   ]
  },
  {
   "cell_type": "code",
   "execution_count": 54,
   "metadata": {},
   "outputs": [
    {
     "ename": "ValueError",
     "evalue": "cannot reset_coords with drop=False on an unnamed DataArrray",
     "output_type": "error",
     "traceback": [
      "\u001b[0;31m---------------------------------------------------------------------------\u001b[0m",
      "\u001b[0;31mValueError\u001b[0m                                Traceback (most recent call last)",
      "Cell \u001b[0;32mIn[54], line 1\u001b[0m\n\u001b[0;32m----> 1\u001b[0m mask_flat \u001b[39m=\u001b[39m mask\u001b[39m.\u001b[39;49mstack(sample\u001b[39m=\u001b[39;49m(\u001b[39m'\u001b[39;49m\u001b[39mlat\u001b[39;49m\u001b[39m'\u001b[39;49m, \u001b[39m'\u001b[39;49m\u001b[39mlon\u001b[39;49m\u001b[39m'\u001b[39;49m))\u001b[39m.\u001b[39;49mreset_coords()\n\u001b[1;32m      2\u001b[0m mask_flat\n",
      "File \u001b[0;32m/Net/Groups/BGI/people/bkraft/anaconda3/envs/dml/lib/python3.10/site-packages/xarray/core/dataarray.py:1004\u001b[0m, in \u001b[0;36mDataArray.reset_coords\u001b[0;34m(self, names, drop)\u001b[0m\n\u001b[1;32m   1002\u001b[0m     \u001b[39mreturn\u001b[39;00m \u001b[39mself\u001b[39m\u001b[39m.\u001b[39m_replace(coords\u001b[39m=\u001b[39mdataset\u001b[39m.\u001b[39m_variables)\n\u001b[1;32m   1003\u001b[0m \u001b[39mif\u001b[39;00m \u001b[39mself\u001b[39m\u001b[39m.\u001b[39mname \u001b[39mis\u001b[39;00m \u001b[39mNone\u001b[39;00m:\n\u001b[0;32m-> 1004\u001b[0m     \u001b[39mraise\u001b[39;00m \u001b[39mValueError\u001b[39;00m(\n\u001b[1;32m   1005\u001b[0m         \u001b[39m\"\u001b[39m\u001b[39mcannot reset_coords with drop=False on an unnamed DataArrray\u001b[39m\u001b[39m\"\u001b[39m\n\u001b[1;32m   1006\u001b[0m     )\n\u001b[1;32m   1007\u001b[0m dataset[\u001b[39mself\u001b[39m\u001b[39m.\u001b[39mname] \u001b[39m=\u001b[39m \u001b[39mself\u001b[39m\u001b[39m.\u001b[39mvariable\n\u001b[1;32m   1008\u001b[0m \u001b[39mreturn\u001b[39;00m dataset\n",
      "\u001b[0;31mValueError\u001b[0m: cannot reset_coords with drop=False on an unnamed DataArrray"
     ]
    }
   ],
   "source": [
    "mask_flat = mask.stack(sample=('lat', 'lon')).reset_coords()\n",
    "mask_flat"
   ]
  },
  {
   "cell_type": "code",
   "execution_count": 92,
   "metadata": {},
   "outputs": [],
   "source": [
    "m = mask_flat.where(mask_flat, drop=True)"
   ]
  },
  {
   "cell_type": "code",
   "execution_count": 93,
   "metadata": {},
   "outputs": [
    {
     "data": {
      "text/html": [
       "<div><svg style=\"position: absolute; width: 0; height: 0; overflow: hidden\">\n",
       "<defs>\n",
       "<symbol id=\"icon-database\" viewBox=\"0 0 32 32\">\n",
       "<path d=\"M16 0c-8.837 0-16 2.239-16 5v4c0 2.761 7.163 5 16 5s16-2.239 16-5v-4c0-2.761-7.163-5-16-5z\"></path>\n",
       "<path d=\"M16 17c-8.837 0-16-2.239-16-5v6c0 2.761 7.163 5 16 5s16-2.239 16-5v-6c0 2.761-7.163 5-16 5z\"></path>\n",
       "<path d=\"M16 26c-8.837 0-16-2.239-16-5v6c0 2.761 7.163 5 16 5s16-2.239 16-5v-6c0 2.761-7.163 5-16 5z\"></path>\n",
       "</symbol>\n",
       "<symbol id=\"icon-file-text2\" viewBox=\"0 0 32 32\">\n",
       "<path d=\"M28.681 7.159c-0.694-0.947-1.662-2.053-2.724-3.116s-2.169-2.030-3.116-2.724c-1.612-1.182-2.393-1.319-2.841-1.319h-15.5c-1.378 0-2.5 1.121-2.5 2.5v27c0 1.378 1.122 2.5 2.5 2.5h23c1.378 0 2.5-1.122 2.5-2.5v-19.5c0-0.448-0.137-1.23-1.319-2.841zM24.543 5.457c0.959 0.959 1.712 1.825 2.268 2.543h-4.811v-4.811c0.718 0.556 1.584 1.309 2.543 2.268zM28 29.5c0 0.271-0.229 0.5-0.5 0.5h-23c-0.271 0-0.5-0.229-0.5-0.5v-27c0-0.271 0.229-0.5 0.5-0.5 0 0 15.499-0 15.5 0v7c0 0.552 0.448 1 1 1h7v19.5z\"></path>\n",
       "<path d=\"M23 26h-14c-0.552 0-1-0.448-1-1s0.448-1 1-1h14c0.552 0 1 0.448 1 1s-0.448 1-1 1z\"></path>\n",
       "<path d=\"M23 22h-14c-0.552 0-1-0.448-1-1s0.448-1 1-1h14c0.552 0 1 0.448 1 1s-0.448 1-1 1z\"></path>\n",
       "<path d=\"M23 18h-14c-0.552 0-1-0.448-1-1s0.448-1 1-1h14c0.552 0 1 0.448 1 1s-0.448 1-1 1z\"></path>\n",
       "</symbol>\n",
       "</defs>\n",
       "</svg>\n",
       "<style>/* CSS stylesheet for displaying xarray objects in jupyterlab.\n",
       " *\n",
       " */\n",
       "\n",
       ":root {\n",
       "  --xr-font-color0: var(--jp-content-font-color0, rgba(0, 0, 0, 1));\n",
       "  --xr-font-color2: var(--jp-content-font-color2, rgba(0, 0, 0, 0.54));\n",
       "  --xr-font-color3: var(--jp-content-font-color3, rgba(0, 0, 0, 0.38));\n",
       "  --xr-border-color: var(--jp-border-color2, #e0e0e0);\n",
       "  --xr-disabled-color: var(--jp-layout-color3, #bdbdbd);\n",
       "  --xr-background-color: var(--jp-layout-color0, white);\n",
       "  --xr-background-color-row-even: var(--jp-layout-color1, white);\n",
       "  --xr-background-color-row-odd: var(--jp-layout-color2, #eeeeee);\n",
       "}\n",
       "\n",
       "html[theme=dark],\n",
       "body[data-theme=dark],\n",
       "body.vscode-dark {\n",
       "  --xr-font-color0: rgba(255, 255, 255, 1);\n",
       "  --xr-font-color2: rgba(255, 255, 255, 0.54);\n",
       "  --xr-font-color3: rgba(255, 255, 255, 0.38);\n",
       "  --xr-border-color: #1F1F1F;\n",
       "  --xr-disabled-color: #515151;\n",
       "  --xr-background-color: #111111;\n",
       "  --xr-background-color-row-even: #111111;\n",
       "  --xr-background-color-row-odd: #313131;\n",
       "}\n",
       "\n",
       ".xr-wrap {\n",
       "  display: block !important;\n",
       "  min-width: 300px;\n",
       "  max-width: 700px;\n",
       "}\n",
       "\n",
       ".xr-text-repr-fallback {\n",
       "  /* fallback to plain text repr when CSS is not injected (untrusted notebook) */\n",
       "  display: none;\n",
       "}\n",
       "\n",
       ".xr-header {\n",
       "  padding-top: 6px;\n",
       "  padding-bottom: 6px;\n",
       "  margin-bottom: 4px;\n",
       "  border-bottom: solid 1px var(--xr-border-color);\n",
       "}\n",
       "\n",
       ".xr-header > div,\n",
       ".xr-header > ul {\n",
       "  display: inline;\n",
       "  margin-top: 0;\n",
       "  margin-bottom: 0;\n",
       "}\n",
       "\n",
       ".xr-obj-type,\n",
       ".xr-array-name {\n",
       "  margin-left: 2px;\n",
       "  margin-right: 10px;\n",
       "}\n",
       "\n",
       ".xr-obj-type {\n",
       "  color: var(--xr-font-color2);\n",
       "}\n",
       "\n",
       ".xr-sections {\n",
       "  padding-left: 0 !important;\n",
       "  display: grid;\n",
       "  grid-template-columns: 150px auto auto 1fr 20px 20px;\n",
       "}\n",
       "\n",
       ".xr-section-item {\n",
       "  display: contents;\n",
       "}\n",
       "\n",
       ".xr-section-item input {\n",
       "  display: none;\n",
       "}\n",
       "\n",
       ".xr-section-item input + label {\n",
       "  color: var(--xr-disabled-color);\n",
       "}\n",
       "\n",
       ".xr-section-item input:enabled + label {\n",
       "  cursor: pointer;\n",
       "  color: var(--xr-font-color2);\n",
       "}\n",
       "\n",
       ".xr-section-item input:enabled + label:hover {\n",
       "  color: var(--xr-font-color0);\n",
       "}\n",
       "\n",
       ".xr-section-summary {\n",
       "  grid-column: 1;\n",
       "  color: var(--xr-font-color2);\n",
       "  font-weight: 500;\n",
       "}\n",
       "\n",
       ".xr-section-summary > span {\n",
       "  display: inline-block;\n",
       "  padding-left: 0.5em;\n",
       "}\n",
       "\n",
       ".xr-section-summary-in:disabled + label {\n",
       "  color: var(--xr-font-color2);\n",
       "}\n",
       "\n",
       ".xr-section-summary-in + label:before {\n",
       "  display: inline-block;\n",
       "  content: '►';\n",
       "  font-size: 11px;\n",
       "  width: 15px;\n",
       "  text-align: center;\n",
       "}\n",
       "\n",
       ".xr-section-summary-in:disabled + label:before {\n",
       "  color: var(--xr-disabled-color);\n",
       "}\n",
       "\n",
       ".xr-section-summary-in:checked + label:before {\n",
       "  content: '▼';\n",
       "}\n",
       "\n",
       ".xr-section-summary-in:checked + label > span {\n",
       "  display: none;\n",
       "}\n",
       "\n",
       ".xr-section-summary,\n",
       ".xr-section-inline-details {\n",
       "  padding-top: 4px;\n",
       "  padding-bottom: 4px;\n",
       "}\n",
       "\n",
       ".xr-section-inline-details {\n",
       "  grid-column: 2 / -1;\n",
       "}\n",
       "\n",
       ".xr-section-details {\n",
       "  display: none;\n",
       "  grid-column: 1 / -1;\n",
       "  margin-bottom: 5px;\n",
       "}\n",
       "\n",
       ".xr-section-summary-in:checked ~ .xr-section-details {\n",
       "  display: contents;\n",
       "}\n",
       "\n",
       ".xr-array-wrap {\n",
       "  grid-column: 1 / -1;\n",
       "  display: grid;\n",
       "  grid-template-columns: 20px auto;\n",
       "}\n",
       "\n",
       ".xr-array-wrap > label {\n",
       "  grid-column: 1;\n",
       "  vertical-align: top;\n",
       "}\n",
       "\n",
       ".xr-preview {\n",
       "  color: var(--xr-font-color3);\n",
       "}\n",
       "\n",
       ".xr-array-preview,\n",
       ".xr-array-data {\n",
       "  padding: 0 5px !important;\n",
       "  grid-column: 2;\n",
       "}\n",
       "\n",
       ".xr-array-data,\n",
       ".xr-array-in:checked ~ .xr-array-preview {\n",
       "  display: none;\n",
       "}\n",
       "\n",
       ".xr-array-in:checked ~ .xr-array-data,\n",
       ".xr-array-preview {\n",
       "  display: inline-block;\n",
       "}\n",
       "\n",
       ".xr-dim-list {\n",
       "  display: inline-block !important;\n",
       "  list-style: none;\n",
       "  padding: 0 !important;\n",
       "  margin: 0;\n",
       "}\n",
       "\n",
       ".xr-dim-list li {\n",
       "  display: inline-block;\n",
       "  padding: 0;\n",
       "  margin: 0;\n",
       "}\n",
       "\n",
       ".xr-dim-list:before {\n",
       "  content: '(';\n",
       "}\n",
       "\n",
       ".xr-dim-list:after {\n",
       "  content: ')';\n",
       "}\n",
       "\n",
       ".xr-dim-list li:not(:last-child):after {\n",
       "  content: ',';\n",
       "  padding-right: 5px;\n",
       "}\n",
       "\n",
       ".xr-has-index {\n",
       "  font-weight: bold;\n",
       "}\n",
       "\n",
       ".xr-var-list,\n",
       ".xr-var-item {\n",
       "  display: contents;\n",
       "}\n",
       "\n",
       ".xr-var-item > div,\n",
       ".xr-var-item label,\n",
       ".xr-var-item > .xr-var-name span {\n",
       "  background-color: var(--xr-background-color-row-even);\n",
       "  margin-bottom: 0;\n",
       "}\n",
       "\n",
       ".xr-var-item > .xr-var-name:hover span {\n",
       "  padding-right: 5px;\n",
       "}\n",
       "\n",
       ".xr-var-list > li:nth-child(odd) > div,\n",
       ".xr-var-list > li:nth-child(odd) > label,\n",
       ".xr-var-list > li:nth-child(odd) > .xr-var-name span {\n",
       "  background-color: var(--xr-background-color-row-odd);\n",
       "}\n",
       "\n",
       ".xr-var-name {\n",
       "  grid-column: 1;\n",
       "}\n",
       "\n",
       ".xr-var-dims {\n",
       "  grid-column: 2;\n",
       "}\n",
       "\n",
       ".xr-var-dtype {\n",
       "  grid-column: 3;\n",
       "  text-align: right;\n",
       "  color: var(--xr-font-color2);\n",
       "}\n",
       "\n",
       ".xr-var-preview {\n",
       "  grid-column: 4;\n",
       "}\n",
       "\n",
       ".xr-index-preview {\n",
       "  grid-column: 2 / 5;\n",
       "  color: var(--xr-font-color2);\n",
       "}\n",
       "\n",
       ".xr-var-name,\n",
       ".xr-var-dims,\n",
       ".xr-var-dtype,\n",
       ".xr-preview,\n",
       ".xr-attrs dt {\n",
       "  white-space: nowrap;\n",
       "  overflow: hidden;\n",
       "  text-overflow: ellipsis;\n",
       "  padding-right: 10px;\n",
       "}\n",
       "\n",
       ".xr-var-name:hover,\n",
       ".xr-var-dims:hover,\n",
       ".xr-var-dtype:hover,\n",
       ".xr-attrs dt:hover {\n",
       "  overflow: visible;\n",
       "  width: auto;\n",
       "  z-index: 1;\n",
       "}\n",
       "\n",
       ".xr-var-attrs,\n",
       ".xr-var-data,\n",
       ".xr-index-data {\n",
       "  display: none;\n",
       "  background-color: var(--xr-background-color) !important;\n",
       "  padding-bottom: 5px !important;\n",
       "}\n",
       "\n",
       ".xr-var-attrs-in:checked ~ .xr-var-attrs,\n",
       ".xr-var-data-in:checked ~ .xr-var-data,\n",
       ".xr-index-data-in:checked ~ .xr-index-data {\n",
       "  display: block;\n",
       "}\n",
       "\n",
       ".xr-var-data > table {\n",
       "  float: right;\n",
       "}\n",
       "\n",
       ".xr-var-name span,\n",
       ".xr-var-data,\n",
       ".xr-index-name div,\n",
       ".xr-index-data,\n",
       ".xr-attrs {\n",
       "  padding-left: 25px !important;\n",
       "}\n",
       "\n",
       ".xr-attrs,\n",
       ".xr-var-attrs,\n",
       ".xr-var-data,\n",
       ".xr-index-data {\n",
       "  grid-column: 1 / -1;\n",
       "}\n",
       "\n",
       "dl.xr-attrs {\n",
       "  padding: 0;\n",
       "  margin: 0;\n",
       "  display: grid;\n",
       "  grid-template-columns: 125px auto;\n",
       "}\n",
       "\n",
       ".xr-attrs dt,\n",
       ".xr-attrs dd {\n",
       "  padding: 0;\n",
       "  margin: 0;\n",
       "  float: left;\n",
       "  padding-right: 10px;\n",
       "  width: auto;\n",
       "}\n",
       "\n",
       ".xr-attrs dt {\n",
       "  font-weight: normal;\n",
       "  grid-column: 1;\n",
       "}\n",
       "\n",
       ".xr-attrs dt:hover span {\n",
       "  display: inline-block;\n",
       "  background: var(--xr-background-color);\n",
       "  padding-right: 10px;\n",
       "}\n",
       "\n",
       ".xr-attrs dd {\n",
       "  grid-column: 2;\n",
       "  white-space: pre-wrap;\n",
       "  word-break: break-all;\n",
       "}\n",
       "\n",
       ".xr-icon-database,\n",
       ".xr-icon-file-text2,\n",
       ".xr-no-icon {\n",
       "  display: inline-block;\n",
       "  vertical-align: middle;\n",
       "  width: 1em;\n",
       "  height: 1.5em !important;\n",
       "  stroke-width: 0;\n",
       "  stroke: currentColor;\n",
       "  fill: currentColor;\n",
       "}\n",
       "</style><pre class='xr-text-repr-fallback'>&lt;xarray.DataArray (sample: 52)&gt;\n",
       "array([1., 1., 1., 1., 1., 1., 1., 1., 1., 1., 1., 1., 1., 1., 1., 1., 1.,\n",
       "       1., 1., 1., 1., 1., 1., 1., 1., 1., 1., 1., 1., 1., 1., 1., 1., 1.,\n",
       "       1., 1., 1., 1., 1., 1., 1., 1., 1., 1., 1., 1., 1., 1., 1., 1., 1.,\n",
       "       1.])\n",
       "Coordinates:\n",
       "  * sample   (sample) object MultiIndex\n",
       "  * lat      (sample) int64 0 0 0 0 1 1 1 1 1 1 2 2 ... 7 7 7 8 8 8 8 8 8 8 8 9\n",
       "  * lon      (sample) int64 0 1 4 7 0 1 2 4 5 6 0 3 ... 6 8 9 1 2 4 5 6 7 8 9 4</pre><div class='xr-wrap' style='display:none'><div class='xr-header'><div class='xr-obj-type'>xarray.DataArray</div><div class='xr-array-name'></div><ul class='xr-dim-list'><li><span class='xr-has-index'>sample</span>: 52</li></ul></div><ul class='xr-sections'><li class='xr-section-item'><div class='xr-array-wrap'><input id='section-98462563-2587-4ce8-b023-ccd48d436fec' class='xr-array-in' type='checkbox' checked><label for='section-98462563-2587-4ce8-b023-ccd48d436fec' title='Show/hide data repr'><svg class='icon xr-icon-database'><use xlink:href='#icon-database'></use></svg></label><div class='xr-array-preview xr-preview'><span>1.0 1.0 1.0 1.0 1.0 1.0 1.0 1.0 ... 1.0 1.0 1.0 1.0 1.0 1.0 1.0 1.0</span></div><div class='xr-array-data'><pre>array([1., 1., 1., 1., 1., 1., 1., 1., 1., 1., 1., 1., 1., 1., 1., 1., 1.,\n",
       "       1., 1., 1., 1., 1., 1., 1., 1., 1., 1., 1., 1., 1., 1., 1., 1., 1.,\n",
       "       1., 1., 1., 1., 1., 1., 1., 1., 1., 1., 1., 1., 1., 1., 1., 1., 1.,\n",
       "       1.])</pre></div></div></li><li class='xr-section-item'><input id='section-b7716501-73b6-4074-b06d-d8ad588a49f3' class='xr-section-summary-in' type='checkbox'  checked><label for='section-b7716501-73b6-4074-b06d-d8ad588a49f3' class='xr-section-summary' >Coordinates: <span>(3)</span></label><div class='xr-section-inline-details'></div><div class='xr-section-details'><ul class='xr-var-list'><li class='xr-var-item'><div class='xr-var-name'><span class='xr-has-index'>sample</span></div><div class='xr-var-dims'>(sample)</div><div class='xr-var-dtype'>object</div><div class='xr-var-preview xr-preview'>MultiIndex</div><input id='attrs-45e34a06-5531-4698-8e9a-54af2c50d9ef' class='xr-var-attrs-in' type='checkbox' disabled><label for='attrs-45e34a06-5531-4698-8e9a-54af2c50d9ef' title='Show/Hide attributes'><svg class='icon xr-icon-file-text2'><use xlink:href='#icon-file-text2'></use></svg></label><input id='data-9c818cb3-ae60-487a-8a43-00fe059407a9' class='xr-var-data-in' type='checkbox'><label for='data-9c818cb3-ae60-487a-8a43-00fe059407a9' title='Show/Hide data repr'><svg class='icon xr-icon-database'><use xlink:href='#icon-database'></use></svg></label><div class='xr-var-attrs'><dl class='xr-attrs'></dl></div><div class='xr-var-data'><pre>array([(0, 0), (0, 1), (0, 4), (0, 7), (1, 0), (1, 1), (1, 2), (1, 4), (1, 5),\n",
       "       (1, 6), (2, 0), (2, 3), (2, 4), (2, 5), (2, 6), (2, 9), (3, 0), (3, 1),\n",
       "       (3, 2), (3, 4), (3, 6), (3, 8), (3, 9), (4, 0), (4, 4), (4, 6), (4, 7),\n",
       "       (5, 0), (5, 1), (5, 3), (5, 4), (5, 7), (6, 0), (6, 2), (6, 6), (6, 7),\n",
       "       (6, 8), (6, 9), (7, 1), (7, 5), (7, 6), (7, 8), (7, 9), (8, 1), (8, 2),\n",
       "       (8, 4), (8, 5), (8, 6), (8, 7), (8, 8), (8, 9), (9, 4)], dtype=object)</pre></div></li><li class='xr-var-item'><div class='xr-var-name'><span class='xr-has-index'>lat</span></div><div class='xr-var-dims'>(sample)</div><div class='xr-var-dtype'>int64</div><div class='xr-var-preview xr-preview'>0 0 0 0 1 1 1 1 ... 8 8 8 8 8 8 8 9</div><input id='attrs-84716dfd-e87d-4f6f-8574-8a5323dce64e' class='xr-var-attrs-in' type='checkbox' disabled><label for='attrs-84716dfd-e87d-4f6f-8574-8a5323dce64e' title='Show/Hide attributes'><svg class='icon xr-icon-file-text2'><use xlink:href='#icon-file-text2'></use></svg></label><input id='data-422c9ff8-735a-454d-80e9-5854ff751d0b' class='xr-var-data-in' type='checkbox'><label for='data-422c9ff8-735a-454d-80e9-5854ff751d0b' title='Show/Hide data repr'><svg class='icon xr-icon-database'><use xlink:href='#icon-database'></use></svg></label><div class='xr-var-attrs'><dl class='xr-attrs'></dl></div><div class='xr-var-data'><pre>array([0, 0, 0, 0, 1, 1, 1, 1, 1, 1, 2, 2, 2, 2, 2, 2, 3, 3, 3, 3, 3, 3, 3, 4,\n",
       "       4, 4, 4, 5, 5, 5, 5, 5, 6, 6, 6, 6, 6, 6, 7, 7, 7, 7, 7, 8, 8, 8, 8, 8,\n",
       "       8, 8, 8, 9])</pre></div></li><li class='xr-var-item'><div class='xr-var-name'><span class='xr-has-index'>lon</span></div><div class='xr-var-dims'>(sample)</div><div class='xr-var-dtype'>int64</div><div class='xr-var-preview xr-preview'>0 1 4 7 0 1 2 4 ... 2 4 5 6 7 8 9 4</div><input id='attrs-18506383-4c1c-445e-8ea1-1979f1ef2e43' class='xr-var-attrs-in' type='checkbox' disabled><label for='attrs-18506383-4c1c-445e-8ea1-1979f1ef2e43' title='Show/Hide attributes'><svg class='icon xr-icon-file-text2'><use xlink:href='#icon-file-text2'></use></svg></label><input id='data-3f3a47a6-5e15-4181-babe-a8e77615c45c' class='xr-var-data-in' type='checkbox'><label for='data-3f3a47a6-5e15-4181-babe-a8e77615c45c' title='Show/Hide data repr'><svg class='icon xr-icon-database'><use xlink:href='#icon-database'></use></svg></label><div class='xr-var-attrs'><dl class='xr-attrs'></dl></div><div class='xr-var-data'><pre>array([0, 1, 4, 7, 0, 1, 2, 4, 5, 6, 0, 3, 4, 5, 6, 9, 0, 1, 2, 4, 6, 8, 9, 0,\n",
       "       4, 6, 7, 0, 1, 3, 4, 7, 0, 2, 6, 7, 8, 9, 1, 5, 6, 8, 9, 1, 2, 4, 5, 6,\n",
       "       7, 8, 9, 4])</pre></div></li></ul></div></li><li class='xr-section-item'><input id='section-0e48a22c-d426-4c76-8040-6dc9f138d3e6' class='xr-section-summary-in' type='checkbox'  ><label for='section-0e48a22c-d426-4c76-8040-6dc9f138d3e6' class='xr-section-summary' >Indexes: <span>(1)</span></label><div class='xr-section-inline-details'></div><div class='xr-section-details'><ul class='xr-var-list'><li class='xr-var-item'><div class='xr-index-name'><div>sample<br>lat<br>lon</div></div><div class='xr-index-preview'>PandasMultiIndex</div><div></div><input id='index-bdcb9912-0b76-467a-8478-47b396234a99' class='xr-index-data-in' type='checkbox'/><label for='index-bdcb9912-0b76-467a-8478-47b396234a99' title='Show/Hide index repr'><svg class='icon xr-icon-database'><use xlink:href='#icon-database'></use></svg></label><div class='xr-index-data'><pre>PandasIndex(MultiIndex([(0, 0),\n",
       "            (0, 1),\n",
       "            (0, 4),\n",
       "            (0, 7),\n",
       "            (1, 0),\n",
       "            (1, 1),\n",
       "            (1, 2),\n",
       "            (1, 4),\n",
       "            (1, 5),\n",
       "            (1, 6),\n",
       "            (2, 0),\n",
       "            (2, 3),\n",
       "            (2, 4),\n",
       "            (2, 5),\n",
       "            (2, 6),\n",
       "            (2, 9),\n",
       "            (3, 0),\n",
       "            (3, 1),\n",
       "            (3, 2),\n",
       "            (3, 4),\n",
       "            (3, 6),\n",
       "            (3, 8),\n",
       "            (3, 9),\n",
       "            (4, 0),\n",
       "            (4, 4),\n",
       "            (4, 6),\n",
       "            (4, 7),\n",
       "            (5, 0),\n",
       "            (5, 1),\n",
       "            (5, 3),\n",
       "            (5, 4),\n",
       "            (5, 7),\n",
       "            (6, 0),\n",
       "            (6, 2),\n",
       "            (6, 6),\n",
       "            (6, 7),\n",
       "            (6, 8),\n",
       "            (6, 9),\n",
       "            (7, 1),\n",
       "            (7, 5),\n",
       "            (7, 6),\n",
       "            (7, 8),\n",
       "            (7, 9),\n",
       "            (8, 1),\n",
       "            (8, 2),\n",
       "            (8, 4),\n",
       "            (8, 5),\n",
       "            (8, 6),\n",
       "            (8, 7),\n",
       "            (8, 8),\n",
       "            (8, 9),\n",
       "            (9, 4)],\n",
       "           name=&#x27;sample&#x27;))</pre></div></li></ul></div></li><li class='xr-section-item'><input id='section-45769b5a-087c-471c-9707-a17f57284f24' class='xr-section-summary-in' type='checkbox' disabled ><label for='section-45769b5a-087c-471c-9707-a17f57284f24' class='xr-section-summary'  title='Expand/collapse section'>Attributes: <span>(0)</span></label><div class='xr-section-inline-details'></div><div class='xr-section-details'><dl class='xr-attrs'></dl></div></li></ul></div></div>"
      ],
      "text/plain": [
       "<xarray.DataArray (sample: 52)>\n",
       "array([1., 1., 1., 1., 1., 1., 1., 1., 1., 1., 1., 1., 1., 1., 1., 1., 1.,\n",
       "       1., 1., 1., 1., 1., 1., 1., 1., 1., 1., 1., 1., 1., 1., 1., 1., 1.,\n",
       "       1., 1., 1., 1., 1., 1., 1., 1., 1., 1., 1., 1., 1., 1., 1., 1., 1.,\n",
       "       1.])\n",
       "Coordinates:\n",
       "  * sample   (sample) object MultiIndex\n",
       "  * lat      (sample) int64 0 0 0 0 1 1 1 1 1 1 2 2 ... 7 7 7 8 8 8 8 8 8 8 8 9\n",
       "  * lon      (sample) int64 0 1 4 7 0 1 2 4 5 6 0 3 ... 6 8 9 1 2 4 5 6 7 8 9 4"
      ]
     },
     "execution_count": 93,
     "metadata": {},
     "output_type": "execute_result"
    }
   ],
   "source": [
    "m"
   ]
  },
  {
   "cell_type": "code",
   "execution_count": 68,
   "metadata": {},
   "outputs": [],
   "source": [
    "np.random.shuffle([1])"
   ]
  },
  {
   "cell_type": "code",
   "execution_count": 3,
   "metadata": {},
   "outputs": [],
   "source": [
    "import torch.multiprocessing as mp\n",
    "import queue"
   ]
  },
  {
   "cell_type": "code",
   "execution_count": 8,
   "metadata": {},
   "outputs": [],
   "source": [
    "q = mp.Manager().Queue()"
   ]
  },
  {
   "cell_type": "code",
   "execution_count": 9,
   "metadata": {},
   "outputs": [
    {
     "name": "stdout",
     "output_type": "stream",
     "text": [
      "empty\n"
     ]
    },
    {
     "ename": "",
     "evalue": "",
     "output_type": "error",
     "traceback": [
      "\u001b[1;31mThe Kernel crashed while executing code in the the current cell or a previous cell. Please review the code in the cell(s) to identify a possible cause of the failure. Click <a href='https://aka.ms/vscodeJupyterKernelCrash'>here</a> for more info. View Jupyter <a href='command:jupyter.viewOutput'>log</a> for further details."
     ]
    }
   ],
   "source": [
    "try:\n",
    "    q.get(block=False)\n",
    "    print('try')\n",
    "except queue.Empty:\n",
    "    print('empty')"
   ]
  },
  {
   "cell_type": "code",
   "execution_count": null,
   "metadata": {},
   "outputs": [],
   "source": []
  },
  {
   "cell_type": "code",
   "execution_count": 1,
   "metadata": {},
   "outputs": [],
   "source": [
    "import xarray as xr"
   ]
  },
  {
   "cell_type": "code",
   "execution_count": 2,
   "metadata": {},
   "outputs": [],
   "source": [
    "order = xr.open_dataset('../order.nc')\n",
    "count = xr.open_dataset('../count.nc')"
   ]
  },
  {
   "cell_type": "code",
   "execution_count": 4,
   "metadata": {},
   "outputs": [
    {
     "data": {
      "text/plain": [
       "<matplotlib.collections.QuadMesh at 0x7f50cce5df90>"
      ]
     },
     "execution_count": 4,
     "metadata": {},
     "output_type": "execute_result"
    },
    {
     "data": {
      "image/png": "[encoded data removed]",
      "text/plain": [
       "<Figure size 640x480 with 2 Axes>"
      ]
     },
     "metadata": {},
     "output_type": "display_data"
    }
   ],
   "source": [
    "order.fold_mask.plot(robust=True, cmap='jet')"
   ]
  },
  {
   "cell_type": "code",
   "execution_count": 3,
   "metadata": {},
   "outputs": [
    {
     "data": {
      "text/plain": [
       "<matplotlib.collections.QuadMesh at 0x7f50cbde5420>"
      ]
     },
     "execution_count": 3,
     "metadata": {},
     "output_type": "execute_result"
    },
    {
     "data": {
      "image/png": "[encoded data removed]",
      "text/plain": [
       "<Figure size 640x480 with 2 Axes>"
      ]
     },
     "metadata": {},
     "output_type": "display_data"
    }
   ],
   "source": [
    "count.fold_mask.plot()"
   ]
  },
  {
   "cell_type": "code",
   "execution_count": 4,
   "metadata": {},
   "outputs": [],
   "source": [
    "mask = xr.open_zarr('/Net/Groups/BGI/scratch/bkraft/drought_data/cube.zarr').fold_mask"
   ]
  },
  {
   "cell_type": "code",
   "execution_count": 5,
   "metadata": {},
   "outputs": [],
   "source": [
    "mask = mask.chunk({'lat': -1, 'lon': -1})"
   ]
  },
  {
   "cell_type": "code",
   "execution_count": 7,
   "metadata": {},
   "outputs": [],
   "source": [
    "mask = mask.load()"
   ]
  },
  {
   "cell_type": "code",
   "execution_count": null,
   "metadata": {},
   "outputs": [],
   "source": []
  },
  {
   "cell_type": "code",
   "execution_count": 14,
   "metadata": {},
   "outputs": [
    {
     "data": {
      "text/plain": [
       "<matplotlib.collections.QuadMesh at 0x7f1e5c79e0b0>"
      ]
     },
     "execution_count": 14,
     "metadata": {},
     "output_type": "execute_result"
    },
    {
     "data": {
      "image/png": "[encoded data removed]",
      "text/plain": [
       "<Figure size 640x480 with 2 Axes>"
      ]
     },
     "metadata": {},
     "output_type": "display_data"
    }
   ],
   "source": [
    "mask.isel(fold=0).plot()"
   ]
  },
  {
   "cell_type": "code",
   "execution_count": null,
   "metadata": {},
   "outputs": [],
   "source": []
  },
  {
   "cell_type": "code",
   "execution_count": null,
   "metadata": {},
   "outputs": [],
   "source": []
  },
  {
   "cell_type": "code",
   "execution_count": null,
   "metadata": {},
   "outputs": [],
   "source": []
  },
  {
   "cell_type": "code",
   "execution_count": 33,
   "metadata": {},
   "outputs": [],
   "source": [
    "import xarray as xr\n",
    "import numpy as np\n",
    "ds = xr.open_zarr('/Net/Groups/BGI/scratch/bkraft/drought_data/cube.zarr')\n",
    "\n",
    "mask = ds.mask.load()\n",
    "chunk_mask = (mask.coarsen(lat=20, lon=20).sum()) > 200\n",
    "lat_min, lon_min = np.argwhere(chunk_mask.values)[0] * 20\n",
    "lat_max, lon_max = (np.argwhere(chunk_mask.values)[0] + 1) * 20\n",
    "mask  = mask.isel(lat=slice(lat_min, lat_max), lon=slice(lon_min, lon_max)).load()\n",
    "data  = ds[['fvc']].isel(lat=slice(lat_min, lat_max), lon=slice(lon_min, lon_max), time=slice(1000, 1100)).load()"
   ]
  },
  {
   "cell_type": "code",
   "execution_count": 34,
   "metadata": {},
   "outputs": [
    {
     "data": {
      "text/plain": [
       "<matplotlib.collections.QuadMesh at 0x7f3ba411d3c0>"
      ]
     },
     "execution_count": 34,
     "metadata": {},
     "output_type": "execute_result"
    },
    {
     "data": {
      "image/png": "[encoded data removed]",
      "text/plain": [
       "<Figure size 640x480 with 2 Axes>"
      ]
     },
     "metadata": {},
     "output_type": "display_data"
    }
   ],
   "source": [
    "data.fvc.isel(time=-1).plot()"
   ]
  },
  {
   "cell_type": "code",
   "execution_count": 48,
   "metadata": {},
   "outputs": [],
   "source": [
    "class DataChunk(object):\n",
    "    \"\"\"Defines a single chunk and how to retreive data from it.\"\"\"\n",
    "    def __init__(\n",
    "            self,\n",
    "            data: xr.Dataset,\n",
    "            mask: xr.DataArray,\n",
    "            shuffle: bool = False) -> None:\n",
    "\n",
    "        data = data.load()\n",
    "        mask = mask.load()\n",
    "\n",
    "        mask = mask.stack(sample=('lat', 'lon')).reset_coords(drop=True).load()\n",
    "        data = data.stack(sample=('lat', 'lon')).reset_coords(drop=True)\n",
    "        self.data = data.where(mask, drop=True).load()\n",
    "\n",
    "        self.shuffle = shuffle\n",
    "\n",
    "        self.coords = self._get_coords()\n",
    "\n",
    "        self._current_sample = 0\n",
    "\n",
    "    def _get_coords(self):\n",
    "        coords = np.arange(len(self.data.sample))\n",
    "        if self.shuffle:\n",
    "            np.random.shuffle(coords)\n",
    "        return coords\n"
   ]
  },
  {
   "cell_type": "code",
   "execution_count": 49,
   "metadata": {},
   "outputs": [],
   "source": [
    "dc = DataChunk(data=data, mask=mask)"
   ]
  },
  {
   "cell_type": "code",
   "execution_count": 50,
   "metadata": {},
   "outputs": [
    {
     "data": {
      "text/plain": [
       "68.5"
      ]
     },
     "execution_count": 50,
     "metadata": {},
     "output_type": "execute_result"
    }
   ],
   "source": [
    "dc.data.isel(sample=0).lat.item()"
   ]
  },
  {
   "cell_type": "code",
   "execution_count": 51,
   "metadata": {},
   "outputs": [
    {
     "data": {
      "text/html": [
       "<div><svg style=\"position: absolute; width: 0; height: 0; overflow: hidden\">\n",
       "<defs>\n",
       "<symbol id=\"icon-database\" viewBox=\"0 0 32 32\">\n",
       "<path d=\"M16 0c-8.837 0-16 2.239-16 5v4c0 2.761 7.163 5 16 5s16-2.239 16-5v-4c0-2.761-7.163-5-16-5z\"></path>\n",
       "<path d=\"M16 17c-8.837 0-16-2.239-16-5v6c0 2.761 7.163 5 16 5s16-2.239 16-5v-6c0 2.761-7.163 5-16 5z\"></path>\n",
       "<path d=\"M16 26c-8.837 0-16-2.239-16-5v6c0 2.761 7.163 5 16 5s16-2.239 16-5v-6c0 2.761-7.163 5-16 5z\"></path>\n",
       "</symbol>\n",
       "<symbol id=\"icon-file-text2\" viewBox=\"0 0 32 32\">\n",
       "<path d=\"M28.681 7.159c-0.694-0.947-1.662-2.053-2.724-3.116s-2.169-2.030-3.116-2.724c-1.612-1.182-2.393-1.319-2.841-1.319h-15.5c-1.378 0-2.5 1.121-2.5 2.5v27c0 1.378 1.122 2.5 2.5 2.5h23c1.378 0 2.5-1.122 2.5-2.5v-19.5c0-0.448-0.137-1.23-1.319-2.841zM24.543 5.457c0.959 0.959 1.712 1.825 2.268 2.543h-4.811v-4.811c0.718 0.556 1.584 1.309 2.543 2.268zM28 29.5c0 0.271-0.229 0.5-0.5 0.5h-23c-0.271 0-0.5-0.229-0.5-0.5v-27c0-0.271 0.229-0.5 0.5-0.5 0 0 15.499-0 15.5 0v7c0 0.552 0.448 1 1 1h7v19.5z\"></path>\n",
       "<path d=\"M23 26h-14c-0.552 0-1-0.448-1-1s0.448-1 1-1h14c0.552 0 1 0.448 1 1s-0.448 1-1 1z\"></path>\n",
       "<path d=\"M23 22h-14c-0.552 0-1-0.448-1-1s0.448-1 1-1h14c0.552 0 1 0.448 1 1s-0.448 1-1 1z\"></path>\n",
       "<path d=\"M23 18h-14c-0.552 0-1-0.448-1-1s0.448-1 1-1h14c0.552 0 1 0.448 1 1s-0.448 1-1 1z\"></path>\n",
       "</symbol>\n",
       "</defs>\n",
       "</svg>\n",
       "<style>/* CSS stylesheet for displaying xarray objects in jupyterlab.\n",
       " *\n",
       " */\n",
       "\n",
       ":root {\n",
       "  --xr-font-color0: var(--jp-content-font-color0, rgba(0, 0, 0, 1));\n",
       "  --xr-font-color2: var(--jp-content-font-color2, rgba(0, 0, 0, 0.54));\n",
       "  --xr-font-color3: var(--jp-content-font-color3, rgba(0, 0, 0, 0.38));\n",
       "  --xr-border-color: var(--jp-border-color2, #e0e0e0);\n",
       "  --xr-disabled-color: var(--jp-layout-color3, #bdbdbd);\n",
       "  --xr-background-color: var(--jp-layout-color0, white);\n",
       "  --xr-background-color-row-even: var(--jp-layout-color1, white);\n",
       "  --xr-background-color-row-odd: var(--jp-layout-color2, #eeeeee);\n",
       "}\n",
       "\n",
       "html[theme=dark],\n",
       "body[data-theme=dark],\n",
       "body.vscode-dark {\n",
       "  --xr-font-color0: rgba(255, 255, 255, 1);\n",
       "  --xr-font-color2: rgba(255, 255, 255, 0.54);\n",
       "  --xr-font-color3: rgba(255, 255, 255, 0.38);\n",
       "  --xr-border-color: #1F1F1F;\n",
       "  --xr-disabled-color: #515151;\n",
       "  --xr-background-color: #111111;\n",
       "  --xr-background-color-row-even: #111111;\n",
       "  --xr-background-color-row-odd: #313131;\n",
       "}\n",
       "\n",
       ".xr-wrap {\n",
       "  display: block !important;\n",
       "  min-width: 300px;\n",
       "  max-width: 700px;\n",
       "}\n",
       "\n",
       ".xr-text-repr-fallback {\n",
       "  /* fallback to plain text repr when CSS is not injected (untrusted notebook) */\n",
       "  display: none;\n",
       "}\n",
       "\n",
       ".xr-header {\n",
       "  padding-top: 6px;\n",
       "  padding-bottom: 6px;\n",
       "  margin-bottom: 4px;\n",
       "  border-bottom: solid 1px var(--xr-border-color);\n",
       "}\n",
       "\n",
       ".xr-header > div,\n",
       ".xr-header > ul {\n",
       "  display: inline;\n",
       "  margin-top: 0;\n",
       "  margin-bottom: 0;\n",
       "}\n",
       "\n",
       ".xr-obj-type,\n",
       ".xr-array-name {\n",
       "  margin-left: 2px;\n",
       "  margin-right: 10px;\n",
       "}\n",
       "\n",
       ".xr-obj-type {\n",
       "  color: var(--xr-font-color2);\n",
       "}\n",
       "\n",
       ".xr-sections {\n",
       "  padding-left: 0 !important;\n",
       "  display: grid;\n",
       "  grid-template-columns: 150px auto auto 1fr 20px 20px;\n",
       "}\n",
       "\n",
       ".xr-section-item {\n",
       "  display: contents;\n",
       "}\n",
       "\n",
       ".xr-section-item input {\n",
       "  display: none;\n",
       "}\n",
       "\n",
       ".xr-section-item input + label {\n",
       "  color: var(--xr-disabled-color);\n",
       "}\n",
       "\n",
       ".xr-section-item input:enabled + label {\n",
       "  cursor: pointer;\n",
       "  color: var(--xr-font-color2);\n",
       "}\n",
       "\n",
       ".xr-section-item input:enabled + label:hover {\n",
       "  color: var(--xr-font-color0);\n",
       "}\n",
       "\n",
       ".xr-section-summary {\n",
       "  grid-column: 1;\n",
       "  color: var(--xr-font-color2);\n",
       "  font-weight: 500;\n",
       "}\n",
       "\n",
       ".xr-section-summary > span {\n",
       "  display: inline-block;\n",
       "  padding-left: 0.5em;\n",
       "}\n",
       "\n",
       ".xr-section-summary-in:disabled + label {\n",
       "  color: var(--xr-font-color2);\n",
       "}\n",
       "\n",
       ".xr-section-summary-in + label:before {\n",
       "  display: inline-block;\n",
       "  content: '►';\n",
       "  font-size: 11px;\n",
       "  width: 15px;\n",
       "  text-align: center;\n",
       "}\n",
       "\n",
       ".xr-section-summary-in:disabled + label:before {\n",
       "  color: var(--xr-disabled-color);\n",
       "}\n",
       "\n",
       ".xr-section-summary-in:checked + label:before {\n",
       "  content: '▼';\n",
       "}\n",
       "\n",
       ".xr-section-summary-in:checked + label > span {\n",
       "  display: none;\n",
       "}\n",
       "\n",
       ".xr-section-summary,\n",
       ".xr-section-inline-details {\n",
       "  padding-top: 4px;\n",
       "  padding-bottom: 4px;\n",
       "}\n",
       "\n",
       ".xr-section-inline-details {\n",
       "  grid-column: 2 / -1;\n",
       "}\n",
       "\n",
       ".xr-section-details {\n",
       "  display: none;\n",
       "  grid-column: 1 / -1;\n",
       "  margin-bottom: 5px;\n",
       "}\n",
       "\n",
       ".xr-section-summary-in:checked ~ .xr-section-details {\n",
       "  display: contents;\n",
       "}\n",
       "\n",
       ".xr-array-wrap {\n",
       "  grid-column: 1 / -1;\n",
       "  display: grid;\n",
       "  grid-template-columns: 20px auto;\n",
       "}\n",
       "\n",
       ".xr-array-wrap > label {\n",
       "  grid-column: 1;\n",
       "  vertical-align: top;\n",
       "}\n",
       "\n",
       ".xr-preview {\n",
       "  color: var(--xr-font-color3);\n",
       "}\n",
       "\n",
       ".xr-array-preview,\n",
       ".xr-array-data {\n",
       "  padding: 0 5px !important;\n",
       "  grid-column: 2;\n",
       "}\n",
       "\n",
       ".xr-array-data,\n",
       ".xr-array-in:checked ~ .xr-array-preview {\n",
       "  display: none;\n",
       "}\n",
       "\n",
       ".xr-array-in:checked ~ .xr-array-data,\n",
       ".xr-array-preview {\n",
       "  display: inline-block;\n",
       "}\n",
       "\n",
       ".xr-dim-list {\n",
       "  display: inline-block !important;\n",
       "  list-style: none;\n",
       "  padding: 0 !important;\n",
       "  margin: 0;\n",
       "}\n",
       "\n",
       ".xr-dim-list li {\n",
       "  display: inline-block;\n",
       "  padding: 0;\n",
       "  margin: 0;\n",
       "}\n",
       "\n",
       ".xr-dim-list:before {\n",
       "  content: '(';\n",
       "}\n",
       "\n",
       ".xr-dim-list:after {\n",
       "  content: ')';\n",
       "}\n",
       "\n",
       ".xr-dim-list li:not(:last-child):after {\n",
       "  content: ',';\n",
       "  padding-right: 5px;\n",
       "}\n",
       "\n",
       ".xr-has-index {\n",
       "  font-weight: bold;\n",
       "}\n",
       "\n",
       ".xr-var-list,\n",
       ".xr-var-item {\n",
       "  display: contents;\n",
       "}\n",
       "\n",
       ".xr-var-item > div,\n",
       ".xr-var-item label,\n",
       ".xr-var-item > .xr-var-name span {\n",
       "  background-color: var(--xr-background-color-row-even);\n",
       "  margin-bottom: 0;\n",
       "}\n",
       "\n",
       ".xr-var-item > .xr-var-name:hover span {\n",
       "  padding-right: 5px;\n",
       "}\n",
       "\n",
       ".xr-var-list > li:nth-child(odd) > div,\n",
       ".xr-var-list > li:nth-child(odd) > label,\n",
       ".xr-var-list > li:nth-child(odd) > .xr-var-name span {\n",
       "  background-color: var(--xr-background-color-row-odd);\n",
       "}\n",
       "\n",
       ".xr-var-name {\n",
       "  grid-column: 1;\n",
       "}\n",
       "\n",
       ".xr-var-dims {\n",
       "  grid-column: 2;\n",
       "}\n",
       "\n",
       ".xr-var-dtype {\n",
       "  grid-column: 3;\n",
       "  text-align: right;\n",
       "  color: var(--xr-font-color2);\n",
       "}\n",
       "\n",
       ".xr-var-preview {\n",
       "  grid-column: 4;\n",
       "}\n",
       "\n",
       ".xr-index-preview {\n",
       "  grid-column: 2 / 5;\n",
       "  color: var(--xr-font-color2);\n",
       "}\n",
       "\n",
       ".xr-var-name,\n",
       ".xr-var-dims,\n",
       ".xr-var-dtype,\n",
       ".xr-preview,\n",
       ".xr-attrs dt {\n",
       "  white-space: nowrap;\n",
       "  overflow: hidden;\n",
       "  text-overflow: ellipsis;\n",
       "  padding-right: 10px;\n",
       "}\n",
       "\n",
       ".xr-var-name:hover,\n",
       ".xr-var-dims:hover,\n",
       ".xr-var-dtype:hover,\n",
       ".xr-attrs dt:hover {\n",
       "  overflow: visible;\n",
       "  width: auto;\n",
       "  z-index: 1;\n",
       "}\n",
       "\n",
       ".xr-var-attrs,\n",
       ".xr-var-data,\n",
       ".xr-index-data {\n",
       "  display: none;\n",
       "  background-color: var(--xr-background-color) !important;\n",
       "  padding-bottom: 5px !important;\n",
       "}\n",
       "\n",
       ".xr-var-attrs-in:checked ~ .xr-var-attrs,\n",
       ".xr-var-data-in:checked ~ .xr-var-data,\n",
       ".xr-index-data-in:checked ~ .xr-index-data {\n",
       "  display: block;\n",
       "}\n",
       "\n",
       ".xr-var-data > table {\n",
       "  float: right;\n",
       "}\n",
       "\n",
       ".xr-var-name span,\n",
       ".xr-var-data,\n",
       ".xr-index-name div,\n",
       ".xr-index-data,\n",
       ".xr-attrs {\n",
       "  padding-left: 25px !important;\n",
       "}\n",
       "\n",
       ".xr-attrs,\n",
       ".xr-var-attrs,\n",
       ".xr-var-data,\n",
       ".xr-index-data {\n",
       "  grid-column: 1 / -1;\n",
       "}\n",
       "\n",
       "dl.xr-attrs {\n",
       "  padding: 0;\n",
       "  margin: 0;\n",
       "  display: grid;\n",
       "  grid-template-columns: 125px auto;\n",
       "}\n",
       "\n",
       ".xr-attrs dt,\n",
       ".xr-attrs dd {\n",
       "  padding: 0;\n",
       "  margin: 0;\n",
       "  float: left;\n",
       "  padding-right: 10px;\n",
       "  width: auto;\n",
       "}\n",
       "\n",
       ".xr-attrs dt {\n",
       "  font-weight: normal;\n",
       "  grid-column: 1;\n",
       "}\n",
       "\n",
       ".xr-attrs dt:hover span {\n",
       "  display: inline-block;\n",
       "  background: var(--xr-background-color);\n",
       "  padding-right: 10px;\n",
       "}\n",
       "\n",
       ".xr-attrs dd {\n",
       "  grid-column: 2;\n",
       "  white-space: pre-wrap;\n",
       "  word-break: break-all;\n",
       "}\n",
       "\n",
       ".xr-icon-database,\n",
       ".xr-icon-file-text2,\n",
       ".xr-no-icon {\n",
       "  display: inline-block;\n",
       "  vertical-align: middle;\n",
       "  width: 1em;\n",
       "  height: 1.5em !important;\n",
       "  stroke-width: 0;\n",
       "  stroke: currentColor;\n",
       "  fill: currentColor;\n",
       "}\n",
       "</style><pre class='xr-text-repr-fallback'>&lt;xarray.Dataset&gt;\n",
       "Dimensions:  (time: 100, sample: 273)\n",
       "Coordinates:\n",
       "  * time     (time) datetime64[ns] 2004-09-27 2004-09-28 ... 2005-01-04\n",
       "  * sample   (sample) object MultiIndex\n",
       "  * lat      (sample) float32 68.5 68.5 68.5 68.5 68.5 ... 66.6 66.6 66.6 66.6\n",
       "  * lon      (sample) float32 15.6 15.7 15.8 16.1 16.2 ... 17.1 17.2 17.3 17.4\n",
       "Data variables:\n",
       "    fvc      (time, sample) float32 2.98e-08 nan nan nan nan ... nan nan nan nan</pre><div class='xr-wrap' style='display:none'><div class='xr-header'><div class='xr-obj-type'>xarray.Dataset</div></div><ul class='xr-sections'><li class='xr-section-item'><input id='section-9d068781-f245-4037-872c-c802684e0a7f' class='xr-section-summary-in' type='checkbox' disabled ><label for='section-9d068781-f245-4037-872c-c802684e0a7f' class='xr-section-summary'  title='Expand/collapse section'>Dimensions:</label><div class='xr-section-inline-details'><ul class='xr-dim-list'><li><span class='xr-has-index'>time</span>: 100</li><li><span class='xr-has-index'>sample</span>: 273</li></ul></div><div class='xr-section-details'></div></li><li class='xr-section-item'><input id='section-109891d8-48c5-4426-aeea-1cd8e93b9acf' class='xr-section-summary-in' type='checkbox'  checked><label for='section-109891d8-48c5-4426-aeea-1cd8e93b9acf' class='xr-section-summary' >Coordinates: <span>(4)</span></label><div class='xr-section-inline-details'></div><div class='xr-section-details'><ul class='xr-var-list'><li class='xr-var-item'><div class='xr-var-name'><span class='xr-has-index'>time</span></div><div class='xr-var-dims'>(time)</div><div class='xr-var-dtype'>datetime64[ns]</div><div class='xr-var-preview xr-preview'>2004-09-27 ... 2005-01-04</div><input id='attrs-3cb0480b-2c1b-44ee-9e2c-fcb334724982' class='xr-var-attrs-in' type='checkbox' disabled><label for='attrs-3cb0480b-2c1b-44ee-9e2c-fcb334724982' title='Show/Hide attributes'><svg class='icon xr-icon-file-text2'><use xlink:href='#icon-file-text2'></use></svg></label><input id='data-631377a1-fca9-4987-8a44-4cbf49da24af' class='xr-var-data-in' type='checkbox'><label for='data-631377a1-fca9-4987-8a44-4cbf49da24af' title='Show/Hide data repr'><svg class='icon xr-icon-database'><use xlink:href='#icon-database'></use></svg></label><div class='xr-var-attrs'><dl class='xr-attrs'></dl></div><div class='xr-var-data'><pre>array([&#x27;2004-09-27T00:00:00.000000000&#x27;, &#x27;2004-09-28T00:00:00.000000000&#x27;,\n",
       "       &#x27;2004-09-29T00:00:00.000000000&#x27;, &#x27;2004-09-30T00:00:00.000000000&#x27;,\n",
       "       &#x27;2004-10-01T00:00:00.000000000&#x27;, &#x27;2004-10-02T00:00:00.000000000&#x27;,\n",
       "       &#x27;2004-10-03T00:00:00.000000000&#x27;, &#x27;2004-10-04T00:00:00.000000000&#x27;,\n",
       "       &#x27;2004-10-05T00:00:00.000000000&#x27;, &#x27;2004-10-06T00:00:00.000000000&#x27;,\n",
       "       &#x27;2004-10-07T00:00:00.000000000&#x27;, &#x27;2004-10-08T00:00:00.000000000&#x27;,\n",
       "       &#x27;2004-10-09T00:00:00.000000000&#x27;, &#x27;2004-10-10T00:00:00.000000000&#x27;,\n",
       "       &#x27;2004-10-11T00:00:00.000000000&#x27;, &#x27;2004-10-12T00:00:00.000000000&#x27;,\n",
       "       &#x27;2004-10-13T00:00:00.000000000&#x27;, &#x27;2004-10-14T00:00:00.000000000&#x27;,\n",
       "       &#x27;2004-10-15T00:00:00.000000000&#x27;, &#x27;2004-10-16T00:00:00.000000000&#x27;,\n",
       "       &#x27;2004-10-17T00:00:00.000000000&#x27;, &#x27;2004-10-18T00:00:00.000000000&#x27;,\n",
       "       &#x27;2004-10-19T00:00:00.000000000&#x27;, &#x27;2004-10-20T00:00:00.000000000&#x27;,\n",
       "       &#x27;2004-10-21T00:00:00.000000000&#x27;, &#x27;2004-10-22T00:00:00.000000000&#x27;,\n",
       "       &#x27;2004-10-23T00:00:00.000000000&#x27;, &#x27;2004-10-24T00:00:00.000000000&#x27;,\n",
       "       &#x27;2004-10-25T00:00:00.000000000&#x27;, &#x27;2004-10-26T00:00:00.000000000&#x27;,\n",
       "       &#x27;2004-10-27T00:00:00.000000000&#x27;, &#x27;2004-10-28T00:00:00.000000000&#x27;,\n",
       "       &#x27;2004-10-29T00:00:00.000000000&#x27;, &#x27;2004-10-30T00:00:00.000000000&#x27;,\n",
       "       &#x27;2004-10-31T00:00:00.000000000&#x27;, &#x27;2004-11-01T00:00:00.000000000&#x27;,\n",
       "       &#x27;2004-11-02T00:00:00.000000000&#x27;, &#x27;2004-11-03T00:00:00.000000000&#x27;,\n",
       "       &#x27;2004-11-04T00:00:00.000000000&#x27;, &#x27;2004-11-05T00:00:00.000000000&#x27;,\n",
       "       &#x27;2004-11-06T00:00:00.000000000&#x27;, &#x27;2004-11-07T00:00:00.000000000&#x27;,\n",
       "       &#x27;2004-11-08T00:00:00.000000000&#x27;, &#x27;2004-11-09T00:00:00.000000000&#x27;,\n",
       "       &#x27;2004-11-10T00:00:00.000000000&#x27;, &#x27;2004-11-11T00:00:00.000000000&#x27;,\n",
       "       &#x27;2004-11-12T00:00:00.000000000&#x27;, &#x27;2004-11-13T00:00:00.000000000&#x27;,\n",
       "       &#x27;2004-11-14T00:00:00.000000000&#x27;, &#x27;2004-11-15T00:00:00.000000000&#x27;,\n",
       "       &#x27;2004-11-16T00:00:00.000000000&#x27;, &#x27;2004-11-17T00:00:00.000000000&#x27;,\n",
       "       &#x27;2004-11-18T00:00:00.000000000&#x27;, &#x27;2004-11-19T00:00:00.000000000&#x27;,\n",
       "       &#x27;2004-11-20T00:00:00.000000000&#x27;, &#x27;2004-11-21T00:00:00.000000000&#x27;,\n",
       "       &#x27;2004-11-22T00:00:00.000000000&#x27;, &#x27;2004-11-23T00:00:00.000000000&#x27;,\n",
       "       &#x27;2004-11-24T00:00:00.000000000&#x27;, &#x27;2004-11-25T00:00:00.000000000&#x27;,\n",
       "       &#x27;2004-11-26T00:00:00.000000000&#x27;, &#x27;2004-11-27T00:00:00.000000000&#x27;,\n",
       "       &#x27;2004-11-28T00:00:00.000000000&#x27;, &#x27;2004-11-29T00:00:00.000000000&#x27;,\n",
       "       &#x27;2004-11-30T00:00:00.000000000&#x27;, &#x27;2004-12-01T00:00:00.000000000&#x27;,\n",
       "       &#x27;2004-12-02T00:00:00.000000000&#x27;, &#x27;2004-12-03T00:00:00.000000000&#x27;,\n",
       "       &#x27;2004-12-04T00:00:00.000000000&#x27;, &#x27;2004-12-05T00:00:00.000000000&#x27;,\n",
       "       &#x27;2004-12-06T00:00:00.000000000&#x27;, &#x27;2004-12-07T00:00:00.000000000&#x27;,\n",
       "       &#x27;2004-12-08T00:00:00.000000000&#x27;, &#x27;2004-12-09T00:00:00.000000000&#x27;,\n",
       "       &#x27;2004-12-10T00:00:00.000000000&#x27;, &#x27;2004-12-11T00:00:00.000000000&#x27;,\n",
       "       &#x27;2004-12-12T00:00:00.000000000&#x27;, &#x27;2004-12-13T00:00:00.000000000&#x27;,\n",
       "       &#x27;2004-12-14T00:00:00.000000000&#x27;, &#x27;2004-12-15T00:00:00.000000000&#x27;,\n",
       "       &#x27;2004-12-16T00:00:00.000000000&#x27;, &#x27;2004-12-17T00:00:00.000000000&#x27;,\n",
       "       &#x27;2004-12-18T00:00:00.000000000&#x27;, &#x27;2004-12-19T00:00:00.000000000&#x27;,\n",
       "       &#x27;2004-12-20T00:00:00.000000000&#x27;, &#x27;2004-12-21T00:00:00.000000000&#x27;,\n",
       "       &#x27;2004-12-22T00:00:00.000000000&#x27;, &#x27;2004-12-23T00:00:00.000000000&#x27;,\n",
       "       &#x27;2004-12-24T00:00:00.000000000&#x27;, &#x27;2004-12-25T00:00:00.000000000&#x27;,\n",
       "       &#x27;2004-12-26T00:00:00.000000000&#x27;, &#x27;2004-12-27T00:00:00.000000000&#x27;,\n",
       "       &#x27;2004-12-28T00:00:00.000000000&#x27;, &#x27;2004-12-29T00:00:00.000000000&#x27;,\n",
       "       &#x27;2004-12-30T00:00:00.000000000&#x27;, &#x27;2004-12-31T00:00:00.000000000&#x27;,\n",
       "       &#x27;2005-01-01T00:00:00.000000000&#x27;, &#x27;2005-01-02T00:00:00.000000000&#x27;,\n",
       "       &#x27;2005-01-03T00:00:00.000000000&#x27;, &#x27;2005-01-04T00:00:00.000000000&#x27;],\n",
       "      dtype=&#x27;datetime64[ns]&#x27;)</pre></div></li><li class='xr-var-item'><div class='xr-var-name'><span class='xr-has-index'>sample</span></div><div class='xr-var-dims'>(sample)</div><div class='xr-var-dtype'>object</div><div class='xr-var-preview xr-preview'>MultiIndex</div><input id='attrs-5e193799-7da0-447d-818e-1323c0977b5f' class='xr-var-attrs-in' type='checkbox' disabled><label for='attrs-5e193799-7da0-447d-818e-1323c0977b5f' title='Show/Hide attributes'><svg class='icon xr-icon-file-text2'><use xlink:href='#icon-file-text2'></use></svg></label><input id='data-836b0452-2919-4570-9064-8b187b3d5d86' class='xr-var-data-in' type='checkbox'><label for='data-836b0452-2919-4570-9064-8b187b3d5d86' title='Show/Hide data repr'><svg class='icon xr-icon-database'><use xlink:href='#icon-database'></use></svg></label><div class='xr-var-attrs'><dl class='xr-attrs'></dl></div><div class='xr-var-data'><pre>array([(68.5, 15.600000381469727), (68.5, 15.699999809265137),\n",
       "       (68.5, 15.800000190734863), ..., (66.5999984741211, 17.200000762939453),\n",
       "       (66.5999984741211, 17.299999237060547),\n",
       "       (66.5999984741211, 17.399999618530273)], dtype=object)</pre></div></li><li class='xr-var-item'><div class='xr-var-name'><span class='xr-has-index'>lat</span></div><div class='xr-var-dims'>(sample)</div><div class='xr-var-dtype'>float32</div><div class='xr-var-preview xr-preview'>68.5 68.5 68.5 ... 66.6 66.6 66.6</div><input id='attrs-a5108d67-a895-4a14-b7da-10db7535d901' class='xr-var-attrs-in' type='checkbox' ><label for='attrs-a5108d67-a895-4a14-b7da-10db7535d901' title='Show/Hide attributes'><svg class='icon xr-icon-file-text2'><use xlink:href='#icon-file-text2'></use></svg></label><input id='data-9cd5b583-43ef-449e-8feb-aebd88a4adf6' class='xr-var-data-in' type='checkbox'><label for='data-9cd5b583-43ef-449e-8feb-aebd88a4adf6' title='Show/Hide data repr'><svg class='icon xr-icon-database'><use xlink:href='#icon-database'></use></svg></label><div class='xr-var-attrs'><dl class='xr-attrs'><dt><span>axis :</span></dt><dd>Y</dd><dt><span>long_name :</span></dt><dd>latitude</dd><dt><span>standard_name :</span></dt><dd>latitude</dd><dt><span>units :</span></dt><dd>degrees_north</dd></dl></div><div class='xr-var-data'><pre>array([68.5     , 68.5     , 68.5     , ..., 66.599998, 66.599998, 66.599998])</pre></div></li><li class='xr-var-item'><div class='xr-var-name'><span class='xr-has-index'>lon</span></div><div class='xr-var-dims'>(sample)</div><div class='xr-var-dtype'>float32</div><div class='xr-var-preview xr-preview'>15.6 15.7 15.8 ... 17.2 17.3 17.4</div><input id='attrs-07055bb5-3de7-4820-804f-28ca342920c1' class='xr-var-attrs-in' type='checkbox' ><label for='attrs-07055bb5-3de7-4820-804f-28ca342920c1' title='Show/Hide attributes'><svg class='icon xr-icon-file-text2'><use xlink:href='#icon-file-text2'></use></svg></label><input id='data-970ccb99-1577-4786-a360-35ce12d72e53' class='xr-var-data-in' type='checkbox'><label for='data-970ccb99-1577-4786-a360-35ce12d72e53' title='Show/Hide data repr'><svg class='icon xr-icon-database'><use xlink:href='#icon-database'></use></svg></label><div class='xr-var-attrs'><dl class='xr-attrs'><dt><span>axis :</span></dt><dd>X</dd><dt><span>long_name :</span></dt><dd>longitude</dd><dt><span>standard_name :</span></dt><dd>longitude</dd><dt><span>units :</span></dt><dd>degrees_east</dd></dl></div><div class='xr-var-data'><pre>array([15.6     , 15.7     , 15.8     , ..., 17.200001, 17.299999, 17.4     ])</pre></div></li></ul></div></li><li class='xr-section-item'><input id='section-ab92875f-5228-48c5-8cec-f72348f0cf65' class='xr-section-summary-in' type='checkbox'  checked><label for='section-ab92875f-5228-48c5-8cec-f72348f0cf65' class='xr-section-summary' >Data variables: <span>(1)</span></label><div class='xr-section-inline-details'></div><div class='xr-section-details'><ul class='xr-var-list'><li class='xr-var-item'><div class='xr-var-name'><span>fvc</span></div><div class='xr-var-dims'>(time, sample)</div><div class='xr-var-dtype'>float32</div><div class='xr-var-preview xr-preview'>2.98e-08 nan nan ... nan nan nan</div><input id='attrs-fec6d28d-6d9e-41cc-8b74-df7565c32f46' class='xr-var-attrs-in' type='checkbox' ><label for='attrs-fec6d28d-6d9e-41cc-8b74-df7565c32f46' title='Show/Hide attributes'><svg class='icon xr-icon-file-text2'><use xlink:href='#icon-file-text2'></use></svg></label><input id='data-57771161-7bcf-496a-a248-2cf1f0ffda85' class='xr-var-data-in' type='checkbox'><label for='data-57771161-7bcf-496a-a248-2cf1f0ffda85' title='Show/Hide data repr'><svg class='icon xr-icon-database'><use xlink:href='#icon-database'></use></svg></label><div class='xr-var-attrs'><dl class='xr-attrs'><dt><span>data_max :</span></dt><dd>0.9899999499320984</dd><dt><span>data_min :</span></dt><dd>0.0</dd><dt><span>long_name :</span></dt><dd>fraction</dd><dt><span>units :</span></dt><dd>-</dd></dl></div><div class='xr-var-data'><pre>array([[2.9802322e-08,           nan,           nan, ...,           nan,\n",
       "                  nan,           nan],\n",
       "       [2.9802322e-08,           nan,           nan, ...,           nan,\n",
       "                  nan,           nan],\n",
       "       [2.9802322e-08,           nan,           nan, ...,           nan,\n",
       "                  nan,           nan],\n",
       "       ...,\n",
       "       [          nan,           nan,           nan, ...,           nan,\n",
       "                  nan,           nan],\n",
       "       [          nan,           nan,           nan, ...,           nan,\n",
       "                  nan,           nan],\n",
       "       [          nan,           nan,           nan, ...,           nan,\n",
       "                  nan,           nan]], dtype=float32)</pre></div></li></ul></div></li><li class='xr-section-item'><input id='section-f5b8a04d-05db-423d-abe7-5e3b7b6d9174' class='xr-section-summary-in' type='checkbox'  ><label for='section-f5b8a04d-05db-423d-abe7-5e3b7b6d9174' class='xr-section-summary' >Indexes: <span>(2)</span></label><div class='xr-section-inline-details'></div><div class='xr-section-details'><ul class='xr-var-list'><li class='xr-var-item'><div class='xr-index-name'><div>time</div></div><div class='xr-index-preview'>PandasIndex</div><div></div><input id='index-915ad515-e3dd-4622-8ba0-c72f8f6d82db' class='xr-index-data-in' type='checkbox'/><label for='index-915ad515-e3dd-4622-8ba0-c72f8f6d82db' title='Show/Hide index repr'><svg class='icon xr-icon-database'><use xlink:href='#icon-database'></use></svg></label><div class='xr-index-data'><pre>PandasIndex(DatetimeIndex([&#x27;2004-09-27&#x27;, &#x27;2004-09-28&#x27;, &#x27;2004-09-29&#x27;, &#x27;2004-09-30&#x27;,\n",
       "               &#x27;2004-10-01&#x27;, &#x27;2004-10-02&#x27;, &#x27;2004-10-03&#x27;, &#x27;2004-10-04&#x27;,\n",
       "               &#x27;2004-10-05&#x27;, &#x27;2004-10-06&#x27;, &#x27;2004-10-07&#x27;, &#x27;2004-10-08&#x27;,\n",
       "               &#x27;2004-10-09&#x27;, &#x27;2004-10-10&#x27;, &#x27;2004-10-11&#x27;, &#x27;2004-10-12&#x27;,\n",
       "               &#x27;2004-10-13&#x27;, &#x27;2004-10-14&#x27;, &#x27;2004-10-15&#x27;, &#x27;2004-10-16&#x27;,\n",
       "               &#x27;2004-10-17&#x27;, &#x27;2004-10-18&#x27;, &#x27;2004-10-19&#x27;, &#x27;2004-10-20&#x27;,\n",
       "               &#x27;2004-10-21&#x27;, &#x27;2004-10-22&#x27;, &#x27;2004-10-23&#x27;, &#x27;2004-10-24&#x27;,\n",
       "               &#x27;2004-10-25&#x27;, &#x27;2004-10-26&#x27;, &#x27;2004-10-27&#x27;, &#x27;2004-10-28&#x27;,\n",
       "               &#x27;2004-10-29&#x27;, &#x27;2004-10-30&#x27;, &#x27;2004-10-31&#x27;, &#x27;2004-11-01&#x27;,\n",
       "               &#x27;2004-11-02&#x27;, &#x27;2004-11-03&#x27;, &#x27;2004-11-04&#x27;, &#x27;2004-11-05&#x27;,\n",
       "               &#x27;2004-11-06&#x27;, &#x27;2004-11-07&#x27;, &#x27;2004-11-08&#x27;, &#x27;2004-11-09&#x27;,\n",
       "               &#x27;2004-11-10&#x27;, &#x27;2004-11-11&#x27;, &#x27;2004-11-12&#x27;, &#x27;2004-11-13&#x27;,\n",
       "               &#x27;2004-11-14&#x27;, &#x27;2004-11-15&#x27;, &#x27;2004-11-16&#x27;, &#x27;2004-11-17&#x27;,\n",
       "               &#x27;2004-11-18&#x27;, &#x27;2004-11-19&#x27;, &#x27;2004-11-20&#x27;, &#x27;2004-11-21&#x27;,\n",
       "               &#x27;2004-11-22&#x27;, &#x27;2004-11-23&#x27;, &#x27;2004-11-24&#x27;, &#x27;2004-11-25&#x27;,\n",
       "               &#x27;2004-11-26&#x27;, &#x27;2004-11-27&#x27;, &#x27;2004-11-28&#x27;, &#x27;2004-11-29&#x27;,\n",
       "               &#x27;2004-11-30&#x27;, &#x27;2004-12-01&#x27;, &#x27;2004-12-02&#x27;, &#x27;2004-12-03&#x27;,\n",
       "               &#x27;2004-12-04&#x27;, &#x27;2004-12-05&#x27;, &#x27;2004-12-06&#x27;, &#x27;2004-12-07&#x27;,\n",
       "               &#x27;2004-12-08&#x27;, &#x27;2004-12-09&#x27;, &#x27;2004-12-10&#x27;, &#x27;2004-12-11&#x27;,\n",
       "               &#x27;2004-12-12&#x27;, &#x27;2004-12-13&#x27;, &#x27;2004-12-14&#x27;, &#x27;2004-12-15&#x27;,\n",
       "               &#x27;2004-12-16&#x27;, &#x27;2004-12-17&#x27;, &#x27;2004-12-18&#x27;, &#x27;2004-12-19&#x27;,\n",
       "               &#x27;2004-12-20&#x27;, &#x27;2004-12-21&#x27;, &#x27;2004-12-22&#x27;, &#x27;2004-12-23&#x27;,\n",
       "               &#x27;2004-12-24&#x27;, &#x27;2004-12-25&#x27;, &#x27;2004-12-26&#x27;, &#x27;2004-12-27&#x27;,\n",
       "               &#x27;2004-12-28&#x27;, &#x27;2004-12-29&#x27;, &#x27;2004-12-30&#x27;, &#x27;2004-12-31&#x27;,\n",
       "               &#x27;2005-01-01&#x27;, &#x27;2005-01-02&#x27;, &#x27;2005-01-03&#x27;, &#x27;2005-01-04&#x27;],\n",
       "              dtype=&#x27;datetime64[ns]&#x27;, name=&#x27;time&#x27;, freq=None))</pre></div></li><li class='xr-var-item'><div class='xr-index-name'><div>sample<br>lat<br>lon</div></div><div class='xr-index-preview'>PandasMultiIndex</div><div></div><input id='index-b3859c51-bd74-4e77-90f4-62e032a300ef' class='xr-index-data-in' type='checkbox'/><label for='index-b3859c51-bd74-4e77-90f4-62e032a300ef' title='Show/Hide index repr'><svg class='icon xr-icon-database'><use xlink:href='#icon-database'></use></svg></label><div class='xr-index-data'><pre>PandasIndex(MultiIndex([(            68.5, 15.600000381469727),\n",
       "            (            68.5, 15.699999809265137),\n",
       "            (            68.5, 15.800000190734863),\n",
       "            (            68.5, 16.100000381469727),\n",
       "            (            68.5, 16.200000762939453),\n",
       "            (            68.5, 16.299999237060547),\n",
       "            (            68.5, 16.700000762939453),\n",
       "            (            68.5, 16.799999237060547),\n",
       "            (            68.5, 16.899999618530273),\n",
       "            (            68.5,               17.0),\n",
       "            ...\n",
       "            (66.5999984741211,               16.5),\n",
       "            (66.5999984741211, 16.600000381469727),\n",
       "            (66.5999984741211, 16.700000762939453),\n",
       "            (66.5999984741211, 16.799999237060547),\n",
       "            (66.5999984741211, 16.899999618530273),\n",
       "            (66.5999984741211,               17.0),\n",
       "            (66.5999984741211, 17.100000381469727),\n",
       "            (66.5999984741211, 17.200000762939453),\n",
       "            (66.5999984741211, 17.299999237060547),\n",
       "            (66.5999984741211, 17.399999618530273)],\n",
       "           name=&#x27;sample&#x27;, length=273))</pre></div></li></ul></div></li><li class='xr-section-item'><input id='section-1f777343-ba5d-4d02-9f80-df517c460d8c' class='xr-section-summary-in' type='checkbox' disabled ><label for='section-1f777343-ba5d-4d02-9f80-df517c460d8c' class='xr-section-summary'  title='Expand/collapse section'>Attributes: <span>(0)</span></label><div class='xr-section-inline-details'></div><div class='xr-section-details'><dl class='xr-attrs'></dl></div></li></ul></div></div>"
      ],
      "text/plain": [
       "<xarray.Dataset>\n",
       "Dimensions:  (time: 100, sample: 273)\n",
       "Coordinates:\n",
       "  * time     (time) datetime64[ns] 2004-09-27 2004-09-28 ... 2005-01-04\n",
       "  * sample   (sample) object MultiIndex\n",
       "  * lat      (sample) float32 68.5 68.5 68.5 68.5 68.5 ... 66.6 66.6 66.6 66.6\n",
       "  * lon      (sample) float32 15.6 15.7 15.8 16.1 16.2 ... 17.1 17.2 17.3 17.4\n",
       "Data variables:\n",
       "    fvc      (time, sample) float32 2.98e-08 nan nan nan nan ... nan nan nan nan"
      ]
     },
     "execution_count": 51,
     "metadata": {},
     "output_type": "execute_result"
    }
   ],
   "source": [
    "dc.data"
   ]
  },
  {
   "cell_type": "code",
   "execution_count": 37,
   "metadata": {},
   "outputs": [
    {
     "data": {
      "text/html": [
       "<div><svg style=\"position: absolute; width: 0; height: 0; overflow: hidden\">\n",
       "<defs>\n",
       "<symbol id=\"icon-database\" viewBox=\"0 0 32 32\">\n",
       "<path d=\"M16 0c-8.837 0-16 2.239-16 5v4c0 2.761 7.163 5 16 5s16-2.239 16-5v-4c0-2.761-7.163-5-16-5z\"></path>\n",
       "<path d=\"M16 17c-8.837 0-16-2.239-16-5v6c0 2.761 7.163 5 16 5s16-2.239 16-5v-6c0 2.761-7.163 5-16 5z\"></path>\n",
       "<path d=\"M16 26c-8.837 0-16-2.239-16-5v6c0 2.761 7.163 5 16 5s16-2.239 16-5v-6c0 2.761-7.163 5-16 5z\"></path>\n",
       "</symbol>\n",
       "<symbol id=\"icon-file-text2\" viewBox=\"0 0 32 32\">\n",
       "<path d=\"M28.681 7.159c-0.694-0.947-1.662-2.053-2.724-3.116s-2.169-2.030-3.116-2.724c-1.612-1.182-2.393-1.319-2.841-1.319h-15.5c-1.378 0-2.5 1.121-2.5 2.5v27c0 1.378 1.122 2.5 2.5 2.5h23c1.378 0 2.5-1.122 2.5-2.5v-19.5c0-0.448-0.137-1.23-1.319-2.841zM24.543 5.457c0.959 0.959 1.712 1.825 2.268 2.543h-4.811v-4.811c0.718 0.556 1.584 1.309 2.543 2.268zM28 29.5c0 0.271-0.229 0.5-0.5 0.5h-23c-0.271 0-0.5-0.229-0.5-0.5v-27c0-0.271 0.229-0.5 0.5-0.5 0 0 15.499-0 15.5 0v7c0 0.552 0.448 1 1 1h7v19.5z\"></path>\n",
       "<path d=\"M23 26h-14c-0.552 0-1-0.448-1-1s0.448-1 1-1h14c0.552 0 1 0.448 1 1s-0.448 1-1 1z\"></path>\n",
       "<path d=\"M23 22h-14c-0.552 0-1-0.448-1-1s0.448-1 1-1h14c0.552 0 1 0.448 1 1s-0.448 1-1 1z\"></path>\n",
       "<path d=\"M23 18h-14c-0.552 0-1-0.448-1-1s0.448-1 1-1h14c0.552 0 1 0.448 1 1s-0.448 1-1 1z\"></path>\n",
       "</symbol>\n",
       "</defs>\n",
       "</svg>\n",
       "<style>/* CSS stylesheet for displaying xarray objects in jupyterlab.\n",
       " *\n",
       " */\n",
       "\n",
       ":root {\n",
       "  --xr-font-color0: var(--jp-content-font-color0, rgba(0, 0, 0, 1));\n",
       "  --xr-font-color2: var(--jp-content-font-color2, rgba(0, 0, 0, 0.54));\n",
       "  --xr-font-color3: var(--jp-content-font-color3, rgba(0, 0, 0, 0.38));\n",
       "  --xr-border-color: var(--jp-border-color2, #e0e0e0);\n",
       "  --xr-disabled-color: var(--jp-layout-color3, #bdbdbd);\n",
       "  --xr-background-color: var(--jp-layout-color0, white);\n",
       "  --xr-background-color-row-even: var(--jp-layout-color1, white);\n",
       "  --xr-background-color-row-odd: var(--jp-layout-color2, #eeeeee);\n",
       "}\n",
       "\n",
       "html[theme=dark],\n",
       "body[data-theme=dark],\n",
       "body.vscode-dark {\n",
       "  --xr-font-color0: rgba(255, 255, 255, 1);\n",
       "  --xr-font-color2: rgba(255, 255, 255, 0.54);\n",
       "  --xr-font-color3: rgba(255, 255, 255, 0.38);\n",
       "  --xr-border-color: #1F1F1F;\n",
       "  --xr-disabled-color: #515151;\n",
       "  --xr-background-color: #111111;\n",
       "  --xr-background-color-row-even: #111111;\n",
       "  --xr-background-color-row-odd: #313131;\n",
       "}\n",
       "\n",
       ".xr-wrap {\n",
       "  display: block !important;\n",
       "  min-width: 300px;\n",
       "  max-width: 700px;\n",
       "}\n",
       "\n",
       ".xr-text-repr-fallback {\n",
       "  /* fallback to plain text repr when CSS is not injected (untrusted notebook) */\n",
       "  display: none;\n",
       "}\n",
       "\n",
       ".xr-header {\n",
       "  padding-top: 6px;\n",
       "  padding-bottom: 6px;\n",
       "  margin-bottom: 4px;\n",
       "  border-bottom: solid 1px var(--xr-border-color);\n",
       "}\n",
       "\n",
       ".xr-header > div,\n",
       ".xr-header > ul {\n",
       "  display: inline;\n",
       "  margin-top: 0;\n",
       "  margin-bottom: 0;\n",
       "}\n",
       "\n",
       ".xr-obj-type,\n",
       ".xr-array-name {\n",
       "  margin-left: 2px;\n",
       "  margin-right: 10px;\n",
       "}\n",
       "\n",
       ".xr-obj-type {\n",
       "  color: var(--xr-font-color2);\n",
       "}\n",
       "\n",
       ".xr-sections {\n",
       "  padding-left: 0 !important;\n",
       "  display: grid;\n",
       "  grid-template-columns: 150px auto auto 1fr 20px 20px;\n",
       "}\n",
       "\n",
       ".xr-section-item {\n",
       "  display: contents;\n",
       "}\n",
       "\n",
       ".xr-section-item input {\n",
       "  display: none;\n",
       "}\n",
       "\n",
       ".xr-section-item input + label {\n",
       "  color: var(--xr-disabled-color);\n",
       "}\n",
       "\n",
       ".xr-section-item input:enabled + label {\n",
       "  cursor: pointer;\n",
       "  color: var(--xr-font-color2);\n",
       "}\n",
       "\n",
       ".xr-section-item input:enabled + label:hover {\n",
       "  color: var(--xr-font-color0);\n",
       "}\n",
       "\n",
       ".xr-section-summary {\n",
       "  grid-column: 1;\n",
       "  color: var(--xr-font-color2);\n",
       "  font-weight: 500;\n",
       "}\n",
       "\n",
       ".xr-section-summary > span {\n",
       "  display: inline-block;\n",
       "  padding-left: 0.5em;\n",
       "}\n",
       "\n",
       ".xr-section-summary-in:disabled + label {\n",
       "  color: var(--xr-font-color2);\n",
       "}\n",
       "\n",
       ".xr-section-summary-in + label:before {\n",
       "  display: inline-block;\n",
       "  content: '►';\n",
       "  font-size: 11px;\n",
       "  width: 15px;\n",
       "  text-align: center;\n",
       "}\n",
       "\n",
       ".xr-section-summary-in:disabled + label:before {\n",
       "  color: var(--xr-disabled-color);\n",
       "}\n",
       "\n",
       ".xr-section-summary-in:checked + label:before {\n",
       "  content: '▼';\n",
       "}\n",
       "\n",
       ".xr-section-summary-in:checked + label > span {\n",
       "  display: none;\n",
       "}\n",
       "\n",
       ".xr-section-summary,\n",
       ".xr-section-inline-details {\n",
       "  padding-top: 4px;\n",
       "  padding-bottom: 4px;\n",
       "}\n",
       "\n",
       ".xr-section-inline-details {\n",
       "  grid-column: 2 / -1;\n",
       "}\n",
       "\n",
       ".xr-section-details {\n",
       "  display: none;\n",
       "  grid-column: 1 / -1;\n",
       "  margin-bottom: 5px;\n",
       "}\n",
       "\n",
       ".xr-section-summary-in:checked ~ .xr-section-details {\n",
       "  display: contents;\n",
       "}\n",
       "\n",
       ".xr-array-wrap {\n",
       "  grid-column: 1 / -1;\n",
       "  display: grid;\n",
       "  grid-template-columns: 20px auto;\n",
       "}\n",
       "\n",
       ".xr-array-wrap > label {\n",
       "  grid-column: 1;\n",
       "  vertical-align: top;\n",
       "}\n",
       "\n",
       ".xr-preview {\n",
       "  color: var(--xr-font-color3);\n",
       "}\n",
       "\n",
       ".xr-array-preview,\n",
       ".xr-array-data {\n",
       "  padding: 0 5px !important;\n",
       "  grid-column: 2;\n",
       "}\n",
       "\n",
       ".xr-array-data,\n",
       ".xr-array-in:checked ~ .xr-array-preview {\n",
       "  display: none;\n",
       "}\n",
       "\n",
       ".xr-array-in:checked ~ .xr-array-data,\n",
       ".xr-array-preview {\n",
       "  display: inline-block;\n",
       "}\n",
       "\n",
       ".xr-dim-list {\n",
       "  display: inline-block !important;\n",
       "  list-style: none;\n",
       "  padding: 0 !important;\n",
       "  margin: 0;\n",
       "}\n",
       "\n",
       ".xr-dim-list li {\n",
       "  display: inline-block;\n",
       "  padding: 0;\n",
       "  margin: 0;\n",
       "}\n",
       "\n",
       ".xr-dim-list:before {\n",
       "  content: '(';\n",
       "}\n",
       "\n",
       ".xr-dim-list:after {\n",
       "  content: ')';\n",
       "}\n",
       "\n",
       ".xr-dim-list li:not(:last-child):after {\n",
       "  content: ',';\n",
       "  padding-right: 5px;\n",
       "}\n",
       "\n",
       ".xr-has-index {\n",
       "  font-weight: bold;\n",
       "}\n",
       "\n",
       ".xr-var-list,\n",
       ".xr-var-item {\n",
       "  display: contents;\n",
       "}\n",
       "\n",
       ".xr-var-item > div,\n",
       ".xr-var-item label,\n",
       ".xr-var-item > .xr-var-name span {\n",
       "  background-color: var(--xr-background-color-row-even);\n",
       "  margin-bottom: 0;\n",
       "}\n",
       "\n",
       ".xr-var-item > .xr-var-name:hover span {\n",
       "  padding-right: 5px;\n",
       "}\n",
       "\n",
       ".xr-var-list > li:nth-child(odd) > div,\n",
       ".xr-var-list > li:nth-child(odd) > label,\n",
       ".xr-var-list > li:nth-child(odd) > .xr-var-name span {\n",
       "  background-color: var(--xr-background-color-row-odd);\n",
       "}\n",
       "\n",
       ".xr-var-name {\n",
       "  grid-column: 1;\n",
       "}\n",
       "\n",
       ".xr-var-dims {\n",
       "  grid-column: 2;\n",
       "}\n",
       "\n",
       ".xr-var-dtype {\n",
       "  grid-column: 3;\n",
       "  text-align: right;\n",
       "  color: var(--xr-font-color2);\n",
       "}\n",
       "\n",
       ".xr-var-preview {\n",
       "  grid-column: 4;\n",
       "}\n",
       "\n",
       ".xr-index-preview {\n",
       "  grid-column: 2 / 5;\n",
       "  color: var(--xr-font-color2);\n",
       "}\n",
       "\n",
       ".xr-var-name,\n",
       ".xr-var-dims,\n",
       ".xr-var-dtype,\n",
       ".xr-preview,\n",
       ".xr-attrs dt {\n",
       "  white-space: nowrap;\n",
       "  overflow: hidden;\n",
       "  text-overflow: ellipsis;\n",
       "  padding-right: 10px;\n",
       "}\n",
       "\n",
       ".xr-var-name:hover,\n",
       ".xr-var-dims:hover,\n",
       ".xr-var-dtype:hover,\n",
       ".xr-attrs dt:hover {\n",
       "  overflow: visible;\n",
       "  width: auto;\n",
       "  z-index: 1;\n",
       "}\n",
       "\n",
       ".xr-var-attrs,\n",
       ".xr-var-data,\n",
       ".xr-index-data {\n",
       "  display: none;\n",
       "  background-color: var(--xr-background-color) !important;\n",
       "  padding-bottom: 5px !important;\n",
       "}\n",
       "\n",
       ".xr-var-attrs-in:checked ~ .xr-var-attrs,\n",
       ".xr-var-data-in:checked ~ .xr-var-data,\n",
       ".xr-index-data-in:checked ~ .xr-index-data {\n",
       "  display: block;\n",
       "}\n",
       "\n",
       ".xr-var-data > table {\n",
       "  float: right;\n",
       "}\n",
       "\n",
       ".xr-var-name span,\n",
       ".xr-var-data,\n",
       ".xr-index-name div,\n",
       ".xr-index-data,\n",
       ".xr-attrs {\n",
       "  padding-left: 25px !important;\n",
       "}\n",
       "\n",
       ".xr-attrs,\n",
       ".xr-var-attrs,\n",
       ".xr-var-data,\n",
       ".xr-index-data {\n",
       "  grid-column: 1 / -1;\n",
       "}\n",
       "\n",
       "dl.xr-attrs {\n",
       "  padding: 0;\n",
       "  margin: 0;\n",
       "  display: grid;\n",
       "  grid-template-columns: 125px auto;\n",
       "}\n",
       "\n",
       ".xr-attrs dt,\n",
       ".xr-attrs dd {\n",
       "  padding: 0;\n",
       "  margin: 0;\n",
       "  float: left;\n",
       "  padding-right: 10px;\n",
       "  width: auto;\n",
       "}\n",
       "\n",
       ".xr-attrs dt {\n",
       "  font-weight: normal;\n",
       "  grid-column: 1;\n",
       "}\n",
       "\n",
       ".xr-attrs dt:hover span {\n",
       "  display: inline-block;\n",
       "  background: var(--xr-background-color);\n",
       "  padding-right: 10px;\n",
       "}\n",
       "\n",
       ".xr-attrs dd {\n",
       "  grid-column: 2;\n",
       "  white-space: pre-wrap;\n",
       "  word-break: break-all;\n",
       "}\n",
       "\n",
       ".xr-icon-database,\n",
       ".xr-icon-file-text2,\n",
       ".xr-no-icon {\n",
       "  display: inline-block;\n",
       "  vertical-align: middle;\n",
       "  width: 1em;\n",
       "  height: 1.5em !important;\n",
       "  stroke-width: 0;\n",
       "  stroke: currentColor;\n",
       "  fill: currentColor;\n",
       "}\n",
       "</style><pre class='xr-text-repr-fallback'>&lt;xarray.Dataset&gt;\n",
       "Dimensions:  (time: 100, sample: 273)\n",
       "Coordinates:\n",
       "  * time     (time) datetime64[ns] 2004-09-27 2004-09-28 ... 2005-01-04\n",
       "  * sample   (sample) object MultiIndex\n",
       "  * lat      (sample) float32 68.5 68.5 68.5 68.5 68.5 ... 66.6 66.6 66.6 66.6\n",
       "  * lon      (sample) float32 15.6 15.7 15.8 16.1 16.2 ... 17.1 17.2 17.3 17.4\n",
       "Data variables:\n",
       "    fvc      (time, sample) float32 2.98e-08 nan nan nan nan ... nan nan nan nan</pre><div class='xr-wrap' style='display:none'><div class='xr-header'><div class='xr-obj-type'>xarray.Dataset</div></div><ul class='xr-sections'><li class='xr-section-item'><input id='section-aa457ab2-cacd-4886-b71e-1f16c7f7fca5' class='xr-section-summary-in' type='checkbox' disabled ><label for='section-aa457ab2-cacd-4886-b71e-1f16c7f7fca5' class='xr-section-summary'  title='Expand/collapse section'>Dimensions:</label><div class='xr-section-inline-details'><ul class='xr-dim-list'><li><span class='xr-has-index'>time</span>: 100</li><li><span class='xr-has-index'>sample</span>: 273</li></ul></div><div class='xr-section-details'></div></li><li class='xr-section-item'><input id='section-d9383cd7-2c07-4043-ae36-02d0ebee7317' class='xr-section-summary-in' type='checkbox'  checked><label for='section-d9383cd7-2c07-4043-ae36-02d0ebee7317' class='xr-section-summary' >Coordinates: <span>(4)</span></label><div class='xr-section-inline-details'></div><div class='xr-section-details'><ul class='xr-var-list'><li class='xr-var-item'><div class='xr-var-name'><span class='xr-has-index'>time</span></div><div class='xr-var-dims'>(time)</div><div class='xr-var-dtype'>datetime64[ns]</div><div class='xr-var-preview xr-preview'>2004-09-27 ... 2005-01-04</div><input id='attrs-ec7b8355-bf6d-44dd-b04d-4780e7ca9293' class='xr-var-attrs-in' type='checkbox' disabled><label for='attrs-ec7b8355-bf6d-44dd-b04d-4780e7ca9293' title='Show/Hide attributes'><svg class='icon xr-icon-file-text2'><use xlink:href='#icon-file-text2'></use></svg></label><input id='data-fa1e795d-0008-4c0b-a7bf-f25eb185ca81' class='xr-var-data-in' type='checkbox'><label for='data-fa1e795d-0008-4c0b-a7bf-f25eb185ca81' title='Show/Hide data repr'><svg class='icon xr-icon-database'><use xlink:href='#icon-database'></use></svg></label><div class='xr-var-attrs'><dl class='xr-attrs'></dl></div><div class='xr-var-data'><pre>array([&#x27;2004-09-27T00:00:00.000000000&#x27;, &#x27;2004-09-28T00:00:00.000000000&#x27;,\n",
       "       &#x27;2004-09-29T00:00:00.000000000&#x27;, &#x27;2004-09-30T00:00:00.000000000&#x27;,\n",
       "       &#x27;2004-10-01T00:00:00.000000000&#x27;, &#x27;2004-10-02T00:00:00.000000000&#x27;,\n",
       "       &#x27;2004-10-03T00:00:00.000000000&#x27;, &#x27;2004-10-04T00:00:00.000000000&#x27;,\n",
       "       &#x27;2004-10-05T00:00:00.000000000&#x27;, &#x27;2004-10-06T00:00:00.000000000&#x27;,\n",
       "       &#x27;2004-10-07T00:00:00.000000000&#x27;, &#x27;2004-10-08T00:00:00.000000000&#x27;,\n",
       "       &#x27;2004-10-09T00:00:00.000000000&#x27;, &#x27;2004-10-10T00:00:00.000000000&#x27;,\n",
       "       &#x27;2004-10-11T00:00:00.000000000&#x27;, &#x27;2004-10-12T00:00:00.000000000&#x27;,\n",
       "       &#x27;2004-10-13T00:00:00.000000000&#x27;, &#x27;2004-10-14T00:00:00.000000000&#x27;,\n",
       "       &#x27;2004-10-15T00:00:00.000000000&#x27;, &#x27;2004-10-16T00:00:00.000000000&#x27;,\n",
       "       &#x27;2004-10-17T00:00:00.000000000&#x27;, &#x27;2004-10-18T00:00:00.000000000&#x27;,\n",
       "       &#x27;2004-10-19T00:00:00.000000000&#x27;, &#x27;2004-10-20T00:00:00.000000000&#x27;,\n",
       "       &#x27;2004-10-21T00:00:00.000000000&#x27;, &#x27;2004-10-22T00:00:00.000000000&#x27;,\n",
       "       &#x27;2004-10-23T00:00:00.000000000&#x27;, &#x27;2004-10-24T00:00:00.000000000&#x27;,\n",
       "       &#x27;2004-10-25T00:00:00.000000000&#x27;, &#x27;2004-10-26T00:00:00.000000000&#x27;,\n",
       "       &#x27;2004-10-27T00:00:00.000000000&#x27;, &#x27;2004-10-28T00:00:00.000000000&#x27;,\n",
       "       &#x27;2004-10-29T00:00:00.000000000&#x27;, &#x27;2004-10-30T00:00:00.000000000&#x27;,\n",
       "       &#x27;2004-10-31T00:00:00.000000000&#x27;, &#x27;2004-11-01T00:00:00.000000000&#x27;,\n",
       "       &#x27;2004-11-02T00:00:00.000000000&#x27;, &#x27;2004-11-03T00:00:00.000000000&#x27;,\n",
       "       &#x27;2004-11-04T00:00:00.000000000&#x27;, &#x27;2004-11-05T00:00:00.000000000&#x27;,\n",
       "       &#x27;2004-11-06T00:00:00.000000000&#x27;, &#x27;2004-11-07T00:00:00.000000000&#x27;,\n",
       "       &#x27;2004-11-08T00:00:00.000000000&#x27;, &#x27;2004-11-09T00:00:00.000000000&#x27;,\n",
       "       &#x27;2004-11-10T00:00:00.000000000&#x27;, &#x27;2004-11-11T00:00:00.000000000&#x27;,\n",
       "       &#x27;2004-11-12T00:00:00.000000000&#x27;, &#x27;2004-11-13T00:00:00.000000000&#x27;,\n",
       "       &#x27;2004-11-14T00:00:00.000000000&#x27;, &#x27;2004-11-15T00:00:00.000000000&#x27;,\n",
       "       &#x27;2004-11-16T00:00:00.000000000&#x27;, &#x27;2004-11-17T00:00:00.000000000&#x27;,\n",
       "       &#x27;2004-11-18T00:00:00.000000000&#x27;, &#x27;2004-11-19T00:00:00.000000000&#x27;,\n",
       "       &#x27;2004-11-20T00:00:00.000000000&#x27;, &#x27;2004-11-21T00:00:00.000000000&#x27;,\n",
       "       &#x27;2004-11-22T00:00:00.000000000&#x27;, &#x27;2004-11-23T00:00:00.000000000&#x27;,\n",
       "       &#x27;2004-11-24T00:00:00.000000000&#x27;, &#x27;2004-11-25T00:00:00.000000000&#x27;,\n",
       "       &#x27;2004-11-26T00:00:00.000000000&#x27;, &#x27;2004-11-27T00:00:00.000000000&#x27;,\n",
       "       &#x27;2004-11-28T00:00:00.000000000&#x27;, &#x27;2004-11-29T00:00:00.000000000&#x27;,\n",
       "       &#x27;2004-11-30T00:00:00.000000000&#x27;, &#x27;2004-12-01T00:00:00.000000000&#x27;,\n",
       "       &#x27;2004-12-02T00:00:00.000000000&#x27;, &#x27;2004-12-03T00:00:00.000000000&#x27;,\n",
       "       &#x27;2004-12-04T00:00:00.000000000&#x27;, &#x27;2004-12-05T00:00:00.000000000&#x27;,\n",
       "       &#x27;2004-12-06T00:00:00.000000000&#x27;, &#x27;2004-12-07T00:00:00.000000000&#x27;,\n",
       "       &#x27;2004-12-08T00:00:00.000000000&#x27;, &#x27;2004-12-09T00:00:00.000000000&#x27;,\n",
       "       &#x27;2004-12-10T00:00:00.000000000&#x27;, &#x27;2004-12-11T00:00:00.000000000&#x27;,\n",
       "       &#x27;2004-12-12T00:00:00.000000000&#x27;, &#x27;2004-12-13T00:00:00.000000000&#x27;,\n",
       "       &#x27;2004-12-14T00:00:00.000000000&#x27;, &#x27;2004-12-15T00:00:00.000000000&#x27;,\n",
       "       &#x27;2004-12-16T00:00:00.000000000&#x27;, &#x27;2004-12-17T00:00:00.000000000&#x27;,\n",
       "       &#x27;2004-12-18T00:00:00.000000000&#x27;, &#x27;2004-12-19T00:00:00.000000000&#x27;,\n",
       "       &#x27;2004-12-20T00:00:00.000000000&#x27;, &#x27;2004-12-21T00:00:00.000000000&#x27;,\n",
       "       &#x27;2004-12-22T00:00:00.000000000&#x27;, &#x27;2004-12-23T00:00:00.000000000&#x27;,\n",
       "       &#x27;2004-12-24T00:00:00.000000000&#x27;, &#x27;2004-12-25T00:00:00.000000000&#x27;,\n",
       "       &#x27;2004-12-26T00:00:00.000000000&#x27;, &#x27;2004-12-27T00:00:00.000000000&#x27;,\n",
       "       &#x27;2004-12-28T00:00:00.000000000&#x27;, &#x27;2004-12-29T00:00:00.000000000&#x27;,\n",
       "       &#x27;2004-12-30T00:00:00.000000000&#x27;, &#x27;2004-12-31T00:00:00.000000000&#x27;,\n",
       "       &#x27;2005-01-01T00:00:00.000000000&#x27;, &#x27;2005-01-02T00:00:00.000000000&#x27;,\n",
       "       &#x27;2005-01-03T00:00:00.000000000&#x27;, &#x27;2005-01-04T00:00:00.000000000&#x27;],\n",
       "      dtype=&#x27;datetime64[ns]&#x27;)</pre></div></li><li class='xr-var-item'><div class='xr-var-name'><span class='xr-has-index'>sample</span></div><div class='xr-var-dims'>(sample)</div><div class='xr-var-dtype'>object</div><div class='xr-var-preview xr-preview'>MultiIndex</div><input id='attrs-ba03302b-16f7-4d56-a945-3902f697967b' class='xr-var-attrs-in' type='checkbox' disabled><label for='attrs-ba03302b-16f7-4d56-a945-3902f697967b' title='Show/Hide attributes'><svg class='icon xr-icon-file-text2'><use xlink:href='#icon-file-text2'></use></svg></label><input id='data-92d1f3bb-e288-43b6-997a-72f56147545e' class='xr-var-data-in' type='checkbox'><label for='data-92d1f3bb-e288-43b6-997a-72f56147545e' title='Show/Hide data repr'><svg class='icon xr-icon-database'><use xlink:href='#icon-database'></use></svg></label><div class='xr-var-attrs'><dl class='xr-attrs'></dl></div><div class='xr-var-data'><pre>array([(68.5, 15.600000381469727), (68.5, 15.699999809265137),\n",
       "       (68.5, 15.800000190734863), ..., (66.5999984741211, 17.200000762939453),\n",
       "       (66.5999984741211, 17.299999237060547),\n",
       "       (66.5999984741211, 17.399999618530273)], dtype=object)</pre></div></li><li class='xr-var-item'><div class='xr-var-name'><span class='xr-has-index'>lat</span></div><div class='xr-var-dims'>(sample)</div><div class='xr-var-dtype'>float32</div><div class='xr-var-preview xr-preview'>68.5 68.5 68.5 ... 66.6 66.6 66.6</div><input id='attrs-52fb7069-10ab-47ad-8471-c504c618084e' class='xr-var-attrs-in' type='checkbox' ><label for='attrs-52fb7069-10ab-47ad-8471-c504c618084e' title='Show/Hide attributes'><svg class='icon xr-icon-file-text2'><use xlink:href='#icon-file-text2'></use></svg></label><input id='data-95356267-5a21-49f8-9f8d-284d23a2313e' class='xr-var-data-in' type='checkbox'><label for='data-95356267-5a21-49f8-9f8d-284d23a2313e' title='Show/Hide data repr'><svg class='icon xr-icon-database'><use xlink:href='#icon-database'></use></svg></label><div class='xr-var-attrs'><dl class='xr-attrs'><dt><span>axis :</span></dt><dd>Y</dd><dt><span>long_name :</span></dt><dd>latitude</dd><dt><span>standard_name :</span></dt><dd>latitude</dd><dt><span>units :</span></dt><dd>degrees_north</dd></dl></div><div class='xr-var-data'><pre>array([68.5     , 68.5     , 68.5     , ..., 66.599998, 66.599998, 66.599998])</pre></div></li><li class='xr-var-item'><div class='xr-var-name'><span class='xr-has-index'>lon</span></div><div class='xr-var-dims'>(sample)</div><div class='xr-var-dtype'>float32</div><div class='xr-var-preview xr-preview'>15.6 15.7 15.8 ... 17.2 17.3 17.4</div><input id='attrs-b07e0e69-5230-40a9-9667-163669e1ebd4' class='xr-var-attrs-in' type='checkbox' ><label for='attrs-b07e0e69-5230-40a9-9667-163669e1ebd4' title='Show/Hide attributes'><svg class='icon xr-icon-file-text2'><use xlink:href='#icon-file-text2'></use></svg></label><input id='data-be1a7754-bbf7-452a-8c72-bab700facfef' class='xr-var-data-in' type='checkbox'><label for='data-be1a7754-bbf7-452a-8c72-bab700facfef' title='Show/Hide data repr'><svg class='icon xr-icon-database'><use xlink:href='#icon-database'></use></svg></label><div class='xr-var-attrs'><dl class='xr-attrs'><dt><span>axis :</span></dt><dd>X</dd><dt><span>long_name :</span></dt><dd>longitude</dd><dt><span>standard_name :</span></dt><dd>longitude</dd><dt><span>units :</span></dt><dd>degrees_east</dd></dl></div><div class='xr-var-data'><pre>array([15.6     , 15.7     , 15.8     , ..., 17.200001, 17.299999, 17.4     ])</pre></div></li></ul></div></li><li class='xr-section-item'><input id='section-488f81ef-3d9b-48e6-b1c3-9c07713eaf30' class='xr-section-summary-in' type='checkbox'  checked><label for='section-488f81ef-3d9b-48e6-b1c3-9c07713eaf30' class='xr-section-summary' >Data variables: <span>(1)</span></label><div class='xr-section-inline-details'></div><div class='xr-section-details'><ul class='xr-var-list'><li class='xr-var-item'><div class='xr-var-name'><span>fvc</span></div><div class='xr-var-dims'>(time, sample)</div><div class='xr-var-dtype'>float32</div><div class='xr-var-preview xr-preview'>2.98e-08 nan nan ... nan nan nan</div><input id='attrs-57eb22f0-ee0f-4cda-b0df-492a18dfbaca' class='xr-var-attrs-in' type='checkbox' ><label for='attrs-57eb22f0-ee0f-4cda-b0df-492a18dfbaca' title='Show/Hide attributes'><svg class='icon xr-icon-file-text2'><use xlink:href='#icon-file-text2'></use></svg></label><input id='data-e82051e8-487a-48ef-ad94-60a4d5c91737' class='xr-var-data-in' type='checkbox'><label for='data-e82051e8-487a-48ef-ad94-60a4d5c91737' title='Show/Hide data repr'><svg class='icon xr-icon-database'><use xlink:href='#icon-database'></use></svg></label><div class='xr-var-attrs'><dl class='xr-attrs'><dt><span>data_max :</span></dt><dd>0.9899999499320984</dd><dt><span>data_min :</span></dt><dd>0.0</dd><dt><span>long_name :</span></dt><dd>fraction</dd><dt><span>units :</span></dt><dd>-</dd></dl></div><div class='xr-var-data'><pre>array([[2.9802322e-08,           nan,           nan, ...,           nan,\n",
       "                  nan,           nan],\n",
       "       [2.9802322e-08,           nan,           nan, ...,           nan,\n",
       "                  nan,           nan],\n",
       "       [2.9802322e-08,           nan,           nan, ...,           nan,\n",
       "                  nan,           nan],\n",
       "       ...,\n",
       "       [          nan,           nan,           nan, ...,           nan,\n",
       "                  nan,           nan],\n",
       "       [          nan,           nan,           nan, ...,           nan,\n",
       "                  nan,           nan],\n",
       "       [          nan,           nan,           nan, ...,           nan,\n",
       "                  nan,           nan]], dtype=float32)</pre></div></li></ul></div></li><li class='xr-section-item'><input id='section-294c235e-a01d-4d96-85e5-b3148f809961' class='xr-section-summary-in' type='checkbox'  ><label for='section-294c235e-a01d-4d96-85e5-b3148f809961' class='xr-section-summary' >Indexes: <span>(2)</span></label><div class='xr-section-inline-details'></div><div class='xr-section-details'><ul class='xr-var-list'><li class='xr-var-item'><div class='xr-index-name'><div>time</div></div><div class='xr-index-preview'>PandasIndex</div><div></div><input id='index-524e336b-6e5f-46ae-9636-572916a59f47' class='xr-index-data-in' type='checkbox'/><label for='index-524e336b-6e5f-46ae-9636-572916a59f47' title='Show/Hide index repr'><svg class='icon xr-icon-database'><use xlink:href='#icon-database'></use></svg></label><div class='xr-index-data'><pre>PandasIndex(DatetimeIndex([&#x27;2004-09-27&#x27;, &#x27;2004-09-28&#x27;, &#x27;2004-09-29&#x27;, &#x27;2004-09-30&#x27;,\n",
       "               &#x27;2004-10-01&#x27;, &#x27;2004-10-02&#x27;, &#x27;2004-10-03&#x27;, &#x27;2004-10-04&#x27;,\n",
       "               &#x27;2004-10-05&#x27;, &#x27;2004-10-06&#x27;, &#x27;2004-10-07&#x27;, &#x27;2004-10-08&#x27;,\n",
       "               &#x27;2004-10-09&#x27;, &#x27;2004-10-10&#x27;, &#x27;2004-10-11&#x27;, &#x27;2004-10-12&#x27;,\n",
       "               &#x27;2004-10-13&#x27;, &#x27;2004-10-14&#x27;, &#x27;2004-10-15&#x27;, &#x27;2004-10-16&#x27;,\n",
       "               &#x27;2004-10-17&#x27;, &#x27;2004-10-18&#x27;, &#x27;2004-10-19&#x27;, &#x27;2004-10-20&#x27;,\n",
       "               &#x27;2004-10-21&#x27;, &#x27;2004-10-22&#x27;, &#x27;2004-10-23&#x27;, &#x27;2004-10-24&#x27;,\n",
       "               &#x27;2004-10-25&#x27;, &#x27;2004-10-26&#x27;, &#x27;2004-10-27&#x27;, &#x27;2004-10-28&#x27;,\n",
       "               &#x27;2004-10-29&#x27;, &#x27;2004-10-30&#x27;, &#x27;2004-10-31&#x27;, &#x27;2004-11-01&#x27;,\n",
       "               &#x27;2004-11-02&#x27;, &#x27;2004-11-03&#x27;, &#x27;2004-11-04&#x27;, &#x27;2004-11-05&#x27;,\n",
       "               &#x27;2004-11-06&#x27;, &#x27;2004-11-07&#x27;, &#x27;2004-11-08&#x27;, &#x27;2004-11-09&#x27;,\n",
       "               &#x27;2004-11-10&#x27;, &#x27;2004-11-11&#x27;, &#x27;2004-11-12&#x27;, &#x27;2004-11-13&#x27;,\n",
       "               &#x27;2004-11-14&#x27;, &#x27;2004-11-15&#x27;, &#x27;2004-11-16&#x27;, &#x27;2004-11-17&#x27;,\n",
       "               &#x27;2004-11-18&#x27;, &#x27;2004-11-19&#x27;, &#x27;2004-11-20&#x27;, &#x27;2004-11-21&#x27;,\n",
       "               &#x27;2004-11-22&#x27;, &#x27;2004-11-23&#x27;, &#x27;2004-11-24&#x27;, &#x27;2004-11-25&#x27;,\n",
       "               &#x27;2004-11-26&#x27;, &#x27;2004-11-27&#x27;, &#x27;2004-11-28&#x27;, &#x27;2004-11-29&#x27;,\n",
       "               &#x27;2004-11-30&#x27;, &#x27;2004-12-01&#x27;, &#x27;2004-12-02&#x27;, &#x27;2004-12-03&#x27;,\n",
       "               &#x27;2004-12-04&#x27;, &#x27;2004-12-05&#x27;, &#x27;2004-12-06&#x27;, &#x27;2004-12-07&#x27;,\n",
       "               &#x27;2004-12-08&#x27;, &#x27;2004-12-09&#x27;, &#x27;2004-12-10&#x27;, &#x27;2004-12-11&#x27;,\n",
       "               &#x27;2004-12-12&#x27;, &#x27;2004-12-13&#x27;, &#x27;2004-12-14&#x27;, &#x27;2004-12-15&#x27;,\n",
       "               &#x27;2004-12-16&#x27;, &#x27;2004-12-17&#x27;, &#x27;2004-12-18&#x27;, &#x27;2004-12-19&#x27;,\n",
       "               &#x27;2004-12-20&#x27;, &#x27;2004-12-21&#x27;, &#x27;2004-12-22&#x27;, &#x27;2004-12-23&#x27;,\n",
       "               &#x27;2004-12-24&#x27;, &#x27;2004-12-25&#x27;, &#x27;2004-12-26&#x27;, &#x27;2004-12-27&#x27;,\n",
       "               &#x27;2004-12-28&#x27;, &#x27;2004-12-29&#x27;, &#x27;2004-12-30&#x27;, &#x27;2004-12-31&#x27;,\n",
       "               &#x27;2005-01-01&#x27;, &#x27;2005-01-02&#x27;, &#x27;2005-01-03&#x27;, &#x27;2005-01-04&#x27;],\n",
       "              dtype=&#x27;datetime64[ns]&#x27;, name=&#x27;time&#x27;, freq=None))</pre></div></li><li class='xr-var-item'><div class='xr-index-name'><div>sample<br>lat<br>lon</div></div><div class='xr-index-preview'>PandasMultiIndex</div><div></div><input id='index-0c4323cb-0001-4c92-9dd7-58af52009051' class='xr-index-data-in' type='checkbox'/><label for='index-0c4323cb-0001-4c92-9dd7-58af52009051' title='Show/Hide index repr'><svg class='icon xr-icon-database'><use xlink:href='#icon-database'></use></svg></label><div class='xr-index-data'><pre>PandasIndex(MultiIndex([(            68.5, 15.600000381469727),\n",
       "            (            68.5, 15.699999809265137),\n",
       "            (            68.5, 15.800000190734863),\n",
       "            (            68.5, 16.100000381469727),\n",
       "            (            68.5, 16.200000762939453),\n",
       "            (            68.5, 16.299999237060547),\n",
       "            (            68.5, 16.700000762939453),\n",
       "            (            68.5, 16.799999237060547),\n",
       "            (            68.5, 16.899999618530273),\n",
       "            (            68.5,               17.0),\n",
       "            ...\n",
       "            (66.5999984741211,               16.5),\n",
       "            (66.5999984741211, 16.600000381469727),\n",
       "            (66.5999984741211, 16.700000762939453),\n",
       "            (66.5999984741211, 16.799999237060547),\n",
       "            (66.5999984741211, 16.899999618530273),\n",
       "            (66.5999984741211,               17.0),\n",
       "            (66.5999984741211, 17.100000381469727),\n",
       "            (66.5999984741211, 17.200000762939453),\n",
       "            (66.5999984741211, 17.299999237060547),\n",
       "            (66.5999984741211, 17.399999618530273)],\n",
       "           name=&#x27;sample&#x27;, length=273))</pre></div></li></ul></div></li><li class='xr-section-item'><input id='section-ed53253c-43b6-421b-ad94-ff7610b7141c' class='xr-section-summary-in' type='checkbox' disabled ><label for='section-ed53253c-43b6-421b-ad94-ff7610b7141c' class='xr-section-summary'  title='Expand/collapse section'>Attributes: <span>(0)</span></label><div class='xr-section-inline-details'></div><div class='xr-section-details'><dl class='xr-attrs'></dl></div></li></ul></div></div>"
      ],
      "text/plain": [
       "<xarray.Dataset>\n",
       "Dimensions:  (time: 100, sample: 273)\n",
       "Coordinates:\n",
       "  * time     (time) datetime64[ns] 2004-09-27 2004-09-28 ... 2005-01-04\n",
       "  * sample   (sample) object MultiIndex\n",
       "  * lat      (sample) float32 68.5 68.5 68.5 68.5 68.5 ... 66.6 66.6 66.6 66.6\n",
       "  * lon      (sample) float32 15.6 15.7 15.8 16.1 16.2 ... 17.1 17.2 17.3 17.4\n",
       "Data variables:\n",
       "    fvc      (time, sample) float32 2.98e-08 nan nan nan nan ... nan nan nan nan"
      ]
     },
     "execution_count": 37,
     "metadata": {},
     "output_type": "execute_result"
    }
   ],
   "source": [
    "dc.data"
   ]
  },
  {
   "cell_type": "code",
   "execution_count": 38,
   "metadata": {},
   "outputs": [
    {
     "data": {
      "text/html": [
       "<div><svg style=\"position: absolute; width: 0; height: 0; overflow: hidden\">\n",
       "<defs>\n",
       "<symbol id=\"icon-database\" viewBox=\"0 0 32 32\">\n",
       "<path d=\"M16 0c-8.837 0-16 2.239-16 5v4c0 2.761 7.163 5 16 5s16-2.239 16-5v-4c0-2.761-7.163-5-16-5z\"></path>\n",
       "<path d=\"M16 17c-8.837 0-16-2.239-16-5v6c0 2.761 7.163 5 16 5s16-2.239 16-5v-6c0 2.761-7.163 5-16 5z\"></path>\n",
       "<path d=\"M16 26c-8.837 0-16-2.239-16-5v6c0 2.761 7.163 5 16 5s16-2.239 16-5v-6c0 2.761-7.163 5-16 5z\"></path>\n",
       "</symbol>\n",
       "<symbol id=\"icon-file-text2\" viewBox=\"0 0 32 32\">\n",
       "<path d=\"M28.681 7.159c-0.694-0.947-1.662-2.053-2.724-3.116s-2.169-2.030-3.116-2.724c-1.612-1.182-2.393-1.319-2.841-1.319h-15.5c-1.378 0-2.5 1.121-2.5 2.5v27c0 1.378 1.122 2.5 2.5 2.5h23c1.378 0 2.5-1.122 2.5-2.5v-19.5c0-0.448-0.137-1.23-1.319-2.841zM24.543 5.457c0.959 0.959 1.712 1.825 2.268 2.543h-4.811v-4.811c0.718 0.556 1.584 1.309 2.543 2.268zM28 29.5c0 0.271-0.229 0.5-0.5 0.5h-23c-0.271 0-0.5-0.229-0.5-0.5v-27c0-0.271 0.229-0.5 0.5-0.5 0 0 15.499-0 15.5 0v7c0 0.552 0.448 1 1 1h7v19.5z\"></path>\n",
       "<path d=\"M23 26h-14c-0.552 0-1-0.448-1-1s0.448-1 1-1h14c0.552 0 1 0.448 1 1s-0.448 1-1 1z\"></path>\n",
       "<path d=\"M23 22h-14c-0.552 0-1-0.448-1-1s0.448-1 1-1h14c0.552 0 1 0.448 1 1s-0.448 1-1 1z\"></path>\n",
       "<path d=\"M23 18h-14c-0.552 0-1-0.448-1-1s0.448-1 1-1h14c0.552 0 1 0.448 1 1s-0.448 1-1 1z\"></path>\n",
       "</symbol>\n",
       "</defs>\n",
       "</svg>\n",
       "<style>/* CSS stylesheet for displaying xarray objects in jupyterlab.\n",
       " *\n",
       " */\n",
       "\n",
       ":root {\n",
       "  --xr-font-color0: var(--jp-content-font-color0, rgba(0, 0, 0, 1));\n",
       "  --xr-font-color2: var(--jp-content-font-color2, rgba(0, 0, 0, 0.54));\n",
       "  --xr-font-color3: var(--jp-content-font-color3, rgba(0, 0, 0, 0.38));\n",
       "  --xr-border-color: var(--jp-border-color2, #e0e0e0);\n",
       "  --xr-disabled-color: var(--jp-layout-color3, #bdbdbd);\n",
       "  --xr-background-color: var(--jp-layout-color0, white);\n",
       "  --xr-background-color-row-even: var(--jp-layout-color1, white);\n",
       "  --xr-background-color-row-odd: var(--jp-layout-color2, #eeeeee);\n",
       "}\n",
       "\n",
       "html[theme=dark],\n",
       "body[data-theme=dark],\n",
       "body.vscode-dark {\n",
       "  --xr-font-color0: rgba(255, 255, 255, 1);\n",
       "  --xr-font-color2: rgba(255, 255, 255, 0.54);\n",
       "  --xr-font-color3: rgba(255, 255, 255, 0.38);\n",
       "  --xr-border-color: #1F1F1F;\n",
       "  --xr-disabled-color: #515151;\n",
       "  --xr-background-color: #111111;\n",
       "  --xr-background-color-row-even: #111111;\n",
       "  --xr-background-color-row-odd: #313131;\n",
       "}\n",
       "\n",
       ".xr-wrap {\n",
       "  display: block !important;\n",
       "  min-width: 300px;\n",
       "  max-width: 700px;\n",
       "}\n",
       "\n",
       ".xr-text-repr-fallback {\n",
       "  /* fallback to plain text repr when CSS is not injected (untrusted notebook) */\n",
       "  display: none;\n",
       "}\n",
       "\n",
       ".xr-header {\n",
       "  padding-top: 6px;\n",
       "  padding-bottom: 6px;\n",
       "  margin-bottom: 4px;\n",
       "  border-bottom: solid 1px var(--xr-border-color);\n",
       "}\n",
       "\n",
       ".xr-header > div,\n",
       ".xr-header > ul {\n",
       "  display: inline;\n",
       "  margin-top: 0;\n",
       "  margin-bottom: 0;\n",
       "}\n",
       "\n",
       ".xr-obj-type,\n",
       ".xr-array-name {\n",
       "  margin-left: 2px;\n",
       "  margin-right: 10px;\n",
       "}\n",
       "\n",
       ".xr-obj-type {\n",
       "  color: var(--xr-font-color2);\n",
       "}\n",
       "\n",
       ".xr-sections {\n",
       "  padding-left: 0 !important;\n",
       "  display: grid;\n",
       "  grid-template-columns: 150px auto auto 1fr 20px 20px;\n",
       "}\n",
       "\n",
       ".xr-section-item {\n",
       "  display: contents;\n",
       "}\n",
       "\n",
       ".xr-section-item input {\n",
       "  display: none;\n",
       "}\n",
       "\n",
       ".xr-section-item input + label {\n",
       "  color: var(--xr-disabled-color);\n",
       "}\n",
       "\n",
       ".xr-section-item input:enabled + label {\n",
       "  cursor: pointer;\n",
       "  color: var(--xr-font-color2);\n",
       "}\n",
       "\n",
       ".xr-section-item input:enabled + label:hover {\n",
       "  color: var(--xr-font-color0);\n",
       "}\n",
       "\n",
       ".xr-section-summary {\n",
       "  grid-column: 1;\n",
       "  color: var(--xr-font-color2);\n",
       "  font-weight: 500;\n",
       "}\n",
       "\n",
       ".xr-section-summary > span {\n",
       "  display: inline-block;\n",
       "  padding-left: 0.5em;\n",
       "}\n",
       "\n",
       ".xr-section-summary-in:disabled + label {\n",
       "  color: var(--xr-font-color2);\n",
       "}\n",
       "\n",
       ".xr-section-summary-in + label:before {\n",
       "  display: inline-block;\n",
       "  content: '►';\n",
       "  font-size: 11px;\n",
       "  width: 15px;\n",
       "  text-align: center;\n",
       "}\n",
       "\n",
       ".xr-section-summary-in:disabled + label:before {\n",
       "  color: var(--xr-disabled-color);\n",
       "}\n",
       "\n",
       ".xr-section-summary-in:checked + label:before {\n",
       "  content: '▼';\n",
       "}\n",
       "\n",
       ".xr-section-summary-in:checked + label > span {\n",
       "  display: none;\n",
       "}\n",
       "\n",
       ".xr-section-summary,\n",
       ".xr-section-inline-details {\n",
       "  padding-top: 4px;\n",
       "  padding-bottom: 4px;\n",
       "}\n",
       "\n",
       ".xr-section-inline-details {\n",
       "  grid-column: 2 / -1;\n",
       "}\n",
       "\n",
       ".xr-section-details {\n",
       "  display: none;\n",
       "  grid-column: 1 / -1;\n",
       "  margin-bottom: 5px;\n",
       "}\n",
       "\n",
       ".xr-section-summary-in:checked ~ .xr-section-details {\n",
       "  display: contents;\n",
       "}\n",
       "\n",
       ".xr-array-wrap {\n",
       "  grid-column: 1 / -1;\n",
       "  display: grid;\n",
       "  grid-template-columns: 20px auto;\n",
       "}\n",
       "\n",
       ".xr-array-wrap > label {\n",
       "  grid-column: 1;\n",
       "  vertical-align: top;\n",
       "}\n",
       "\n",
       ".xr-preview {\n",
       "  color: var(--xr-font-color3);\n",
       "}\n",
       "\n",
       ".xr-array-preview,\n",
       ".xr-array-data {\n",
       "  padding: 0 5px !important;\n",
       "  grid-column: 2;\n",
       "}\n",
       "\n",
       ".xr-array-data,\n",
       ".xr-array-in:checked ~ .xr-array-preview {\n",
       "  display: none;\n",
       "}\n",
       "\n",
       ".xr-array-in:checked ~ .xr-array-data,\n",
       ".xr-array-preview {\n",
       "  display: inline-block;\n",
       "}\n",
       "\n",
       ".xr-dim-list {\n",
       "  display: inline-block !important;\n",
       "  list-style: none;\n",
       "  padding: 0 !important;\n",
       "  margin: 0;\n",
       "}\n",
       "\n",
       ".xr-dim-list li {\n",
       "  display: inline-block;\n",
       "  padding: 0;\n",
       "  margin: 0;\n",
       "}\n",
       "\n",
       ".xr-dim-list:before {\n",
       "  content: '(';\n",
       "}\n",
       "\n",
       ".xr-dim-list:after {\n",
       "  content: ')';\n",
       "}\n",
       "\n",
       ".xr-dim-list li:not(:last-child):after {\n",
       "  content: ',';\n",
       "  padding-right: 5px;\n",
       "}\n",
       "\n",
       ".xr-has-index {\n",
       "  font-weight: bold;\n",
       "}\n",
       "\n",
       ".xr-var-list,\n",
       ".xr-var-item {\n",
       "  display: contents;\n",
       "}\n",
       "\n",
       ".xr-var-item > div,\n",
       ".xr-var-item label,\n",
       ".xr-var-item > .xr-var-name span {\n",
       "  background-color: var(--xr-background-color-row-even);\n",
       "  margin-bottom: 0;\n",
       "}\n",
       "\n",
       ".xr-var-item > .xr-var-name:hover span {\n",
       "  padding-right: 5px;\n",
       "}\n",
       "\n",
       ".xr-var-list > li:nth-child(odd) > div,\n",
       ".xr-var-list > li:nth-child(odd) > label,\n",
       ".xr-var-list > li:nth-child(odd) > .xr-var-name span {\n",
       "  background-color: var(--xr-background-color-row-odd);\n",
       "}\n",
       "\n",
       ".xr-var-name {\n",
       "  grid-column: 1;\n",
       "}\n",
       "\n",
       ".xr-var-dims {\n",
       "  grid-column: 2;\n",
       "}\n",
       "\n",
       ".xr-var-dtype {\n",
       "  grid-column: 3;\n",
       "  text-align: right;\n",
       "  color: var(--xr-font-color2);\n",
       "}\n",
       "\n",
       ".xr-var-preview {\n",
       "  grid-column: 4;\n",
       "}\n",
       "\n",
       ".xr-index-preview {\n",
       "  grid-column: 2 / 5;\n",
       "  color: var(--xr-font-color2);\n",
       "}\n",
       "\n",
       ".xr-var-name,\n",
       ".xr-var-dims,\n",
       ".xr-var-dtype,\n",
       ".xr-preview,\n",
       ".xr-attrs dt {\n",
       "  white-space: nowrap;\n",
       "  overflow: hidden;\n",
       "  text-overflow: ellipsis;\n",
       "  padding-right: 10px;\n",
       "}\n",
       "\n",
       ".xr-var-name:hover,\n",
       ".xr-var-dims:hover,\n",
       ".xr-var-dtype:hover,\n",
       ".xr-attrs dt:hover {\n",
       "  overflow: visible;\n",
       "  width: auto;\n",
       "  z-index: 1;\n",
       "}\n",
       "\n",
       ".xr-var-attrs,\n",
       ".xr-var-data,\n",
       ".xr-index-data {\n",
       "  display: none;\n",
       "  background-color: var(--xr-background-color) !important;\n",
       "  padding-bottom: 5px !important;\n",
       "}\n",
       "\n",
       ".xr-var-attrs-in:checked ~ .xr-var-attrs,\n",
       ".xr-var-data-in:checked ~ .xr-var-data,\n",
       ".xr-index-data-in:checked ~ .xr-index-data {\n",
       "  display: block;\n",
       "}\n",
       "\n",
       ".xr-var-data > table {\n",
       "  float: right;\n",
       "}\n",
       "\n",
       ".xr-var-name span,\n",
       ".xr-var-data,\n",
       ".xr-index-name div,\n",
       ".xr-index-data,\n",
       ".xr-attrs {\n",
       "  padding-left: 25px !important;\n",
       "}\n",
       "\n",
       ".xr-attrs,\n",
       ".xr-var-attrs,\n",
       ".xr-var-data,\n",
       ".xr-index-data {\n",
       "  grid-column: 1 / -1;\n",
       "}\n",
       "\n",
       "dl.xr-attrs {\n",
       "  padding: 0;\n",
       "  margin: 0;\n",
       "  display: grid;\n",
       "  grid-template-columns: 125px auto;\n",
       "}\n",
       "\n",
       ".xr-attrs dt,\n",
       ".xr-attrs dd {\n",
       "  padding: 0;\n",
       "  margin: 0;\n",
       "  float: left;\n",
       "  padding-right: 10px;\n",
       "  width: auto;\n",
       "}\n",
       "\n",
       ".xr-attrs dt {\n",
       "  font-weight: normal;\n",
       "  grid-column: 1;\n",
       "}\n",
       "\n",
       ".xr-attrs dt:hover span {\n",
       "  display: inline-block;\n",
       "  background: var(--xr-background-color);\n",
       "  padding-right: 10px;\n",
       "}\n",
       "\n",
       ".xr-attrs dd {\n",
       "  grid-column: 2;\n",
       "  white-space: pre-wrap;\n",
       "  word-break: break-all;\n",
       "}\n",
       "\n",
       ".xr-icon-database,\n",
       ".xr-icon-file-text2,\n",
       ".xr-no-icon {\n",
       "  display: inline-block;\n",
       "  vertical-align: middle;\n",
       "  width: 1em;\n",
       "  height: 1.5em !important;\n",
       "  stroke-width: 0;\n",
       "  stroke: currentColor;\n",
       "  fill: currentColor;\n",
       "}\n",
       "</style><pre class='xr-text-repr-fallback'>&lt;xarray.DataArray &#x27;mask&#x27; (sample: 400)&gt;\n",
       "array([False,  True,  True,  True, False, False,  True,  True,  True,\n",
       "       False, False, False,  True,  True,  True,  True, False, False,\n",
       "       False, False,  True,  True,  True, False,  True,  True, False,\n",
       "       False,  True, False, False, False,  True, False,  True, False,\n",
       "       False,  True, False, False, False, False, False, False, False,\n",
       "       False, False, False, False, False, False, False, False, False,\n",
       "       False, False,  True,  True, False, False, False, False, False,\n",
       "       False, False, False, False, False, False, False, False,  True,\n",
       "        True,  True,  True,  True,  True, False,  True,  True, False,\n",
       "       False, False, False, False, False, False, False, False, False,\n",
       "       False,  True, False, False, False, False, False,  True, False,\n",
       "        True,  True,  True, False, False,  True, False,  True, False,\n",
       "       False, False,  True,  True, False,  True, False,  True, False,\n",
       "        True,  True,  True, False, False, False,  True,  True,  True,\n",
       "        True, False, False,  True,  True,  True,  True,  True,  True,\n",
       "       False,  True,  True,  True,  True, False, False,  True,  True,\n",
       "        True,  True,  True,  True,  True,  True,  True,  True,  True,\n",
       "        True,  True,  True,  True, False,  True, False, False,  True,\n",
       "        True,  True,  True,  True,  True, False,  True, False,  True,\n",
       "        True,  True,  True,  True,  True,  True,  True,  True,  True,\n",
       "...\n",
       "        True, False, False,  True,  True,  True,  True, False, False,\n",
       "        True, False,  True,  True, False, False,  True,  True,  True,\n",
       "        True,  True, False, False, False,  True,  True,  True,  True,\n",
       "        True,  True,  True,  True,  True,  True, False, False,  True,\n",
       "       False,  True,  True,  True,  True, False, False, False, False,\n",
       "        True,  True,  True,  True, False, False,  True,  True,  True,\n",
       "        True, False,  True, False,  True,  True,  True,  True,  True,\n",
       "        True,  True,  True,  True,  True,  True,  True,  True,  True,\n",
       "        True,  True,  True,  True,  True,  True,  True,  True,  True,\n",
       "        True,  True,  True, False,  True,  True,  True,  True,  True,\n",
       "        True,  True,  True,  True,  True,  True,  True,  True,  True,\n",
       "        True,  True,  True,  True, False,  True,  True,  True,  True,\n",
       "        True,  True,  True,  True, False,  True,  True,  True,  True,\n",
       "        True,  True,  True, False,  True,  True,  True, False, False,\n",
       "       False,  True,  True,  True,  True,  True,  True,  True,  True,\n",
       "        True,  True,  True,  True,  True,  True,  True, False,  True,\n",
       "        True, False,  True, False,  True,  True,  True,  True,  True,\n",
       "        True,  True,  True,  True,  True,  True,  True,  True,  True,\n",
       "        True,  True,  True,  True,  True,  True,  True,  True,  True,\n",
       "        True,  True,  True,  True])\n",
       "Coordinates:\n",
       "  * sample   (sample) object MultiIndex\n",
       "  * lat      (sample) float32 68.5 68.5 68.5 68.5 68.5 ... 66.6 66.6 66.6 66.6\n",
       "  * lon      (sample) float32 15.5 15.6 15.7 15.8 15.9 ... 17.1 17.2 17.3 17.4</pre><div class='xr-wrap' style='display:none'><div class='xr-header'><div class='xr-obj-type'>xarray.DataArray</div><div class='xr-array-name'>'mask'</div><ul class='xr-dim-list'><li><span class='xr-has-index'>sample</span>: 400</li></ul></div><ul class='xr-sections'><li class='xr-section-item'><div class='xr-array-wrap'><input id='section-ff14de48-c251-4cb0-896d-61bd5c335712' class='xr-array-in' type='checkbox' checked><label for='section-ff14de48-c251-4cb0-896d-61bd5c335712' title='Show/hide data repr'><svg class='icon xr-icon-database'><use xlink:href='#icon-database'></use></svg></label><div class='xr-array-preview xr-preview'><span>False True True True False False ... True True True True True True</span></div><div class='xr-array-data'><pre>array([False,  True,  True,  True, False, False,  True,  True,  True,\n",
       "       False, False, False,  True,  True,  True,  True, False, False,\n",
       "       False, False,  True,  True,  True, False,  True,  True, False,\n",
       "       False,  True, False, False, False,  True, False,  True, False,\n",
       "       False,  True, False, False, False, False, False, False, False,\n",
       "       False, False, False, False, False, False, False, False, False,\n",
       "       False, False,  True,  True, False, False, False, False, False,\n",
       "       False, False, False, False, False, False, False, False,  True,\n",
       "        True,  True,  True,  True,  True, False,  True,  True, False,\n",
       "       False, False, False, False, False, False, False, False, False,\n",
       "       False,  True, False, False, False, False, False,  True, False,\n",
       "        True,  True,  True, False, False,  True, False,  True, False,\n",
       "       False, False,  True,  True, False,  True, False,  True, False,\n",
       "        True,  True,  True, False, False, False,  True,  True,  True,\n",
       "        True, False, False,  True,  True,  True,  True,  True,  True,\n",
       "       False,  True,  True,  True,  True, False, False,  True,  True,\n",
       "        True,  True,  True,  True,  True,  True,  True,  True,  True,\n",
       "        True,  True,  True,  True, False,  True, False, False,  True,\n",
       "        True,  True,  True,  True,  True, False,  True, False,  True,\n",
       "        True,  True,  True,  True,  True,  True,  True,  True,  True,\n",
       "...\n",
       "        True, False, False,  True,  True,  True,  True, False, False,\n",
       "        True, False,  True,  True, False, False,  True,  True,  True,\n",
       "        True,  True, False, False, False,  True,  True,  True,  True,\n",
       "        True,  True,  True,  True,  True,  True, False, False,  True,\n",
       "       False,  True,  True,  True,  True, False, False, False, False,\n",
       "        True,  True,  True,  True, False, False,  True,  True,  True,\n",
       "        True, False,  True, False,  True,  True,  True,  True,  True,\n",
       "        True,  True,  True,  True,  True,  True,  True,  True,  True,\n",
       "        True,  True,  True,  True,  True,  True,  True,  True,  True,\n",
       "        True,  True,  True, False,  True,  True,  True,  True,  True,\n",
       "        True,  True,  True,  True,  True,  True,  True,  True,  True,\n",
       "        True,  True,  True,  True, False,  True,  True,  True,  True,\n",
       "        True,  True,  True,  True, False,  True,  True,  True,  True,\n",
       "        True,  True,  True, False,  True,  True,  True, False, False,\n",
       "       False,  True,  True,  True,  True,  True,  True,  True,  True,\n",
       "        True,  True,  True,  True,  True,  True,  True, False,  True,\n",
       "        True, False,  True, False,  True,  True,  True,  True,  True,\n",
       "        True,  True,  True,  True,  True,  True,  True,  True,  True,\n",
       "        True,  True,  True,  True,  True,  True,  True,  True,  True,\n",
       "        True,  True,  True,  True])</pre></div></div></li><li class='xr-section-item'><input id='section-e4066247-2d78-4995-a056-11abb865193a' class='xr-section-summary-in' type='checkbox'  checked><label for='section-e4066247-2d78-4995-a056-11abb865193a' class='xr-section-summary' >Coordinates: <span>(3)</span></label><div class='xr-section-inline-details'></div><div class='xr-section-details'><ul class='xr-var-list'><li class='xr-var-item'><div class='xr-var-name'><span class='xr-has-index'>sample</span></div><div class='xr-var-dims'>(sample)</div><div class='xr-var-dtype'>object</div><div class='xr-var-preview xr-preview'>MultiIndex</div><input id='attrs-bdf2ee82-c44e-4306-87c4-747514fab8d8' class='xr-var-attrs-in' type='checkbox' disabled><label for='attrs-bdf2ee82-c44e-4306-87c4-747514fab8d8' title='Show/Hide attributes'><svg class='icon xr-icon-file-text2'><use xlink:href='#icon-file-text2'></use></svg></label><input id='data-a092f29d-3979-46cb-a3d7-4eac47673abb' class='xr-var-data-in' type='checkbox'><label for='data-a092f29d-3979-46cb-a3d7-4eac47673abb' title='Show/Hide data repr'><svg class='icon xr-icon-database'><use xlink:href='#icon-database'></use></svg></label><div class='xr-var-attrs'><dl class='xr-attrs'></dl></div><div class='xr-var-data'><pre>array([(68.5, 15.5), (68.5, 15.600000381469727), (68.5, 15.699999809265137),\n",
       "       ..., (66.5999984741211, 17.200000762939453),\n",
       "       (66.5999984741211, 17.299999237060547),\n",
       "       (66.5999984741211, 17.399999618530273)], dtype=object)</pre></div></li><li class='xr-var-item'><div class='xr-var-name'><span class='xr-has-index'>lat</span></div><div class='xr-var-dims'>(sample)</div><div class='xr-var-dtype'>float32</div><div class='xr-var-preview xr-preview'>68.5 68.5 68.5 ... 66.6 66.6 66.6</div><input id='attrs-495f6dd9-0423-48cb-8c5b-6bbd077420e4' class='xr-var-attrs-in' type='checkbox' ><label for='attrs-495f6dd9-0423-48cb-8c5b-6bbd077420e4' title='Show/Hide attributes'><svg class='icon xr-icon-file-text2'><use xlink:href='#icon-file-text2'></use></svg></label><input id='data-1364d3e1-3a42-4d17-91fa-410ca63682b9' class='xr-var-data-in' type='checkbox'><label for='data-1364d3e1-3a42-4d17-91fa-410ca63682b9' title='Show/Hide data repr'><svg class='icon xr-icon-database'><use xlink:href='#icon-database'></use></svg></label><div class='xr-var-attrs'><dl class='xr-attrs'><dt><span>axis :</span></dt><dd>Y</dd><dt><span>long_name :</span></dt><dd>latitude</dd><dt><span>standard_name :</span></dt><dd>latitude</dd><dt><span>units :</span></dt><dd>degrees_north</dd></dl></div><div class='xr-var-data'><pre>array([68.5     , 68.5     , 68.5     , ..., 66.599998, 66.599998, 66.599998])</pre></div></li><li class='xr-var-item'><div class='xr-var-name'><span class='xr-has-index'>lon</span></div><div class='xr-var-dims'>(sample)</div><div class='xr-var-dtype'>float32</div><div class='xr-var-preview xr-preview'>15.5 15.6 15.7 ... 17.2 17.3 17.4</div><input id='attrs-d2bc8db0-27bf-4f86-80ab-4073f7c91509' class='xr-var-attrs-in' type='checkbox' ><label for='attrs-d2bc8db0-27bf-4f86-80ab-4073f7c91509' title='Show/Hide attributes'><svg class='icon xr-icon-file-text2'><use xlink:href='#icon-file-text2'></use></svg></label><input id='data-4fcdeb65-5878-4b4e-9dd8-ef30f898a0db' class='xr-var-data-in' type='checkbox'><label for='data-4fcdeb65-5878-4b4e-9dd8-ef30f898a0db' title='Show/Hide data repr'><svg class='icon xr-icon-database'><use xlink:href='#icon-database'></use></svg></label><div class='xr-var-attrs'><dl class='xr-attrs'><dt><span>axis :</span></dt><dd>X</dd><dt><span>long_name :</span></dt><dd>longitude</dd><dt><span>standard_name :</span></dt><dd>longitude</dd><dt><span>units :</span></dt><dd>degrees_east</dd></dl></div><div class='xr-var-data'><pre>array([15.5     , 15.6     , 15.7     , ..., 17.200001, 17.299999, 17.4     ])</pre></div></li></ul></div></li><li class='xr-section-item'><input id='section-ff5508d7-24cd-40a9-bb8d-f217c7a335a1' class='xr-section-summary-in' type='checkbox'  ><label for='section-ff5508d7-24cd-40a9-bb8d-f217c7a335a1' class='xr-section-summary' >Indexes: <span>(1)</span></label><div class='xr-section-inline-details'></div><div class='xr-section-details'><ul class='xr-var-list'><li class='xr-var-item'><div class='xr-index-name'><div>sample<br>lat<br>lon</div></div><div class='xr-index-preview'>PandasMultiIndex</div><div></div><input id='index-3f36a7ab-2482-4000-bcca-e2f3cb4cd8aa' class='xr-index-data-in' type='checkbox'/><label for='index-3f36a7ab-2482-4000-bcca-e2f3cb4cd8aa' title='Show/Hide index repr'><svg class='icon xr-icon-database'><use xlink:href='#icon-database'></use></svg></label><div class='xr-index-data'><pre>PandasIndex(MultiIndex([(            68.5,               15.5),\n",
       "            (            68.5, 15.600000381469727),\n",
       "            (            68.5, 15.699999809265137),\n",
       "            (            68.5, 15.800000190734863),\n",
       "            (            68.5, 15.899999618530273),\n",
       "            (            68.5,               16.0),\n",
       "            (            68.5, 16.100000381469727),\n",
       "            (            68.5, 16.200000762939453),\n",
       "            (            68.5, 16.299999237060547),\n",
       "            (            68.5, 16.399999618530273),\n",
       "            ...\n",
       "            (66.5999984741211,               16.5),\n",
       "            (66.5999984741211, 16.600000381469727),\n",
       "            (66.5999984741211, 16.700000762939453),\n",
       "            (66.5999984741211, 16.799999237060547),\n",
       "            (66.5999984741211, 16.899999618530273),\n",
       "            (66.5999984741211,               17.0),\n",
       "            (66.5999984741211, 17.100000381469727),\n",
       "            (66.5999984741211, 17.200000762939453),\n",
       "            (66.5999984741211, 17.299999237060547),\n",
       "            (66.5999984741211, 17.399999618530273)],\n",
       "           name=&#x27;sample&#x27;, length=400))</pre></div></li></ul></div></li><li class='xr-section-item'><input id='section-a954ab71-8a66-4c6d-809f-d93391cf4def' class='xr-section-summary-in' type='checkbox' disabled ><label for='section-a954ab71-8a66-4c6d-809f-d93391cf4def' class='xr-section-summary'  title='Expand/collapse section'>Attributes: <span>(0)</span></label><div class='xr-section-inline-details'></div><div class='xr-section-details'><dl class='xr-attrs'></dl></div></li></ul></div></div>"
      ],
      "text/plain": [
       "<xarray.DataArray 'mask' (sample: 400)>\n",
       "array([False,  True,  True,  True, False, False,  True,  True,  True,\n",
       "       False, False, False,  True,  True,  True,  True, False, False,\n",
       "       False, False,  True,  True,  True, False,  True,  True, False,\n",
       "       False,  True, False, False, False,  True, False,  True, False,\n",
       "       False,  True, False, False, False, False, False, False, False,\n",
       "       False, False, False, False, False, False, False, False, False,\n",
       "       False, False,  True,  True, False, False, False, False, False,\n",
       "       False, False, False, False, False, False, False, False,  True,\n",
       "        True,  True,  True,  True,  True, False,  True,  True, False,\n",
       "       False, False, False, False, False, False, False, False, False,\n",
       "       False,  True, False, False, False, False, False,  True, False,\n",
       "        True,  True,  True, False, False,  True, False,  True, False,\n",
       "       False, False,  True,  True, False,  True, False,  True, False,\n",
       "        True,  True,  True, False, False, False,  True,  True,  True,\n",
       "        True, False, False,  True,  True,  True,  True,  True,  True,\n",
       "       False,  True,  True,  True,  True, False, False,  True,  True,\n",
       "        True,  True,  True,  True,  True,  True,  True,  True,  True,\n",
       "        True,  True,  True,  True, False,  True, False, False,  True,\n",
       "        True,  True,  True,  True,  True, False,  True, False,  True,\n",
       "        True,  True,  True,  True,  True,  True,  True,  True,  True,\n",
       "...\n",
       "        True, False, False,  True,  True,  True,  True, False, False,\n",
       "        True, False,  True,  True, False, False,  True,  True,  True,\n",
       "        True,  True, False, False, False,  True,  True,  True,  True,\n",
       "        True,  True,  True,  True,  True,  True, False, False,  True,\n",
       "       False,  True,  True,  True,  True, False, False, False, False,\n",
       "        True,  True,  True,  True, False, False,  True,  True,  True,\n",
       "        True, False,  True, False,  True,  True,  True,  True,  True,\n",
       "        True,  True,  True,  True,  True,  True,  True,  True,  True,\n",
       "        True,  True,  True,  True,  True,  True,  True,  True,  True,\n",
       "        True,  True,  True, False,  True,  True,  True,  True,  True,\n",
       "        True,  True,  True,  True,  True,  True,  True,  True,  True,\n",
       "        True,  True,  True,  True, False,  True,  True,  True,  True,\n",
       "        True,  True,  True,  True, False,  True,  True,  True,  True,\n",
       "        True,  True,  True, False,  True,  True,  True, False, False,\n",
       "       False,  True,  True,  True,  True,  True,  True,  True,  True,\n",
       "        True,  True,  True,  True,  True,  True,  True, False,  True,\n",
       "        True, False,  True, False,  True,  True,  True,  True,  True,\n",
       "        True,  True,  True,  True,  True,  True,  True,  True,  True,\n",
       "        True,  True,  True,  True,  True,  True,  True,  True,  True,\n",
       "        True,  True,  True,  True])\n",
       "Coordinates:\n",
       "  * sample   (sample) object MultiIndex\n",
       "  * lat      (sample) float32 68.5 68.5 68.5 68.5 68.5 ... 66.6 66.6 66.6 66.6\n",
       "  * lon      (sample) float32 15.5 15.6 15.7 15.8 15.9 ... 17.1 17.2 17.3 17.4"
      ]
     },
     "execution_count": 38,
     "metadata": {},
     "output_type": "execute_result"
    }
   ],
   "source": [
    "dc.mask"
   ]
  },
  {
   "cell_type": "code",
   "execution_count": 1,
   "metadata": {},
   "outputs": [],
   "source": [
    "def iterate():\n",
    "    i = 0\n",
    "    try:\n",
    "        while True:\n",
    "            result = i\n",
    "            i += 1\n",
    "            if i == 5:\n",
    "                return\n",
    "            yield result\n",
    "    finally:\n",
    "        print('finally')"
   ]
  },
  {
   "cell_type": "code",
   "execution_count": 3,
   "metadata": {},
   "outputs": [
    {
     "name": "stdout",
     "output_type": "stream",
     "text": [
      "0\n",
      "1\n",
      "2\n",
      "3\n",
      "finally\n",
      "0\n",
      "1\n",
      "2\n",
      "3\n",
      "finally\n"
     ]
    }
   ],
   "source": [
    "for j in range(2):\n",
    "    for i in iterate():\n",
    "        print(i)"
   ]
  },
  {
   "cell_type": "code",
   "execution_count": null,
   "metadata": {},
   "outputs": [],
   "source": []
  },
  {
   "cell_type": "code",
   "execution_count": 6,
   "metadata": {},
   "outputs": [],
   "source": [
    "import xarray as xr\n",
    "\n",
    "mask = xr.open_zarr('/Net/Groups/BGI/scratch/bkraft/drought_data/cube.zarr').fold_mask"
   ]
  },
  {
   "cell_type": "code",
   "execution_count": 8,
   "metadata": {},
   "outputs": [],
   "source": [
    "ind_x = xr.DataArray([76.5,  76.4], dims=[\"x\"])\n",
    "ind_y = xr.DataArray([-74.5, -74.4], dims=[\"y\"])"
   ]
  },
  {
   "cell_type": "code",
   "execution_count": 9,
   "metadata": {},
   "outputs": [
    {
     "ename": "TypeError",
     "evalue": "invalid indexer array, does not have integer dtype: array([76.5, 76.4])",
     "output_type": "error",
     "traceback": [
      "\u001b[0;31m---------------------------------------------------------------------------\u001b[0m",
      "\u001b[0;31mTypeError\u001b[0m                                 Traceback (most recent call last)",
      "Cell \u001b[0;32mIn[9], line 1\u001b[0m\n\u001b[0;32m----> 1\u001b[0m mask[ind_x, ind_y]\n",
      "File \u001b[0;32m/Net/Groups/BGI/people/bkraft/anaconda3/envs/dml/lib/python3.10/site-packages/xarray/core/dataarray.py:819\u001b[0m, in \u001b[0;36mDataArray.__getitem__\u001b[0;34m(self, key)\u001b[0m\n\u001b[1;32m    816\u001b[0m     \u001b[39mreturn\u001b[39;00m \u001b[39mself\u001b[39m\u001b[39m.\u001b[39m_getitem_coord(key)\n\u001b[1;32m    817\u001b[0m \u001b[39melse\u001b[39;00m:\n\u001b[1;32m    818\u001b[0m     \u001b[39m# xarray-style array indexing\u001b[39;00m\n\u001b[0;32m--> 819\u001b[0m     \u001b[39mreturn\u001b[39;00m \u001b[39mself\u001b[39;49m\u001b[39m.\u001b[39;49misel(indexers\u001b[39m=\u001b[39;49m\u001b[39mself\u001b[39;49m\u001b[39m.\u001b[39;49m_item_key_to_dict(key))\n",
      "File \u001b[0;32m/Net/Groups/BGI/people/bkraft/anaconda3/envs/dml/lib/python3.10/site-packages/xarray/core/dataarray.py:1390\u001b[0m, in \u001b[0;36mDataArray.isel\u001b[0;34m(self, indexers, drop, missing_dims, **indexers_kwargs)\u001b[0m\n\u001b[1;32m   1387\u001b[0m indexers \u001b[39m=\u001b[39m either_dict_or_kwargs(indexers, indexers_kwargs, \u001b[39m\"\u001b[39m\u001b[39misel\u001b[39m\u001b[39m\"\u001b[39m)\n\u001b[1;32m   1389\u001b[0m \u001b[39mif\u001b[39;00m \u001b[39many\u001b[39m(is_fancy_indexer(idx) \u001b[39mfor\u001b[39;00m idx \u001b[39min\u001b[39;00m indexers\u001b[39m.\u001b[39mvalues()):\n\u001b[0;32m-> 1390\u001b[0m     ds \u001b[39m=\u001b[39m \u001b[39mself\u001b[39;49m\u001b[39m.\u001b[39;49m_to_temp_dataset()\u001b[39m.\u001b[39;49m_isel_fancy(\n\u001b[1;32m   1391\u001b[0m         indexers, drop\u001b[39m=\u001b[39;49mdrop, missing_dims\u001b[39m=\u001b[39;49mmissing_dims\n\u001b[1;32m   1392\u001b[0m     )\n\u001b[1;32m   1393\u001b[0m     \u001b[39mreturn\u001b[39;00m \u001b[39mself\u001b[39m\u001b[39m.\u001b[39m_from_temp_dataset(ds)\n\u001b[1;32m   1395\u001b[0m \u001b[39m# Much faster algorithm for when all indexers are ints, slices, one-dimensional\u001b[39;00m\n\u001b[1;32m   1396\u001b[0m \u001b[39m# lists, or zero or one-dimensional np.ndarray's\u001b[39;00m\n",
      "File \u001b[0;32m/Net/Groups/BGI/people/bkraft/anaconda3/envs/dml/lib/python3.10/site-packages/xarray/core/dataset.py:2475\u001b[0m, in \u001b[0;36mDataset._isel_fancy\u001b[0;34m(self, indexers, drop, missing_dims)\u001b[0m\n\u001b[1;32m   2471\u001b[0m var_indexers \u001b[39m=\u001b[39m {\n\u001b[1;32m   2472\u001b[0m     k: v \u001b[39mfor\u001b[39;00m k, v \u001b[39min\u001b[39;00m valid_indexers\u001b[39m.\u001b[39mitems() \u001b[39mif\u001b[39;00m k \u001b[39min\u001b[39;00m var\u001b[39m.\u001b[39mdims\n\u001b[1;32m   2473\u001b[0m }\n\u001b[1;32m   2474\u001b[0m \u001b[39mif\u001b[39;00m var_indexers:\n\u001b[0;32m-> 2475\u001b[0m     new_var \u001b[39m=\u001b[39m var\u001b[39m.\u001b[39;49misel(indexers\u001b[39m=\u001b[39;49mvar_indexers)\n\u001b[1;32m   2476\u001b[0m     \u001b[39m# drop scalar coordinates\u001b[39;00m\n\u001b[1;32m   2477\u001b[0m     \u001b[39m# https://github.com/pydata/xarray/issues/6554\u001b[39;00m\n\u001b[1;32m   2478\u001b[0m     \u001b[39mif\u001b[39;00m name \u001b[39min\u001b[39;00m \u001b[39mself\u001b[39m\u001b[39m.\u001b[39mcoords \u001b[39mand\u001b[39;00m drop \u001b[39mand\u001b[39;00m new_var\u001b[39m.\u001b[39mndim \u001b[39m==\u001b[39m \u001b[39m0\u001b[39m:\n",
      "File \u001b[0;32m/Net/Groups/BGI/people/bkraft/anaconda3/envs/dml/lib/python3.10/site-packages/xarray/core/variable.py:1322\u001b[0m, in \u001b[0;36mVariable.isel\u001b[0;34m(self, indexers, missing_dims, **indexers_kwargs)\u001b[0m\n\u001b[1;32m   1319\u001b[0m indexers \u001b[39m=\u001b[39m drop_dims_from_indexers(indexers, \u001b[39mself\u001b[39m\u001b[39m.\u001b[39mdims, missing_dims)\n\u001b[1;32m   1321\u001b[0m key \u001b[39m=\u001b[39m \u001b[39mtuple\u001b[39m(indexers\u001b[39m.\u001b[39mget(dim, \u001b[39mslice\u001b[39m(\u001b[39mNone\u001b[39;00m)) \u001b[39mfor\u001b[39;00m dim \u001b[39min\u001b[39;00m \u001b[39mself\u001b[39m\u001b[39m.\u001b[39mdims)\n\u001b[0;32m-> 1322\u001b[0m \u001b[39mreturn\u001b[39;00m \u001b[39mself\u001b[39;49m[key]\n",
      "File \u001b[0;32m/Net/Groups/BGI/people/bkraft/anaconda3/envs/dml/lib/python3.10/site-packages/xarray/core/variable.py:869\u001b[0m, in \u001b[0;36mVariable.__getitem__\u001b[0;34m(self, key)\u001b[0m\n\u001b[1;32m    856\u001b[0m \u001b[39mdef\u001b[39;00m \u001b[39m__getitem__\u001b[39m(\u001b[39mself\u001b[39m: T_Variable, key) \u001b[39m-\u001b[39m\u001b[39m>\u001b[39m T_Variable:\n\u001b[1;32m    857\u001b[0m     \u001b[39m\"\"\"Return a new Variable object whose contents are consistent with\u001b[39;00m\n\u001b[1;32m    858\u001b[0m \u001b[39m    getting the provided key from the underlying data.\u001b[39;00m\n\u001b[1;32m    859\u001b[0m \n\u001b[0;32m   (...)\u001b[0m\n\u001b[1;32m    867\u001b[0m \u001b[39m    array `x.values` directly.\u001b[39;00m\n\u001b[1;32m    868\u001b[0m \u001b[39m    \"\"\"\u001b[39;00m\n\u001b[0;32m--> 869\u001b[0m     dims, indexer, new_order \u001b[39m=\u001b[39m \u001b[39mself\u001b[39;49m\u001b[39m.\u001b[39;49m_broadcast_indexes(key)\n\u001b[1;32m    870\u001b[0m     data \u001b[39m=\u001b[39m as_indexable(\u001b[39mself\u001b[39m\u001b[39m.\u001b[39m_data)[indexer]\n\u001b[1;32m    871\u001b[0m     \u001b[39mif\u001b[39;00m new_order:\n",
      "File \u001b[0;32m/Net/Groups/BGI/people/bkraft/anaconda3/envs/dml/lib/python3.10/site-packages/xarray/core/variable.py:730\u001b[0m, in \u001b[0;36mVariable._broadcast_indexes\u001b[0;34m(self, key)\u001b[0m\n\u001b[1;32m    728\u001b[0m         dims\u001b[39m.\u001b[39mappend(d)\n\u001b[1;32m    729\u001b[0m \u001b[39mif\u001b[39;00m \u001b[39mlen\u001b[39m(\u001b[39mset\u001b[39m(dims)) \u001b[39m==\u001b[39m \u001b[39mlen\u001b[39m(dims):\n\u001b[0;32m--> 730\u001b[0m     \u001b[39mreturn\u001b[39;00m \u001b[39mself\u001b[39;49m\u001b[39m.\u001b[39;49m_broadcast_indexes_outer(key)\n\u001b[1;32m    732\u001b[0m \u001b[39mreturn\u001b[39;00m \u001b[39mself\u001b[39m\u001b[39m.\u001b[39m_broadcast_indexes_vectorized(key)\n",
      "File \u001b[0;32m/Net/Groups/BGI/people/bkraft/anaconda3/envs/dml/lib/python3.10/site-packages/xarray/core/variable.py:791\u001b[0m, in \u001b[0;36mVariable._broadcast_indexes_outer\u001b[0;34m(self, key)\u001b[0m\n\u001b[1;32m    788\u001b[0m             (k,) \u001b[39m=\u001b[39m np\u001b[39m.\u001b[39mnonzero(k)\n\u001b[1;32m    789\u001b[0m     new_key\u001b[39m.\u001b[39mappend(k)\n\u001b[0;32m--> 791\u001b[0m \u001b[39mreturn\u001b[39;00m dims, OuterIndexer(\u001b[39mtuple\u001b[39;49m(new_key)), \u001b[39mNone\u001b[39;00m\n",
      "File \u001b[0;32m/Net/Groups/BGI/people/bkraft/anaconda3/envs/dml/lib/python3.10/site-packages/xarray/core/indexing.py:373\u001b[0m, in \u001b[0;36mOuterIndexer.__init__\u001b[0;34m(self, key)\u001b[0m\n\u001b[1;32m    371\u001b[0m \u001b[39melif\u001b[39;00m \u001b[39misinstance\u001b[39m(k, np\u001b[39m.\u001b[39mndarray):\n\u001b[1;32m    372\u001b[0m     \u001b[39mif\u001b[39;00m \u001b[39mnot\u001b[39;00m np\u001b[39m.\u001b[39missubdtype(k\u001b[39m.\u001b[39mdtype, np\u001b[39m.\u001b[39minteger):\n\u001b[0;32m--> 373\u001b[0m         \u001b[39mraise\u001b[39;00m \u001b[39mTypeError\u001b[39;00m(\n\u001b[1;32m    374\u001b[0m             \u001b[39mf\u001b[39m\u001b[39m\"\u001b[39m\u001b[39minvalid indexer array, does not have integer dtype: \u001b[39m\u001b[39m{\u001b[39;00mk\u001b[39m!r}\u001b[39;00m\u001b[39m\"\u001b[39m\n\u001b[1;32m    375\u001b[0m         )\n\u001b[1;32m    376\u001b[0m     \u001b[39mif\u001b[39;00m k\u001b[39m.\u001b[39mndim \u001b[39m!=\u001b[39m \u001b[39m1\u001b[39m:\n\u001b[1;32m    377\u001b[0m         \u001b[39mraise\u001b[39;00m \u001b[39mTypeError\u001b[39;00m(\n\u001b[1;32m    378\u001b[0m             \u001b[39mf\u001b[39m\u001b[39m\"\u001b[39m\u001b[39minvalid indexer array for \u001b[39m\u001b[39m{\u001b[39;00m\u001b[39mtype\u001b[39m(\u001b[39mself\u001b[39m)\u001b[39m.\u001b[39m\u001b[39m__name__\u001b[39m\u001b[39m}\u001b[39;00m\u001b[39m; must have \u001b[39m\u001b[39m\"\u001b[39m\n\u001b[1;32m    379\u001b[0m             \u001b[39mf\u001b[39m\u001b[39m\"\u001b[39m\u001b[39mexactly 1 dimension: \u001b[39m\u001b[39m{\u001b[39;00mk\u001b[39m!r}\u001b[39;00m\u001b[39m\"\u001b[39m\n\u001b[1;32m    380\u001b[0m         )\n",
      "\u001b[0;31mTypeError\u001b[0m: invalid indexer array, does not have integer dtype: array([76.5, 76.4])"
     ]
    }
   ],
   "source": [
    "mask[ind_x, ind_y]"
   ]
  },
  {
   "cell_type": "code",
   "execution_count": null,
   "metadata": {},
   "outputs": [],
   "source": []
  },
  {
   "cell_type": "code",
   "execution_count": null,
   "metadata": {},
   "outputs": [],
   "source": []
  },
  {
   "cell_type": "code",
   "execution_count": 1,
   "metadata": {},
   "outputs": [],
   "source": [
    "from dataset import GeoDataQueue\n",
    "from collections import namedtuple\n",
    "\n",
    "ReturnPattern = namedtuple('ReturnPattern', 'mean_hat var_hat coords')\n",
    "\n",
    "\n",
    "geodata = GeoDataQueue(\n",
    "    fold_id=0,\n",
    "    batch_size=4,\n",
    "    chunk_buffer_size=4,\n",
    "    num_queue_workers=12,\n",
    ")\n",
    "\n",
    "geodata.setup('predict')\n",
    "pdl = geodata.predict_dataloader()\n",
    "\n",
    "class Trainer(object):\n",
    "    def __init__(self, dataloader):\n",
    "        self.predict_dataloaders = [dataloader]\n",
    "        self.log_dir = './'\n",
    "\n",
    "trainer = Trainer(pdl)\n"
   ]
  },
  {
   "cell_type": "code",
   "execution_count": 46,
   "metadata": {},
   "outputs": [],
   "source": [
    "from pytorch_lightning.callbacks import BasePredictionWriter\n",
    "import xarray as xr\n",
    "import os\n",
    "import shutil\n",
    "import logging\n",
    "import numpy as np\n",
    "import torch.multiprocessing as mp\n",
    "from time import sleep\n",
    "\n",
    "from typing import Any, Sequence\n",
    "\n",
    "from dataset import QueueFiller\n",
    "\n",
    "Coords = namedtuple('Coords', 'lat, lon, chunk')\n",
    "\n",
    "logger = logging.getLogger('user_logger')\n",
    "\n",
    "class OutputWriter(BasePredictionWriter):\n",
    "\n",
    "    def __init__(\n",
    "            self,\n",
    "            targets: str | list[str],\n",
    "            overwrite: bool | str = True) -> None:\n",
    "        super().__init__(write_interval='batch')\n",
    "\n",
    "        self.targets = [targets] if isinstance(targets, str) else targets\n",
    "        self.overwrite = overwrite\n",
    "\n",
    "        self.zarr_file: str | None = None\n",
    "\n",
    "        self.processes: list[mp.Process] = []\n",
    "        self.chunks = {}\n",
    "\n",
    "    def write_on_batch_end(\n",
    "            self,\n",
    "            trainer: 'pl.Trainer',\n",
    "            pl_module: 'pl.LightningModule',\n",
    "            prediction: Any,\n",
    "            batch_indices: Sequence[int] | None,\n",
    "            batch: Any,\n",
    "            batch_idx: int,\n",
    "            dataloader_idx: int) -> None:\n",
    "\n",
    "        if self.zarr_file is None:\n",
    "            self.has_variance = prediction.var_hat is not None\n",
    "            self.zarr_file, self.mask, self.chunk_coords, chunk_size = self.init_zarr(\n",
    "                trainer=trainer, dataloader_idx=dataloader_idx, has_variance=self.has_variance)\n",
    "            self.chunk_bounds_lat = QueueFiller.coords2bounds(self.mask, dim='lat', chunk_size=chunk_size)\n",
    "            self.chunk_bounds_lon = QueueFiller.coords2bounds(self.mask, dim='lon', chunk_size=chunk_size)\n",
    "\n",
    "        for i in range(len(prediction.coords.chunk)):\n",
    "            i_pred = self.subset_namedtuple(prediction, i)\n",
    "            chunk_id = i_pred.coords.chunk\n",
    "\n",
    "            if chunk_id not in self.chunks:\n",
    "                chunk_lat, chunk_lon = self.chunk_coords[chunk_id]\n",
    "\n",
    "                lat_bounds = slice(*self.chunk_bounds_lat[chunk_lat])\n",
    "                lon_bounds = slice(*self.chunk_bounds_lon[chunk_lon])\n",
    "                num_samples = self.mask.isel(lat=lat_bounds, lon=lon_bounds).sum().compute()\n",
    "\n",
    "                chunk_ds = self.get_target_like(\n",
    "                    self.zarr_file.isel(lat=lat_bounds, lon=lon_bounds),\n",
    "                    has_variance=self.has_variance,\n",
    "                    use_orig_name=False\n",
    "                )\n",
    "\n",
    "                self.chunks[chunk_id] = {\n",
    "                    'ds': chunk_ds,\n",
    "                    'num_samples': num_samples,\n",
    "                    'num_saved': 0,\n",
    "                    'lat_bounds': lat_bounds,\n",
    "                    'lon_bounds': lon_bounds,\n",
    "                }\n",
    "\n",
    "            for target_i, target in enumerate(self.targets):\n",
    "                self.chunks[chunk_id]['ds'][\n",
    "                    self.get_target_pred_name(name=target, is_variance=False)\n",
    "                ].loc[{'lat': i_pred.coords.lat, 'lon': i_pred.coords.lon}] = i_pred.mean_hat[..., target_i]\n",
    "\n",
    "                if self.has_variance:\n",
    "                    self.chunks[chunk_id]['ds'][\n",
    "                        self.get_target_pred_name(name=target, is_variance=True)\n",
    "                    ].loc[{'lat': i_pred.coords.lat, 'lon': i_pred.coords.lon}] = i_pred.var_hat[..., target_i]\n",
    "\n",
    "            self.chunks[chunk_id]['num_saved'] += 1\n",
    "\n",
    "            if self.chunks[chunk_id]['num_saved'] == self.chunks[chunk_id]['num_samples']:\n",
    "                process = mp.Process(target=self.write_chunk, args=(self.chunks[chunk_id],))\n",
    "                self.processes.append(process)\n",
    "                print(f'Start process, currently {len(self.processes)} write processes alive.')\n",
    "                del self.chunks[chunk_id]\n",
    "                process.start()\n",
    "\n",
    "            remove_processes = []\n",
    "            for process_i, process in enumerate(self.processes):\n",
    "                if not process.is_alive():\n",
    "                    remove_processes.append(process_i)\n",
    "\n",
    "            if len(remove_processes) > 0:\n",
    "                print(f'Terminating {len(remove_processes)} write processes.')\n",
    "\n",
    "                for process_i in reversed(remove_processes):\n",
    "                    process = self.processes.pop(process_i)\n",
    "                    process.terminate()\n",
    "                    process.join()\n",
    "\n",
    "    def write_chunk(self, chunk: dict) -> None:\n",
    "        chunk_ds = chunk['ds'].drop_vars(['time'])\n",
    "\n",
    "        chunk_ds.to_zarr(self.zarr_file.encoding['source'], consolidated=True, region={\n",
    "            'lat': chunk['lat_bounds'],\n",
    "            'lon': chunk['lon_bounds']\n",
    "        })\n",
    "\n",
    "    def init_zarr(\n",
    "            self, trainer: 'pl.Trainer',\n",
    "            dataloader_idx: int,\n",
    "            has_variance: bool) -> tuple[xr.Dataset, xr.DataArray, np.typing.ArrayLike, int]:\n",
    "\n",
    "        zarr_dir = os.path.join(trainer.log_dir, 'predictions.zarr')\n",
    "\n",
    "        if os.path.isdir(zarr_dir):\n",
    "            if self.overwrite:\n",
    "                shutil.rmtree(zarr_dir)\n",
    "\n",
    "            else:\n",
    "                raise FileExistsError(\n",
    "                    f'The zar file {zarr_dir} already exists. Set `OutputWriter(..., overwrite=True)` '\n",
    "                    'to overwrite the file.'\n",
    "                )\n",
    "\n",
    "        dataset = trainer.predict_dataloaders[dataloader_idx].dataset\n",
    "        data = dataset.data\n",
    "\n",
    "        missing_targets = []\n",
    "        for target in self.targets:\n",
    "            if not target in data.data_vars:\n",
    "                missing_targets.append(target)\n",
    "\n",
    "        if len(missing_targets) > 0:\n",
    "            raise KeyError(\n",
    "                f'some target(s) missing in dataset: {missing_targets}.'\n",
    "            )\n",
    "\n",
    "        dummy = self.get_target_like(data, has_variance=has_variance, use_orig_name=True)\n",
    "        dummy.to_zarr(zarr_dir, compute=False)\n",
    "\n",
    "        return xr.open_zarr(zarr_dir), dataset.mask, dataset.chunk_coords, dataset.chunk_size\n",
    "\n",
    "    def get_target_like(self, data: xr.Dataset, has_variance: bool, use_orig_name: bool) -> xr.Dataset:\n",
    "        dummy = xr.Dataset()\n",
    "        for target in self.targets:\n",
    "            name = target if use_orig_name else self.get_target_pred_name(name=target, is_variance=False)\n",
    "            dummy[self.get_target_pred_name(name=target, is_variance=False)] = data[name]\n",
    "            if has_variance:\n",
    "                dummy[self.get_target_pred_name(name=target, is_variance=True)] = data[name]\n",
    "\n",
    "        return xr.full_like(dummy, fill_value=np.nan)\n",
    "\n",
    "    @staticmethod\n",
    "    def get_target_pred_name(name: str, is_variance: bool) -> bool:\n",
    "        if is_variance:\n",
    "            return name + '_vhat'\n",
    "        else:\n",
    "            return name + '_hat'\n",
    "\n",
    "    @staticmethod\n",
    "    def isnamedtuple(obj) -> bool:\n",
    "        return (\n",
    "                isinstance(obj, tuple) and\n",
    "                hasattr(obj, '_asdict') and\n",
    "                hasattr(obj, '_fields')\n",
    "        )\n",
    "\n",
    "    def subset_namedtuple(self: 'OutputWriter', x: namedtuple, ind: int) -> namedtuple:\n",
    "        el_type = type(x)\n",
    "\n",
    "        el_list = []\n",
    "        for el in x:\n",
    "            if self.isnamedtuple(el):\n",
    "                el_subset = self.subset_namedtuple(el, ind)\n",
    "            elif el is None:\n",
    "                el_subset = None\n",
    "            else:\n",
    "                el_subset = el[ind]\n",
    "                if el_subset.ndim == 0:\n",
    "                    el_subset = el_subset.item()\n",
    "                else:\n",
    "                    el_subset = el_subset.numpy()\n",
    "\n",
    "            el_list.append(el_subset)\n",
    "\n",
    "        return el_type(*el_list)"
   ]
  },
  {
   "cell_type": "code",
   "execution_count": 47,
   "metadata": {},
   "outputs": [],
   "source": [
    "output_writer = OutputWriter(targets='fvc_ano')"
   ]
  },
  {
   "cell_type": "code",
   "execution_count": 48,
   "metadata": {},
   "outputs": [],
   "source": [
    "from tqdm import tqdm"
   ]
  },
  {
   "cell_type": "code",
   "execution_count": 49,
   "metadata": {},
   "outputs": [
    {
     "name": "stderr",
     "output_type": "stream",
     "text": [
      "  0%|          | 4/7487 [00:19<7:41:02,  3.70s/it] "
     ]
    },
    {
     "name": "stdout",
     "output_type": "stream",
     "text": [
      "Checking processes in trial 0.\n",
      "Checking processes in trial 0.\n",
      "Checking processes in trial 0.\n",
      "Checking processes in trial 0.\n",
      "Checking processes in trial 0.\n",
      "Checking processes in trial 0.\n",
      "Checking processes in trial 0.\n",
      "Checking processes in trial 0.\n",
      "Checking processes in trial 0.\n",
      "Checking processes in trial 0.\n",
      "Checking processes in trial 0.\n",
      "Checking processes in trial 0.\n",
      "Checking processes in trial 0.\n",
      "Checking processes in trial 0.\n",
      "Checking processes in trial 0.\n",
      "Checking processes in trial 0.\n",
      "Checking processes in trial 0.\n",
      "Checking processes in trial 0.\n",
      "Checking processes in trial 0.\n",
      "Checking processes in trial 0.\n"
     ]
    },
    {
     "name": "stderr",
     "output_type": "stream",
     "text": [
      "  0%|          | 10/7487 [00:19<2:04:32,  1.00it/s]"
     ]
    },
    {
     "name": "stdout",
     "output_type": "stream",
     "text": [
      "Checking processes in trial 0.\n",
      "Checking processes in trial 0.\n",
      "Checking processes in trial 0.\n",
      "Checking processes in trial 0.\n",
      "Checking processes in trial 0.\n",
      "Checking processes in trial 0.\n",
      "Checking processes in trial 0.\n",
      "Checking processes in trial 0.\n",
      "Checking processes in trial 0.\n",
      "Checking processes in trial 0.\n",
      "Checking processes in trial 0.\n",
      "Checking processes in trial 0.\n",
      "Checking processes in trial 0.\n",
      "Checking processes in trial 0.\n",
      "Checking processes in trial 0.\n",
      "Checking processes in trial 0.\n",
      "Checking processes in trial 0.\n",
      "Checking processes in trial 0.\n",
      "Checking processes in trial 0.\n",
      "Checking processes in trial 0.\n",
      "Checking processes in trial 0.\n"
     ]
    },
    {
     "name": "stderr",
     "output_type": "stream",
     "text": [
      "  0%|          | 13/7487 [00:19<1:18:51,  1.58it/s]"
     ]
    },
    {
     "name": "stdout",
     "output_type": "stream",
     "text": [
      "Checking processes in trial 0.\n",
      "Checking processes in trial 0.\n",
      "Checking processes in trial 0.\n",
      "Checking processes in trial 0.\n",
      "Checking processes in trial 0.\n",
      "Checking processes in trial 0.\n",
      "Checking processes in trial 0.\n",
      "Checking processes in trial 0.\n",
      "Checking processes in trial 0.\n",
      "Checking processes in trial 0.\n",
      "Checking processes in trial 0.\n",
      "Checking processes in trial 0.\n",
      "Checking processes in trial 0.\n",
      "Checking processes in trial 0.\n",
      "Checking processes in trial 0.\n",
      "Checking processes in trial 0.\n",
      "Checking processes in trial 0.\n",
      "Checking processes in trial 0.\n",
      "Checking processes in trial 0.\n",
      "Checking processes in trial 0.\n",
      "Checking processes in trial 0.\n"
     ]
    },
    {
     "name": "stderr",
     "output_type": "stream",
     "text": [
      "  0%|          | 19/7487 [00:20<36:48,  3.38it/s]  "
     ]
    },
    {
     "name": "stdout",
     "output_type": "stream",
     "text": [
      "Checking processes in trial 0.\n",
      "Checking processes in trial 0.\n",
      "Checking processes in trial 0.\n",
      "Checking processes in trial 0.\n",
      "Checking processes in trial 0.\n",
      "Checking processes in trial 0.\n",
      "Checking processes in trial 0.\n",
      "Checking processes in trial 0.\n",
      "Checking processes in trial 0.\n",
      "Checking processes in trial 0.\n",
      "Checking processes in trial 0.\n",
      "Checking processes in trial 0.\n",
      "Checking processes in trial 0.\n",
      "Checking processes in trial 0.\n",
      "Checking processes in trial 0.\n",
      "Checking processes in trial 0.\n",
      "Checking processes in trial 0.\n",
      "Checking processes in trial 0.\n",
      "Checking processes in trial 0.\n",
      "Checking processes in trial 0.\n"
     ]
    },
    {
     "name": "stderr",
     "output_type": "stream",
     "text": [
      "  0%|          | 25/7487 [00:20<19:54,  6.25it/s]"
     ]
    },
    {
     "name": "stdout",
     "output_type": "stream",
     "text": [
      "Checking processes in trial 0.\n",
      "Checking processes in trial 0.\n",
      "Checking processes in trial 0.\n",
      "Checking processes in trial 0.\n",
      "Checking processes in trial 0.\n",
      "Checking processes in trial 0.\n",
      "Checking processes in trial 0.\n",
      "Checking processes in trial 0.\n",
      "Checking processes in trial 0.\n",
      "Checking processes in trial 0.\n",
      "Checking processes in trial 0.\n",
      "Checking processes in trial 0.\n",
      "Checking processes in trial 0.\n",
      "Checking processes in trial 0.\n",
      "Checking processes in trial 0.\n",
      "Checking processes in trial 0.\n",
      "Checking processes in trial 0.\n",
      "Checking processes in trial 0.\n",
      "Checking processes in trial 0.\n",
      "Checking processes in trial 0.\n",
      "Checking processes in trial 0.\n",
      "Start process, currently 1 write processes alive.\n"
     ]
    },
    {
     "name": "stderr",
     "output_type": "stream",
     "text": [
      "  0%|          | 28/7487 [00:20<15:53,  7.83it/s]"
     ]
    },
    {
     "name": "stdout",
     "output_type": "stream",
     "text": [
      "Checking processes in trial 0.\n",
      "Checking processes in trial 0.\n",
      "Checking processes in trial 0.\n",
      "Checking processes in trial 0.\n",
      "Checking processes in trial 0.\n",
      "Checking processes in trial 0.\n",
      "Checking processes in trial 0.\n",
      "Checking processes in trial 0.\n",
      "Checking processes in trial 0.\n",
      "Checking processes in trial 0.\n",
      "Checking processes in trial 0.\n",
      "Checking processes in trial 0.\n",
      "Checking processes in trial 0.\n",
      "Checking processes in trial 0.\n",
      "Checking processes in trial 0.\n",
      "Checking processes in trial 0.\n",
      "Checking processes in trial 0.\n",
      "Checking processes in trial 0.\n",
      "Checking processes in trial 0.\n"
     ]
    },
    {
     "name": "stderr",
     "output_type": "stream",
     "text": [
      "  0%|          | 34/7487 [00:20<10:24, 11.93it/s]"
     ]
    },
    {
     "name": "stdout",
     "output_type": "stream",
     "text": [
      "Checking processes in trial 0.\n",
      "Checking processes in trial 0.\n",
      "Checking processes in trial 0.\n",
      "Checking processes in trial 0.\n",
      "Checking processes in trial 0.\n",
      "Checking processes in trial 0.\n",
      "Checking processes in trial 0.\n",
      "Checking processes in trial 0.\n",
      "Checking processes in trial 0.\n",
      "Checking processes in trial 0.\n",
      "Checking processes in trial 0.\n",
      "Checking processes in trial 0.\n",
      "Checking processes in trial 0.\n",
      "Checking processes in trial 0.\n",
      "Checking processes in trial 0.\n",
      "Checking processes in trial 0.\n",
      "Checking processes in trial 0.\n",
      "Checking processes in trial 0.\n",
      "Checking processes in trial 0.\n",
      "Checking processes in trial 0.\n"
     ]
    },
    {
     "name": "stderr",
     "output_type": "stream",
     "text": [
      "  0%|          | 37/7487 [00:20<08:51, 14.01it/s]"
     ]
    },
    {
     "name": "stdout",
     "output_type": "stream",
     "text": [
      "Checking processes in trial 0.\n",
      "Checking processes in trial 0.\n",
      "Checking processes in trial 0.\n",
      "Checking processes in trial 0.\n",
      "Checking processes in trial 0.\n",
      "Checking processes in trial 0.\n",
      "Checking processes in trial 0.\n",
      "Checking processes in trial 0.\n",
      "Checking processes in trial 0.\n",
      "Checking processes in trial 0.\n",
      "Terminating 1 write processes.\n",
      "Checking processes in trial 0.\n",
      "Checking processes in trial 0.\n",
      "Checking processes in trial 0.\n",
      "Checking processes in trial 0.\n"
     ]
    },
    {
     "name": "stderr",
     "output_type": "stream",
     "text": [
      "  1%|          | 40/7487 [00:21<07:43, 16.05it/s]"
     ]
    },
    {
     "name": "stdout",
     "output_type": "stream",
     "text": [
      "Checking processes in trial 0.\n",
      "Checking processes in trial 0.\n",
      "Checking processes in trial 0.\n",
      "Checking processes in trial 0.\n",
      "Checking processes in trial 0.\n",
      "Checking processes in trial 0.\n"
     ]
    },
    {
     "name": "stderr",
     "output_type": "stream",
     "text": [
      "  1%|          | 43/7487 [00:21<07:05, 17.48it/s]"
     ]
    },
    {
     "name": "stdout",
     "output_type": "stream",
     "text": [
      "Checking processes in trial 0.\n",
      "Checking processes in trial 0.\n",
      "Checking processes in trial 0.\n",
      "Checking processes in trial 0.\n",
      "Checking processes in trial 0.\n",
      "Checking processes in trial 0.\n",
      "Checking processes in trial 0.\n",
      "Checking processes in trial 0.\n",
      "Checking processes in trial 0.\n",
      "Checking processes in trial 0.\n",
      "Checking processes in trial 0.\n",
      "Checking processes in trial 0.\n",
      "Checking processes in trial 0.\n",
      "Checking processes in trial 0.\n",
      "Checking processes in trial 0.\n",
      "Checking processes in trial 0.\n",
      "Checking processes in trial 0.\n",
      "Checking processes in trial 0.\n"
     ]
    },
    {
     "name": "stderr",
     "output_type": "stream",
     "text": [
      "  1%|          | 46/7487 [00:21<06:41, 18.55it/s]"
     ]
    },
    {
     "name": "stdout",
     "output_type": "stream",
     "text": [
      "Checking processes in trial 0.\n",
      "Checking processes in trial 0.\n",
      "Checking processes in trial 0.\n",
      "Checking processes in trial 0.\n",
      "Checking processes in trial 0.\n",
      "Checking processes in trial 0.\n",
      "Checking processes in trial 0.\n",
      "Checking processes in trial 0.\n",
      "Checking processes in trial 0.\n",
      "Checking processes in trial 0.\n",
      "Checking processes in trial 0.\n",
      "Checking processes in trial 0.\n",
      "Checking processes in trial 0.\n",
      "Checking processes in trial 0.\n",
      "Checking processes in trial 0.\n",
      "Start process, currently 1 write processes alive.\n"
     ]
    },
    {
     "name": "stderr",
     "output_type": "stream",
     "text": [
      "  1%|          | 49/7487 [00:21<06:28, 19.14it/s]"
     ]
    },
    {
     "name": "stdout",
     "output_type": "stream",
     "text": [
      "Checking processes in trial 0.\n",
      "Checking processes in trial 0.\n",
      "Checking processes in trial 0.\n"
     ]
    },
    {
     "name": "stderr",
     "output_type": "stream",
     "text": [
      "  1%|          | 52/7487 [00:21<05:59, 20.68it/s]"
     ]
    },
    {
     "name": "stdout",
     "output_type": "stream",
     "text": [
      "Checking processes in trial 0.\n",
      "Checking processes in trial 0.\n",
      "Checking processes in trial 0.\n",
      "Checking processes in trial 0.\n",
      "Checking processes in trial 0.\n",
      "Checking processes in trial 0.\n",
      "Checking processes in trial 0.\n",
      "Checking processes in trial 0.\n",
      "Checking processes in trial 0.\n",
      "Checking processes in trial 0.\n",
      "Checking processes in trial 0.\n",
      "Checking processes in trial 0.\n",
      "Checking processes in trial 0.\n",
      "Checking processes in trial 0.\n",
      "Checking processes in trial 0.\n",
      "Checking processes in trial 0.\n",
      "Checking processes in trial 0.\n",
      "Checking processes in trial 0.\n"
     ]
    },
    {
     "name": "stderr",
     "output_type": "stream",
     "text": [
      "  1%|          | 55/7487 [00:21<05:38, 21.95it/s]"
     ]
    },
    {
     "name": "stdout",
     "output_type": "stream",
     "text": [
      "Checking processes in trial 0.\n",
      "Checking processes in trial 0.\n",
      "Checking processes in trial 0.\n",
      "Checking processes in trial 0.\n"
     ]
    },
    {
     "name": "stderr",
     "output_type": "stream",
     "text": [
      "  1%|          | 58/7487 [00:21<05:26, 22.75it/s]"
     ]
    },
    {
     "name": "stdout",
     "output_type": "stream",
     "text": [
      "Checking processes in trial 0.\n",
      "Checking processes in trial 0.\n",
      "Checking processes in trial 0.\n",
      "Checking processes in trial 0.\n",
      "Checking processes in trial 0.\n",
      "Checking processes in trial 0.\n",
      "Checking processes in trial 0.\n",
      "Checking processes in trial 0.\n",
      "Checking processes in trial 0.\n",
      "Checking processes in trial 0.\n",
      "Checking processes in trial 0.\n",
      "Checking processes in trial 0.\n",
      "Checking processes in trial 0.\n",
      "Checking processes in trial 0.\n",
      "Checking processes in trial 0.\n",
      "Checking processes in trial 0.\n",
      "Checking processes in trial 0.\n",
      "Checking processes in trial 0.\n",
      "Checking processes in trial 0.\n",
      "Checking processes in trial 0.\n",
      "Checking processes in trial 0.\n"
     ]
    },
    {
     "name": "stderr",
     "output_type": "stream",
     "text": [
      "  1%|          | 64/7487 [00:22<05:07, 24.14it/s]"
     ]
    },
    {
     "name": "stdout",
     "output_type": "stream",
     "text": [
      "Checking processes in trial 0.\n",
      "Checking processes in trial 0.\n",
      "Checking processes in trial 0.\n",
      "Checking processes in trial 0.\n",
      "Checking processes in trial 0.\n",
      "Checking processes in trial 0.\n",
      "Checking processes in trial 0.\n",
      "Checking processes in trial 0.\n",
      "Checking processes in trial 0.\n",
      "Checking processes in trial 0.\n",
      "Checking processes in trial 0.\n",
      "Checking processes in trial 0.\n",
      "Checking processes in trial 0.\n",
      "Checking processes in trial 0.\n",
      "Checking processes in trial 0.\n",
      "Checking processes in trial 0.\n",
      "Checking processes in trial 0.\n",
      "Checking processes in trial 0.\n",
      "Checking processes in trial 0.\n"
     ]
    },
    {
     "name": "stderr",
     "output_type": "stream",
     "text": [
      "  1%|          | 67/7487 [00:22<05:40, 21.79it/s]"
     ]
    },
    {
     "name": "stdout",
     "output_type": "stream",
     "text": [
      "Checking processes in trial 0.\n",
      "Checking processes in trial 0.\n",
      "Checking processes in trial 0.\n",
      "Checking processes in trial 0.\n",
      "Checking processes in trial 0.\n",
      "Checking processes in trial 0.\n",
      "Checking processes in trial 0.\n",
      "Checking processes in trial 0.\n",
      "Checking processes in trial 0.\n",
      "Checking processes in trial 0.\n",
      "Checking processes in trial 0.\n",
      "Checking processes in trial 0.\n",
      "Checking processes in trial 0.\n",
      "Checking processes in trial 0.\n",
      "Checking processes in trial 0.\n",
      "Checking processes in trial 0.\n"
     ]
    },
    {
     "name": "stderr",
     "output_type": "stream",
     "text": [
      "  1%|          | 70/7487 [00:22<05:19, 23.23it/s]"
     ]
    },
    {
     "name": "stdout",
     "output_type": "stream",
     "text": [
      "Checking processes in trial 0.\n",
      "Checking processes in trial 0.\n",
      "Checking processes in trial 0.\n",
      "Checking processes in trial 0.\n"
     ]
    },
    {
     "name": "stderr",
     "output_type": "stream",
     "text": [
      "  1%|          | 73/7487 [00:22<05:06, 24.21it/s]"
     ]
    },
    {
     "name": "stdout",
     "output_type": "stream",
     "text": [
      "Checking processes in trial 0.\n",
      "Terminating 1 write processes.\n",
      "Checking processes in trial 0.\n",
      "Checking processes in trial 0.\n",
      "Checking processes in trial 0.\n",
      "Checking processes in trial 0.\n",
      "Checking processes in trial 0.\n",
      "Checking processes in trial 0.\n",
      "Checking processes in trial 0.\n",
      "Checking processes in trial 0.\n",
      "Checking processes in trial 0.\n",
      "Checking processes in trial 0.\n",
      "Checking processes in trial 0.\n",
      "Checking processes in trial 0.\n",
      "Checking processes in trial 0.\n",
      "Checking processes in trial 0.\n",
      "Checking processes in trial 0.\n",
      "Checking processes in trial 0.\n",
      "Checking processes in trial 0.\n",
      "Checking processes in trial 0.\n",
      "Checking processes in trial 0.\n"
     ]
    },
    {
     "name": "stderr",
     "output_type": "stream",
     "text": [
      "  1%|          | 76/7487 [00:22<05:37, 21.95it/s]"
     ]
    },
    {
     "name": "stdout",
     "output_type": "stream",
     "text": [
      "Checking processes in trial 0.\n",
      "Checking processes in trial 0.\n",
      "Checking processes in trial 0.\n",
      "Checking processes in trial 0.\n",
      "Checking processes in trial 0.\n",
      "Checking processes in trial 0.\n",
      "Checking processes in trial 0.\n",
      "Checking processes in trial 0.\n",
      "Checking processes in trial 0.\n",
      "Checking processes in trial 0.\n",
      "Checking processes in trial 0.\n",
      "Checking processes in trial 0.\n",
      "Checking processes in trial 0.\n",
      "Checking processes in trial 0.\n",
      "Checking processes in trial 0.\n"
     ]
    },
    {
     "name": "stderr",
     "output_type": "stream",
     "text": [
      "  1%|          | 79/7487 [00:22<05:29, 22.50it/s]"
     ]
    },
    {
     "name": "stdout",
     "output_type": "stream",
     "text": [
      "Checking processes in trial 0.\n",
      "Checking processes in trial 0.\n",
      "Checking processes in trial 0.\n",
      "Checking processes in trial 0.\n",
      "Checking processes in trial 0.\n"
     ]
    },
    {
     "name": "stderr",
     "output_type": "stream",
     "text": [
      "  1%|          | 82/7487 [00:22<05:13, 23.59it/s]"
     ]
    },
    {
     "name": "stdout",
     "output_type": "stream",
     "text": [
      "Checking processes in trial 0.\n",
      "Checking processes in trial 0.\n",
      "Checking processes in trial 0.\n",
      "Checking processes in trial 0.\n",
      "Checking processes in trial 0.\n",
      "Checking processes in trial 0.\n",
      "Checking processes in trial 0.\n",
      "Checking processes in trial 0.\n",
      "Checking processes in trial 0.\n",
      "Checking processes in trial 0.\n",
      "Checking processes in trial 0.\n",
      "Checking processes in trial 0.\n",
      "Checking processes in trial 0.\n",
      "Checking processes in trial 0.\n",
      "Checking processes in trial 0.\n",
      "Checking processes in trial 0.\n"
     ]
    },
    {
     "name": "stderr",
     "output_type": "stream",
     "text": [
      "  1%|          | 85/7487 [00:22<05:08, 24.02it/s]"
     ]
    },
    {
     "name": "stdout",
     "output_type": "stream",
     "text": [
      "Checking processes in trial 0.\n",
      "Checking processes in trial 0.\n",
      "Checking processes in trial 0.\n",
      "Checking processes in trial 0.\n",
      "Checking processes in trial 0.\n",
      "Checking processes in trial 0.\n"
     ]
    },
    {
     "name": "stderr",
     "output_type": "stream",
     "text": [
      "  1%|          | 88/7487 [00:23<05:07, 24.05it/s]"
     ]
    },
    {
     "name": "stdout",
     "output_type": "stream",
     "text": [
      "Checking processes in trial 0.\n",
      "Checking processes in trial 0.\n",
      "Checking processes in trial 0.\n",
      "Checking processes in trial 0.\n",
      "Checking processes in trial 0.\n",
      "Checking processes in trial 0.\n",
      "Checking processes in trial 0.\n",
      "Checking processes in trial 0.\n",
      "Checking processes in trial 0.\n",
      "Checking processes in trial 0.\n",
      "Checking processes in trial 0.\n",
      "Checking processes in trial 0.\n",
      "Checking processes in trial 0.\n",
      "Checking processes in trial 0.\n",
      "Checking processes in trial 0.\n",
      "Checking processes in trial 0.\n",
      "Checking processes in trial 0.\n",
      "Checking processes in trial 0.\n",
      "Checking processes in trial 0.\n",
      "Checking processes in trial 0.\n"
     ]
    },
    {
     "name": "stderr",
     "output_type": "stream",
     "text": [
      "  1%|▏         | 94/7487 [00:23<04:57, 24.84it/s]"
     ]
    },
    {
     "name": "stdout",
     "output_type": "stream",
     "text": [
      "Checking processes in trial 0.\n",
      "Checking processes in trial 0.\n",
      "Checking processes in trial 0.\n",
      "Checking processes in trial 0.\n",
      "Checking processes in trial 0.\n",
      "Checking processes in trial 0.\n",
      "Checking processes in trial 0.\n",
      "Checking processes in trial 0.\n",
      "Checking processes in trial 0.\n",
      "Checking processes in trial 0.\n",
      "Checking processes in trial 0.\n",
      "Checking processes in trial 0.\n",
      "Checking processes in trial 0.\n",
      "Checking processes in trial 0.\n",
      "Checking processes in trial 0.\n",
      "Checking processes in trial 0.\n",
      "Checking processes in trial 0.\n",
      "Checking processes in trial 0.\n",
      "Checking processes in trial 0.\n",
      "Checking processes in trial 0.\n",
      "Checking processes in trial 0.\n",
      "Checking processes in trial 0.\n"
     ]
    },
    {
     "name": "stderr",
     "output_type": "stream",
     "text": [
      "  1%|▏         | 97/7487 [00:23<04:57, 24.82it/s]"
     ]
    },
    {
     "name": "stdout",
     "output_type": "stream",
     "text": [
      "Checking processes in trial 0.\n",
      "Checking processes in trial 0.\n",
      "Checking processes in trial 0.\n",
      "Checking processes in trial 0.\n",
      "Checking processes in trial 0.\n",
      "Checking processes in trial 0.\n",
      "Checking processes in trial 0.\n",
      "Checking processes in trial 0.\n",
      "Checking processes in trial 0.\n",
      "Checking processes in trial 0.\n",
      "Checking processes in trial 0.\n",
      "Checking processes in trial 0.\n",
      "Checking processes in trial 0.\n",
      "Checking processes in trial 0.\n",
      "Checking processes in trial 0.\n"
     ]
    },
    {
     "name": "stderr",
     "output_type": "stream",
     "text": [
      "  1%|▏         | 100/7487 [00:23<05:05, 24.20it/s]"
     ]
    },
    {
     "name": "stdout",
     "output_type": "stream",
     "text": [
      "Checking processes in trial 0.\n",
      "Checking processes in trial 0.\n",
      "Checking processes in trial 0.\n",
      "Checking processes in trial 0.\n",
      "Checking processes in trial 0.\n"
     ]
    },
    {
     "name": "stderr",
     "output_type": "stream",
     "text": [
      "  1%|▏         | 103/7487 [00:23<05:03, 24.35it/s]"
     ]
    },
    {
     "name": "stdout",
     "output_type": "stream",
     "text": [
      "Checking processes in trial 0.\n",
      "Checking processes in trial 0.\n",
      "Checking processes in trial 0.\n",
      "Checking processes in trial 0.\n",
      "Checking processes in trial 0.\n",
      "Checking processes in trial 0.\n",
      "Checking processes in trial 0.\n",
      "Checking processes in trial 0.\n",
      "Checking processes in trial 0.\n",
      "Checking processes in trial 0.\n",
      "Checking processes in trial 0.\n",
      "Checking processes in trial 0.\n",
      "Checking processes in trial 0.\n",
      "Checking processes in trial 0.\n",
      "Checking processes in trial 0.\n",
      "Checking processes in trial 0.\n"
     ]
    },
    {
     "name": "stderr",
     "output_type": "stream",
     "text": [
      "  1%|▏         | 106/7487 [00:23<05:03, 24.32it/s]"
     ]
    },
    {
     "name": "stdout",
     "output_type": "stream",
     "text": [
      "Checking processes in trial 0.\n",
      "Checking processes in trial 0.\n",
      "Checking processes in trial 0.\n",
      "Checking processes in trial 0.\n",
      "Checking processes in trial 0.\n"
     ]
    },
    {
     "name": "stderr",
     "output_type": "stream",
     "text": [
      "  1%|▏         | 109/7487 [00:23<05:04, 24.22it/s]"
     ]
    },
    {
     "name": "stdout",
     "output_type": "stream",
     "text": [
      "Checking processes in trial 0.\n",
      "Checking processes in trial 0.\n",
      "Checking processes in trial 0.\n",
      "Checking processes in trial 0.\n",
      "Checking processes in trial 0.\n",
      "Checking processes in trial 0.\n",
      "Checking processes in trial 0.\n",
      "Checking processes in trial 0.\n",
      "Checking processes in trial 0.\n",
      "Checking processes in trial 0.\n",
      "Checking processes in trial 0.\n",
      "Checking processes in trial 0.\n",
      "Checking processes in trial 0.\n",
      "Checking processes in trial 0.\n",
      "Checking processes in trial 0.\n",
      "Checking processes in trial 0.\n",
      "Checking processes in trial 0.\n",
      "Checking processes in trial 0.\n",
      "Checking processes in trial 0.\n",
      "Checking processes in trial 0.\n",
      "Checking processes in trial 0.\n"
     ]
    },
    {
     "name": "stderr",
     "output_type": "stream",
     "text": [
      "  2%|▏         | 115/7487 [00:24<04:58, 24.71it/s]"
     ]
    },
    {
     "name": "stdout",
     "output_type": "stream",
     "text": [
      "Checking processes in trial 0.\n",
      "Checking processes in trial 0.\n",
      "Checking processes in trial 0.\n",
      "Checking processes in trial 0.\n",
      "Checking processes in trial 0.\n",
      "Checking processes in trial 0.\n",
      "Checking processes in trial 0.\n",
      "Checking processes in trial 0.\n",
      "Checking processes in trial 0.\n",
      "Checking processes in trial 0.\n",
      "Checking processes in trial 0.\n",
      "Checking processes in trial 0.\n",
      "Checking processes in trial 0.\n",
      "Checking processes in trial 0.\n",
      "Checking processes in trial 0.\n",
      "Checking processes in trial 0.\n",
      "Checking processes in trial 0.\n",
      "Checking processes in trial 0.\n",
      "Checking processes in trial 0.\n",
      "Checking processes in trial 0.\n",
      "Checking processes in trial 0.\n",
      "Checking processes in trial 0.\n"
     ]
    },
    {
     "name": "stderr",
     "output_type": "stream",
     "text": [
      "  2%|▏         | 121/7487 [00:24<04:55, 24.93it/s]"
     ]
    },
    {
     "name": "stdout",
     "output_type": "stream",
     "text": [
      "Checking processes in trial 0.\n",
      "Checking processes in trial 0.\n",
      "Checking processes in trial 0.\n",
      "Checking processes in trial 0.\n",
      "Checking processes in trial 0.\n",
      "Checking processes in trial 0.\n",
      "Checking processes in trial 0.\n",
      "Checking processes in trial 0.\n",
      "Checking processes in trial 0.\n",
      "Checking processes in trial 0.\n",
      "Checking processes in trial 0.\n",
      "Checking processes in trial 0.\n",
      "Checking processes in trial 0.\n",
      "Checking processes in trial 0.\n",
      "Checking processes in trial 0.\n",
      "Checking processes in trial 0.\n",
      "Checking processes in trial 0.\n",
      "Checking processes in trial 0.\n",
      "Checking processes in trial 0.\n",
      "Checking processes in trial 0.\n",
      "Checking processes in trial 0.\n"
     ]
    },
    {
     "name": "stderr",
     "output_type": "stream",
     "text": [
      "  2%|▏         | 124/7487 [00:24<04:53, 25.05it/s]"
     ]
    },
    {
     "name": "stdout",
     "output_type": "stream",
     "text": [
      "Checking processes in trial 0.\n",
      "Checking processes in trial 0.\n",
      "Checking processes in trial 0.\n",
      "Checking processes in trial 0.\n",
      "Checking processes in trial 0.\n",
      "Checking processes in trial 0.\n",
      "Checking processes in trial 0.\n",
      "Checking processes in trial 0.\n",
      "Checking processes in trial 0.\n",
      "Checking processes in trial 0.\n",
      "Checking processes in trial 0.\n",
      "Checking processes in trial 0.\n",
      "Checking processes in trial 0.\n",
      "Checking processes in trial 0.\n",
      "Checking processes in trial 0.\n",
      "Checking processes in trial 0.\n",
      "Checking processes in trial 0.\n"
     ]
    },
    {
     "name": "stderr",
     "output_type": "stream",
     "text": [
      "  2%|▏         | 127/7487 [00:24<04:51, 25.29it/s]"
     ]
    },
    {
     "name": "stdout",
     "output_type": "stream",
     "text": [
      "Checking processes in trial 0.\n",
      "Checking processes in trial 0.\n",
      "Checking processes in trial 0.\n",
      "Checking processes in trial 0.\n",
      "Checking processes in trial 0.\n"
     ]
    },
    {
     "name": "stderr",
     "output_type": "stream",
     "text": [
      "  2%|▏         | 130/7487 [00:24<04:46, 25.65it/s]"
     ]
    },
    {
     "name": "stdout",
     "output_type": "stream",
     "text": [
      "Checking processes in trial 0.\n",
      "Checking processes in trial 0.\n",
      "Checking processes in trial 0.\n",
      "Checking processes in trial 0.\n",
      "Checking processes in trial 0.\n",
      "Checking processes in trial 0.\n",
      "Checking processes in trial 0.\n",
      "Checking processes in trial 0.\n",
      "Checking processes in trial 0.\n",
      "Checking processes in trial 0.\n",
      "Checking processes in trial 0.\n",
      "Checking processes in trial 0.\n",
      "Checking processes in trial 0.\n",
      "Checking processes in trial 0.\n",
      "Checking processes in trial 0.\n",
      "Checking processes in trial 0.\n",
      "Checking processes in trial 0.\n"
     ]
    },
    {
     "name": "stderr",
     "output_type": "stream",
     "text": [
      "  2%|▏         | 133/7487 [00:24<04:51, 25.24it/s]"
     ]
    },
    {
     "name": "stdout",
     "output_type": "stream",
     "text": [
      "Checking processes in trial 0.\n",
      "Checking processes in trial 0.\n",
      "Checking processes in trial 0.\n",
      "Checking processes in trial 0.\n"
     ]
    },
    {
     "name": "stderr",
     "output_type": "stream",
     "text": [
      "  2%|▏         | 136/7487 [00:25<04:48, 25.51it/s]"
     ]
    },
    {
     "name": "stdout",
     "output_type": "stream",
     "text": [
      "Checking processes in trial 0.\n",
      "Checking processes in trial 0.\n",
      "Checking processes in trial 0.\n",
      "Checking processes in trial 0.\n",
      "Checking processes in trial 0.\n",
      "Checking processes in trial 0.\n",
      "Checking processes in trial 0.\n",
      "Checking processes in trial 0.\n",
      "Checking processes in trial 0.\n",
      "Checking processes in trial 0.\n",
      "Checking processes in trial 0.\n",
      "Checking processes in trial 0.\n",
      "Checking processes in trial 0.\n",
      "Checking processes in trial 0.\n",
      "Checking processes in trial 0.\n",
      "Checking processes in trial 0.\n",
      "Checking processes in trial 0.\n",
      "Checking processes in trial 0.\n",
      "Checking processes in trial 0.\n",
      "Checking processes in trial 0.\n",
      "Checking processes in trial 0.\n"
     ]
    },
    {
     "name": "stderr",
     "output_type": "stream",
     "text": [
      "  2%|▏         | 142/7487 [00:25<04:48, 25.48it/s]"
     ]
    },
    {
     "name": "stdout",
     "output_type": "stream",
     "text": [
      "Checking processes in trial 0.\n",
      "Checking processes in trial 0.\n",
      "Checking processes in trial 0.\n",
      "Checking processes in trial 0.\n",
      "Checking processes in trial 0.\n",
      "Checking processes in trial 0.\n",
      "Checking processes in trial 0.\n",
      "Checking processes in trial 0.\n",
      "Checking processes in trial 0.\n",
      "Checking processes in trial 0.\n",
      "Checking processes in trial 0.\n",
      "Checking processes in trial 0.\n",
      "Checking processes in trial 0.\n",
      "Checking processes in trial 0.\n",
      "Checking processes in trial 0.\n",
      "Checking processes in trial 0.\n",
      "Checking processes in trial 0.\n",
      "Checking processes in trial 0.\n",
      "Checking processes in trial 0.\n",
      "Checking processes in trial 0.\n",
      "Checking processes in trial 0.\n",
      "Checking processes in trial 0.\n",
      "Checking processes in trial 0.\n"
     ]
    },
    {
     "name": "stderr",
     "output_type": "stream",
     "text": [
      "  2%|▏         | 148/7487 [00:25<04:46, 25.58it/s]"
     ]
    },
    {
     "name": "stdout",
     "output_type": "stream",
     "text": [
      "Checking processes in trial 0.\n",
      "Checking processes in trial 0.\n",
      "Checking processes in trial 0.\n",
      "Checking processes in trial 0.\n",
      "Checking processes in trial 0.\n",
      "Checking processes in trial 0.\n",
      "Checking processes in trial 0.\n",
      "Checking processes in trial 0.\n",
      "Checking processes in trial 0.\n",
      "Checking processes in trial 0.\n",
      "Checking processes in trial 0.\n",
      "Checking processes in trial 0.\n",
      "Checking processes in trial 0.\n",
      "Checking processes in trial 0.\n",
      "Checking processes in trial 0.\n",
      "Checking processes in trial 0.\n",
      "Checking processes in trial 0.\n",
      "Checking processes in trial 0.\n",
      "Checking processes in trial 0.\n",
      "Checking processes in trial 0.\n",
      "Checking processes in trial 0.\n"
     ]
    },
    {
     "name": "stderr",
     "output_type": "stream",
     "text": [
      "  2%|▏         | 151/7487 [00:25<04:54, 24.91it/s]"
     ]
    },
    {
     "name": "stdout",
     "output_type": "stream",
     "text": [
      "Checking processes in trial 0.\n",
      "Checking processes in trial 0.\n",
      "Checking processes in trial 0.\n",
      "Checking processes in trial 0.\n",
      "Checking processes in trial 0.\n",
      "Checking processes in trial 0.\n",
      "Checking processes in trial 0.\n",
      "Checking processes in trial 0.\n",
      "Checking processes in trial 0.\n",
      "Checking processes in trial 0.\n",
      "Checking processes in trial 0.\n",
      "Checking processes in trial 0.\n",
      "Checking processes in trial 0.\n",
      "Checking processes in trial 0.\n",
      "Checking processes in trial 0.\n",
      "Checking processes in trial 0.\n",
      "Checking processes in trial 0.\n"
     ]
    },
    {
     "name": "stderr",
     "output_type": "stream",
     "text": [
      "  2%|▏         | 154/7487 [00:25<04:51, 25.13it/s]"
     ]
    },
    {
     "name": "stdout",
     "output_type": "stream",
     "text": [
      "Checking processes in trial 0.\n",
      "Checking processes in trial 0.\n",
      "Checking processes in trial 0.\n",
      "Checking processes in trial 0.\n"
     ]
    },
    {
     "name": "stderr",
     "output_type": "stream",
     "text": [
      "  2%|▏         | 157/7487 [00:25<04:51, 25.14it/s]"
     ]
    },
    {
     "name": "stdout",
     "output_type": "stream",
     "text": [
      "Checking processes in trial 0.\n",
      "Checking processes in trial 0.\n",
      "Checking processes in trial 0.\n",
      "Checking processes in trial 0.\n",
      "Checking processes in trial 0.\n",
      "Checking processes in trial 0.\n",
      "Checking processes in trial 0.\n",
      "Checking processes in trial 0.\n",
      "Checking processes in trial 0.\n",
      "Checking processes in trial 0.\n",
      "Checking processes in trial 0.\n",
      "Checking processes in trial 0.\n",
      "Checking processes in trial 0.\n",
      "Checking processes in trial 0.\n",
      "Checking processes in trial 0.\n",
      "Checking processes in trial 0.\n",
      "Checking processes in trial 0.\n",
      "Checking processes in trial 0.\n"
     ]
    },
    {
     "name": "stderr",
     "output_type": "stream",
     "text": [
      "  2%|▏         | 160/7487 [00:25<04:47, 25.45it/s]"
     ]
    },
    {
     "name": "stdout",
     "output_type": "stream",
     "text": [
      "Checking processes in trial 0.\n",
      "Checking processes in trial 0.\n",
      "Checking processes in trial 0.\n",
      "Checking processes in trial 0.\n"
     ]
    },
    {
     "name": "stderr",
     "output_type": "stream",
     "text": [
      "  2%|▏         | 163/7487 [00:26<04:47, 25.45it/s]"
     ]
    },
    {
     "name": "stdout",
     "output_type": "stream",
     "text": [
      "Checking processes in trial 0.\n",
      "Checking processes in trial 0.\n",
      "Checking processes in trial 0.\n",
      "Checking processes in trial 0.\n",
      "Checking processes in trial 0.\n",
      "Checking processes in trial 0.\n",
      "Checking processes in trial 0.\n",
      "Checking processes in trial 0.\n",
      "Checking processes in trial 0.\n",
      "Checking processes in trial 0.\n",
      "Checking processes in trial 0.\n",
      "Checking processes in trial 0.\n",
      "Checking processes in trial 0.\n",
      "Checking processes in trial 0.\n",
      "Checking processes in trial 0.\n",
      "Checking processes in trial 0.\n",
      "Checking processes in trial 0.\n",
      "Checking processes in trial 0.\n",
      "Checking processes in trial 0.\n",
      "Checking processes in trial 0.\n",
      "Checking processes in trial 0.\n",
      "Checking processes in trial 0.\n",
      "Checking processes in trial 0.\n"
     ]
    },
    {
     "name": "stderr",
     "output_type": "stream",
     "text": [
      "  2%|▏         | 169/7487 [00:26<04:45, 25.61it/s]"
     ]
    },
    {
     "name": "stdout",
     "output_type": "stream",
     "text": [
      "Checking processes in trial 0.\n",
      "Checking processes in trial 0.\n",
      "Checking processes in trial 0.\n",
      "Checking processes in trial 0.\n",
      "Checking processes in trial 0.\n",
      "Checking processes in trial 0.\n",
      "Checking processes in trial 0.\n",
      "Checking processes in trial 0.\n",
      "Checking processes in trial 0.\n",
      "Checking processes in trial 0.\n",
      "Checking processes in trial 0.\n",
      "Checking processes in trial 0.\n",
      "Checking processes in trial 0.\n",
      "Checking processes in trial 0.\n",
      "Checking processes in trial 0.\n",
      "Checking processes in trial 0.\n",
      "Checking processes in trial 0.\n",
      "Checking processes in trial 0.\n",
      "Checking processes in trial 0.\n",
      "Checking processes in trial 0.\n",
      "Checking processes in trial 0.\n",
      "Checking processes in trial 0.\n"
     ]
    },
    {
     "name": "stderr",
     "output_type": "stream",
     "text": [
      "  2%|▏         | 175/7487 [00:26<04:36, 26.44it/s]"
     ]
    },
    {
     "name": "stdout",
     "output_type": "stream",
     "text": [
      "Checking processes in trial 0.\n",
      "Checking processes in trial 0.\n",
      "Checking processes in trial 0.\n",
      "Checking processes in trial 0.\n",
      "Checking processes in trial 0.\n",
      "Checking processes in trial 0.\n",
      "Checking processes in trial 0.\n",
      "Checking processes in trial 0.\n",
      "Checking processes in trial 0.\n",
      "Checking processes in trial 0.\n",
      "Checking processes in trial 0.\n",
      "Checking processes in trial 0.\n",
      "Checking processes in trial 0.\n",
      "Checking processes in trial 0.\n",
      "Checking processes in trial 0.\n",
      "Checking processes in trial 0.\n",
      "Checking processes in trial 0.\n",
      "Checking processes in trial 0.\n",
      "Checking processes in trial 0.\n",
      "Checking processes in trial 0.\n",
      "Checking processes in trial 0.\n",
      "Checking processes in trial 0.\n",
      "Checking processes in trial 0.\n"
     ]
    },
    {
     "name": "stderr",
     "output_type": "stream",
     "text": [
      "  2%|▏         | 181/7487 [00:26<04:52, 25.01it/s]"
     ]
    },
    {
     "name": "stdout",
     "output_type": "stream",
     "text": [
      "Checking processes in trial 0.\n",
      "Checking processes in trial 0.\n",
      "Checking processes in trial 0.\n",
      "Checking processes in trial 0.\n",
      "Checking processes in trial 0.\n",
      "Checking processes in trial 0.\n",
      "Checking processes in trial 0.\n",
      "Checking processes in trial 0.\n",
      "Checking processes in trial 0.\n",
      "Checking processes in trial 0.\n",
      "Checking processes in trial 0.\n",
      "Checking processes in trial 0.\n",
      "Checking processes in trial 0.\n",
      "Checking processes in trial 0.\n",
      "Checking processes in trial 0.\n",
      "Checking processes in trial 0.\n",
      "Checking processes in trial 0.\n",
      "Checking processes in trial 0.\n",
      "Checking processes in trial 0.\n"
     ]
    },
    {
     "name": "stderr",
     "output_type": "stream",
     "text": [
      "  2%|▏         | 184/7487 [00:26<04:54, 24.79it/s]"
     ]
    },
    {
     "name": "stdout",
     "output_type": "stream",
     "text": [
      "Checking processes in trial 0.\n",
      "Checking processes in trial 0.\n",
      "Checking processes in trial 0.\n",
      "Checking processes in trial 0.\n",
      "Checking processes in trial 0.\n",
      "Checking processes in trial 0.\n",
      "Checking processes in trial 0.\n",
      "Checking processes in trial 0.\n",
      "Checking processes in trial 0.\n",
      "Checking processes in trial 0.\n",
      "Checking processes in trial 0.\n",
      "Checking processes in trial 0.\n",
      "Checking processes in trial 0.\n",
      "Checking processes in trial 0.\n",
      "Checking processes in trial 0.\n",
      "Checking processes in trial 0.\n",
      "Checking processes in trial 0.\n",
      "Checking processes in trial 0.\n",
      "Checking processes in trial 0.\n"
     ]
    },
    {
     "name": "stderr",
     "output_type": "stream",
     "text": [
      "  2%|▏         | 187/7487 [00:27<04:47, 25.38it/s]"
     ]
    },
    {
     "name": "stdout",
     "output_type": "stream",
     "text": [
      "Checking processes in trial 0.\n",
      "Checking processes in trial 0.\n",
      "Checking processes in trial 0.\n"
     ]
    },
    {
     "name": "stderr",
     "output_type": "stream",
     "text": [
      "  3%|▎         | 190/7487 [00:27<04:45, 25.53it/s]"
     ]
    },
    {
     "name": "stdout",
     "output_type": "stream",
     "text": [
      "Checking processes in trial 0.\n",
      "Checking processes in trial 0.\n",
      "Checking processes in trial 0.\n",
      "Checking processes in trial 0.\n",
      "Checking processes in trial 0.\n",
      "Checking processes in trial 0.\n",
      "Checking processes in trial 0.\n",
      "Checking processes in trial 0.\n",
      "Checking processes in trial 0.\n",
      "Checking processes in trial 0.\n",
      "Checking processes in trial 0.\n",
      "Checking processes in trial 0.\n",
      "Checking processes in trial 0.\n",
      "Checking processes in trial 0.\n",
      "Checking processes in trial 0.\n",
      "Checking processes in trial 0.\n",
      "Checking processes in trial 0.\n",
      "Checking processes in trial 0.\n",
      "Checking processes in trial 0.\n",
      "Checking processes in trial 0.\n",
      "Checking processes in trial 0.\n",
      "Checking processes in trial 0.\n",
      "Checking processes in trial 0.\n"
     ]
    },
    {
     "name": "stderr",
     "output_type": "stream",
     "text": [
      "  3%|▎         | 196/7487 [00:27<04:37, 26.31it/s]"
     ]
    },
    {
     "name": "stdout",
     "output_type": "stream",
     "text": [
      "Checking processes in trial 0.\n",
      "Checking processes in trial 0.\n",
      "Checking processes in trial 0.\n",
      "Checking processes in trial 0.\n",
      "Checking processes in trial 0.\n",
      "Checking processes in trial 0.\n",
      "Checking processes in trial 0.\n",
      "Checking processes in trial 0.\n",
      "Checking processes in trial 0.\n",
      "Checking processes in trial 0.\n",
      "Checking processes in trial 0.\n",
      "Checking processes in trial 0.\n",
      "Checking processes in trial 0.\n",
      "Checking processes in trial 0.\n",
      "Checking processes in trial 0.\n",
      "Checking processes in trial 0.\n",
      "Checking processes in trial 0.\n",
      "Checking processes in trial 0.\n",
      "Checking processes in trial 0.\n",
      "Checking processes in trial 0.\n",
      "Checking processes in trial 0.\n",
      "Checking processes in trial 0.\n"
     ]
    },
    {
     "name": "stderr",
     "output_type": "stream",
     "text": [
      "  3%|▎         | 202/7487 [00:27<04:37, 26.24it/s]"
     ]
    },
    {
     "name": "stdout",
     "output_type": "stream",
     "text": [
      "Checking processes in trial 0.\n",
      "Checking processes in trial 0.\n",
      "Checking processes in trial 0.\n",
      "Checking processes in trial 0.\n",
      "Checking processes in trial 0.\n",
      "Checking processes in trial 0.\n",
      "Checking processes in trial 0.\n",
      "Checking processes in trial 0.\n",
      "Checking processes in trial 0.\n",
      "Checking processes in trial 0.\n",
      "Checking processes in trial 0.\n",
      "Checking processes in trial 0.\n",
      "Checking processes in trial 0.\n",
      "Checking processes in trial 0.\n",
      "Checking processes in trial 0.\n",
      "Checking processes in trial 0.\n",
      "Checking processes in trial 0.\n",
      "Checking processes in trial 0.\n",
      "Checking processes in trial 0.\n",
      "Checking processes in trial 0.\n",
      "Checking processes in trial 0.\n",
      "Checking processes in trial 0.\n"
     ]
    },
    {
     "name": "stderr",
     "output_type": "stream",
     "text": [
      "  3%|▎         | 208/7487 [00:27<04:39, 26.08it/s]"
     ]
    },
    {
     "name": "stdout",
     "output_type": "stream",
     "text": [
      "Checking processes in trial 0.\n",
      "Checking processes in trial 0.\n",
      "Checking processes in trial 0.\n",
      "Checking processes in trial 0.\n",
      "Checking processes in trial 0.\n",
      "Checking processes in trial 0.\n",
      "Checking processes in trial 0.\n",
      "Checking processes in trial 0.\n",
      "Checking processes in trial 0.\n",
      "Checking processes in trial 0.\n",
      "Checking processes in trial 0.\n",
      "Checking processes in trial 0.\n",
      "Checking processes in trial 0.\n",
      "Checking processes in trial 0.\n",
      "Checking processes in trial 0.\n",
      "Checking processes in trial 0.\n",
      "Checking processes in trial 0.\n",
      "Checking processes in trial 0.\n",
      "Checking processes in trial 0.\n",
      "Checking processes in trial 0.\n",
      "Checking processes in trial 0.\n",
      "Checking processes in trial 0.\n"
     ]
    },
    {
     "name": "stderr",
     "output_type": "stream",
     "text": [
      "  3%|▎         | 214/7487 [00:28<04:41, 25.86it/s]"
     ]
    },
    {
     "name": "stdout",
     "output_type": "stream",
     "text": [
      "Checking processes in trial 0.\n",
      "Checking processes in trial 0.\n",
      "Checking processes in trial 0.\n",
      "Checking processes in trial 0.\n",
      "Checking processes in trial 0.\n",
      "Checking processes in trial 0.\n",
      "Checking processes in trial 0.\n",
      "Checking processes in trial 0.\n",
      "Checking processes in trial 0.\n",
      "Checking processes in trial 0.\n",
      "Checking processes in trial 0.\n",
      "Checking processes in trial 0.\n",
      "Checking processes in trial 0.\n",
      "Checking processes in trial 0.\n",
      "Checking processes in trial 0.\n",
      "Checking processes in trial 0.\n",
      "Checking processes in trial 0.\n",
      "Checking processes in trial 0.\n",
      "Checking processes in trial 0.\n",
      "Checking processes in trial 0.\n",
      "Checking processes in trial 0.\n",
      "Checking processes in trial 0.\n"
     ]
    },
    {
     "name": "stderr",
     "output_type": "stream",
     "text": [
      "  3%|▎         | 217/7487 [00:28<04:43, 25.67it/s]"
     ]
    },
    {
     "name": "stdout",
     "output_type": "stream",
     "text": [
      "Checking processes in trial 0.\n",
      "Checking processes in trial 0.\n",
      "Checking processes in trial 0.\n",
      "Checking processes in trial 0.\n",
      "Checking processes in trial 0.\n",
      "Checking processes in trial 0.\n",
      "Checking processes in trial 0.\n",
      "Checking processes in trial 0.\n",
      "Checking processes in trial 0.\n",
      "Checking processes in trial 0.\n",
      "Checking processes in trial 0.\n",
      "Checking processes in trial 0.\n",
      "Checking processes in trial 0.\n",
      "Checking processes in trial 0.\n",
      "Checking processes in trial 0.\n",
      "Checking processes in trial 0.\n",
      "Checking processes in trial 0.\n",
      "Checking processes in trial 0.\n",
      "Checking processes in trial 0.\n",
      "Checking processes in trial 0.\n"
     ]
    },
    {
     "name": "stderr",
     "output_type": "stream",
     "text": [
      "  3%|▎         | 220/7487 [00:28<04:44, 25.57it/s]"
     ]
    },
    {
     "name": "stdout",
     "output_type": "stream",
     "text": [
      "Checking processes in trial 0.\n"
     ]
    },
    {
     "name": "stderr",
     "output_type": "stream",
     "text": [
      "  3%|▎         | 223/7487 [00:28<04:40, 25.93it/s]"
     ]
    },
    {
     "name": "stdout",
     "output_type": "stream",
     "text": [
      "Checking processes in trial 0.\n",
      "Checking processes in trial 0.\n",
      "Checking processes in trial 0.\n",
      "Checking processes in trial 0.\n",
      "Checking processes in trial 0.\n",
      "Checking processes in trial 0.\n",
      "Checking processes in trial 0.\n",
      "Checking processes in trial 0.\n",
      "Checking processes in trial 0.\n",
      "Checking processes in trial 0.\n",
      "Checking processes in trial 0.\n",
      "Checking processes in trial 0.\n",
      "Checking processes in trial 0.\n",
      "Checking processes in trial 0.\n",
      "Checking processes in trial 0.\n",
      "Checking processes in trial 0.\n",
      "Checking processes in trial 0.\n",
      "Checking processes in trial 0.\n",
      "Checking processes in trial 0.\n",
      "Checking processes in trial 0.\n",
      "Checking processes in trial 0.\n",
      "Checking processes in trial 0.\n",
      "Checking processes in trial 0.\n"
     ]
    },
    {
     "name": "stderr",
     "output_type": "stream",
     "text": [
      "  3%|▎         | 229/7487 [00:28<04:38, 26.03it/s]"
     ]
    },
    {
     "name": "stdout",
     "output_type": "stream",
     "text": [
      "Checking processes in trial 0.\n",
      "Checking processes in trial 0.\n",
      "Checking processes in trial 0.\n",
      "Checking processes in trial 0.\n",
      "Checking processes in trial 0.\n",
      "Checking processes in trial 0.\n",
      "Checking processes in trial 0.\n",
      "Checking processes in trial 0.\n",
      "Checking processes in trial 0.\n",
      "Checking processes in trial 0.\n",
      "Checking processes in trial 0.\n",
      "Checking processes in trial 0.\n",
      "Checking processes in trial 0.\n",
      "Checking processes in trial 0.\n",
      "Checking processes in trial 0.\n",
      "Checking processes in trial 0.\n",
      "Checking processes in trial 0.\n",
      "Checking processes in trial 0.\n",
      "Checking processes in trial 0.\n",
      "Checking processes in trial 0.\n",
      "Checking processes in trial 0.\n",
      "Checking processes in trial 0.\n",
      "Checking processes in trial 0.\n"
     ]
    },
    {
     "name": "stderr",
     "output_type": "stream",
     "text": [
      "  3%|▎         | 235/7487 [00:28<04:27, 27.11it/s]"
     ]
    },
    {
     "name": "stdout",
     "output_type": "stream",
     "text": [
      "Checking processes in trial 0.\n",
      "Checking processes in trial 0.\n",
      "Checking processes in trial 0.\n",
      "Checking processes in trial 0.\n",
      "Checking processes in trial 0.\n",
      "Checking processes in trial 0.\n",
      "Checking processes in trial 0.\n",
      "Checking processes in trial 0.\n",
      "Checking processes in trial 0.\n",
      "Checking processes in trial 0.\n",
      "Checking processes in trial 0.\n",
      "Checking processes in trial 0.\n",
      "Checking processes in trial 0.\n",
      "Checking processes in trial 0.\n",
      "Checking processes in trial 0.\n",
      "Checking processes in trial 0.\n",
      "Checking processes in trial 0.\n",
      "Checking processes in trial 0.\n",
      "Checking processes in trial 0.\n",
      "Checking processes in trial 0.\n",
      "Checking processes in trial 0.\n",
      "Checking processes in trial 0.\n",
      "Checking processes in trial 0.\n"
     ]
    },
    {
     "name": "stderr",
     "output_type": "stream",
     "text": [
      "  3%|▎         | 241/7487 [00:29<04:28, 26.99it/s]"
     ]
    },
    {
     "name": "stdout",
     "output_type": "stream",
     "text": [
      "Checking processes in trial 0.\n",
      "Checking processes in trial 0.\n",
      "Checking processes in trial 0.\n",
      "Checking processes in trial 0.\n",
      "Checking processes in trial 0.\n",
      "Checking processes in trial 0.\n",
      "Checking processes in trial 0.\n",
      "Checking processes in trial 0.\n",
      "Checking processes in trial 0.\n",
      "Checking processes in trial 0.\n",
      "Checking processes in trial 0.\n",
      "Checking processes in trial 0.\n",
      "Checking processes in trial 0.\n",
      "Checking processes in trial 0.\n",
      "Checking processes in trial 0.\n",
      "Checking processes in trial 0.\n",
      "Checking processes in trial 0.\n",
      "Checking processes in trial 0.\n",
      "Checking processes in trial 0.\n",
      "Checking processes in trial 0.\n",
      "Checking processes in trial 0.\n",
      "Checking processes in trial 0.\n",
      "Checking processes in trial 0.\n"
     ]
    },
    {
     "name": "stderr",
     "output_type": "stream",
     "text": [
      "  3%|▎         | 247/7487 [00:29<04:23, 27.45it/s]"
     ]
    },
    {
     "name": "stdout",
     "output_type": "stream",
     "text": [
      "Checking processes in trial 0.\n",
      "Checking processes in trial 0.\n",
      "Checking processes in trial 0.\n",
      "Checking processes in trial 0.\n",
      "Checking processes in trial 0.\n",
      "Checking processes in trial 0.\n",
      "Checking processes in trial 0.\n",
      "Checking processes in trial 0.\n",
      "Checking processes in trial 0.\n",
      "Checking processes in trial 0.\n",
      "Checking processes in trial 0.\n",
      "Checking processes in trial 0.\n",
      "Checking processes in trial 0.\n",
      "Checking processes in trial 0.\n",
      "Checking processes in trial 0.\n",
      "Checking processes in trial 0.\n",
      "Checking processes in trial 0.\n",
      "Checking processes in trial 0.\n",
      "Checking processes in trial 0.\n",
      "Checking processes in trial 0.\n",
      "Checking processes in trial 0.\n",
      "Checking processes in trial 0.\n",
      "Checking processes in trial 0.\n"
     ]
    },
    {
     "name": "stderr",
     "output_type": "stream",
     "text": [
      "  3%|▎         | 253/7487 [00:29<04:30, 26.77it/s]"
     ]
    },
    {
     "name": "stdout",
     "output_type": "stream",
     "text": [
      "Checking processes in trial 0.\n",
      "Checking processes in trial 0.\n",
      "Checking processes in trial 0.\n",
      "Checking processes in trial 0.\n",
      "Checking processes in trial 0.\n",
      "Checking processes in trial 0.\n",
      "Checking processes in trial 0.\n",
      "Checking processes in trial 0.\n",
      "Checking processes in trial 0.\n",
      "Checking processes in trial 0.\n",
      "Checking processes in trial 0.\n",
      "Checking processes in trial 0.\n",
      "Checking processes in trial 0.\n",
      "Checking processes in trial 0.\n",
      "Checking processes in trial 0.\n",
      "Checking processes in trial 0.\n",
      "Checking processes in trial 0.\n",
      "Checking processes in trial 0.\n",
      "Checking processes in trial 0.\n",
      "Checking processes in trial 0.\n",
      "Checking processes in trial 0.\n",
      "Checking processes in trial 0.\n",
      "Checking processes in trial 0.\n"
     ]
    },
    {
     "name": "stderr",
     "output_type": "stream",
     "text": [
      "  3%|▎         | 259/7487 [00:29<04:32, 26.54it/s]"
     ]
    },
    {
     "name": "stdout",
     "output_type": "stream",
     "text": [
      "Checking processes in trial 0.\n",
      "Checking processes in trial 0.\n",
      "Checking processes in trial 0.\n",
      "Checking processes in trial 0.\n",
      "Checking processes in trial 0.\n",
      "Checking processes in trial 0.\n",
      "Checking processes in trial 0.\n",
      "Checking processes in trial 0.\n",
      "Checking processes in trial 0.\n",
      "Checking processes in trial 0.\n",
      "Checking processes in trial 0.\n",
      "Checking processes in trial 0.\n",
      "Checking processes in trial 0.\n",
      "Checking processes in trial 0.\n",
      "Checking processes in trial 0.\n",
      "Checking processes in trial 0.\n",
      "Checking processes in trial 0.\n",
      "Checking processes in trial 0.\n",
      "Checking processes in trial 0.\n",
      "Checking processes in trial 0.\n"
     ]
    },
    {
     "name": "stderr",
     "output_type": "stream",
     "text": [
      "  3%|▎         | 262/7487 [00:29<05:03, 23.80it/s]"
     ]
    },
    {
     "name": "stdout",
     "output_type": "stream",
     "text": [
      "Checking processes in trial 0.\n",
      "Checking processes in trial 0.\n",
      "Checking processes in trial 0.\n",
      "Checking processes in trial 0.\n",
      "Checking processes in trial 0.\n",
      "Checking processes in trial 0.\n",
      "Checking processes in trial 0.\n",
      "Checking processes in trial 0.\n",
      "Checking processes in trial 0.\n",
      "Checking processes in trial 0.\n",
      "Checking processes in trial 0.\n",
      "Checking processes in trial 0.\n",
      "Checking processes in trial 0.\n",
      "Checking processes in trial 0.\n",
      "Checking processes in trial 0.\n",
      "Checking processes in trial 0.\n",
      "Checking processes in trial 0.\n",
      "Checking processes in trial 0.\n",
      "Checking processes in trial 0.\n",
      "Checking processes in trial 0.\n"
     ]
    },
    {
     "name": "stderr",
     "output_type": "stream",
     "text": [
      "  4%|▎         | 268/7487 [00:30<05:05, 23.64it/s]"
     ]
    },
    {
     "name": "stdout",
     "output_type": "stream",
     "text": [
      "Checking processes in trial 0.\n",
      "Checking processes in trial 0.\n",
      "Checking processes in trial 0.\n",
      "Checking processes in trial 0.\n",
      "Checking processes in trial 0.\n",
      "Checking processes in trial 0.\n",
      "Checking processes in trial 0.\n",
      "Checking processes in trial 0.\n",
      "Checking processes in trial 0.\n",
      "Checking processes in trial 0.\n",
      "Checking processes in trial 0.\n",
      "Checking processes in trial 0.\n",
      "Checking processes in trial 0.\n",
      "Checking processes in trial 0.\n",
      "Checking processes in trial 0.\n",
      "Checking processes in trial 0.\n",
      "Checking processes in trial 0.\n"
     ]
    },
    {
     "name": "stderr",
     "output_type": "stream",
     "text": [
      "  4%|▎         | 274/7487 [00:30<05:04, 23.69it/s]"
     ]
    },
    {
     "name": "stdout",
     "output_type": "stream",
     "text": [
      "Checking processes in trial 0.\n",
      "Checking processes in trial 0.\n",
      "Checking processes in trial 0.\n",
      "Checking processes in trial 0.\n",
      "Checking processes in trial 0.\n",
      "Checking processes in trial 0.\n",
      "Checking processes in trial 0.\n",
      "Checking processes in trial 0.\n",
      "Checking processes in trial 0.\n",
      "Checking processes in trial 0.\n",
      "Checking processes in trial 0.\n",
      "Checking processes in trial 0.\n",
      "Checking processes in trial 0.\n",
      "Checking processes in trial 0.\n",
      "Checking processes in trial 0.\n",
      "Checking processes in trial 0.\n",
      "Checking processes in trial 0.\n",
      "Checking processes in trial 0.\n",
      "Checking processes in trial 0.\n",
      "Checking processes in trial 0.\n",
      "Checking processes in trial 0.\n",
      "Checking processes in trial 0.\n"
     ]
    },
    {
     "name": "stderr",
     "output_type": "stream",
     "text": [
      "  4%|▎         | 280/7487 [00:30<04:50, 24.81it/s]"
     ]
    },
    {
     "name": "stdout",
     "output_type": "stream",
     "text": [
      "Checking processes in trial 0.\n",
      "Checking processes in trial 0.\n",
      "Checking processes in trial 0.\n",
      "Checking processes in trial 0.\n",
      "Checking processes in trial 0.\n",
      "Checking processes in trial 0.\n",
      "Checking processes in trial 0.\n",
      "Checking processes in trial 0.\n",
      "Checking processes in trial 0.\n",
      "Checking processes in trial 0.\n",
      "Checking processes in trial 0.\n",
      "Checking processes in trial 0.\n",
      "Checking processes in trial 0.\n",
      "Checking processes in trial 0.\n",
      "Checking processes in trial 0.\n",
      "Checking processes in trial 0.\n",
      "Checking processes in trial 0.\n",
      "Checking processes in trial 0.\n",
      "Checking processes in trial 0.\n",
      "Checking processes in trial 0.\n",
      "Checking processes in trial 0.\n",
      "Checking processes in trial 0.\n"
     ]
    },
    {
     "name": "stderr",
     "output_type": "stream",
     "text": [
      "  4%|▍         | 283/7487 [00:30<04:57, 24.21it/s]"
     ]
    },
    {
     "name": "stdout",
     "output_type": "stream",
     "text": [
      "Checking processes in trial 0.\n",
      "Checking processes in trial 0.\n",
      "Checking processes in trial 0.\n",
      "Checking processes in trial 0.\n",
      "Checking processes in trial 0.\n",
      "Checking processes in trial 0.\n",
      "Checking processes in trial 0.\n",
      "Checking processes in trial 0.\n",
      "Checking processes in trial 0.\n",
      "Checking processes in trial 0.\n",
      "Checking processes in trial 0.\n",
      "Checking processes in trial 0.\n",
      "Checking processes in trial 0.\n",
      "Checking processes in trial 0.\n",
      "Checking processes in trial 0.\n",
      "Checking processes in trial 0.\n",
      "Checking processes in trial 0.\n",
      "Checking processes in trial 0.\n",
      "Checking processes in trial 0.\n",
      "Checking processes in trial 0.\n"
     ]
    },
    {
     "name": "stderr",
     "output_type": "stream",
     "text": [
      "  4%|▍         | 289/7487 [00:31<04:51, 24.73it/s]"
     ]
    },
    {
     "name": "stdout",
     "output_type": "stream",
     "text": [
      "Checking processes in trial 0.\n",
      "Checking processes in trial 0.\n",
      "Checking processes in trial 0.\n",
      "Checking processes in trial 0.\n",
      "Checking processes in trial 0.\n",
      "Checking processes in trial 0.\n",
      "Checking processes in trial 0.\n",
      "Checking processes in trial 0.\n",
      "Checking processes in trial 0.\n",
      "Checking processes in trial 0.\n",
      "Checking processes in trial 0.\n",
      "Checking processes in trial 0.\n",
      "Checking processes in trial 0.\n",
      "Checking processes in trial 0.\n",
      "Checking processes in trial 0.\n",
      "Checking processes in trial 0.\n",
      "Checking processes in trial 0.\n",
      "Checking processes in trial 0.\n",
      "Checking processes in trial 0.\n",
      "Checking processes in trial 0.\n",
      "Checking processes in trial 0.\n",
      "Checking processes in trial 0.\n"
     ]
    },
    {
     "name": "stderr",
     "output_type": "stream",
     "text": [
      "  4%|▍         | 295/7487 [00:31<04:46, 25.15it/s]"
     ]
    },
    {
     "name": "stdout",
     "output_type": "stream",
     "text": [
      "Checking processes in trial 0.\n",
      "Checking processes in trial 0.\n",
      "Checking processes in trial 0.\n",
      "Checking processes in trial 0.\n",
      "Checking processes in trial 0.\n",
      "Checking processes in trial 0.\n",
      "Checking processes in trial 0.\n",
      "Checking processes in trial 0.\n",
      "Checking processes in trial 0.\n",
      "Checking processes in trial 0.\n",
      "Checking processes in trial 0.\n",
      "Checking processes in trial 0.\n",
      "Checking processes in trial 0.\n",
      "Checking processes in trial 0.\n",
      "Checking processes in trial 0.\n",
      "Checking processes in trial 0.\n",
      "Checking processes in trial 0.\n",
      "Checking processes in trial 0.\n",
      "Checking processes in trial 0.\n",
      "Checking processes in trial 0.\n",
      "Checking processes in trial 0.\n",
      "Checking processes in trial 0.\n"
     ]
    },
    {
     "name": "stderr",
     "output_type": "stream",
     "text": [
      "  4%|▍         | 298/7487 [00:31<05:16, 22.70it/s]"
     ]
    },
    {
     "name": "stdout",
     "output_type": "stream",
     "text": [
      "Checking processes in trial 0.\n",
      "Checking processes in trial 0.\n",
      "Checking processes in trial 0.\n",
      "Checking processes in trial 0.\n",
      "Checking processes in trial 0.\n",
      "Checking processes in trial 0.\n",
      "Checking processes in trial 0.\n",
      "Checking processes in trial 0.\n",
      "Checking processes in trial 0.\n",
      "Checking processes in trial 0.\n",
      "Checking processes in trial 0.\n",
      "Checking processes in trial 0.\n",
      "Checking processes in trial 0.\n",
      "Checking processes in trial 0.\n",
      "Checking processes in trial 0.\n",
      "Checking processes in trial 0.\n",
      "Checking processes in trial 0.\n",
      "Checking processes in trial 0.\n"
     ]
    },
    {
     "name": "stderr",
     "output_type": "stream",
     "text": [
      "  4%|▍         | 304/7487 [00:31<04:51, 24.61it/s]"
     ]
    },
    {
     "name": "stdout",
     "output_type": "stream",
     "text": [
      "Checking processes in trial 0.\n",
      "Checking processes in trial 0.\n",
      "Checking processes in trial 0.\n",
      "Checking processes in trial 0.\n",
      "Checking processes in trial 0.\n",
      "Checking processes in trial 0.\n",
      "Checking processes in trial 0.\n",
      "Checking processes in trial 0.\n",
      "Checking processes in trial 0.\n",
      "Checking processes in trial 0.\n",
      "Checking processes in trial 0.\n",
      "Checking processes in trial 0.\n",
      "Checking processes in trial 0.\n",
      "Checking processes in trial 0.\n",
      "Checking processes in trial 0.\n",
      "Checking processes in trial 0.\n",
      "Checking processes in trial 0.\n",
      "Checking processes in trial 0.\n",
      "Checking processes in trial 0.\n",
      "Checking processes in trial 0.\n",
      "Checking processes in trial 0.\n",
      "Checking processes in trial 0.\n",
      "Checking processes in trial 0.\n"
     ]
    },
    {
     "name": "stderr",
     "output_type": "stream",
     "text": [
      "  4%|▍         | 310/7487 [00:31<04:36, 25.97it/s]"
     ]
    },
    {
     "name": "stdout",
     "output_type": "stream",
     "text": [
      "Checking processes in trial 0.\n",
      "Checking processes in trial 0.\n",
      "Checking processes in trial 0.\n",
      "Checking processes in trial 0.\n",
      "Checking processes in trial 0.\n",
      "Checking processes in trial 0.\n",
      "Checking processes in trial 0.\n",
      "Checking processes in trial 0.\n",
      "Checking processes in trial 0.\n",
      "Checking processes in trial 0.\n",
      "Checking processes in trial 0.\n",
      "Checking processes in trial 0.\n",
      "Checking processes in trial 0.\n",
      "Checking processes in trial 0.\n",
      "Checking processes in trial 0.\n",
      "Checking processes in trial 0.\n",
      "Checking processes in trial 0.\n",
      "Checking processes in trial 0.\n",
      "Checking processes in trial 0.\n",
      "Checking processes in trial 0.\n",
      "Checking processes in trial 0.\n",
      "Checking processes in trial 0.\n",
      "Checking processes in trial 0.\n"
     ]
    },
    {
     "name": "stderr",
     "output_type": "stream",
     "text": [
      "  4%|▍         | 316/7487 [00:32<04:30, 26.50it/s]"
     ]
    },
    {
     "name": "stdout",
     "output_type": "stream",
     "text": [
      "Checking processes in trial 0.\n",
      "Checking processes in trial 0.\n",
      "Checking processes in trial 0.\n",
      "Checking processes in trial 0.\n",
      "Checking processes in trial 0.\n",
      "Checking processes in trial 0.\n",
      "Checking processes in trial 0.\n",
      "Checking processes in trial 0.\n",
      "Checking processes in trial 0.\n",
      "Checking processes in trial 0.\n",
      "Checking processes in trial 0.\n",
      "Checking processes in trial 0.\n",
      "Checking processes in trial 0.\n",
      "Checking processes in trial 0.\n",
      "Checking processes in trial 0.\n",
      "Checking processes in trial 0.\n",
      "Checking processes in trial 0.\n",
      "Checking processes in trial 0.\n",
      "Checking processes in trial 0.\n",
      "Checking processes in trial 0.\n",
      "Checking processes in trial 0.\n",
      "Checking processes in trial 0.\n",
      "Checking processes in trial 0.\n"
     ]
    },
    {
     "name": "stderr",
     "output_type": "stream",
     "text": [
      "  4%|▍         | 323/7487 [00:32<04:21, 27.35it/s]"
     ]
    },
    {
     "name": "stdout",
     "output_type": "stream",
     "text": [
      "Checking processes in trial 0.\n",
      "Checking processes in trial 0.\n",
      "Checking processes in trial 0.\n",
      "Checking processes in trial 0.\n",
      "Checking processes in trial 0.\n",
      "Checking processes in trial 0.\n",
      "Checking processes in trial 0.\n",
      "Checking processes in trial 0.\n",
      "Checking processes in trial 0.\n",
      "Checking processes in trial 0.\n",
      "Checking processes in trial 0.\n",
      "Checking processes in trial 0.\n",
      "Checking processes in trial 0.\n",
      "Checking processes in trial 0.\n",
      "Checking processes in trial 0.\n",
      "Checking processes in trial 0.\n",
      "Checking processes in trial 0.\n",
      "Checking processes in trial 0.\n",
      "Checking processes in trial 0.\n",
      "Checking processes in trial 0.\n",
      "Checking processes in trial 0.\n",
      "Checking processes in trial 0.\n",
      "Checking processes in trial 0.\n",
      "Checking processes in trial 0.\n"
     ]
    },
    {
     "name": "stderr",
     "output_type": "stream",
     "text": [
      "  4%|▍         | 329/7487 [00:32<04:19, 27.55it/s]"
     ]
    },
    {
     "name": "stdout",
     "output_type": "stream",
     "text": [
      "Checking processes in trial 0.\n",
      "Checking processes in trial 0.\n",
      "Checking processes in trial 0.\n",
      "Checking processes in trial 0.\n",
      "Checking processes in trial 0.\n",
      "Checking processes in trial 0.\n",
      "Checking processes in trial 0.\n",
      "Checking processes in trial 0.\n",
      "Checking processes in trial 0.\n",
      "Checking processes in trial 0.\n",
      "Checking processes in trial 0.\n",
      "Checking processes in trial 0.\n",
      "Checking processes in trial 0.\n",
      "Checking processes in trial 0.\n",
      "Checking processes in trial 0.\n",
      "Checking processes in trial 0.\n",
      "Checking processes in trial 0.\n",
      "Checking processes in trial 0.\n",
      "Checking processes in trial 0.\n",
      "Checking processes in trial 0.\n",
      "Checking processes in trial 0.\n",
      "Checking processes in trial 0.\n",
      "Checking processes in trial 0.\n",
      "Checking processes in trial 0.\n"
     ]
    },
    {
     "name": "stderr",
     "output_type": "stream",
     "text": [
      "  4%|▍         | 332/7487 [00:32<04:17, 27.78it/s]"
     ]
    },
    {
     "name": "stdout",
     "output_type": "stream",
     "text": [
      "Checking processes in trial 0.\n",
      "Checking processes in trial 0.\n",
      "Checking processes in trial 0.\n",
      "Checking processes in trial 0.\n",
      "Checking processes in trial 0.\n",
      "Checking processes in trial 0.\n",
      "Checking processes in trial 0.\n",
      "Checking processes in trial 0.\n",
      "Checking processes in trial 0.\n",
      "Checking processes in trial 0.\n"
     ]
    },
    {
     "name": "stderr",
     "output_type": "stream",
     "text": [
      "  4%|▍         | 335/7487 [00:33<09:23, 12.70it/s]"
     ]
    },
    {
     "name": "stdout",
     "output_type": "stream",
     "text": [
      "Checking processes in trial 0.\n",
      "Checking processes in trial 0.\n",
      "Checking processes in trial 0.\n",
      "Checking processes in trial 0.\n",
      "Checking processes in trial 0.\n",
      "Checking processes in trial 0.\n",
      "Checking processes in trial 0.\n",
      "Checking processes in trial 0.\n",
      "Checking processes in trial 0.\n",
      "Checking processes in trial 0.\n",
      "Checking processes in trial 0.\n",
      "Checking processes in trial 0.\n",
      "Checking processes in trial 0.\n",
      "Checking processes in trial 0.\n",
      "Checking processes in trial 0.\n",
      "Checking processes in trial 0.\n",
      "Checking processes in trial 0.\n",
      "Checking processes in trial 0.\n",
      "Checking processes in trial 0.\n",
      "Checking processes in trial 0.\n",
      "Checking processes in trial 0.\n",
      "Checking processes in trial 0.\n",
      "Checking processes in trial 0.\n"
     ]
    },
    {
     "name": "stderr",
     "output_type": "stream",
     "text": [
      "  5%|▍         | 344/7487 [00:33<05:58, 19.90it/s]"
     ]
    },
    {
     "name": "stdout",
     "output_type": "stream",
     "text": [
      "Checking processes in trial 0.\n",
      "Checking processes in trial 0.\n",
      "Checking processes in trial 0.\n",
      "Checking processes in trial 0.\n",
      "Checking processes in trial 0.\n",
      "Checking processes in trial 0.\n",
      "Checking processes in trial 0.\n",
      "Checking processes in trial 0.\n",
      "Checking processes in trial 0.\n",
      "Checking processes in trial 0.\n",
      "Checking processes in trial 0.\n",
      "Checking processes in trial 0.\n",
      "Checking processes in trial 0.\n",
      "Checking processes in trial 0.\n",
      "Checking processes in trial 0.\n",
      "Checking processes in trial 0.\n",
      "Checking processes in trial 0.\n",
      "Checking processes in trial 0.\n",
      "Checking processes in trial 0.\n",
      "Checking processes in trial 0.\n",
      "Checking processes in trial 0.\n",
      "Checking processes in trial 0.\n",
      "Checking processes in trial 0.\n",
      "Checking processes in trial 0.\n"
     ]
    },
    {
     "name": "stderr",
     "output_type": "stream",
     "text": [
      "  5%|▍         | 347/7487 [00:33<05:31, 21.52it/s]"
     ]
    },
    {
     "name": "stdout",
     "output_type": "stream",
     "text": [
      "Checking processes in trial 0.\n",
      "Checking processes in trial 0.\n",
      "Checking processes in trial 0.\n",
      "Checking processes in trial 0.\n",
      "Checking processes in trial 0.\n",
      "Checking processes in trial 0.\n",
      "Checking processes in trial 0.\n",
      "Checking processes in trial 0.\n",
      "Checking processes in trial 0.\n",
      "Checking processes in trial 0.\n",
      "Checking processes in trial 0.\n",
      "Checking processes in trial 0.\n",
      "Checking processes in trial 0.\n",
      "Checking processes in trial 0.\n",
      "Checking processes in trial 0.\n",
      "Checking processes in trial 0.\n",
      "Checking processes in trial 0.\n",
      "Checking processes in trial 0.\n",
      "Checking processes in trial 0.\n",
      "Checking processes in trial 0.\n",
      "Checking processes in trial 0.\n",
      "Checking processes in trial 0.\n",
      "Checking processes in trial 0.\n",
      "Checking processes in trial 0.\n"
     ]
    },
    {
     "name": "stderr",
     "output_type": "stream",
     "text": [
      "  5%|▍         | 353/7487 [00:33<04:58, 23.90it/s]"
     ]
    },
    {
     "name": "stdout",
     "output_type": "stream",
     "text": [
      "Checking processes in trial 0.\n",
      "Checking processes in trial 0.\n",
      "Checking processes in trial 0.\n",
      "Checking processes in trial 0.\n",
      "Checking processes in trial 0.\n",
      "Checking processes in trial 0.\n",
      "Checking processes in trial 0.\n",
      "Checking processes in trial 0.\n",
      "Checking processes in trial 0.\n",
      "Checking processes in trial 0.\n",
      "Checking processes in trial 0.\n",
      "Checking processes in trial 0.\n",
      "Checking processes in trial 0.\n",
      "Checking processes in trial 0.\n",
      "Checking processes in trial 0.\n",
      "Checking processes in trial 0.\n",
      "Checking processes in trial 0.\n",
      "Checking processes in trial 0.\n",
      "Checking processes in trial 0.\n",
      "Checking processes in trial 0.\n",
      "Checking processes in trial 0.\n",
      "Checking processes in trial 0.\n",
      "Checking processes in trial 0.\n",
      "Checking processes in trial 0.\n"
     ]
    },
    {
     "name": "stderr",
     "output_type": "stream",
     "text": [
      "  5%|▍         | 359/7487 [00:34<04:37, 25.64it/s]"
     ]
    },
    {
     "name": "stdout",
     "output_type": "stream",
     "text": [
      "Checking processes in trial 0.\n",
      "Checking processes in trial 0.\n",
      "Checking processes in trial 0.\n",
      "Checking processes in trial 0.\n",
      "Checking processes in trial 0.\n",
      "Checking processes in trial 0.\n",
      "Checking processes in trial 0.\n",
      "Checking processes in trial 0.\n",
      "Checking processes in trial 0.\n",
      "Checking processes in trial 0.\n",
      "Checking processes in trial 0.\n",
      "Checking processes in trial 0.\n",
      "Checking processes in trial 0.\n",
      "Checking processes in trial 0.\n",
      "Checking processes in trial 0.\n",
      "Checking processes in trial 0.\n",
      "Checking processes in trial 0.\n",
      "Checking processes in trial 0.\n",
      "Checking processes in trial 0.\n",
      "Checking processes in trial 0.\n",
      "Checking processes in trial 0.\n",
      "Checking processes in trial 0.\n",
      "Checking processes in trial 0.\n",
      "Checking processes in trial 0.\n"
     ]
    },
    {
     "name": "stderr",
     "output_type": "stream",
     "text": [
      "  5%|▍         | 365/7487 [00:34<04:29, 26.42it/s]"
     ]
    },
    {
     "name": "stdout",
     "output_type": "stream",
     "text": [
      "Checking processes in trial 0.\n",
      "Checking processes in trial 0.\n",
      "Checking processes in trial 0.\n",
      "Checking processes in trial 0.\n",
      "Checking processes in trial 0.\n",
      "Checking processes in trial 0.\n",
      "Checking processes in trial 0.\n",
      "Checking processes in trial 0.\n",
      "Checking processes in trial 0.\n",
      "Checking processes in trial 0.\n",
      "Checking processes in trial 0.\n",
      "Checking processes in trial 0.\n",
      "Checking processes in trial 0.\n",
      "Checking processes in trial 0.\n",
      "Checking processes in trial 0.\n",
      "Checking processes in trial 0.\n",
      "Checking processes in trial 0.\n",
      "Checking processes in trial 0.\n",
      "Checking processes in trial 0.\n",
      "Checking processes in trial 0.\n",
      "Checking processes in trial 0.\n",
      "Checking processes in trial 0.\n",
      "Checking processes in trial 0.\n"
     ]
    },
    {
     "name": "stderr",
     "output_type": "stream",
     "text": [
      "  5%|▍         | 371/7487 [00:34<04:28, 26.51it/s]"
     ]
    },
    {
     "name": "stdout",
     "output_type": "stream",
     "text": [
      "Checking processes in trial 0.\n",
      "Checking processes in trial 0.\n",
      "Checking processes in trial 0.\n",
      "Checking processes in trial 0.\n",
      "Checking processes in trial 0.\n",
      "Checking processes in trial 0.\n",
      "Checking processes in trial 0.\n",
      "Checking processes in trial 0.\n",
      "Checking processes in trial 0.\n",
      "Checking processes in trial 0.\n",
      "Checking processes in trial 0.\n",
      "Checking processes in trial 0.\n",
      "Checking processes in trial 0.\n",
      "Checking processes in trial 0.\n",
      "Checking processes in trial 0.\n",
      "Checking processes in trial 0.\n",
      "Checking processes in trial 0.\n",
      "Checking processes in trial 0.\n",
      "Checking processes in trial 0.\n",
      "Checking processes in trial 0.\n",
      "Checking processes in trial 0.\n",
      "Checking processes in trial 0.\n",
      "Checking processes in trial 0.\n"
     ]
    },
    {
     "name": "stderr",
     "output_type": "stream",
     "text": [
      "  5%|▌         | 377/7487 [00:34<04:32, 26.06it/s]"
     ]
    },
    {
     "name": "stdout",
     "output_type": "stream",
     "text": [
      "Checking processes in trial 0.\n",
      "Checking processes in trial 0.\n",
      "Checking processes in trial 0.\n",
      "Checking processes in trial 0.\n",
      "Checking processes in trial 0.\n",
      "Checking processes in trial 0.\n",
      "Checking processes in trial 0.\n",
      "Checking processes in trial 0.\n",
      "Checking processes in trial 0.\n",
      "Checking processes in trial 0.\n",
      "Checking processes in trial 0.\n",
      "Checking processes in trial 0.\n",
      "Checking processes in trial 0.\n",
      "Checking processes in trial 0.\n",
      "Checking processes in trial 0.\n",
      "Checking processes in trial 0.\n",
      "Checking processes in trial 0.\n",
      "Checking processes in trial 0.\n",
      "Checking processes in trial 0.\n",
      "Checking processes in trial 0.\n",
      "Checking processes in trial 0.\n",
      "Checking processes in trial 0.\n"
     ]
    },
    {
     "name": "stderr",
     "output_type": "stream",
     "text": [
      "  5%|▌         | 383/7487 [00:34<04:28, 26.46it/s]"
     ]
    },
    {
     "name": "stdout",
     "output_type": "stream",
     "text": [
      "Checking processes in trial 0.\n",
      "Checking processes in trial 0.\n",
      "Checking processes in trial 0.\n",
      "Checking processes in trial 0.\n",
      "Checking processes in trial 0.\n",
      "Checking processes in trial 0.\n",
      "Checking processes in trial 0.\n",
      "Checking processes in trial 0.\n",
      "Checking processes in trial 0.\n",
      "Checking processes in trial 0.\n",
      "Checking processes in trial 0.\n",
      "Checking processes in trial 0.\n",
      "Checking processes in trial 0.\n",
      "Checking processes in trial 0.\n",
      "Checking processes in trial 0.\n",
      "Checking processes in trial 0.\n",
      "Checking processes in trial 0.\n",
      "Checking processes in trial 0.\n",
      "Checking processes in trial 0.\n",
      "Checking processes in trial 0.\n",
      "Checking processes in trial 0.\n",
      "Checking processes in trial 0.\n",
      "Checking processes in trial 0.\n"
     ]
    },
    {
     "name": "stderr",
     "output_type": "stream",
     "text": [
      "  5%|▌         | 389/7487 [00:35<04:32, 26.02it/s]"
     ]
    },
    {
     "name": "stdout",
     "output_type": "stream",
     "text": [
      "Checking processes in trial 0.\n",
      "Checking processes in trial 0.\n",
      "Checking processes in trial 0.\n",
      "Checking processes in trial 0.\n",
      "Checking processes in trial 0.\n",
      "Checking processes in trial 0.\n",
      "Checking processes in trial 0.\n",
      "Checking processes in trial 0.\n",
      "Checking processes in trial 0.\n",
      "Checking processes in trial 0.\n",
      "Checking processes in trial 0.\n",
      "Checking processes in trial 0.\n",
      "Checking processes in trial 0.\n",
      "Checking processes in trial 0.\n",
      "Checking processes in trial 0.\n",
      "Checking processes in trial 0.\n",
      "Checking processes in trial 0.\n",
      "Checking processes in trial 0.\n",
      "Checking processes in trial 0.\n",
      "Checking processes in trial 0.\n",
      "Checking processes in trial 0.\n"
     ]
    },
    {
     "name": "stderr",
     "output_type": "stream",
     "text": [
      "  5%|▌         | 395/7487 [00:35<04:35, 25.73it/s]"
     ]
    },
    {
     "name": "stdout",
     "output_type": "stream",
     "text": [
      "Checking processes in trial 0.\n",
      "Checking processes in trial 0.\n",
      "Checking processes in trial 0.\n",
      "Checking processes in trial 0.\n",
      "Checking processes in trial 0.\n",
      "Checking processes in trial 0.\n",
      "Checking processes in trial 0.\n",
      "Checking processes in trial 0.\n",
      "Checking processes in trial 0.\n",
      "Checking processes in trial 0.\n",
      "Checking processes in trial 0.\n",
      "Checking processes in trial 0.\n",
      "Checking processes in trial 0.\n",
      "Checking processes in trial 0.\n",
      "Checking processes in trial 0.\n",
      "Checking processes in trial 0.\n",
      "Checking processes in trial 0.\n",
      "Checking processes in trial 0.\n",
      "Checking processes in trial 0.\n",
      "Checking processes in trial 0.\n",
      "Checking processes in trial 0.\n"
     ]
    },
    {
     "name": "stderr",
     "output_type": "stream",
     "text": [
      "  5%|▌         | 398/7487 [00:35<04:53, 24.16it/s]"
     ]
    },
    {
     "name": "stdout",
     "output_type": "stream",
     "text": [
      "Checking processes in trial 0.\n",
      "Checking processes in trial 0.\n",
      "Checking processes in trial 0.\n",
      "Checking processes in trial 0.\n",
      "Checking processes in trial 0.\n",
      "Checking processes in trial 0.\n",
      "Checking processes in trial 0.\n",
      "Checking processes in trial 0.\n",
      "Checking processes in trial 0.\n",
      "Checking processes in trial 0.\n",
      "Checking processes in trial 0.\n",
      "Checking processes in trial 0.\n",
      "Checking processes in trial 0.\n",
      "Checking processes in trial 0.\n",
      "Checking processes in trial 0.\n",
      "Checking processes in trial 0.\n",
      "Checking processes in trial 0.\n",
      "Checking processes in trial 0.\n",
      "Checking processes in trial 0.\n",
      "Checking processes in trial 0.\n"
     ]
    },
    {
     "name": "stderr",
     "output_type": "stream",
     "text": [
      "  5%|▌         | 404/7487 [00:35<04:34, 25.78it/s]"
     ]
    },
    {
     "name": "stdout",
     "output_type": "stream",
     "text": [
      "Checking processes in trial 0.\n",
      "Checking processes in trial 0.\n",
      "Checking processes in trial 0.\n",
      "Checking processes in trial 0.\n",
      "Checking processes in trial 0.\n",
      "Checking processes in trial 0.\n",
      "Checking processes in trial 0.\n",
      "Checking processes in trial 0.\n",
      "Checking processes in trial 0.\n",
      "Checking processes in trial 0.\n",
      "Checking processes in trial 0.\n",
      "Checking processes in trial 0.\n",
      "Checking processes in trial 0.\n",
      "Checking processes in trial 0.\n",
      "Checking processes in trial 0.\n",
      "Checking processes in trial 0.\n",
      "Checking processes in trial 0.\n",
      "Checking processes in trial 0.\n",
      "Checking processes in trial 0.\n",
      "Checking processes in trial 0.\n",
      "Checking processes in trial 0.\n",
      "Checking processes in trial 0.\n",
      "Checking processes in trial 0.\n"
     ]
    },
    {
     "name": "stderr",
     "output_type": "stream",
     "text": [
      "  5%|▌         | 410/7487 [00:36<04:27, 26.44it/s]"
     ]
    },
    {
     "name": "stdout",
     "output_type": "stream",
     "text": [
      "Checking processes in trial 0.\n",
      "Checking processes in trial 0.\n",
      "Checking processes in trial 0.\n",
      "Checking processes in trial 0.\n",
      "Checking processes in trial 0.\n",
      "Checking processes in trial 0.\n",
      "Checking processes in trial 0.\n",
      "Checking processes in trial 0.\n",
      "Checking processes in trial 0.\n",
      "Checking processes in trial 0.\n",
      "Checking processes in trial 0.\n",
      "Checking processes in trial 0.\n",
      "Checking processes in trial 0.\n",
      "Checking processes in trial 0.\n",
      "Checking processes in trial 0.\n",
      "Checking processes in trial 0.\n",
      "Checking processes in trial 0.\n",
      "Checking processes in trial 0.\n",
      "Checking processes in trial 0.\n",
      "Checking processes in trial 0.\n",
      "Checking processes in trial 0.\n",
      "Checking processes in trial 0.\n",
      "Checking processes in trial 0.\n",
      "Checking processes in trial 0.\n"
     ]
    },
    {
     "name": "stderr",
     "output_type": "stream",
     "text": [
      "  6%|▌         | 416/7487 [00:36<04:20, 27.12it/s]"
     ]
    },
    {
     "name": "stdout",
     "output_type": "stream",
     "text": [
      "Checking processes in trial 0.\n",
      "Checking processes in trial 0.\n",
      "Checking processes in trial 0.\n",
      "Checking processes in trial 0.\n",
      "Checking processes in trial 0.\n",
      "Checking processes in trial 0.\n",
      "Checking processes in trial 0.\n",
      "Checking processes in trial 0.\n",
      "Checking processes in trial 0.\n",
      "Checking processes in trial 0.\n",
      "Checking processes in trial 0.\n",
      "Checking processes in trial 0.\n",
      "Checking processes in trial 0.\n",
      "Checking processes in trial 0.\n",
      "Checking processes in trial 0.\n",
      "Checking processes in trial 0.\n",
      "Checking processes in trial 0.\n",
      "Checking processes in trial 0.\n",
      "Checking processes in trial 0.\n",
      "Checking processes in trial 0.\n",
      "Checking processes in trial 0.\n",
      "Checking processes in trial 0.\n",
      "Checking processes in trial 0.\n",
      "Checking processes in trial 0.\n"
     ]
    },
    {
     "name": "stderr",
     "output_type": "stream",
     "text": [
      "  6%|▌         | 422/7487 [00:36<04:13, 27.85it/s]"
     ]
    },
    {
     "name": "stdout",
     "output_type": "stream",
     "text": [
      "Checking processes in trial 0.\n",
      "Checking processes in trial 0.\n",
      "Checking processes in trial 0.\n",
      "Checking processes in trial 0.\n",
      "Checking processes in trial 0.\n",
      "Checking processes in trial 0.\n",
      "Checking processes in trial 0.\n",
      "Checking processes in trial 0.\n",
      "Checking processes in trial 0.\n",
      "Checking processes in trial 0.\n",
      "Checking processes in trial 0.\n",
      "Checking processes in trial 0.\n",
      "Checking processes in trial 0.\n",
      "Checking processes in trial 0.\n",
      "Checking processes in trial 0.\n",
      "Checking processes in trial 0.\n",
      "Checking processes in trial 0.\n",
      "Checking processes in trial 0.\n",
      "Checking processes in trial 0.\n",
      "Checking processes in trial 0.\n",
      "Checking processes in trial 0.\n",
      "Checking processes in trial 0.\n",
      "Checking processes in trial 0.\n",
      "Checking processes in trial 0.\n"
     ]
    },
    {
     "name": "stderr",
     "output_type": "stream",
     "text": [
      "  6%|▌         | 428/7487 [00:36<04:19, 27.18it/s]"
     ]
    },
    {
     "name": "stdout",
     "output_type": "stream",
     "text": [
      "Checking processes in trial 0.\n",
      "Checking processes in trial 0.\n",
      "Checking processes in trial 0.\n",
      "Checking processes in trial 0.\n",
      "Checking processes in trial 0.\n",
      "Checking processes in trial 0.\n",
      "Checking processes in trial 0.\n",
      "Checking processes in trial 0.\n",
      "Checking processes in trial 0.\n",
      "Checking processes in trial 0.\n",
      "Checking processes in trial 0.\n",
      "Checking processes in trial 0.\n",
      "Checking processes in trial 0.\n",
      "Checking processes in trial 0.\n",
      "Checking processes in trial 0.\n",
      "Checking processes in trial 0.\n",
      "Checking processes in trial 0.\n",
      "Checking processes in trial 0.\n",
      "Checking processes in trial 0.\n",
      "Checking processes in trial 0.\n",
      "Checking processes in trial 0.\n",
      "Checking processes in trial 0.\n",
      "Checking processes in trial 0.\n"
     ]
    },
    {
     "name": "stderr",
     "output_type": "stream",
     "text": [
      "  6%|▌         | 434/7487 [00:36<04:14, 27.74it/s]"
     ]
    },
    {
     "name": "stdout",
     "output_type": "stream",
     "text": [
      "Checking processes in trial 0.\n",
      "Checking processes in trial 0.\n",
      "Checking processes in trial 0.\n",
      "Checking processes in trial 0.\n",
      "Checking processes in trial 0.\n",
      "Checking processes in trial 0.\n",
      "Checking processes in trial 0.\n",
      "Checking processes in trial 0.\n",
      "Checking processes in trial 0.\n",
      "Checking processes in trial 0.\n",
      "Checking processes in trial 0.\n",
      "Checking processes in trial 0.\n",
      "Checking processes in trial 0.\n",
      "Checking processes in trial 0.\n",
      "Checking processes in trial 0.\n",
      "Checking processes in trial 0.\n",
      "Checking processes in trial 0.\n",
      "Checking processes in trial 0.\n",
      "Checking processes in trial 0.\n",
      "Checking processes in trial 0.\n",
      "Checking processes in trial 0.\n",
      "Checking processes in trial 0.\n",
      "Checking processes in trial 0.\n"
     ]
    },
    {
     "name": "stderr",
     "output_type": "stream",
     "text": [
      "  6%|▌         | 440/7487 [00:37<04:18, 27.22it/s]"
     ]
    },
    {
     "name": "stdout",
     "output_type": "stream",
     "text": [
      "Checking processes in trial 0.\n",
      "Checking processes in trial 0.\n",
      "Checking processes in trial 0.\n",
      "Checking processes in trial 0.\n",
      "Checking processes in trial 0.\n",
      "Checking processes in trial 0.\n",
      "Checking processes in trial 0.\n",
      "Checking processes in trial 0.\n",
      "Checking processes in trial 0.\n",
      "Checking processes in trial 0.\n",
      "Checking processes in trial 0.\n",
      "Checking processes in trial 0.\n",
      "Checking processes in trial 0.\n",
      "Checking processes in trial 0.\n",
      "Checking processes in trial 0.\n",
      "Checking processes in trial 0.\n",
      "Checking processes in trial 0.\n",
      "Checking processes in trial 0.\n",
      "Checking processes in trial 0.\n",
      "Checking processes in trial 0.\n",
      "Checking processes in trial 0.\n",
      "Checking processes in trial 0.\n"
     ]
    },
    {
     "name": "stderr",
     "output_type": "stream",
     "text": [
      "  6%|▌         | 446/7487 [00:37<04:16, 27.48it/s]"
     ]
    },
    {
     "name": "stdout",
     "output_type": "stream",
     "text": [
      "Checking processes in trial 0.\n",
      "Checking processes in trial 0.\n",
      "Checking processes in trial 0.\n",
      "Checking processes in trial 0.\n",
      "Checking processes in trial 0.\n",
      "Checking processes in trial 0.\n",
      "Checking processes in trial 0.\n",
      "Checking processes in trial 0.\n",
      "Checking processes in trial 0.\n",
      "Checking processes in trial 0.\n",
      "Checking processes in trial 0.\n",
      "Checking processes in trial 0.\n",
      "Checking processes in trial 0.\n",
      "Checking processes in trial 0.\n",
      "Checking processes in trial 0.\n",
      "Checking processes in trial 0.\n",
      "Checking processes in trial 0.\n",
      "Checking processes in trial 0.\n",
      "Checking processes in trial 0.\n",
      "Checking processes in trial 0.\n",
      "Checking processes in trial 0.\n",
      "Checking processes in trial 0.\n",
      "Checking processes in trial 0.\n",
      "Checking processes in trial 0.\n"
     ]
    },
    {
     "name": "stderr",
     "output_type": "stream",
     "text": [
      "  6%|▌         | 452/7487 [00:37<04:10, 28.10it/s]"
     ]
    },
    {
     "name": "stdout",
     "output_type": "stream",
     "text": [
      "Checking processes in trial 0.\n",
      "Checking processes in trial 0.\n",
      "Checking processes in trial 0.\n",
      "Checking processes in trial 0.\n",
      "Checking processes in trial 0.\n",
      "Checking processes in trial 0.\n",
      "Checking processes in trial 0.\n",
      "Checking processes in trial 0.\n",
      "Checking processes in trial 0.\n",
      "Checking processes in trial 0.\n",
      "Checking processes in trial 0.\n",
      "Checking processes in trial 0.\n",
      "Checking processes in trial 0.\n",
      "Checking processes in trial 0.\n",
      "Checking processes in trial 0.\n",
      "Checking processes in trial 0.\n",
      "Checking processes in trial 0.\n",
      "Checking processes in trial 0.\n",
      "Checking processes in trial 0.\n",
      "Checking processes in trial 0.\n",
      "Checking processes in trial 0.\n",
      "Checking processes in trial 0.\n",
      "Checking processes in trial 0.\n",
      "Checking processes in trial 0.\n"
     ]
    },
    {
     "name": "stderr",
     "output_type": "stream",
     "text": [
      "  6%|▌         | 458/7487 [00:37<04:22, 26.73it/s]"
     ]
    },
    {
     "name": "stdout",
     "output_type": "stream",
     "text": [
      "Checking processes in trial 0.\n",
      "Checking processes in trial 0.\n",
      "Checking processes in trial 0.\n",
      "Checking processes in trial 0.\n",
      "Checking processes in trial 0.\n",
      "Checking processes in trial 0.\n",
      "Checking processes in trial 0.\n",
      "Checking processes in trial 0.\n",
      "Checking processes in trial 0.\n",
      "Checking processes in trial 0.\n",
      "Checking processes in trial 0.\n",
      "Checking processes in trial 0.\n",
      "Checking processes in trial 0.\n",
      "Checking processes in trial 0.\n",
      "Checking processes in trial 0.\n",
      "Checking processes in trial 0.\n",
      "Checking processes in trial 0.\n",
      "Checking processes in trial 0.\n",
      "Checking processes in trial 0.\n",
      "Checking processes in trial 0.\n",
      "Checking processes in trial 0.\n"
     ]
    },
    {
     "name": "stderr",
     "output_type": "stream",
     "text": [
      "  6%|▌         | 464/7487 [00:37<04:20, 26.92it/s]"
     ]
    },
    {
     "name": "stdout",
     "output_type": "stream",
     "text": [
      "Checking processes in trial 0.\n",
      "Checking processes in trial 0.\n",
      "Checking processes in trial 0.\n",
      "Checking processes in trial 0.\n",
      "Checking processes in trial 0.\n",
      "Checking processes in trial 0.\n",
      "Checking processes in trial 0.\n",
      "Checking processes in trial 0.\n",
      "Checking processes in trial 0.\n",
      "Checking processes in trial 0.\n",
      "Checking processes in trial 0.\n",
      "Checking processes in trial 0.\n",
      "Checking processes in trial 0.\n",
      "Checking processes in trial 0.\n",
      "Checking processes in trial 0.\n",
      "Checking processes in trial 0.\n",
      "Checking processes in trial 0.\n",
      "Checking processes in trial 0.\n",
      "Checking processes in trial 0.\n",
      "Checking processes in trial 0.\n",
      "Checking processes in trial 0.\n",
      "Checking processes in trial 0.\n",
      "Checking processes in trial 0.\n"
     ]
    },
    {
     "name": "stderr",
     "output_type": "stream",
     "text": [
      "  6%|▌         | 467/7487 [00:38<04:20, 26.90it/s]"
     ]
    },
    {
     "name": "stdout",
     "output_type": "stream",
     "text": [
      "Checking processes in trial 0.\n",
      "Checking processes in trial 0.\n",
      "Checking processes in trial 0.\n",
      "Checking processes in trial 0.\n",
      "Checking processes in trial 0.\n",
      "Checking processes in trial 0.\n",
      "Checking processes in trial 0.\n",
      "Checking processes in trial 0.\n",
      "Checking processes in trial 0.\n",
      "Checking processes in trial 0.\n",
      "Checking processes in trial 0.\n",
      "Checking processes in trial 0.\n",
      "Checking processes in trial 0.\n",
      "Checking processes in trial 0.\n",
      "Checking processes in trial 0.\n",
      "Checking processes in trial 0.\n",
      "Checking processes in trial 0.\n",
      "Checking processes in trial 0.\n",
      "Checking processes in trial 0.\n",
      "Checking processes in trial 0.\n"
     ]
    },
    {
     "name": "stderr",
     "output_type": "stream",
     "text": [
      "  6%|▋         | 473/7487 [00:38<04:28, 26.09it/s]"
     ]
    },
    {
     "name": "stdout",
     "output_type": "stream",
     "text": [
      "Checking processes in trial 0.\n",
      "Checking processes in trial 0.\n",
      "Checking processes in trial 0.\n",
      "Checking processes in trial 0.\n",
      "Checking processes in trial 0.\n",
      "Checking processes in trial 0.\n",
      "Checking processes in trial 0.\n",
      "Checking processes in trial 0.\n",
      "Checking processes in trial 0.\n",
      "Checking processes in trial 0.\n",
      "Checking processes in trial 0.\n",
      "Checking processes in trial 0.\n",
      "Checking processes in trial 0.\n",
      "Checking processes in trial 0.\n",
      "Checking processes in trial 0.\n",
      "Checking processes in trial 0.\n",
      "Checking processes in trial 0.\n",
      "Checking processes in trial 0.\n",
      "Checking processes in trial 0.\n",
      "Checking processes in trial 0.\n",
      "Checking processes in trial 0.\n",
      "Checking processes in trial 0.\n",
      "Checking processes in trial 0.\n",
      "Checking processes in trial 0.\n",
      "Checking processes in trial 0.\n"
     ]
    },
    {
     "name": "stderr",
     "output_type": "stream",
     "text": [
      "  6%|▋         | 479/7487 [00:38<04:17, 27.25it/s]"
     ]
    },
    {
     "name": "stdout",
     "output_type": "stream",
     "text": [
      "Checking processes in trial 0.\n",
      "Checking processes in trial 0.\n",
      "Checking processes in trial 0.\n",
      "Checking processes in trial 0.\n",
      "Checking processes in trial 0.\n",
      "Checking processes in trial 0.\n",
      "Checking processes in trial 0.\n",
      "Checking processes in trial 0.\n",
      "Checking processes in trial 0.\n",
      "Checking processes in trial 0.\n",
      "Checking processes in trial 0.\n",
      "Checking processes in trial 0.\n",
      "Checking processes in trial 0.\n",
      "Checking processes in trial 0.\n",
      "Checking processes in trial 0.\n",
      "Checking processes in trial 0.\n",
      "Checking processes in trial 0.\n",
      "Checking processes in trial 0.\n",
      "Checking processes in trial 0.\n",
      "Checking processes in trial 0.\n",
      "Checking processes in trial 0.\n",
      "Checking processes in trial 0.\n",
      "Checking processes in trial 0.\n"
     ]
    },
    {
     "name": "stderr",
     "output_type": "stream",
     "text": [
      "  6%|▋         | 485/7487 [00:38<04:18, 27.04it/s]"
     ]
    },
    {
     "name": "stdout",
     "output_type": "stream",
     "text": [
      "Checking processes in trial 0.\n",
      "Checking processes in trial 0.\n",
      "Checking processes in trial 0.\n",
      "Checking processes in trial 0.\n",
      "Checking processes in trial 0.\n",
      "Checking processes in trial 0.\n",
      "Checking processes in trial 0.\n",
      "Checking processes in trial 0.\n",
      "Checking processes in trial 0.\n",
      "Checking processes in trial 0.\n",
      "Checking processes in trial 0.\n",
      "Checking processes in trial 0.\n",
      "Checking processes in trial 0.\n",
      "Checking processes in trial 0.\n",
      "Checking processes in trial 0.\n",
      "Checking processes in trial 0.\n",
      "Checking processes in trial 0.\n",
      "Checking processes in trial 0.\n",
      "Checking processes in trial 0.\n",
      "Checking processes in trial 0.\n",
      "Checking processes in trial 0.\n",
      "Checking processes in trial 0.\n",
      "Checking processes in trial 0.\n",
      "Checking processes in trial 0.\n"
     ]
    },
    {
     "name": "stderr",
     "output_type": "stream",
     "text": [
      "  7%|▋         | 491/7487 [00:38<04:11, 27.77it/s]"
     ]
    },
    {
     "name": "stdout",
     "output_type": "stream",
     "text": [
      "Checking processes in trial 0.\n",
      "Checking processes in trial 0.\n",
      "Checking processes in trial 0.\n",
      "Checking processes in trial 0.\n",
      "Checking processes in trial 0.\n",
      "Checking processes in trial 0.\n",
      "Checking processes in trial 0.\n",
      "Checking processes in trial 0.\n",
      "Checking processes in trial 0.\n",
      "Checking processes in trial 0.\n",
      "Checking processes in trial 0.\n",
      "Checking processes in trial 0.\n",
      "Checking processes in trial 0.\n",
      "Checking processes in trial 0.\n",
      "Checking processes in trial 0.\n",
      "Checking processes in trial 0.\n",
      "Checking processes in trial 0.\n",
      "Checking processes in trial 0.\n",
      "Checking processes in trial 0.\n",
      "Checking processes in trial 0.\n",
      "Checking processes in trial 0.\n",
      "Checking processes in trial 0.\n",
      "Checking processes in trial 0.\n",
      "Checking processes in trial 0.\n"
     ]
    },
    {
     "name": "stderr",
     "output_type": "stream",
     "text": [
      "  7%|▋         | 497/7487 [00:39<04:10, 27.86it/s]"
     ]
    },
    {
     "name": "stdout",
     "output_type": "stream",
     "text": [
      "Checking processes in trial 0.\n",
      "Checking processes in trial 0.\n",
      "Checking processes in trial 0.\n",
      "Checking processes in trial 0.\n",
      "Checking processes in trial 0.\n",
      "Checking processes in trial 0.\n",
      "Checking processes in trial 0.\n",
      "Checking processes in trial 0.\n",
      "Checking processes in trial 0.\n",
      "Checking processes in trial 0.\n",
      "Checking processes in trial 0.\n",
      "Checking processes in trial 0.\n",
      "Checking processes in trial 0.\n",
      "Checking processes in trial 0.\n",
      "Checking processes in trial 0.\n",
      "Checking processes in trial 0.\n",
      "Checking processes in trial 0.\n",
      "Checking processes in trial 0.\n",
      "Checking processes in trial 0.\n",
      "Checking processes in trial 0.\n",
      "Checking processes in trial 0.\n",
      "Checking processes in trial 0.\n",
      "Checking processes in trial 0.\n",
      "Checking processes in trial 0.\n"
     ]
    },
    {
     "name": "stderr",
     "output_type": "stream",
     "text": [
      "  7%|▋         | 503/7487 [00:39<04:17, 27.15it/s]"
     ]
    },
    {
     "name": "stdout",
     "output_type": "stream",
     "text": [
      "Checking processes in trial 0.\n",
      "Checking processes in trial 0.\n",
      "Checking processes in trial 0.\n",
      "Checking processes in trial 0.\n",
      "Checking processes in trial 0.\n",
      "Checking processes in trial 0.\n",
      "Checking processes in trial 0.\n",
      "Checking processes in trial 0.\n",
      "Checking processes in trial 0.\n",
      "Checking processes in trial 0.\n",
      "Checking processes in trial 0.\n",
      "Checking processes in trial 0.\n",
      "Checking processes in trial 0.\n",
      "Checking processes in trial 0.\n",
      "Checking processes in trial 0.\n",
      "Checking processes in trial 0.\n",
      "Checking processes in trial 0.\n",
      "Checking processes in trial 0.\n",
      "Checking processes in trial 0.\n",
      "Checking processes in trial 0.\n",
      "Checking processes in trial 0.\n",
      "Checking processes in trial 0.\n"
     ]
    },
    {
     "name": "stderr",
     "output_type": "stream",
     "text": [
      "  7%|▋         | 509/7487 [00:39<04:14, 27.45it/s]"
     ]
    },
    {
     "name": "stdout",
     "output_type": "stream",
     "text": [
      "Checking processes in trial 0.\n",
      "Checking processes in trial 0.\n",
      "Checking processes in trial 0.\n",
      "Checking processes in trial 0.\n",
      "Checking processes in trial 0.\n",
      "Checking processes in trial 0.\n",
      "Checking processes in trial 0.\n",
      "Checking processes in trial 0.\n",
      "Checking processes in trial 0.\n",
      "Checking processes in trial 0.\n",
      "Checking processes in trial 0.\n",
      "Checking processes in trial 0.\n",
      "Checking processes in trial 0.\n",
      "Checking processes in trial 0.\n",
      "Checking processes in trial 0.\n",
      "Checking processes in trial 0.\n",
      "Checking processes in trial 0.\n",
      "Checking processes in trial 0.\n",
      "Checking processes in trial 0.\n",
      "Checking processes in trial 0.\n",
      "Checking processes in trial 0.\n",
      "Checking processes in trial 0.\n",
      "Checking processes in trial 0.\n",
      "Checking processes in trial 0.\n"
     ]
    },
    {
     "name": "stderr",
     "output_type": "stream",
     "text": [
      "  7%|▋         | 515/7487 [00:39<04:45, 24.39it/s]"
     ]
    },
    {
     "name": "stdout",
     "output_type": "stream",
     "text": [
      "Checking processes in trial 0.\n",
      "Checking processes in trial 0.\n",
      "Checking processes in trial 0.\n",
      "Checking processes in trial 0.\n",
      "Checking processes in trial 0.\n",
      "Checking processes in trial 0.\n",
      "Checking processes in trial 0.\n",
      "Checking processes in trial 0.\n",
      "Checking processes in trial 0.\n",
      "Checking processes in trial 0.\n",
      "Checking processes in trial 0.\n",
      "Checking processes in trial 0.\n",
      "Checking processes in trial 0.\n",
      "Checking processes in trial 0.\n",
      "Checking processes in trial 0.\n",
      "Checking processes in trial 0.\n",
      "Checking processes in trial 0.\n",
      "Checking processes in trial 0.\n"
     ]
    },
    {
     "name": "stderr",
     "output_type": "stream",
     "text": [
      "  7%|▋         | 518/7487 [00:40<04:41, 24.73it/s]"
     ]
    },
    {
     "name": "stdout",
     "output_type": "stream",
     "text": [
      "Checking processes in trial 0.\n",
      "Checking processes in trial 0.\n",
      "Checking processes in trial 0.\n",
      "Checking processes in trial 0.\n",
      "Checking processes in trial 0.\n",
      "Checking processes in trial 0.\n",
      "Checking processes in trial 0.\n",
      "Checking processes in trial 0.\n",
      "Checking processes in trial 0.\n",
      "Checking processes in trial 0.\n",
      "Checking processes in trial 0.\n",
      "Checking processes in trial 0.\n",
      "Checking processes in trial 0.\n",
      "Checking processes in trial 0.\n",
      "Checking processes in trial 0.\n",
      "Checking processes in trial 0.\n",
      "Checking processes in trial 0.\n",
      "Checking processes in trial 0.\n",
      "Checking processes in trial 0.\n",
      "Checking processes in trial 0.\n",
      "Checking processes in trial 0.\n",
      "Checking processes in trial 0.\n",
      "Checking processes in trial 0.\n"
     ]
    },
    {
     "name": "stderr",
     "output_type": "stream",
     "text": [
      "  7%|▋         | 524/7487 [00:40<04:27, 26.07it/s]"
     ]
    },
    {
     "name": "stdout",
     "output_type": "stream",
     "text": [
      "Checking processes in trial 0.\n",
      "Checking processes in trial 0.\n",
      "Checking processes in trial 0.\n",
      "Checking processes in trial 0.\n",
      "Checking processes in trial 0.\n",
      "Checking processes in trial 0.\n",
      "Checking processes in trial 0.\n",
      "Checking processes in trial 0.\n",
      "Checking processes in trial 0.\n",
      "Checking processes in trial 0.\n",
      "Checking processes in trial 0.\n",
      "Checking processes in trial 0.\n",
      "Checking processes in trial 0.\n",
      "Checking processes in trial 0.\n",
      "Checking processes in trial 0.\n",
      "Checking processes in trial 0.\n",
      "Checking processes in trial 0.\n",
      "Checking processes in trial 0.\n",
      "Checking processes in trial 0.\n"
     ]
    },
    {
     "name": "stderr",
     "output_type": "stream",
     "text": [
      "  7%|▋         | 530/7487 [00:40<04:48, 24.08it/s]"
     ]
    },
    {
     "name": "stdout",
     "output_type": "stream",
     "text": [
      "Checking processes in trial 0.\n",
      "Checking processes in trial 0.\n",
      "Checking processes in trial 0.\n",
      "Checking processes in trial 0.\n",
      "Checking processes in trial 0.\n",
      "Checking processes in trial 0.\n",
      "Checking processes in trial 0.\n",
      "Checking processes in trial 0.\n",
      "Checking processes in trial 0.\n",
      "Checking processes in trial 0.\n",
      "Checking processes in trial 0.\n",
      "Checking processes in trial 0.\n",
      "Checking processes in trial 0.\n",
      "Checking processes in trial 0.\n",
      "Checking processes in trial 0.\n",
      "Checking processes in trial 0.\n",
      "Checking processes in trial 0.\n",
      "Checking processes in trial 0.\n",
      "Checking processes in trial 0.\n",
      "Checking processes in trial 0.\n",
      "Checking processes in trial 0.\n"
     ]
    },
    {
     "name": "stderr",
     "output_type": "stream",
     "text": [
      "  7%|▋         | 536/7487 [00:40<04:35, 25.26it/s]"
     ]
    },
    {
     "name": "stdout",
     "output_type": "stream",
     "text": [
      "Checking processes in trial 0.\n",
      "Checking processes in trial 0.\n",
      "Checking processes in trial 0.\n",
      "Checking processes in trial 0.\n",
      "Checking processes in trial 0.\n",
      "Checking processes in trial 0.\n",
      "Checking processes in trial 0.\n",
      "Checking processes in trial 0.\n",
      "Checking processes in trial 0.\n",
      "Checking processes in trial 0.\n",
      "Checking processes in trial 0.\n",
      "Checking processes in trial 0.\n",
      "Checking processes in trial 0.\n",
      "Checking processes in trial 0.\n",
      "Checking processes in trial 0.\n",
      "Checking processes in trial 0.\n",
      "Checking processes in trial 0.\n",
      "Checking processes in trial 0.\n",
      "Checking processes in trial 0.\n",
      "Checking processes in trial 0.\n",
      "Checking processes in trial 0.\n"
     ]
    },
    {
     "name": "stderr",
     "output_type": "stream",
     "text": [
      "  7%|▋         | 539/7487 [00:40<05:02, 22.96it/s]"
     ]
    },
    {
     "name": "stdout",
     "output_type": "stream",
     "text": [
      "Checking processes in trial 0.\n",
      "Checking processes in trial 0.\n",
      "Checking processes in trial 0.\n",
      "Checking processes in trial 0.\n",
      "Checking processes in trial 0.\n",
      "Checking processes in trial 0.\n",
      "Checking processes in trial 0.\n",
      "Checking processes in trial 0.\n",
      "Checking processes in trial 0.\n",
      "Checking processes in trial 0.\n",
      "Checking processes in trial 0.\n",
      "Checking processes in trial 0.\n",
      "Checking processes in trial 0.\n",
      "Checking processes in trial 0.\n",
      "Checking processes in trial 0.\n",
      "Checking processes in trial 0.\n",
      "Checking processes in trial 0.\n",
      "Checking processes in trial 0.\n",
      "Checking processes in trial 0.\n",
      "Checking processes in trial 0.\n"
     ]
    },
    {
     "name": "stderr",
     "output_type": "stream",
     "text": [
      "  7%|▋         | 545/7487 [00:41<04:43, 24.48it/s]"
     ]
    },
    {
     "name": "stdout",
     "output_type": "stream",
     "text": [
      "Checking processes in trial 0.\n",
      "Checking processes in trial 0.\n",
      "Checking processes in trial 0.\n",
      "Checking processes in trial 0.\n",
      "Checking processes in trial 0.\n",
      "Checking processes in trial 0.\n",
      "Checking processes in trial 0.\n",
      "Checking processes in trial 0.\n",
      "Checking processes in trial 0.\n",
      "Checking processes in trial 0.\n",
      "Checking processes in trial 0.\n",
      "Checking processes in trial 0.\n",
      "Checking processes in trial 0.\n",
      "Checking processes in trial 0.\n",
      "Checking processes in trial 0.\n",
      "Checking processes in trial 0.\n",
      "Checking processes in trial 0.\n",
      "Checking processes in trial 0.\n",
      "Checking processes in trial 0.\n",
      "Checking processes in trial 0.\n",
      "Checking processes in trial 0.\n",
      "Checking processes in trial 0.\n"
     ]
    },
    {
     "name": "stderr",
     "output_type": "stream",
     "text": [
      "  7%|▋         | 551/7487 [00:41<05:00, 23.07it/s]"
     ]
    },
    {
     "name": "stdout",
     "output_type": "stream",
     "text": [
      "Checking processes in trial 0.\n",
      "Checking processes in trial 0.\n",
      "Checking processes in trial 0.\n",
      "Checking processes in trial 0.\n",
      "Checking processes in trial 0.\n",
      "Checking processes in trial 0.\n",
      "Checking processes in trial 0.\n",
      "Checking processes in trial 0.\n",
      "Checking processes in trial 0.\n",
      "Checking processes in trial 0.\n",
      "Checking processes in trial 0.\n",
      "Checking processes in trial 0.\n",
      "Checking processes in trial 0.\n",
      "Checking processes in trial 0.\n",
      "Checking processes in trial 0.\n",
      "Checking processes in trial 0.\n",
      "Checking processes in trial 0.\n",
      "Checking processes in trial 0.\n"
     ]
    },
    {
     "name": "stderr",
     "output_type": "stream",
     "text": [
      "  7%|▋         | 554/7487 [00:41<04:48, 24.06it/s]"
     ]
    },
    {
     "name": "stdout",
     "output_type": "stream",
     "text": [
      "Checking processes in trial 0.\n",
      "Checking processes in trial 0.\n",
      "Checking processes in trial 0.\n",
      "Checking processes in trial 0.\n",
      "Checking processes in trial 0.\n",
      "Checking processes in trial 0.\n",
      "Checking processes in trial 0.\n",
      "Checking processes in trial 0.\n",
      "Checking processes in trial 0.\n",
      "Checking processes in trial 0.\n",
      "Checking processes in trial 0.\n",
      "Checking processes in trial 0.\n",
      "Checking processes in trial 0.\n",
      "Checking processes in trial 0.\n",
      "Checking processes in trial 0.\n",
      "Checking processes in trial 0.\n",
      "Checking processes in trial 0.\n",
      "Checking processes in trial 0.\n",
      "Checking processes in trial 0.\n",
      "Checking processes in trial 0.\n",
      "Checking processes in trial 0.\n",
      "Checking processes in trial 0.\n",
      "Checking processes in trial 0.\n"
     ]
    },
    {
     "name": "stderr",
     "output_type": "stream",
     "text": [
      "  7%|▋         | 560/7487 [00:41<04:28, 25.80it/s]"
     ]
    },
    {
     "name": "stdout",
     "output_type": "stream",
     "text": [
      "Checking processes in trial 0.\n",
      "Checking processes in trial 0.\n",
      "Checking processes in trial 0.\n",
      "Checking processes in trial 0.\n",
      "Checking processes in trial 0.\n",
      "Checking processes in trial 0.\n",
      "Checking processes in trial 0.\n",
      "Checking processes in trial 0.\n",
      "Checking processes in trial 0.\n",
      "Checking processes in trial 0.\n",
      "Checking processes in trial 0.\n",
      "Checking processes in trial 0.\n",
      "Checking processes in trial 0.\n",
      "Checking processes in trial 0.\n",
      "Checking processes in trial 0.\n",
      "Checking processes in trial 0.\n",
      "Checking processes in trial 0.\n",
      "Checking processes in trial 0.\n",
      "Checking processes in trial 0.\n",
      "Checking processes in trial 0.\n",
      "Checking processes in trial 0.\n",
      "Checking processes in trial 0.\n",
      "Checking processes in trial 0.\n",
      "Checking processes in trial 0.\n"
     ]
    },
    {
     "name": "stderr",
     "output_type": "stream",
     "text": [
      "  8%|▊         | 566/7487 [00:41<04:20, 26.56it/s]"
     ]
    },
    {
     "name": "stdout",
     "output_type": "stream",
     "text": [
      "Checking processes in trial 0.\n",
      "Checking processes in trial 0.\n",
      "Checking processes in trial 0.\n",
      "Checking processes in trial 0.\n",
      "Checking processes in trial 0.\n",
      "Checking processes in trial 0.\n",
      "Checking processes in trial 0.\n",
      "Checking processes in trial 0.\n",
      "Checking processes in trial 0.\n",
      "Checking processes in trial 0.\n",
      "Checking processes in trial 0.\n",
      "Checking processes in trial 0.\n",
      "Checking processes in trial 0.\n",
      "Checking processes in trial 0.\n",
      "Checking processes in trial 0.\n",
      "Checking processes in trial 0.\n",
      "Checking processes in trial 0.\n",
      "Checking processes in trial 0.\n",
      "Checking processes in trial 0.\n",
      "Checking processes in trial 0.\n",
      "Checking processes in trial 0.\n",
      "Checking processes in trial 0.\n"
     ]
    },
    {
     "name": "stderr",
     "output_type": "stream",
     "text": [
      "  8%|▊         | 572/7487 [00:42<04:40, 24.65it/s]"
     ]
    },
    {
     "name": "stdout",
     "output_type": "stream",
     "text": [
      "Checking processes in trial 0.\n",
      "Checking processes in trial 0.\n",
      "Checking processes in trial 0.\n",
      "Checking processes in trial 0.\n",
      "Checking processes in trial 0.\n",
      "Checking processes in trial 0.\n",
      "Checking processes in trial 0.\n",
      "Checking processes in trial 0.\n",
      "Checking processes in trial 0.\n",
      "Checking processes in trial 0.\n",
      "Checking processes in trial 0.\n",
      "Checking processes in trial 0.\n",
      "Checking processes in trial 0.\n",
      "Checking processes in trial 0.\n",
      "Checking processes in trial 0.\n",
      "Checking processes in trial 0.\n",
      "Checking processes in trial 0.\n",
      "Checking processes in trial 0.\n",
      "Checking processes in trial 0.\n"
     ]
    },
    {
     "name": "stderr",
     "output_type": "stream",
     "text": [
      "  8%|▊         | 575/7487 [00:42<04:44, 24.27it/s]"
     ]
    },
    {
     "name": "stdout",
     "output_type": "stream",
     "text": [
      "Checking processes in trial 0.\n",
      "Checking processes in trial 0.\n",
      "Checking processes in trial 0.\n",
      "Checking processes in trial 0.\n",
      "Checking processes in trial 0.\n",
      "Checking processes in trial 0.\n",
      "Checking processes in trial 0.\n",
      "Checking processes in trial 0.\n",
      "Checking processes in trial 0.\n"
     ]
    },
    {
     "name": "stderr",
     "output_type": "stream",
     "text": [
      "  8%|▊         | 581/7487 [00:42<07:50, 14.67it/s]"
     ]
    },
    {
     "name": "stdout",
     "output_type": "stream",
     "text": [
      "Checking processes in trial 0.\n",
      "Checking processes in trial 0.\n",
      "Checking processes in trial 0.\n",
      "Checking processes in trial 0.\n",
      "Checking processes in trial 0.\n",
      "Checking processes in trial 0.\n",
      "Checking processes in trial 0.\n",
      "Checking processes in trial 0.\n",
      "Checking processes in trial 0.\n",
      "Checking processes in trial 0.\n",
      "Checking processes in trial 0.\n",
      "Checking processes in trial 0.\n",
      "Checking processes in trial 0.\n",
      "Checking processes in trial 0.\n",
      "Checking processes in trial 0.\n",
      "Checking processes in trial 0.\n",
      "Checking processes in trial 0.\n",
      "Checking processes in trial 0.\n",
      "Checking processes in trial 0.\n",
      "Checking processes in trial 0.\n",
      "Checking processes in trial 0.\n",
      "Checking processes in trial 0.\n",
      "Checking processes in trial 0.\n",
      "Checking processes in trial 0.\n",
      "Checking processes in trial 0.\n"
     ]
    },
    {
     "name": "stderr",
     "output_type": "stream",
     "text": [
      "  8%|▊         | 587/7487 [00:43<05:58, 19.23it/s]"
     ]
    },
    {
     "name": "stdout",
     "output_type": "stream",
     "text": [
      "Checking processes in trial 0.\n",
      "Checking processes in trial 0.\n",
      "Checking processes in trial 0.\n",
      "Checking processes in trial 0.\n",
      "Checking processes in trial 0.\n",
      "Checking processes in trial 0.\n",
      "Checking processes in trial 0.\n",
      "Checking processes in trial 0.\n",
      "Checking processes in trial 0.\n",
      "Checking processes in trial 0.\n",
      "Checking processes in trial 0.\n",
      "Checking processes in trial 0.\n",
      "Checking processes in trial 0.\n",
      "Checking processes in trial 0.\n",
      "Checking processes in trial 0.\n",
      "Checking processes in trial 0.\n",
      "Checking processes in trial 0.\n",
      "Checking processes in trial 0.\n",
      "Checking processes in trial 0.\n",
      "Checking processes in trial 0.\n",
      "Checking processes in trial 0.\n",
      "Checking processes in trial 0.\n",
      "Checking processes in trial 0.\n"
     ]
    },
    {
     "name": "stderr",
     "output_type": "stream",
     "text": [
      "  8%|▊         | 593/7487 [00:43<05:05, 22.59it/s]"
     ]
    },
    {
     "name": "stdout",
     "output_type": "stream",
     "text": [
      "Checking processes in trial 0.\n",
      "Checking processes in trial 0.\n",
      "Checking processes in trial 0.\n",
      "Checking processes in trial 0.\n",
      "Checking processes in trial 0.\n",
      "Checking processes in trial 0.\n",
      "Checking processes in trial 0.\n",
      "Checking processes in trial 0.\n",
      "Checking processes in trial 0.\n",
      "Checking processes in trial 0.\n",
      "Checking processes in trial 0.\n",
      "Checking processes in trial 0.\n",
      "Checking processes in trial 0.\n",
      "Checking processes in trial 0.\n",
      "Checking processes in trial 0.\n",
      "Checking processes in trial 0.\n",
      "Checking processes in trial 0.\n",
      "Checking processes in trial 0.\n",
      "Checking processes in trial 0.\n",
      "Checking processes in trial 0.\n",
      "Checking processes in trial 0.\n",
      "Checking processes in trial 0.\n",
      "Checking processes in trial 0.\n"
     ]
    },
    {
     "name": "stderr",
     "output_type": "stream",
     "text": [
      "  8%|▊         | 596/7487 [00:43<04:48, 23.91it/s]"
     ]
    },
    {
     "name": "stdout",
     "output_type": "stream",
     "text": [
      "Checking processes in trial 0.\n",
      "Checking processes in trial 0.\n",
      "Checking processes in trial 0.\n",
      "Checking processes in trial 0.\n",
      "Checking processes in trial 0.\n",
      "Checking processes in trial 0.\n",
      "Checking processes in trial 0.\n",
      "Checking processes in trial 0.\n",
      "Checking processes in trial 0.\n",
      "Checking processes in trial 0.\n",
      "Checking processes in trial 0.\n",
      "Checking processes in trial 0.\n",
      "Checking processes in trial 0.\n",
      "Checking processes in trial 0.\n",
      "Checking processes in trial 0.\n",
      "Checking processes in trial 0.\n",
      "Checking processes in trial 0.\n",
      "Checking processes in trial 0.\n",
      "Checking processes in trial 0.\n",
      "Checking processes in trial 0.\n",
      "Checking processes in trial 0.\n",
      "Checking processes in trial 0.\n",
      "Checking processes in trial 0.\n"
     ]
    },
    {
     "name": "stderr",
     "output_type": "stream",
     "text": [
      "  8%|▊         | 602/7487 [00:43<04:32, 25.31it/s]"
     ]
    },
    {
     "name": "stdout",
     "output_type": "stream",
     "text": [
      "Checking processes in trial 0.\n",
      "Checking processes in trial 0.\n",
      "Checking processes in trial 0.\n",
      "Checking processes in trial 0.\n",
      "Checking processes in trial 0.\n",
      "Checking processes in trial 0.\n",
      "Checking processes in trial 0.\n",
      "Checking processes in trial 0.\n",
      "Checking processes in trial 0.\n",
      "Checking processes in trial 0.\n",
      "Checking processes in trial 0.\n",
      "Checking processes in trial 0.\n",
      "Checking processes in trial 0.\n",
      "Checking processes in trial 0.\n",
      "Checking processes in trial 0.\n",
      "Checking processes in trial 0.\n",
      "Checking processes in trial 0.\n",
      "Checking processes in trial 0.\n",
      "Checking processes in trial 0.\n",
      "Checking processes in trial 0.\n",
      "Checking processes in trial 0.\n",
      "Checking processes in trial 0.\n",
      "Checking processes in trial 0.\n"
     ]
    },
    {
     "name": "stderr",
     "output_type": "stream",
     "text": [
      "  8%|▊         | 608/7487 [00:43<04:22, 26.21it/s]"
     ]
    },
    {
     "name": "stdout",
     "output_type": "stream",
     "text": [
      "Checking processes in trial 0.\n",
      "Checking processes in trial 0.\n",
      "Checking processes in trial 0.\n",
      "Checking processes in trial 0.\n",
      "Checking processes in trial 0.\n",
      "Checking processes in trial 0.\n",
      "Checking processes in trial 0.\n",
      "Checking processes in trial 0.\n",
      "Checking processes in trial 0.\n",
      "Checking processes in trial 0.\n",
      "Checking processes in trial 0.\n",
      "Checking processes in trial 0.\n",
      "Checking processes in trial 0.\n",
      "Checking processes in trial 0.\n",
      "Checking processes in trial 0.\n",
      "Checking processes in trial 0.\n",
      "Checking processes in trial 0.\n",
      "Checking processes in trial 0.\n",
      "Checking processes in trial 0.\n",
      "Checking processes in trial 0.\n",
      "Checking processes in trial 0.\n",
      "Checking processes in trial 0.\n",
      "Checking processes in trial 0.\n"
     ]
    },
    {
     "name": "stderr",
     "output_type": "stream",
     "text": [
      "  8%|▊         | 614/7487 [00:44<04:20, 26.38it/s]"
     ]
    },
    {
     "name": "stdout",
     "output_type": "stream",
     "text": [
      "Checking processes in trial 0.\n",
      "Checking processes in trial 0.\n",
      "Checking processes in trial 0.\n",
      "Checking processes in trial 0.\n",
      "Checking processes in trial 0.\n",
      "Checking processes in trial 0.\n",
      "Checking processes in trial 0.\n",
      "Checking processes in trial 0.\n",
      "Checking processes in trial 0.\n",
      "Checking processes in trial 0.\n",
      "Checking processes in trial 0.\n",
      "Checking processes in trial 0.\n",
      "Checking processes in trial 0.\n",
      "Checking processes in trial 0.\n",
      "Checking processes in trial 0.\n",
      "Checking processes in trial 0.\n",
      "Checking processes in trial 0.\n",
      "Checking processes in trial 0.\n",
      "Checking processes in trial 0.\n",
      "Checking processes in trial 0.\n",
      "Checking processes in trial 0.\n",
      "Checking processes in trial 0.\n",
      "Checking processes in trial 0.\n"
     ]
    },
    {
     "name": "stderr",
     "output_type": "stream",
     "text": [
      "  8%|▊         | 620/7487 [00:44<04:17, 26.67it/s]"
     ]
    },
    {
     "name": "stdout",
     "output_type": "stream",
     "text": [
      "Checking processes in trial 0.\n",
      "Checking processes in trial 0.\n",
      "Checking processes in trial 0.\n",
      "Checking processes in trial 0.\n",
      "Checking processes in trial 0.\n",
      "Checking processes in trial 0.\n",
      "Checking processes in trial 0.\n",
      "Checking processes in trial 0.\n",
      "Checking processes in trial 0.\n",
      "Checking processes in trial 0.\n",
      "Checking processes in trial 0.\n",
      "Checking processes in trial 0.\n",
      "Checking processes in trial 0.\n",
      "Checking processes in trial 0.\n",
      "Checking processes in trial 0.\n",
      "Checking processes in trial 0.\n",
      "Checking processes in trial 0.\n",
      "Checking processes in trial 0.\n",
      "Checking processes in trial 0.\n",
      "Checking processes in trial 0.\n",
      "Checking processes in trial 0.\n",
      "Checking processes in trial 0.\n",
      "Checking processes in trial 0.\n",
      "Checking processes in trial 0.\n"
     ]
    },
    {
     "name": "stderr",
     "output_type": "stream",
     "text": [
      "  8%|▊         | 626/7487 [00:44<04:44, 24.11it/s]"
     ]
    },
    {
     "name": "stdout",
     "output_type": "stream",
     "text": [
      "Checking processes in trial 0.\n",
      "Checking processes in trial 0.\n",
      "Checking processes in trial 0.\n",
      "Checking processes in trial 0.\n",
      "Checking processes in trial 0.\n",
      "Checking processes in trial 0.\n",
      "Checking processes in trial 0.\n",
      "Checking processes in trial 0.\n",
      "Checking processes in trial 0.\n",
      "Checking processes in trial 0.\n",
      "Checking processes in trial 0.\n",
      "Checking processes in trial 0.\n",
      "Checking processes in trial 0.\n",
      "Checking processes in trial 0.\n",
      "Checking processes in trial 0.\n",
      "Checking processes in trial 0.\n",
      "Checking processes in trial 0.\n",
      "Checking processes in trial 0.\n"
     ]
    },
    {
     "name": "stderr",
     "output_type": "stream",
     "text": [
      "  8%|▊         | 632/7487 [00:44<04:35, 24.85it/s]"
     ]
    },
    {
     "name": "stdout",
     "output_type": "stream",
     "text": [
      "Checking processes in trial 0.\n",
      "Checking processes in trial 0.\n",
      "Checking processes in trial 0.\n",
      "Checking processes in trial 0.\n",
      "Checking processes in trial 0.\n",
      "Checking processes in trial 0.\n",
      "Checking processes in trial 0.\n",
      "Checking processes in trial 0.\n",
      "Checking processes in trial 0.\n",
      "Checking processes in trial 0.\n",
      "Checking processes in trial 0.\n",
      "Checking processes in trial 0.\n",
      "Checking processes in trial 0.\n",
      "Checking processes in trial 0.\n",
      "Checking processes in trial 0.\n",
      "Checking processes in trial 0.\n",
      "Checking processes in trial 0.\n",
      "Checking processes in trial 0.\n",
      "Checking processes in trial 0.\n",
      "Checking processes in trial 0.\n",
      "Checking processes in trial 0.\n",
      "Checking processes in trial 0.\n"
     ]
    },
    {
     "name": "stderr",
     "output_type": "stream",
     "text": [
      "  8%|▊         | 635/7487 [00:45<04:32, 25.18it/s]"
     ]
    },
    {
     "name": "stdout",
     "output_type": "stream",
     "text": [
      "Checking processes in trial 0.\n",
      "Checking processes in trial 0.\n",
      "Checking processes in trial 0.\n",
      "Checking processes in trial 0.\n",
      "Checking processes in trial 0.\n",
      "Checking processes in trial 0.\n",
      "Checking processes in trial 0.\n",
      "Checking processes in trial 0.\n",
      "Checking processes in trial 0.\n",
      "Checking processes in trial 0.\n",
      "Checking processes in trial 0.\n",
      "Checking processes in trial 0.\n",
      "Checking processes in trial 0.\n",
      "Checking processes in trial 0.\n",
      "Checking processes in trial 0.\n",
      "Checking processes in trial 0.\n",
      "Checking processes in trial 0.\n",
      "Checking processes in trial 0.\n",
      "Checking processes in trial 0.\n",
      "Checking processes in trial 0.\n",
      "Checking processes in trial 0.\n",
      "Checking processes in trial 0.\n",
      "Checking processes in trial 0.\n",
      "Checking processes in trial 0.\n"
     ]
    },
    {
     "name": "stderr",
     "output_type": "stream",
     "text": [
      "  9%|▊         | 644/7487 [00:45<04:13, 27.04it/s]"
     ]
    },
    {
     "name": "stdout",
     "output_type": "stream",
     "text": [
      "Checking processes in trial 0.\n",
      "Checking processes in trial 0.\n",
      "Checking processes in trial 0.\n",
      "Checking processes in trial 0.\n",
      "Checking processes in trial 0.\n",
      "Checking processes in trial 0.\n",
      "Checking processes in trial 0.\n",
      "Checking processes in trial 0.\n",
      "Checking processes in trial 0.\n",
      "Checking processes in trial 0.\n",
      "Checking processes in trial 0.\n",
      "Checking processes in trial 0.\n",
      "Checking processes in trial 0.\n",
      "Checking processes in trial 0.\n",
      "Checking processes in trial 0.\n",
      "Checking processes in trial 0.\n",
      "Checking processes in trial 0.\n",
      "Checking processes in trial 0.\n",
      "Checking processes in trial 0.\n",
      "Checking processes in trial 0.\n",
      "Checking processes in trial 0.\n",
      "Checking processes in trial 0.\n",
      "Checking processes in trial 0.\n",
      "Checking processes in trial 0.\n"
     ]
    },
    {
     "name": "stderr",
     "output_type": "stream",
     "text": [
      "  9%|▊         | 647/7487 [00:45<04:11, 27.16it/s]"
     ]
    },
    {
     "name": "stdout",
     "output_type": "stream",
     "text": [
      "Checking processes in trial 0.\n",
      "Checking processes in trial 0.\n",
      "Checking processes in trial 0.\n",
      "Checking processes in trial 0.\n",
      "Checking processes in trial 0.\n",
      "Checking processes in trial 0.\n",
      "Checking processes in trial 0.\n",
      "Checking processes in trial 0.\n",
      "Checking processes in trial 0.\n",
      "Checking processes in trial 0.\n",
      "Checking processes in trial 0.\n",
      "Checking processes in trial 0.\n",
      "Checking processes in trial 0.\n",
      "Checking processes in trial 0.\n",
      "Checking processes in trial 0.\n",
      "Checking processes in trial 0.\n",
      "Checking processes in trial 0.\n",
      "Checking processes in trial 0.\n",
      "Checking processes in trial 0.\n",
      "Checking processes in trial 0.\n",
      "Checking processes in trial 0.\n",
      "Checking processes in trial 0.\n",
      "Checking processes in trial 0.\n",
      "Checking processes in trial 0.\n"
     ]
    },
    {
     "name": "stderr",
     "output_type": "stream",
     "text": [
      "  9%|▊         | 653/7487 [00:45<04:12, 27.03it/s]"
     ]
    },
    {
     "name": "stdout",
     "output_type": "stream",
     "text": [
      "Checking processes in trial 0.\n",
      "Checking processes in trial 0.\n",
      "Checking processes in trial 0.\n",
      "Checking processes in trial 0.\n",
      "Checking processes in trial 0.\n",
      "Checking processes in trial 0.\n",
      "Checking processes in trial 0.\n",
      "Checking processes in trial 0.\n",
      "Checking processes in trial 0.\n",
      "Checking processes in trial 0.\n",
      "Checking processes in trial 0.\n",
      "Checking processes in trial 0.\n",
      "Checking processes in trial 0.\n",
      "Checking processes in trial 0.\n",
      "Checking processes in trial 0.\n",
      "Checking processes in trial 0.\n",
      "Checking processes in trial 0.\n",
      "Checking processes in trial 0.\n",
      "Checking processes in trial 0.\n",
      "Checking processes in trial 0.\n",
      "Checking processes in trial 0.\n",
      "Checking processes in trial 0.\n",
      "Checking processes in trial 0.\n",
      "Checking processes in trial 0.\n"
     ]
    },
    {
     "name": "stderr",
     "output_type": "stream",
     "text": [
      "  9%|▉         | 659/7487 [00:45<04:10, 27.26it/s]"
     ]
    },
    {
     "name": "stdout",
     "output_type": "stream",
     "text": [
      "Checking processes in trial 0.\n",
      "Checking processes in trial 0.\n",
      "Checking processes in trial 0.\n",
      "Checking processes in trial 0.\n",
      "Checking processes in trial 0.\n",
      "Checking processes in trial 0.\n",
      "Checking processes in trial 0.\n",
      "Checking processes in trial 0.\n",
      "Checking processes in trial 0.\n",
      "Checking processes in trial 0.\n",
      "Checking processes in trial 0.\n",
      "Checking processes in trial 0.\n",
      "Checking processes in trial 0.\n",
      "Checking processes in trial 0.\n",
      "Checking processes in trial 0.\n",
      "Checking processes in trial 0.\n",
      "Checking processes in trial 0.\n",
      "Checking processes in trial 0.\n",
      "Checking processes in trial 0.\n",
      "Checking processes in trial 0.\n",
      "Checking processes in trial 0.\n",
      "Checking processes in trial 0.\n",
      "Checking processes in trial 0.\n",
      "Checking processes in trial 0.\n"
     ]
    },
    {
     "name": "stderr",
     "output_type": "stream",
     "text": [
      "  9%|▉         | 665/7487 [00:46<04:13, 26.89it/s]"
     ]
    },
    {
     "name": "stdout",
     "output_type": "stream",
     "text": [
      "Checking processes in trial 0.\n",
      "Checking processes in trial 0.\n",
      "Checking processes in trial 0.\n",
      "Checking processes in trial 0.\n",
      "Checking processes in trial 0.\n",
      "Checking processes in trial 0.\n",
      "Checking processes in trial 0.\n",
      "Checking processes in trial 0.\n",
      "Checking processes in trial 0.\n",
      "Checking processes in trial 0.\n",
      "Checking processes in trial 0.\n",
      "Checking processes in trial 0.\n",
      "Checking processes in trial 0.\n",
      "Checking processes in trial 0.\n",
      "Checking processes in trial 0.\n",
      "Checking processes in trial 0.\n",
      "Checking processes in trial 0.\n",
      "Checking processes in trial 0.\n",
      "Checking processes in trial 0.\n",
      "Checking processes in trial 0.\n",
      "Checking processes in trial 0.\n",
      "Checking processes in trial 0.\n",
      "Checking processes in trial 0.\n",
      "Checking processes in trial 0.\n"
     ]
    },
    {
     "name": "stderr",
     "output_type": "stream",
     "text": [
      "  9%|▉         | 671/7487 [00:46<04:13, 26.85it/s]"
     ]
    },
    {
     "name": "stdout",
     "output_type": "stream",
     "text": [
      "Checking processes in trial 0.\n",
      "Checking processes in trial 0.\n",
      "Checking processes in trial 0.\n",
      "Checking processes in trial 0.\n",
      "Checking processes in trial 0.\n",
      "Checking processes in trial 0.\n",
      "Checking processes in trial 0.\n",
      "Checking processes in trial 0.\n",
      "Checking processes in trial 0.\n",
      "Checking processes in trial 0.\n",
      "Checking processes in trial 0.\n",
      "Checking processes in trial 0.\n",
      "Checking processes in trial 0.\n",
      "Checking processes in trial 0.\n",
      "Checking processes in trial 0.\n",
      "Checking processes in trial 0.\n",
      "Checking processes in trial 0.\n",
      "Checking processes in trial 0.\n",
      "Checking processes in trial 0.\n",
      "Checking processes in trial 0.\n",
      "Checking processes in trial 0.\n",
      "Checking processes in trial 0.\n"
     ]
    },
    {
     "name": "stderr",
     "output_type": "stream",
     "text": [
      "  9%|▉         | 677/7487 [00:46<04:16, 26.51it/s]"
     ]
    },
    {
     "name": "stdout",
     "output_type": "stream",
     "text": [
      "Checking processes in trial 0.\n",
      "Checking processes in trial 0.\n",
      "Checking processes in trial 0.\n",
      "Checking processes in trial 0.\n",
      "Checking processes in trial 0.\n",
      "Checking processes in trial 0.\n",
      "Checking processes in trial 0.\n",
      "Checking processes in trial 0.\n",
      "Checking processes in trial 0.\n",
      "Checking processes in trial 0.\n",
      "Checking processes in trial 0.\n",
      "Checking processes in trial 0.\n",
      "Checking processes in trial 0.\n",
      "Checking processes in trial 0.\n",
      "Checking processes in trial 0.\n",
      "Checking processes in trial 0.\n",
      "Checking processes in trial 0.\n",
      "Checking processes in trial 0.\n",
      "Checking processes in trial 0.\n",
      "Checking processes in trial 0.\n",
      "Checking processes in trial 0.\n",
      "Checking processes in trial 0.\n"
     ]
    },
    {
     "name": "stderr",
     "output_type": "stream",
     "text": [
      "  9%|▉         | 683/7487 [00:46<04:16, 26.53it/s]"
     ]
    },
    {
     "name": "stdout",
     "output_type": "stream",
     "text": [
      "Checking processes in trial 0.\n",
      "Checking processes in trial 0.\n",
      "Checking processes in trial 0.\n",
      "Checking processes in trial 0.\n",
      "Checking processes in trial 0.\n",
      "Checking processes in trial 0.\n",
      "Checking processes in trial 0.\n",
      "Checking processes in trial 0.\n",
      "Checking processes in trial 0.\n",
      "Checking processes in trial 0.\n",
      "Checking processes in trial 0.\n",
      "Checking processes in trial 0.\n",
      "Checking processes in trial 0.\n",
      "Checking processes in trial 0.\n",
      "Checking processes in trial 0.\n",
      "Checking processes in trial 0.\n",
      "Checking processes in trial 0.\n",
      "Checking processes in trial 0.\n",
      "Checking processes in trial 0.\n",
      "Checking processes in trial 0.\n",
      "Checking processes in trial 0.\n",
      "Checking processes in trial 0.\n",
      "Checking processes in trial 0.\n",
      "Checking processes in trial 0.\n"
     ]
    },
    {
     "name": "stderr",
     "output_type": "stream",
     "text": [
      "  9%|▉         | 689/7487 [00:47<04:16, 26.53it/s]"
     ]
    },
    {
     "name": "stdout",
     "output_type": "stream",
     "text": [
      "Checking processes in trial 0.\n",
      "Checking processes in trial 0.\n",
      "Checking processes in trial 0.\n",
      "Checking processes in trial 0.\n",
      "Checking processes in trial 0.\n",
      "Checking processes in trial 0.\n",
      "Checking processes in trial 0.\n",
      "Checking processes in trial 0.\n",
      "Checking processes in trial 0.\n",
      "Checking processes in trial 0.\n",
      "Checking processes in trial 0.\n",
      "Checking processes in trial 0.\n",
      "Checking processes in trial 0.\n",
      "Checking processes in trial 0.\n",
      "Checking processes in trial 0.\n",
      "Checking processes in trial 0.\n",
      "Checking processes in trial 0.\n",
      "Checking processes in trial 0.\n",
      "Checking processes in trial 0.\n",
      "Checking processes in trial 0.\n",
      "Checking processes in trial 0.\n",
      "Checking processes in trial 0.\n",
      "Checking processes in trial 0.\n"
     ]
    },
    {
     "name": "stderr",
     "output_type": "stream",
     "text": [
      "  9%|▉         | 695/7487 [00:47<04:20, 26.05it/s]"
     ]
    },
    {
     "name": "stdout",
     "output_type": "stream",
     "text": [
      "Checking processes in trial 0.\n",
      "Checking processes in trial 0.\n",
      "Checking processes in trial 0.\n",
      "Checking processes in trial 0.\n",
      "Checking processes in trial 0.\n",
      "Checking processes in trial 0.\n",
      "Checking processes in trial 0.\n",
      "Checking processes in trial 0.\n",
      "Checking processes in trial 0.\n",
      "Checking processes in trial 0.\n",
      "Checking processes in trial 0.\n",
      "Checking processes in trial 0.\n",
      "Checking processes in trial 0.\n",
      "Checking processes in trial 0.\n",
      "Checking processes in trial 0.\n",
      "Checking processes in trial 0.\n",
      "Checking processes in trial 0.\n",
      "Checking processes in trial 0.\n",
      "Checking processes in trial 0.\n",
      "Checking processes in trial 0.\n",
      "Checking processes in trial 0.\n"
     ]
    },
    {
     "name": "stderr",
     "output_type": "stream",
     "text": [
      "  9%|▉         | 701/7487 [00:47<04:11, 26.94it/s]"
     ]
    },
    {
     "name": "stdout",
     "output_type": "stream",
     "text": [
      "Checking processes in trial 0.\n",
      "Checking processes in trial 0.\n",
      "Checking processes in trial 0.\n",
      "Checking processes in trial 0.\n",
      "Checking processes in trial 0.\n",
      "Checking processes in trial 0.\n",
      "Checking processes in trial 0.\n",
      "Checking processes in trial 0.\n",
      "Checking processes in trial 0.\n",
      "Checking processes in trial 0.\n",
      "Checking processes in trial 0.\n",
      "Checking processes in trial 0.\n",
      "Checking processes in trial 0.\n",
      "Checking processes in trial 0.\n",
      "Checking processes in trial 0.\n",
      "Checking processes in trial 0.\n",
      "Checking processes in trial 0.\n",
      "Checking processes in trial 0.\n",
      "Checking processes in trial 0.\n",
      "Checking processes in trial 0.\n",
      "Checking processes in trial 0.\n",
      "Checking processes in trial 0.\n",
      "Checking processes in trial 0.\n",
      "Checking processes in trial 0.\n"
     ]
    },
    {
     "name": "stderr",
     "output_type": "stream",
     "text": [
      "  9%|▉         | 704/7487 [00:47<04:09, 27.22it/s]"
     ]
    },
    {
     "name": "stdout",
     "output_type": "stream",
     "text": [
      "Checking processes in trial 0.\n",
      "Checking processes in trial 0.\n",
      "Checking processes in trial 0.\n",
      "Checking processes in trial 0.\n",
      "Checking processes in trial 0.\n",
      "Checking processes in trial 0.\n",
      "Checking processes in trial 0.\n",
      "Checking processes in trial 0.\n",
      "Checking processes in trial 0.\n",
      "Checking processes in trial 0.\n",
      "Checking processes in trial 0.\n",
      "Checking processes in trial 0.\n",
      "Checking processes in trial 0.\n",
      "Checking processes in trial 0.\n",
      "Checking processes in trial 0.\n",
      "Checking processes in trial 0.\n",
      "Checking processes in trial 0.\n",
      "Checking processes in trial 0.\n",
      "Checking processes in trial 0.\n"
     ]
    },
    {
     "name": "stderr",
     "output_type": "stream",
     "text": [
      "  9%|▉         | 710/7487 [00:47<04:32, 24.87it/s]"
     ]
    },
    {
     "name": "stdout",
     "output_type": "stream",
     "text": [
      "Checking processes in trial 0.\n",
      "Checking processes in trial 0.\n",
      "Checking processes in trial 0.\n",
      "Checking processes in trial 0.\n",
      "Checking processes in trial 0.\n",
      "Checking processes in trial 0.\n",
      "Checking processes in trial 0.\n",
      "Checking processes in trial 0.\n",
      "Checking processes in trial 0.\n",
      "Checking processes in trial 0.\n",
      "Checking processes in trial 0.\n",
      "Checking processes in trial 0.\n",
      "Checking processes in trial 0.\n",
      "Checking processes in trial 0.\n",
      "Checking processes in trial 0.\n",
      "Checking processes in trial 0.\n",
      "Checking processes in trial 0.\n",
      "Checking processes in trial 0.\n",
      "Checking processes in trial 0.\n",
      "Checking processes in trial 0.\n",
      "Checking processes in trial 0.\n",
      "Checking processes in trial 0.\n",
      "Checking processes in trial 0.\n"
     ]
    },
    {
     "name": "stderr",
     "output_type": "stream",
     "text": [
      " 10%|▉         | 716/7487 [00:48<04:19, 26.10it/s]"
     ]
    },
    {
     "name": "stdout",
     "output_type": "stream",
     "text": [
      "Checking processes in trial 0.\n",
      "Checking processes in trial 0.\n",
      "Checking processes in trial 0.\n",
      "Checking processes in trial 0.\n",
      "Checking processes in trial 0.\n",
      "Checking processes in trial 0.\n",
      "Checking processes in trial 0.\n",
      "Checking processes in trial 0.\n",
      "Checking processes in trial 0.\n",
      "Checking processes in trial 0.\n",
      "Checking processes in trial 0.\n",
      "Checking processes in trial 0.\n",
      "Checking processes in trial 0.\n",
      "Checking processes in trial 0.\n",
      "Checking processes in trial 0.\n",
      "Checking processes in trial 0.\n",
      "Checking processes in trial 0.\n",
      "Checking processes in trial 0.\n",
      "Checking processes in trial 0.\n",
      "Checking processes in trial 0.\n",
      "Checking processes in trial 0.\n",
      "Checking processes in trial 0.\n",
      "Checking processes in trial 0.\n"
     ]
    },
    {
     "name": "stderr",
     "output_type": "stream",
     "text": [
      " 10%|▉         | 722/7487 [00:48<04:12, 26.84it/s]"
     ]
    },
    {
     "name": "stdout",
     "output_type": "stream",
     "text": [
      "Checking processes in trial 0.\n",
      "Checking processes in trial 0.\n",
      "Checking processes in trial 0.\n",
      "Checking processes in trial 0.\n",
      "Checking processes in trial 0.\n",
      "Checking processes in trial 0.\n",
      "Checking processes in trial 0.\n",
      "Checking processes in trial 0.\n",
      "Checking processes in trial 0.\n",
      "Checking processes in trial 0.\n",
      "Checking processes in trial 0.\n",
      "Checking processes in trial 0.\n",
      "Checking processes in trial 0.\n",
      "Checking processes in trial 0.\n",
      "Checking processes in trial 0.\n",
      "Checking processes in trial 0.\n",
      "Checking processes in trial 0.\n",
      "Checking processes in trial 0.\n",
      "Checking processes in trial 0.\n",
      "Checking processes in trial 0.\n",
      "Checking processes in trial 0.\n",
      "Checking processes in trial 0.\n",
      "Checking processes in trial 0.\n"
     ]
    },
    {
     "name": "stderr",
     "output_type": "stream",
     "text": [
      " 10%|▉         | 728/7487 [00:48<04:24, 25.56it/s]"
     ]
    },
    {
     "name": "stdout",
     "output_type": "stream",
     "text": [
      "Checking processes in trial 0.\n",
      "Checking processes in trial 0.\n",
      "Checking processes in trial 0.\n",
      "Checking processes in trial 0.\n",
      "Checking processes in trial 0.\n",
      "Checking processes in trial 0.\n",
      "Checking processes in trial 0.\n",
      "Checking processes in trial 0.\n",
      "Checking processes in trial 0.\n",
      "Checking processes in trial 0.\n",
      "Checking processes in trial 0.\n",
      "Checking processes in trial 0.\n",
      "Checking processes in trial 0.\n",
      "Checking processes in trial 0.\n",
      "Checking processes in trial 0.\n",
      "Checking processes in trial 0.\n",
      "Checking processes in trial 0.\n",
      "Checking processes in trial 0.\n",
      "Checking processes in trial 0.\n",
      "Checking processes in trial 0.\n",
      "Checking processes in trial 0.\n"
     ]
    },
    {
     "name": "stderr",
     "output_type": "stream",
     "text": [
      " 10%|▉         | 734/7487 [00:48<04:18, 26.13it/s]"
     ]
    },
    {
     "name": "stdout",
     "output_type": "stream",
     "text": [
      "Checking processes in trial 0.\n",
      "Checking processes in trial 0.\n",
      "Checking processes in trial 0.\n",
      "Checking processes in trial 0.\n",
      "Checking processes in trial 0.\n",
      "Checking processes in trial 0.\n",
      "Checking processes in trial 0.\n",
      "Checking processes in trial 0.\n",
      "Checking processes in trial 0.\n",
      "Checking processes in trial 0.\n",
      "Checking processes in trial 0.\n",
      "Checking processes in trial 0.\n",
      "Checking processes in trial 0.\n",
      "Checking processes in trial 0.\n",
      "Checking processes in trial 0.\n",
      "Checking processes in trial 0.\n",
      "Checking processes in trial 0.\n",
      "Checking processes in trial 0.\n",
      "Checking processes in trial 0.\n",
      "Checking processes in trial 0.\n",
      "Checking processes in trial 0.\n",
      "Checking processes in trial 0.\n",
      "Checking processes in trial 0.\n"
     ]
    },
    {
     "name": "stderr",
     "output_type": "stream",
     "text": [
      " 10%|▉         | 740/7487 [00:48<04:10, 26.97it/s]"
     ]
    },
    {
     "name": "stdout",
     "output_type": "stream",
     "text": [
      "Checking processes in trial 0.\n",
      "Checking processes in trial 0.\n",
      "Checking processes in trial 0.\n",
      "Checking processes in trial 0.\n",
      "Checking processes in trial 0.\n",
      "Checking processes in trial 0.\n",
      "Checking processes in trial 0.\n",
      "Checking processes in trial 0.\n",
      "Checking processes in trial 0.\n",
      "Checking processes in trial 0.\n",
      "Checking processes in trial 0.\n",
      "Checking processes in trial 0.\n",
      "Checking processes in trial 0.\n",
      "Checking processes in trial 0.\n",
      "Checking processes in trial 0.\n",
      "Checking processes in trial 0.\n",
      "Checking processes in trial 0.\n",
      "Checking processes in trial 0.\n",
      "Checking processes in trial 0.\n",
      "Checking processes in trial 0.\n",
      "Checking processes in trial 0.\n",
      "Checking processes in trial 0.\n",
      "Checking processes in trial 0.\n",
      "Checking processes in trial 0.\n"
     ]
    },
    {
     "name": "stderr",
     "output_type": "stream",
     "text": [
      " 10%|▉         | 746/7487 [00:49<04:07, 27.27it/s]"
     ]
    },
    {
     "name": "stdout",
     "output_type": "stream",
     "text": [
      "Checking processes in trial 0.\n",
      "Checking processes in trial 0.\n",
      "Checking processes in trial 0.\n",
      "Checking processes in trial 0.\n",
      "Checking processes in trial 0.\n",
      "Checking processes in trial 0.\n",
      "Checking processes in trial 0.\n",
      "Checking processes in trial 0.\n",
      "Checking processes in trial 0.\n",
      "Checking processes in trial 0.\n",
      "Checking processes in trial 0.\n",
      "Checking processes in trial 0.\n",
      "Checking processes in trial 0.\n",
      "Checking processes in trial 0.\n",
      "Checking processes in trial 0.\n",
      "Checking processes in trial 0.\n",
      "Checking processes in trial 0.\n",
      "Checking processes in trial 0.\n",
      "Checking processes in trial 0.\n",
      "Checking processes in trial 0.\n",
      "Checking processes in trial 0.\n",
      "Checking processes in trial 0.\n",
      "Checking processes in trial 0.\n"
     ]
    },
    {
     "name": "stderr",
     "output_type": "stream",
     "text": [
      " 10%|█         | 752/7487 [00:49<04:12, 26.69it/s]"
     ]
    },
    {
     "name": "stdout",
     "output_type": "stream",
     "text": [
      "Checking processes in trial 0.\n",
      "Checking processes in trial 0.\n",
      "Checking processes in trial 0.\n",
      "Checking processes in trial 0.\n",
      "Checking processes in trial 0.\n",
      "Checking processes in trial 0.\n",
      "Checking processes in trial 0.\n",
      "Checking processes in trial 0.\n",
      "Checking processes in trial 0.\n",
      "Checking processes in trial 0.\n",
      "Checking processes in trial 0.\n",
      "Checking processes in trial 0.\n",
      "Checking processes in trial 0.\n",
      "Checking processes in trial 0.\n",
      "Checking processes in trial 0.\n",
      "Checking processes in trial 0.\n",
      "Checking processes in trial 0.\n",
      "Checking processes in trial 0.\n",
      "Checking processes in trial 0.\n",
      "Checking processes in trial 0.\n",
      "Checking processes in trial 0.\n",
      "Checking processes in trial 0.\n"
     ]
    },
    {
     "name": "stderr",
     "output_type": "stream",
     "text": [
      " 10%|█         | 755/7487 [00:49<04:18, 26.06it/s]"
     ]
    },
    {
     "name": "stdout",
     "output_type": "stream",
     "text": [
      "Checking processes in trial 0.\n",
      "Checking processes in trial 0.\n",
      "Checking processes in trial 0.\n",
      "Checking processes in trial 0.\n",
      "Checking processes in trial 0.\n",
      "Checking processes in trial 0.\n",
      "Checking processes in trial 0.\n",
      "Checking processes in trial 0.\n",
      "Checking processes in trial 0.\n",
      "Checking processes in trial 0.\n",
      "Checking processes in trial 0.\n",
      "Checking processes in trial 0.\n",
      "Checking processes in trial 0.\n",
      "Checking processes in trial 0.\n",
      "Checking processes in trial 0.\n",
      "Checking processes in trial 0.\n",
      "Checking processes in trial 0.\n",
      "Checking processes in trial 0.\n",
      "Checking processes in trial 0.\n",
      "Checking processes in trial 0.\n",
      "Checking processes in trial 0.\n"
     ]
    },
    {
     "name": "stderr",
     "output_type": "stream",
     "text": [
      " 10%|█         | 761/7487 [00:49<04:30, 24.87it/s]"
     ]
    },
    {
     "name": "stdout",
     "output_type": "stream",
     "text": [
      "Checking processes in trial 0.\n",
      "Checking processes in trial 0.\n",
      "Checking processes in trial 0.\n",
      "Checking processes in trial 0.\n",
      "Checking processes in trial 0.\n",
      "Checking processes in trial 0.\n",
      "Checking processes in trial 0.\n",
      "Checking processes in trial 0.\n",
      "Checking processes in trial 0.\n",
      "Checking processes in trial 0.\n",
      "Checking processes in trial 0.\n",
      "Checking processes in trial 0.\n",
      "Checking processes in trial 0.\n",
      "Checking processes in trial 0.\n",
      "Checking processes in trial 0.\n",
      "Checking processes in trial 0.\n",
      "Checking processes in trial 0.\n",
      "Checking processes in trial 0.\n",
      "Checking processes in trial 0.\n",
      "Checking processes in trial 0.\n",
      "Checking processes in trial 0.\n",
      "Checking processes in trial 0.\n"
     ]
    },
    {
     "name": "stderr",
     "output_type": "stream",
     "text": [
      " 10%|█         | 767/7487 [00:50<04:24, 25.38it/s]"
     ]
    },
    {
     "name": "stdout",
     "output_type": "stream",
     "text": [
      "Checking processes in trial 0.\n",
      "Checking processes in trial 0.\n",
      "Checking processes in trial 0.\n",
      "Checking processes in trial 0.\n",
      "Checking processes in trial 0.\n",
      "Checking processes in trial 0.\n",
      "Checking processes in trial 0.\n",
      "Checking processes in trial 0.\n",
      "Checking processes in trial 0.\n",
      "Checking processes in trial 0.\n",
      "Checking processes in trial 0.\n",
      "Checking processes in trial 0.\n",
      "Checking processes in trial 0.\n",
      "Checking processes in trial 0.\n",
      "Checking processes in trial 0.\n",
      "Checking processes in trial 0.\n",
      "Checking processes in trial 0.\n",
      "Checking processes in trial 0.\n",
      "Checking processes in trial 0.\n",
      "Checking processes in trial 0.\n",
      "Checking processes in trial 0.\n",
      "Checking processes in trial 0.\n"
     ]
    },
    {
     "name": "stderr",
     "output_type": "stream",
     "text": [
      " 10%|█         | 773/7487 [00:50<04:22, 25.59it/s]"
     ]
    },
    {
     "name": "stdout",
     "output_type": "stream",
     "text": [
      "Checking processes in trial 0.\n",
      "Checking processes in trial 0.\n",
      "Checking processes in trial 0.\n",
      "Checking processes in trial 0.\n",
      "Checking processes in trial 0.\n",
      "Checking processes in trial 0.\n",
      "Checking processes in trial 0.\n",
      "Checking processes in trial 0.\n",
      "Checking processes in trial 0.\n",
      "Checking processes in trial 0.\n",
      "Checking processes in trial 0.\n",
      "Checking processes in trial 0.\n",
      "Checking processes in trial 0.\n",
      "Checking processes in trial 0.\n",
      "Checking processes in trial 0.\n",
      "Checking processes in trial 0.\n",
      "Checking processes in trial 0.\n",
      "Checking processes in trial 0.\n",
      "Checking processes in trial 0.\n",
      "Checking processes in trial 0.\n",
      "Checking processes in trial 0.\n"
     ]
    },
    {
     "name": "stderr",
     "output_type": "stream",
     "text": [
      " 10%|█         | 776/7487 [00:50<04:45, 23.47it/s]"
     ]
    },
    {
     "name": "stdout",
     "output_type": "stream",
     "text": [
      "Checking processes in trial 0.\n",
      "Checking processes in trial 0.\n",
      "Checking processes in trial 0.\n",
      "Checking processes in trial 0.\n",
      "Checking processes in trial 0.\n",
      "Checking processes in trial 0.\n",
      "Checking processes in trial 0.\n",
      "Checking processes in trial 0.\n",
      "Checking processes in trial 0.\n",
      "Checking processes in trial 0.\n",
      "Checking processes in trial 0.\n",
      "Checking processes in trial 0.\n",
      "Checking processes in trial 0.\n",
      "Checking processes in trial 0.\n",
      "Checking processes in trial 0.\n",
      "Checking processes in trial 0.\n",
      "Checking processes in trial 0.\n",
      "Checking processes in trial 0.\n",
      "Checking processes in trial 0.\n",
      "Checking processes in trial 0.\n",
      "Checking processes in trial 0.\n"
     ]
    },
    {
     "name": "stderr",
     "output_type": "stream",
     "text": [
      " 10%|█         | 782/7487 [00:50<04:27, 25.05it/s]"
     ]
    },
    {
     "name": "stdout",
     "output_type": "stream",
     "text": [
      "Checking processes in trial 0.\n",
      "Checking processes in trial 0.\n",
      "Checking processes in trial 0.\n",
      "Checking processes in trial 0.\n",
      "Checking processes in trial 0.\n",
      "Checking processes in trial 0.\n",
      "Checking processes in trial 0.\n",
      "Checking processes in trial 0.\n",
      "Checking processes in trial 0.\n",
      "Checking processes in trial 0.\n",
      "Checking processes in trial 0.\n",
      "Checking processes in trial 0.\n",
      "Checking processes in trial 0.\n",
      "Checking processes in trial 0.\n",
      "Checking processes in trial 0.\n",
      "Checking processes in trial 0.\n",
      "Checking processes in trial 0.\n",
      "Checking processes in trial 0.\n",
      "Checking processes in trial 0.\n",
      "Checking processes in trial 0.\n",
      "Checking processes in trial 0.\n"
     ]
    },
    {
     "name": "stderr",
     "output_type": "stream",
     "text": [
      " 11%|█         | 788/7487 [00:50<04:34, 24.43it/s]"
     ]
    },
    {
     "name": "stdout",
     "output_type": "stream",
     "text": [
      "Checking processes in trial 0.\n",
      "Checking processes in trial 0.\n",
      "Checking processes in trial 0.\n",
      "Checking processes in trial 0.\n",
      "Checking processes in trial 0.\n",
      "Checking processes in trial 0.\n",
      "Checking processes in trial 0.\n",
      "Checking processes in trial 0.\n",
      "Checking processes in trial 0.\n",
      "Checking processes in trial 0.\n",
      "Checking processes in trial 0.\n",
      "Checking processes in trial 0.\n",
      "Checking processes in trial 0.\n",
      "Checking processes in trial 0.\n",
      "Checking processes in trial 0.\n",
      "Checking processes in trial 0.\n",
      "Checking processes in trial 0.\n",
      "Checking processes in trial 0.\n",
      "Checking processes in trial 0.\n",
      "Checking processes in trial 0.\n"
     ]
    },
    {
     "name": "stderr",
     "output_type": "stream",
     "text": [
      " 11%|█         | 794/7487 [00:51<04:31, 24.65it/s]"
     ]
    },
    {
     "name": "stdout",
     "output_type": "stream",
     "text": [
      "Checking processes in trial 0.\n",
      "Checking processes in trial 0.\n",
      "Checking processes in trial 0.\n",
      "Checking processes in trial 0.\n",
      "Checking processes in trial 0.\n",
      "Checking processes in trial 0.\n",
      "Checking processes in trial 0.\n",
      "Checking processes in trial 0.\n",
      "Checking processes in trial 0.\n",
      "Checking processes in trial 0.\n",
      "Checking processes in trial 0.\n",
      "Checking processes in trial 0.\n",
      "Checking processes in trial 0.\n",
      "Checking processes in trial 0.\n",
      "Checking processes in trial 0.\n",
      "Checking processes in trial 0.\n",
      "Checking processes in trial 0.\n",
      "Checking processes in trial 0.\n",
      "Checking processes in trial 0.\n",
      "Checking processes in trial 0.\n",
      "Checking processes in trial 0.\n"
     ]
    },
    {
     "name": "stderr",
     "output_type": "stream",
     "text": [
      " 11%|█         | 797/7487 [00:51<04:30, 24.72it/s]"
     ]
    },
    {
     "name": "stdout",
     "output_type": "stream",
     "text": [
      "Checking processes in trial 0.\n",
      "Checking processes in trial 0.\n",
      "Checking processes in trial 0.\n",
      "Checking processes in trial 0.\n",
      "Checking processes in trial 0.\n",
      "Checking processes in trial 0.\n",
      "Checking processes in trial 0.\n",
      "Checking processes in trial 0.\n",
      "Checking processes in trial 0.\n",
      "Checking processes in trial 0.\n",
      "Checking processes in trial 0.\n",
      "Checking processes in trial 0.\n",
      "Checking processes in trial 0.\n",
      "Checking processes in trial 0.\n",
      "Checking processes in trial 0.\n",
      "Checking processes in trial 0.\n",
      "Checking processes in trial 0.\n",
      "Checking processes in trial 0.\n",
      "Checking processes in trial 0.\n",
      "Checking processes in trial 0.\n",
      "Checking processes in trial 0.\n",
      "Checking processes in trial 0.\n"
     ]
    },
    {
     "name": "stderr",
     "output_type": "stream",
     "text": [
      " 11%|█         | 803/7487 [00:51<04:26, 25.08it/s]"
     ]
    },
    {
     "name": "stdout",
     "output_type": "stream",
     "text": [
      "Checking processes in trial 0.\n",
      "Checking processes in trial 0.\n",
      "Checking processes in trial 0.\n",
      "Checking processes in trial 0.\n",
      "Checking processes in trial 0.\n",
      "Checking processes in trial 0.\n",
      "Checking processes in trial 0.\n",
      "Checking processes in trial 0.\n",
      "Checking processes in trial 0.\n",
      "Checking processes in trial 0.\n",
      "Checking processes in trial 0.\n",
      "Checking processes in trial 0.\n",
      "Checking processes in trial 0.\n",
      "Checking processes in trial 0.\n",
      "Checking processes in trial 0.\n",
      "Checking processes in trial 0.\n",
      "Checking processes in trial 0.\n",
      "Checking processes in trial 0.\n",
      "Checking processes in trial 0.\n",
      "Checking processes in trial 0.\n",
      "Checking processes in trial 0.\n",
      "Checking processes in trial 0.\n"
     ]
    },
    {
     "name": "stderr",
     "output_type": "stream",
     "text": [
      " 11%|█         | 809/7487 [00:51<04:30, 24.66it/s]"
     ]
    },
    {
     "name": "stdout",
     "output_type": "stream",
     "text": [
      "Checking processes in trial 0.\n",
      "Checking processes in trial 0.\n",
      "Checking processes in trial 0.\n",
      "Checking processes in trial 0.\n",
      "Checking processes in trial 0.\n",
      "Checking processes in trial 0.\n",
      "Checking processes in trial 0.\n",
      "Checking processes in trial 0.\n",
      "Checking processes in trial 0.\n",
      "Checking processes in trial 0.\n",
      "Checking processes in trial 0.\n",
      "Checking processes in trial 0.\n",
      "Checking processes in trial 0.\n",
      "Checking processes in trial 0.\n",
      "Checking processes in trial 0.\n",
      "Checking processes in trial 0.\n",
      "Checking processes in trial 0.\n",
      "Checking processes in trial 0.\n",
      "Checking processes in trial 0.\n",
      "Checking processes in trial 0.\n"
     ]
    },
    {
     "name": "stderr",
     "output_type": "stream",
     "text": [
      " 11%|█         | 815/7487 [00:51<04:28, 24.81it/s]"
     ]
    },
    {
     "name": "stdout",
     "output_type": "stream",
     "text": [
      "Checking processes in trial 0.\n",
      "Checking processes in trial 0.\n",
      "Checking processes in trial 0.\n",
      "Checking processes in trial 0.\n",
      "Checking processes in trial 0.\n",
      "Checking processes in trial 0.\n",
      "Checking processes in trial 0.\n",
      "Checking processes in trial 0.\n",
      "Checking processes in trial 0.\n",
      "Checking processes in trial 0.\n",
      "Checking processes in trial 0.\n",
      "Checking processes in trial 0.\n",
      "Checking processes in trial 0.\n",
      "Checking processes in trial 0.\n",
      "Checking processes in trial 0.\n",
      "Checking processes in trial 0.\n",
      "Checking processes in trial 0.\n",
      "Checking processes in trial 0.\n",
      "Checking processes in trial 0.\n",
      "Checking processes in trial 0.\n",
      "Checking processes in trial 0.\n",
      "Checking processes in trial 0.\n"
     ]
    },
    {
     "name": "stderr",
     "output_type": "stream",
     "text": [
      " 11%|█         | 818/7487 [00:52<04:49, 23.06it/s]"
     ]
    },
    {
     "name": "stdout",
     "output_type": "stream",
     "text": [
      "Checking processes in trial 0.\n",
      "Checking processes in trial 0.\n",
      "Checking processes in trial 0.\n",
      "Checking processes in trial 0.\n",
      "Checking processes in trial 0.\n",
      "Checking processes in trial 0.\n",
      "Checking processes in trial 0.\n",
      "Checking processes in trial 0.\n",
      "Checking processes in trial 0.\n",
      "Checking processes in trial 0.\n",
      "Checking processes in trial 0.\n",
      "Checking processes in trial 0.\n",
      "Checking processes in trial 0.\n",
      "Checking processes in trial 0.\n",
      "Checking processes in trial 0.\n",
      "Checking processes in trial 0.\n",
      "Checking processes in trial 0.\n"
     ]
    },
    {
     "name": "stderr",
     "output_type": "stream",
     "text": [
      " 11%|█         | 824/7487 [00:52<04:39, 23.84it/s]"
     ]
    },
    {
     "name": "stdout",
     "output_type": "stream",
     "text": [
      "Checking processes in trial 0.\n",
      "Checking processes in trial 0.\n",
      "Checking processes in trial 0.\n",
      "Checking processes in trial 0.\n",
      "Checking processes in trial 0.\n",
      "Checking processes in trial 0.\n",
      "Checking processes in trial 0.\n",
      "Checking processes in trial 0.\n",
      "Checking processes in trial 0.\n",
      "Checking processes in trial 0.\n",
      "Checking processes in trial 0.\n",
      "Checking processes in trial 0.\n",
      "Checking processes in trial 0.\n",
      "Checking processes in trial 0.\n",
      "Checking processes in trial 0.\n",
      "Checking processes in trial 0.\n",
      "Checking processes in trial 0.\n",
      "Checking processes in trial 0.\n",
      "Checking processes in trial 0.\n",
      "Checking processes in trial 0.\n",
      "Checking processes in trial 0.\n",
      "Checking processes in trial 0.\n"
     ]
    },
    {
     "name": "stderr",
     "output_type": "stream",
     "text": [
      " 11%|█         | 830/7487 [00:52<04:27, 24.89it/s]"
     ]
    },
    {
     "name": "stdout",
     "output_type": "stream",
     "text": [
      "Checking processes in trial 0.\n",
      "Checking processes in trial 0.\n",
      "Checking processes in trial 0.\n",
      "Checking processes in trial 0.\n",
      "Checking processes in trial 0.\n",
      "Checking processes in trial 0.\n",
      "Checking processes in trial 0.\n",
      "Checking processes in trial 0.\n",
      "Checking processes in trial 0.\n",
      "Checking processes in trial 0.\n",
      "Checking processes in trial 0.\n",
      "Checking processes in trial 0.\n",
      "Checking processes in trial 0.\n",
      "Checking processes in trial 0.\n",
      "Checking processes in trial 0.\n",
      "Checking processes in trial 0.\n",
      "Checking processes in trial 0.\n",
      "Checking processes in trial 0.\n",
      "Checking processes in trial 0.\n",
      "Checking processes in trial 0.\n",
      "Checking processes in trial 0.\n"
     ]
    },
    {
     "name": "stderr",
     "output_type": "stream",
     "text": [
      " 11%|█         | 836/7487 [00:52<04:22, 25.36it/s]"
     ]
    },
    {
     "name": "stdout",
     "output_type": "stream",
     "text": [
      "Checking processes in trial 0.\n",
      "Checking processes in trial 0.\n",
      "Checking processes in trial 0.\n",
      "Checking processes in trial 0.\n",
      "Checking processes in trial 0.\n",
      "Checking processes in trial 0.\n",
      "Checking processes in trial 0.\n",
      "Checking processes in trial 0.\n",
      "Checking processes in trial 0.\n",
      "Checking processes in trial 0.\n",
      "Checking processes in trial 0.\n",
      "Checking processes in trial 0.\n",
      "Checking processes in trial 0.\n",
      "Checking processes in trial 0.\n",
      "Checking processes in trial 0.\n",
      "Checking processes in trial 0.\n",
      "Checking processes in trial 0.\n",
      "Checking processes in trial 0.\n",
      "Checking processes in trial 0.\n",
      "Checking processes in trial 0.\n",
      "Checking processes in trial 0.\n",
      "Checking processes in trial 0.\n"
     ]
    },
    {
     "name": "stderr",
     "output_type": "stream",
     "text": [
      " 11%|█         | 839/7487 [00:52<04:23, 25.23it/s]"
     ]
    },
    {
     "name": "stdout",
     "output_type": "stream",
     "text": [
      "Checking processes in trial 0.\n",
      "Checking processes in trial 0.\n",
      "Checking processes in trial 0.\n",
      "Checking processes in trial 0.\n",
      "Checking processes in trial 0.\n",
      "Checking processes in trial 0.\n",
      "Checking processes in trial 0.\n",
      "Checking processes in trial 0.\n",
      "Checking processes in trial 0.\n",
      "Checking processes in trial 0.\n",
      "Checking processes in trial 0.\n",
      "Checking processes in trial 0.\n",
      "Checking processes in trial 0.\n",
      "Checking processes in trial 0.\n",
      "Checking processes in trial 0.\n",
      "Checking processes in trial 0.\n",
      "Checking processes in trial 0.\n",
      "Checking processes in trial 0.\n",
      "Checking processes in trial 0.\n",
      "Checking processes in trial 0.\n",
      "Checking processes in trial 0.\n",
      "Checking processes in trial 0.\n"
     ]
    },
    {
     "name": "stderr",
     "output_type": "stream",
     "text": [
      " 11%|█▏        | 845/7487 [00:53<04:24, 25.14it/s]"
     ]
    },
    {
     "name": "stdout",
     "output_type": "stream",
     "text": [
      "Checking processes in trial 0.\n",
      "Checking processes in trial 0.\n",
      "Checking processes in trial 0.\n",
      "Checking processes in trial 0.\n",
      "Checking processes in trial 0.\n",
      "Checking processes in trial 0.\n",
      "Checking processes in trial 0.\n",
      "Checking processes in trial 0.\n",
      "Checking processes in trial 0.\n",
      "Checking processes in trial 0.\n",
      "Checking processes in trial 0.\n",
      "Checking processes in trial 0.\n",
      "Checking processes in trial 0.\n",
      "Checking processes in trial 0.\n",
      "Checking processes in trial 0.\n",
      "Checking processes in trial 0.\n",
      "Checking processes in trial 0.\n",
      "Checking processes in trial 0.\n",
      "Checking processes in trial 0.\n",
      "Checking processes in trial 0.\n",
      "Checking processes in trial 0.\n",
      "Checking processes in trial 0.\n"
     ]
    },
    {
     "name": "stderr",
     "output_type": "stream",
     "text": [
      " 11%|█▏        | 851/7487 [00:53<04:21, 25.39it/s]"
     ]
    },
    {
     "name": "stdout",
     "output_type": "stream",
     "text": [
      "Checking processes in trial 0.\n",
      "Checking processes in trial 0.\n",
      "Checking processes in trial 0.\n",
      "Checking processes in trial 0.\n",
      "Checking processes in trial 0.\n",
      "Checking processes in trial 0.\n",
      "Checking processes in trial 0.\n",
      "Checking processes in trial 0.\n",
      "Checking processes in trial 0.\n",
      "Checking processes in trial 0.\n",
      "Checking processes in trial 0.\n",
      "Checking processes in trial 0.\n",
      "Checking processes in trial 0.\n",
      "Checking processes in trial 0.\n",
      "Checking processes in trial 0.\n",
      "Checking processes in trial 0.\n",
      "Checking processes in trial 0.\n",
      "Checking processes in trial 0.\n",
      "Checking processes in trial 0.\n",
      "Checking processes in trial 0.\n",
      "Checking processes in trial 0.\n",
      "Checking processes in trial 0.\n"
     ]
    },
    {
     "name": "stderr",
     "output_type": "stream",
     "text": [
      " 11%|█▏        | 857/7487 [00:53<04:15, 25.92it/s]"
     ]
    },
    {
     "name": "stdout",
     "output_type": "stream",
     "text": [
      "Checking processes in trial 0.\n",
      "Checking processes in trial 0.\n",
      "Checking processes in trial 0.\n",
      "Checking processes in trial 0.\n",
      "Checking processes in trial 0.\n",
      "Checking processes in trial 0.\n",
      "Checking processes in trial 0.\n",
      "Checking processes in trial 0.\n",
      "Checking processes in trial 0.\n",
      "Checking processes in trial 0.\n",
      "Checking processes in trial 0.\n",
      "Checking processes in trial 0.\n",
      "Checking processes in trial 0.\n",
      "Checking processes in trial 0.\n",
      "Checking processes in trial 0.\n",
      "Checking processes in trial 0.\n",
      "Checking processes in trial 0.\n",
      "Checking processes in trial 0.\n",
      "Checking processes in trial 0.\n",
      "Checking processes in trial 0.\n",
      "Checking processes in trial 0.\n",
      "Checking processes in trial 0.\n"
     ]
    },
    {
     "name": "stderr",
     "output_type": "stream",
     "text": [
      " 12%|█▏        | 863/7487 [00:53<04:18, 25.63it/s]"
     ]
    },
    {
     "name": "stdout",
     "output_type": "stream",
     "text": [
      "Checking processes in trial 0.\n",
      "Checking processes in trial 0.\n",
      "Checking processes in trial 0.\n",
      "Checking processes in trial 0.\n",
      "Checking processes in trial 0.\n",
      "Checking processes in trial 0.\n",
      "Checking processes in trial 0.\n",
      "Checking processes in trial 0.\n",
      "Checking processes in trial 0.\n",
      "Checking processes in trial 0.\n",
      "Checking processes in trial 0.\n",
      "Checking processes in trial 0.\n",
      "Checking processes in trial 0.\n",
      "Checking processes in trial 0.\n",
      "Checking processes in trial 0.\n",
      "Checking processes in trial 0.\n",
      "Checking processes in trial 0.\n",
      "Checking processes in trial 0.\n",
      "Checking processes in trial 0.\n",
      "Checking processes in trial 0.\n",
      "Checking processes in trial 0.\n",
      "Checking processes in trial 0.\n"
     ]
    },
    {
     "name": "stderr",
     "output_type": "stream",
     "text": [
      " 12%|█▏        | 866/7487 [00:54<04:20, 25.46it/s]"
     ]
    },
    {
     "name": "stdout",
     "output_type": "stream",
     "text": [
      "Checking processes in trial 0.\n",
      "Checking processes in trial 0.\n",
      "Checking processes in trial 0.\n",
      "Checking processes in trial 0.\n",
      "Checking processes in trial 0.\n",
      "Checking processes in trial 0.\n",
      "Checking processes in trial 0.\n",
      "Checking processes in trial 0.\n",
      "Checking processes in trial 0.\n"
     ]
    },
    {
     "name": "stderr",
     "output_type": "stream",
     "text": [
      " 12%|█▏        | 869/7487 [00:55<13:59,  7.88it/s]"
     ]
    },
    {
     "name": "stdout",
     "output_type": "stream",
     "text": [
      "Checking processes in trial 0.\n",
      "Checking processes in trial 0.\n",
      "Checking processes in trial 0.\n",
      "Checking processes in trial 0.\n",
      "Checking processes in trial 0.\n",
      "Checking processes in trial 0.\n",
      "Checking processes in trial 0.\n",
      "Checking processes in trial 0.\n",
      "Checking processes in trial 0.\n",
      "Checking processes in trial 0.\n",
      "Checking processes in trial 0.\n",
      "Checking processes in trial 0.\n",
      "Checking processes in trial 0.\n",
      "Checking processes in trial 0.\n",
      "Checking processes in trial 0.\n",
      "Checking processes in trial 0.\n",
      "Checking processes in trial 0.\n",
      "Checking processes in trial 0.\n",
      "Checking processes in trial 0.\n",
      "Checking processes in trial 0.\n",
      "Checking processes in trial 0.\n",
      "Checking processes in trial 0.\n"
     ]
    },
    {
     "name": "stderr",
     "output_type": "stream",
     "text": [
      " 12%|█▏        | 875/7487 [00:55<09:10, 12.00it/s]"
     ]
    },
    {
     "name": "stdout",
     "output_type": "stream",
     "text": [
      "Checking processes in trial 0.\n",
      "Checking processes in trial 0.\n",
      "Checking processes in trial 0.\n",
      "Checking processes in trial 0.\n",
      "Checking processes in trial 0.\n",
      "Checking processes in trial 0.\n",
      "Checking processes in trial 0.\n",
      "Checking processes in trial 0.\n",
      "Checking processes in trial 0.\n",
      "Checking processes in trial 0.\n",
      "Checking processes in trial 0.\n",
      "Checking processes in trial 0.\n",
      "Checking processes in trial 0.\n",
      "Checking processes in trial 0.\n",
      "Checking processes in trial 0.\n",
      "Checking processes in trial 0.\n",
      "Checking processes in trial 0.\n",
      "Checking processes in trial 0.\n",
      "Checking processes in trial 0.\n",
      "Checking processes in trial 0.\n",
      "Checking processes in trial 0.\n"
     ]
    },
    {
     "name": "stderr",
     "output_type": "stream",
     "text": [
      " 12%|█▏        | 881/7487 [00:55<07:06, 15.50it/s]"
     ]
    },
    {
     "name": "stdout",
     "output_type": "stream",
     "text": [
      "Checking processes in trial 0.\n",
      "Checking processes in trial 0.\n",
      "Checking processes in trial 0.\n",
      "Checking processes in trial 0.\n",
      "Checking processes in trial 0.\n",
      "Checking processes in trial 0.\n",
      "Checking processes in trial 0.\n",
      "Checking processes in trial 0.\n",
      "Checking processes in trial 0.\n",
      "Checking processes in trial 0.\n",
      "Checking processes in trial 0.\n",
      "Checking processes in trial 0.\n",
      "Checking processes in trial 0.\n",
      "Checking processes in trial 0.\n",
      "Checking processes in trial 0.\n",
      "Checking processes in trial 0.\n",
      "Checking processes in trial 0.\n",
      "Checking processes in trial 0.\n"
     ]
    },
    {
     "name": "stderr",
     "output_type": "stream",
     "text": [
      " 12%|█▏        | 884/7487 [00:55<06:16, 17.52it/s]"
     ]
    },
    {
     "name": "stdout",
     "output_type": "stream",
     "text": [
      "Checking processes in trial 0.\n",
      "Checking processes in trial 0.\n",
      "Checking processes in trial 0.\n",
      "Checking processes in trial 0.\n",
      "Checking processes in trial 0.\n",
      "Checking processes in trial 0.\n",
      "Checking processes in trial 0.\n",
      "Checking processes in trial 0.\n",
      "Checking processes in trial 0.\n",
      "Checking processes in trial 0.\n",
      "Checking processes in trial 0.\n",
      "Checking processes in trial 0.\n",
      "Checking processes in trial 0.\n",
      "Checking processes in trial 0.\n",
      "Checking processes in trial 0.\n",
      "Checking processes in trial 0.\n",
      "Checking processes in trial 0.\n"
     ]
    },
    {
     "name": "stderr",
     "output_type": "stream",
     "text": [
      " 12%|█▏        | 890/7487 [00:55<05:44, 19.13it/s]"
     ]
    },
    {
     "name": "stdout",
     "output_type": "stream",
     "text": [
      "Checking processes in trial 0.\n",
      "Checking processes in trial 0.\n",
      "Checking processes in trial 0.\n",
      "Checking processes in trial 0.\n",
      "Checking processes in trial 0.\n",
      "Checking processes in trial 0.\n",
      "Checking processes in trial 0.\n",
      "Checking processes in trial 0.\n",
      "Checking processes in trial 0.\n",
      "Checking processes in trial 0.\n",
      "Checking processes in trial 0.\n",
      "Checking processes in trial 0.\n",
      "Checking processes in trial 0.\n",
      "Checking processes in trial 0.\n",
      "Checking processes in trial 0.\n",
      "Checking processes in trial 0.\n",
      "Checking processes in trial 0.\n",
      "Checking processes in trial 0.\n",
      "Checking processes in trial 0.\n",
      "Checking processes in trial 0.\n"
     ]
    },
    {
     "name": "stderr",
     "output_type": "stream",
     "text": [
      " 12%|█▏        | 893/7487 [00:56<05:35, 19.64it/s]"
     ]
    },
    {
     "name": "stdout",
     "output_type": "stream",
     "text": [
      "Checking processes in trial 0.\n",
      "Checking processes in trial 0.\n",
      "Checking processes in trial 0.\n",
      "Checking processes in trial 0.\n",
      "Checking processes in trial 0.\n",
      "Checking processes in trial 0.\n",
      "Checking processes in trial 0.\n",
      "Checking processes in trial 0.\n",
      "Checking processes in trial 0.\n",
      "Checking processes in trial 0.\n",
      "Checking processes in trial 0.\n",
      "Checking processes in trial 0.\n",
      "Checking processes in trial 0.\n",
      "Checking processes in trial 0.\n",
      "Checking processes in trial 0.\n",
      "Checking processes in trial 0.\n",
      "Checking processes in trial 0.\n",
      "Checking processes in trial 0.\n"
     ]
    },
    {
     "name": "stderr",
     "output_type": "stream",
     "text": [
      " 12%|█▏        | 899/7487 [00:56<05:07, 21.41it/s]"
     ]
    },
    {
     "name": "stdout",
     "output_type": "stream",
     "text": [
      "Checking processes in trial 0.\n",
      "Checking processes in trial 0.\n",
      "Checking processes in trial 0.\n",
      "Checking processes in trial 0.\n",
      "Checking processes in trial 0.\n",
      "Checking processes in trial 0.\n",
      "Checking processes in trial 0.\n",
      "Checking processes in trial 0.\n",
      "Checking processes in trial 0.\n",
      "Checking processes in trial 0.\n",
      "Checking processes in trial 0.\n",
      "Checking processes in trial 0.\n",
      "Checking processes in trial 0.\n",
      "Checking processes in trial 0.\n",
      "Checking processes in trial 0.\n",
      "Checking processes in trial 0.\n",
      "Checking processes in trial 0.\n",
      "Checking processes in trial 0.\n",
      "Checking processes in trial 0.\n",
      "Checking processes in trial 0.\n"
     ]
    },
    {
     "name": "stderr",
     "output_type": "stream",
     "text": [
      " 12%|█▏        | 905/7487 [00:56<04:48, 22.82it/s]"
     ]
    },
    {
     "name": "stdout",
     "output_type": "stream",
     "text": [
      "Checking processes in trial 0.\n",
      "Checking processes in trial 0.\n",
      "Checking processes in trial 0.\n",
      "Checking processes in trial 0.\n",
      "Checking processes in trial 0.\n",
      "Checking processes in trial 0.\n",
      "Checking processes in trial 0.\n",
      "Checking processes in trial 0.\n",
      "Checking processes in trial 0.\n",
      "Checking processes in trial 0.\n",
      "Checking processes in trial 0.\n",
      "Checking processes in trial 0.\n",
      "Checking processes in trial 0.\n",
      "Checking processes in trial 0.\n",
      "Checking processes in trial 0.\n",
      "Checking processes in trial 0.\n",
      "Checking processes in trial 0.\n",
      "Checking processes in trial 0.\n",
      "Checking processes in trial 0.\n",
      "Checking processes in trial 0.\n",
      "Checking processes in trial 0.\n"
     ]
    },
    {
     "name": "stderr",
     "output_type": "stream",
     "text": [
      " 12%|█▏        | 908/7487 [00:56<04:42, 23.28it/s]"
     ]
    },
    {
     "name": "stdout",
     "output_type": "stream",
     "text": [
      "Checking processes in trial 0.\n",
      "Checking processes in trial 0.\n",
      "Checking processes in trial 0.\n",
      "Checking processes in trial 0.\n",
      "Checking processes in trial 0.\n",
      "Checking processes in trial 0.\n",
      "Checking processes in trial 0.\n",
      "Checking processes in trial 0.\n",
      "Checking processes in trial 0.\n",
      "Checking processes in trial 0.\n",
      "Checking processes in trial 0.\n",
      "Checking processes in trial 0.\n",
      "Checking processes in trial 0.\n",
      "Checking processes in trial 0.\n",
      "Checking processes in trial 0.\n",
      "Checking processes in trial 0.\n",
      "Checking processes in trial 0.\n",
      "Checking processes in trial 0.\n",
      "Checking processes in trial 0.\n",
      "Checking processes in trial 0.\n",
      "Checking processes in trial 0.\n"
     ]
    },
    {
     "name": "stderr",
     "output_type": "stream",
     "text": [
      " 12%|█▏        | 914/7487 [00:56<04:32, 24.14it/s]"
     ]
    },
    {
     "name": "stdout",
     "output_type": "stream",
     "text": [
      "Checking processes in trial 0.\n",
      "Checking processes in trial 0.\n",
      "Checking processes in trial 0.\n",
      "Checking processes in trial 0.\n",
      "Checking processes in trial 0.\n",
      "Checking processes in trial 0.\n",
      "Checking processes in trial 0.\n",
      "Checking processes in trial 0.\n",
      "Checking processes in trial 0.\n",
      "Checking processes in trial 0.\n",
      "Checking processes in trial 0.\n",
      "Checking processes in trial 0.\n",
      "Checking processes in trial 0.\n",
      "Checking processes in trial 0.\n",
      "Checking processes in trial 0.\n",
      "Checking processes in trial 0.\n",
      "Checking processes in trial 0.\n",
      "Checking processes in trial 0.\n",
      "Checking processes in trial 0.\n",
      "Checking processes in trial 0.\n",
      "Checking processes in trial 0.\n"
     ]
    },
    {
     "name": "stderr",
     "output_type": "stream",
     "text": [
      " 12%|█▏        | 920/7487 [00:57<04:32, 24.09it/s]"
     ]
    },
    {
     "name": "stdout",
     "output_type": "stream",
     "text": [
      "Checking processes in trial 0.\n",
      "Checking processes in trial 0.\n",
      "Checking processes in trial 0.\n",
      "Checking processes in trial 0.\n",
      "Checking processes in trial 0.\n",
      "Checking processes in trial 0.\n",
      "Checking processes in trial 0.\n",
      "Checking processes in trial 0.\n",
      "Checking processes in trial 0.\n",
      "Checking processes in trial 0.\n",
      "Checking processes in trial 0.\n",
      "Checking processes in trial 0.\n",
      "Checking processes in trial 0.\n",
      "Checking processes in trial 0.\n",
      "Checking processes in trial 0.\n",
      "Checking processes in trial 0.\n",
      "Checking processes in trial 0.\n",
      "Checking processes in trial 0.\n",
      "Checking processes in trial 0.\n",
      "Checking processes in trial 0.\n",
      "Checking processes in trial 0.\n"
     ]
    },
    {
     "name": "stderr",
     "output_type": "stream",
     "text": [
      " 12%|█▏        | 923/7487 [00:57<04:50, 22.59it/s]"
     ]
    },
    {
     "name": "stdout",
     "output_type": "stream",
     "text": [
      "Checking processes in trial 0.\n",
      "Checking processes in trial 0.\n",
      "Checking processes in trial 0.\n",
      "Checking processes in trial 0.\n",
      "Checking processes in trial 0.\n",
      "Checking processes in trial 0.\n",
      "Checking processes in trial 0.\n",
      "Checking processes in trial 0.\n",
      "Checking processes in trial 0.\n",
      "Checking processes in trial 0.\n",
      "Checking processes in trial 0.\n",
      "Checking processes in trial 0.\n",
      "Checking processes in trial 0.\n",
      "Checking processes in trial 0.\n",
      "Checking processes in trial 0.\n"
     ]
    },
    {
     "name": "stderr",
     "output_type": "stream",
     "text": [
      " 12%|█▏        | 929/7487 [00:57<05:01, 21.78it/s]"
     ]
    },
    {
     "name": "stdout",
     "output_type": "stream",
     "text": [
      "Checking processes in trial 0.\n",
      "Checking processes in trial 0.\n",
      "Checking processes in trial 0.\n",
      "Checking processes in trial 0.\n",
      "Checking processes in trial 0.\n",
      "Checking processes in trial 0.\n",
      "Checking processes in trial 0.\n",
      "Checking processes in trial 0.\n",
      "Checking processes in trial 0.\n",
      "Checking processes in trial 0.\n",
      "Checking processes in trial 0.\n",
      "Checking processes in trial 0.\n",
      "Checking processes in trial 0.\n",
      "Checking processes in trial 0.\n",
      "Checking processes in trial 0.\n",
      "Checking processes in trial 0.\n",
      "Checking processes in trial 0.\n",
      "Checking processes in trial 0.\n",
      "Checking processes in trial 0.\n"
     ]
    },
    {
     "name": "stderr",
     "output_type": "stream",
     "text": [
      " 12%|█▏        | 932/7487 [00:57<04:54, 22.29it/s]"
     ]
    },
    {
     "name": "stdout",
     "output_type": "stream",
     "text": [
      "Checking processes in trial 0.\n",
      "Checking processes in trial 0.\n",
      "Checking processes in trial 0.\n",
      "Checking processes in trial 0.\n",
      "Checking processes in trial 0.\n",
      "Checking processes in trial 0.\n",
      "Checking processes in trial 0.\n",
      "Checking processes in trial 0.\n",
      "Checking processes in trial 0.\n",
      "Checking processes in trial 0.\n",
      "Checking processes in trial 0.\n",
      "Checking processes in trial 0.\n",
      "Checking processes in trial 0.\n",
      "Checking processes in trial 0.\n",
      "Checking processes in trial 0.\n",
      "Checking processes in trial 0.\n",
      "Checking processes in trial 0.\n",
      "Checking processes in trial 0.\n",
      "Checking processes in trial 0.\n",
      "Checking processes in trial 0.\n"
     ]
    },
    {
     "name": "stderr",
     "output_type": "stream",
     "text": [
      " 13%|█▎        | 938/7487 [00:58<04:36, 23.69it/s]"
     ]
    },
    {
     "name": "stdout",
     "output_type": "stream",
     "text": [
      "Checking processes in trial 0.\n",
      "Checking processes in trial 0.\n",
      "Checking processes in trial 0.\n",
      "Checking processes in trial 0.\n",
      "Checking processes in trial 0.\n",
      "Checking processes in trial 0.\n",
      "Checking processes in trial 0.\n",
      "Checking processes in trial 0.\n",
      "Checking processes in trial 0.\n",
      "Checking processes in trial 0.\n",
      "Checking processes in trial 0.\n",
      "Checking processes in trial 0.\n",
      "Checking processes in trial 0.\n",
      "Checking processes in trial 0.\n",
      "Checking processes in trial 0.\n",
      "Checking processes in trial 0.\n",
      "Checking processes in trial 0.\n",
      "Checking processes in trial 0.\n",
      "Checking processes in trial 0.\n",
      "Checking processes in trial 0.\n",
      "Checking processes in trial 0.\n"
     ]
    },
    {
     "name": "stderr",
     "output_type": "stream",
     "text": [
      " 13%|█▎        | 944/7487 [00:58<04:24, 24.71it/s]"
     ]
    },
    {
     "name": "stdout",
     "output_type": "stream",
     "text": [
      "Checking processes in trial 0.\n",
      "Checking processes in trial 0.\n",
      "Checking processes in trial 0.\n",
      "Checking processes in trial 0.\n",
      "Checking processes in trial 0.\n",
      "Checking processes in trial 0.\n",
      "Checking processes in trial 0.\n",
      "Checking processes in trial 0.\n",
      "Checking processes in trial 0.\n",
      "Checking processes in trial 0.\n",
      "Checking processes in trial 0.\n",
      "Checking processes in trial 0.\n",
      "Checking processes in trial 0.\n",
      "Checking processes in trial 0.\n",
      "Checking processes in trial 0.\n",
      "Checking processes in trial 0.\n",
      "Checking processes in trial 0.\n",
      "Checking processes in trial 0.\n",
      "Checking processes in trial 0.\n",
      "Checking processes in trial 0.\n",
      "Checking processes in trial 0.\n",
      "Checking processes in trial 0.\n"
     ]
    },
    {
     "name": "stderr",
     "output_type": "stream",
     "text": [
      " 13%|█▎        | 950/7487 [00:58<04:24, 24.73it/s]"
     ]
    },
    {
     "name": "stdout",
     "output_type": "stream",
     "text": [
      "Checking processes in trial 0.\n",
      "Checking processes in trial 0.\n",
      "Checking processes in trial 0.\n",
      "Checking processes in trial 0.\n",
      "Checking processes in trial 0.\n",
      "Checking processes in trial 0.\n",
      "Checking processes in trial 0.\n",
      "Checking processes in trial 0.\n",
      "Checking processes in trial 0.\n",
      "Checking processes in trial 0.\n",
      "Checking processes in trial 0.\n",
      "Checking processes in trial 0.\n",
      "Checking processes in trial 0.\n",
      "Checking processes in trial 0.\n",
      "Checking processes in trial 0.\n",
      "Checking processes in trial 0.\n",
      "Checking processes in trial 0.\n",
      "Checking processes in trial 0.\n",
      "Checking processes in trial 0.\n",
      "Checking processes in trial 0.\n",
      "Checking processes in trial 0.\n"
     ]
    },
    {
     "name": "stderr",
     "output_type": "stream",
     "text": [
      " 13%|█▎        | 953/7487 [00:58<04:25, 24.59it/s]"
     ]
    },
    {
     "name": "stdout",
     "output_type": "stream",
     "text": [
      "Checking processes in trial 0.\n",
      "Checking processes in trial 0.\n",
      "Checking processes in trial 0.\n",
      "Checking processes in trial 0.\n",
      "Checking processes in trial 0.\n",
      "Checking processes in trial 0.\n",
      "Checking processes in trial 0.\n",
      "Checking processes in trial 0.\n",
      "Checking processes in trial 0.\n",
      "Checking processes in trial 0.\n",
      "Checking processes in trial 0.\n",
      "Checking processes in trial 0.\n",
      "Checking processes in trial 0.\n",
      "Checking processes in trial 0.\n",
      "Checking processes in trial 0.\n",
      "Checking processes in trial 0.\n",
      "Checking processes in trial 0.\n",
      "Checking processes in trial 0.\n",
      "Checking processes in trial 0.\n",
      "Checking processes in trial 0.\n",
      "Checking processes in trial 0.\n"
     ]
    },
    {
     "name": "stderr",
     "output_type": "stream",
     "text": [
      " 13%|█▎        | 959/7487 [00:58<04:47, 22.67it/s]"
     ]
    },
    {
     "name": "stdout",
     "output_type": "stream",
     "text": [
      "Checking processes in trial 0.\n",
      "Checking processes in trial 0.\n",
      "Checking processes in trial 0.\n",
      "Checking processes in trial 0.\n",
      "Checking processes in trial 0.\n",
      "Checking processes in trial 0.\n",
      "Checking processes in trial 0.\n",
      "Checking processes in trial 0.\n",
      "Checking processes in trial 0.\n",
      "Checking processes in trial 0.\n",
      "Checking processes in trial 0.\n",
      "Checking processes in trial 0.\n",
      "Checking processes in trial 0.\n",
      "Checking processes in trial 0.\n",
      "Checking processes in trial 0.\n",
      "Checking processes in trial 0.\n",
      "Checking processes in trial 0.\n"
     ]
    },
    {
     "name": "stderr",
     "output_type": "stream",
     "text": [
      " 13%|█▎        | 965/7487 [00:59<04:40, 23.27it/s]"
     ]
    },
    {
     "name": "stdout",
     "output_type": "stream",
     "text": [
      "Checking processes in trial 0.\n",
      "Checking processes in trial 0.\n",
      "Checking processes in trial 0.\n",
      "Checking processes in trial 0.\n",
      "Checking processes in trial 0.\n",
      "Checking processes in trial 0.\n",
      "Checking processes in trial 0.\n",
      "Checking processes in trial 0.\n",
      "Checking processes in trial 0.\n",
      "Checking processes in trial 0.\n",
      "Checking processes in trial 0.\n",
      "Checking processes in trial 0.\n",
      "Checking processes in trial 0.\n",
      "Checking processes in trial 0.\n",
      "Checking processes in trial 0.\n",
      "Checking processes in trial 0.\n",
      "Checking processes in trial 0.\n",
      "Checking processes in trial 0.\n",
      "Checking processes in trial 0.\n",
      "Checking processes in trial 0.\n",
      "Checking processes in trial 0.\n"
     ]
    },
    {
     "name": "stderr",
     "output_type": "stream",
     "text": [
      " 13%|█▎        | 968/7487 [00:59<04:34, 23.79it/s]"
     ]
    },
    {
     "name": "stdout",
     "output_type": "stream",
     "text": [
      "Checking processes in trial 0.\n",
      "Checking processes in trial 0.\n",
      "Checking processes in trial 0.\n",
      "Checking processes in trial 0.\n",
      "Checking processes in trial 0.\n",
      "Checking processes in trial 0.\n",
      "Checking processes in trial 0.\n",
      "Checking processes in trial 0.\n",
      "Checking processes in trial 0.\n",
      "Checking processes in trial 0.\n",
      "Checking processes in trial 0.\n",
      "Checking processes in trial 0.\n",
      "Checking processes in trial 0.\n",
      "Checking processes in trial 0.\n",
      "Checking processes in trial 0.\n",
      "Checking processes in trial 0.\n",
      "Checking processes in trial 0.\n",
      "Checking processes in trial 0.\n",
      "Checking processes in trial 0.\n",
      "Checking processes in trial 0.\n",
      "Checking processes in trial 0.\n"
     ]
    },
    {
     "name": "stderr",
     "output_type": "stream",
     "text": [
      " 13%|█▎        | 974/7487 [00:59<04:28, 24.30it/s]"
     ]
    },
    {
     "name": "stdout",
     "output_type": "stream",
     "text": [
      "Checking processes in trial 0.\n",
      "Checking processes in trial 0.\n",
      "Checking processes in trial 0.\n",
      "Checking processes in trial 0.\n",
      "Checking processes in trial 0.\n",
      "Checking processes in trial 0.\n",
      "Checking processes in trial 0.\n",
      "Checking processes in trial 0.\n",
      "Checking processes in trial 0.\n",
      "Checking processes in trial 0.\n",
      "Checking processes in trial 0.\n",
      "Checking processes in trial 0.\n",
      "Checking processes in trial 0.\n",
      "Checking processes in trial 0.\n",
      "Checking processes in trial 0.\n",
      "Checking processes in trial 0.\n",
      "Checking processes in trial 0.\n",
      "Checking processes in trial 0.\n",
      "Checking processes in trial 0.\n",
      "Checking processes in trial 0.\n"
     ]
    },
    {
     "name": "stderr",
     "output_type": "stream",
     "text": [
      " 13%|█▎        | 980/7487 [00:59<04:27, 24.31it/s]"
     ]
    },
    {
     "name": "stdout",
     "output_type": "stream",
     "text": [
      "Checking processes in trial 0.\n",
      "Checking processes in trial 0.\n",
      "Checking processes in trial 0.\n",
      "Checking processes in trial 0.\n",
      "Checking processes in trial 0.\n",
      "Checking processes in trial 0.\n",
      "Checking processes in trial 0.\n",
      "Checking processes in trial 0.\n",
      "Checking processes in trial 0.\n",
      "Checking processes in trial 0.\n",
      "Checking processes in trial 0.\n",
      "Checking processes in trial 0.\n",
      "Checking processes in trial 0.\n",
      "Checking processes in trial 0.\n",
      "Checking processes in trial 0.\n",
      "Checking processes in trial 0.\n",
      "Checking processes in trial 0.\n",
      "Checking processes in trial 0.\n",
      "Checking processes in trial 0.\n",
      "Checking processes in trial 0.\n",
      "Checking processes in trial 0.\n"
     ]
    },
    {
     "name": "stderr",
     "output_type": "stream",
     "text": [
      " 13%|█▎        | 986/7487 [01:00<04:21, 24.85it/s]"
     ]
    },
    {
     "name": "stdout",
     "output_type": "stream",
     "text": [
      "Checking processes in trial 0.\n",
      "Checking processes in trial 0.\n",
      "Checking processes in trial 0.\n",
      "Checking processes in trial 0.\n",
      "Checking processes in trial 0.\n",
      "Checking processes in trial 0.\n",
      "Checking processes in trial 0.\n",
      "Checking processes in trial 0.\n",
      "Checking processes in trial 0.\n",
      "Checking processes in trial 0.\n",
      "Checking processes in trial 0.\n",
      "Checking processes in trial 0.\n",
      "Checking processes in trial 0.\n",
      "Checking processes in trial 0.\n",
      "Checking processes in trial 0.\n",
      "Checking processes in trial 0.\n",
      "Checking processes in trial 0.\n",
      "Checking processes in trial 0.\n",
      "Checking processes in trial 0.\n",
      "Checking processes in trial 0.\n",
      "Checking processes in trial 0.\n"
     ]
    },
    {
     "name": "stderr",
     "output_type": "stream",
     "text": [
      " 13%|█▎        | 989/7487 [01:00<04:24, 24.59it/s]"
     ]
    },
    {
     "name": "stdout",
     "output_type": "stream",
     "text": [
      "Checking processes in trial 0.\n",
      "Checking processes in trial 0.\n",
      "Checking processes in trial 0.\n",
      "Checking processes in trial 0.\n",
      "Checking processes in trial 0.\n",
      "Checking processes in trial 0.\n",
      "Checking processes in trial 0.\n",
      "Checking processes in trial 0.\n",
      "Checking processes in trial 0.\n",
      "Checking processes in trial 0.\n",
      "Checking processes in trial 0.\n",
      "Checking processes in trial 0.\n",
      "Checking processes in trial 0.\n",
      "Checking processes in trial 0.\n",
      "Checking processes in trial 0.\n",
      "Checking processes in trial 0.\n",
      "Checking processes in trial 0.\n",
      "Checking processes in trial 0.\n",
      "Checking processes in trial 0.\n",
      "Checking processes in trial 0.\n",
      "Checking processes in trial 0.\n"
     ]
    },
    {
     "name": "stderr",
     "output_type": "stream",
     "text": [
      " 13%|█▎        | 995/7487 [01:00<04:21, 24.79it/s]"
     ]
    },
    {
     "name": "stdout",
     "output_type": "stream",
     "text": [
      "Checking processes in trial 0.\n",
      "Checking processes in trial 0.\n",
      "Checking processes in trial 0.\n",
      "Checking processes in trial 0.\n",
      "Checking processes in trial 0.\n",
      "Checking processes in trial 0.\n",
      "Checking processes in trial 0.\n",
      "Checking processes in trial 0.\n",
      "Checking processes in trial 0.\n",
      "Checking processes in trial 0.\n",
      "Checking processes in trial 0.\n",
      "Checking processes in trial 0.\n",
      "Checking processes in trial 0.\n",
      "Checking processes in trial 0.\n",
      "Checking processes in trial 0.\n",
      "Checking processes in trial 0.\n",
      "Checking processes in trial 0.\n",
      "Checking processes in trial 0.\n"
     ]
    },
    {
     "name": "stderr",
     "output_type": "stream",
     "text": [
      " 13%|█▎        | 1001/7487 [01:00<04:35, 23.53it/s]"
     ]
    },
    {
     "name": "stdout",
     "output_type": "stream",
     "text": [
      "Checking processes in trial 0.\n",
      "Checking processes in trial 0.\n",
      "Checking processes in trial 0.\n",
      "Checking processes in trial 0.\n",
      "Checking processes in trial 0.\n",
      "Checking processes in trial 0.\n",
      "Checking processes in trial 0.\n",
      "Checking processes in trial 0.\n",
      "Checking processes in trial 0.\n",
      "Checking processes in trial 0.\n",
      "Checking processes in trial 0.\n",
      "Checking processes in trial 0.\n",
      "Checking processes in trial 0.\n",
      "Checking processes in trial 0.\n",
      "Checking processes in trial 0.\n",
      "Checking processes in trial 0.\n",
      "Checking processes in trial 0.\n",
      "Checking processes in trial 0.\n",
      "Checking processes in trial 0.\n",
      "Checking processes in trial 0.\n",
      "Checking processes in trial 0.\n"
     ]
    },
    {
     "name": "stderr",
     "output_type": "stream",
     "text": [
      " 13%|█▎        | 1004/7487 [01:00<04:24, 24.55it/s]"
     ]
    },
    {
     "name": "stdout",
     "output_type": "stream",
     "text": [
      "Checking processes in trial 0.\n",
      "Checking processes in trial 0.\n",
      "Checking processes in trial 0.\n",
      "Checking processes in trial 0.\n",
      "Checking processes in trial 0.\n",
      "Checking processes in trial 0.\n",
      "Checking processes in trial 0.\n",
      "Checking processes in trial 0.\n",
      "Checking processes in trial 0.\n",
      "Checking processes in trial 0.\n",
      "Checking processes in trial 0.\n",
      "Checking processes in trial 0.\n",
      "Checking processes in trial 0.\n",
      "Checking processes in trial 0.\n",
      "Checking processes in trial 0.\n",
      "Checking processes in trial 0.\n",
      "Checking processes in trial 0.\n",
      "Checking processes in trial 0.\n",
      "Checking processes in trial 0.\n",
      "Checking processes in trial 0.\n",
      "Checking processes in trial 0.\n",
      "Checking processes in trial 0.\n",
      "Checking processes in trial 0.\n"
     ]
    },
    {
     "name": "stderr",
     "output_type": "stream",
     "text": [
      " 13%|█▎        | 1010/7487 [01:00<04:14, 25.48it/s]"
     ]
    },
    {
     "name": "stdout",
     "output_type": "stream",
     "text": [
      "Checking processes in trial 0.\n",
      "Checking processes in trial 0.\n",
      "Checking processes in trial 0.\n",
      "Checking processes in trial 0.\n",
      "Checking processes in trial 0.\n",
      "Checking processes in trial 0.\n",
      "Checking processes in trial 0.\n",
      "Checking processes in trial 0.\n",
      "Checking processes in trial 0.\n",
      "Checking processes in trial 0.\n",
      "Checking processes in trial 0.\n",
      "Checking processes in trial 0.\n",
      "Checking processes in trial 0.\n",
      "Checking processes in trial 0.\n",
      "Checking processes in trial 0.\n",
      "Checking processes in trial 0.\n",
      "Checking processes in trial 0.\n",
      "Checking processes in trial 0.\n",
      "Checking processes in trial 0.\n",
      "Checking processes in trial 0.\n",
      "Checking processes in trial 0.\n",
      "Checking processes in trial 0.\n",
      "Checking processes in trial 0.\n"
     ]
    },
    {
     "name": "stderr",
     "output_type": "stream",
     "text": [
      " 14%|█▎        | 1016/7487 [01:01<04:17, 25.13it/s]"
     ]
    },
    {
     "name": "stdout",
     "output_type": "stream",
     "text": [
      "Checking processes in trial 0.\n",
      "Checking processes in trial 0.\n",
      "Checking processes in trial 0.\n",
      "Checking processes in trial 0.\n",
      "Checking processes in trial 0.\n",
      "Checking processes in trial 0.\n",
      "Checking processes in trial 0.\n",
      "Checking processes in trial 0.\n",
      "Checking processes in trial 0.\n",
      "Checking processes in trial 0.\n",
      "Checking processes in trial 0.\n",
      "Checking processes in trial 0.\n",
      "Checking processes in trial 0.\n",
      "Checking processes in trial 0.\n",
      "Checking processes in trial 0.\n",
      "Checking processes in trial 0.\n",
      "Checking processes in trial 0.\n",
      "Checking processes in trial 0.\n",
      "Checking processes in trial 0.\n",
      "Checking processes in trial 0.\n"
     ]
    },
    {
     "name": "stderr",
     "output_type": "stream",
     "text": [
      " 14%|█▎        | 1022/7487 [01:01<04:27, 24.20it/s]"
     ]
    },
    {
     "name": "stdout",
     "output_type": "stream",
     "text": [
      "Checking processes in trial 0.\n",
      "Checking processes in trial 0.\n",
      "Checking processes in trial 0.\n",
      "Checking processes in trial 0.\n",
      "Checking processes in trial 0.\n",
      "Checking processes in trial 0.\n",
      "Checking processes in trial 0.\n",
      "Checking processes in trial 0.\n",
      "Checking processes in trial 0.\n",
      "Checking processes in trial 0.\n",
      "Checking processes in trial 0.\n",
      "Checking processes in trial 0.\n",
      "Checking processes in trial 0.\n",
      "Checking processes in trial 0.\n",
      "Checking processes in trial 0.\n",
      "Checking processes in trial 0.\n",
      "Checking processes in trial 0.\n",
      "Checking processes in trial 0.\n",
      "Checking processes in trial 0.\n"
     ]
    },
    {
     "name": "stderr",
     "output_type": "stream",
     "text": [
      " 14%|█▎        | 1028/7487 [01:01<04:18, 24.99it/s]"
     ]
    },
    {
     "name": "stdout",
     "output_type": "stream",
     "text": [
      "Checking processes in trial 0.\n",
      "Checking processes in trial 0.\n",
      "Checking processes in trial 0.\n",
      "Checking processes in trial 0.\n",
      "Checking processes in trial 0.\n",
      "Checking processes in trial 0.\n",
      "Checking processes in trial 0.\n",
      "Checking processes in trial 0.\n",
      "Checking processes in trial 0.\n",
      "Checking processes in trial 0.\n",
      "Checking processes in trial 0.\n",
      "Checking processes in trial 0.\n",
      "Checking processes in trial 0.\n",
      "Checking processes in trial 0.\n",
      "Checking processes in trial 0.\n",
      "Checking processes in trial 0.\n",
      "Checking processes in trial 0.\n",
      "Checking processes in trial 0.\n",
      "Checking processes in trial 0.\n",
      "Checking processes in trial 0.\n",
      "Checking processes in trial 0.\n",
      "Checking processes in trial 0.\n"
     ]
    },
    {
     "name": "stderr",
     "output_type": "stream",
     "text": [
      " 14%|█▍        | 1031/7487 [01:01<04:19, 24.92it/s]"
     ]
    },
    {
     "name": "stdout",
     "output_type": "stream",
     "text": [
      "Checking processes in trial 0.\n",
      "Checking processes in trial 0.\n",
      "Checking processes in trial 0.\n",
      "Checking processes in trial 0.\n",
      "Checking processes in trial 0.\n",
      "Checking processes in trial 0.\n",
      "Checking processes in trial 0.\n",
      "Checking processes in trial 0.\n",
      "Checking processes in trial 0.\n",
      "Checking processes in trial 0.\n",
      "Checking processes in trial 0.\n",
      "Checking processes in trial 0.\n",
      "Checking processes in trial 0.\n",
      "Checking processes in trial 0.\n",
      "Checking processes in trial 0.\n",
      "Checking processes in trial 0.\n",
      "Checking processes in trial 0.\n",
      "Checking processes in trial 0.\n",
      "Checking processes in trial 0.\n",
      "Checking processes in trial 0.\n",
      "Checking processes in trial 0.\n",
      "Checking processes in trial 0.\n"
     ]
    },
    {
     "name": "stderr",
     "output_type": "stream",
     "text": [
      " 14%|█▍        | 1034/7487 [01:01<06:26, 16.69it/s]\n"
     ]
    },
    {
     "name": "stdout",
     "output_type": "stream",
     "text": [
      "Checking processes in trial 0.\n",
      "Checking processes in trial 0.\n"
     ]
    },
    {
     "ename": "KeyboardInterrupt",
     "evalue": "",
     "output_type": "error",
     "traceback": [
      "\u001b[0;31m---------------------------------------------------------------------------\u001b[0m",
      "\u001b[0;31mKeyboardInterrupt\u001b[0m                         Traceback (most recent call last)",
      "Cell \u001b[0;32mIn[49], line 4\u001b[0m\n\u001b[1;32m      1\u001b[0m \u001b[39mfor\u001b[39;00m i, batch \u001b[39min\u001b[39;00m tqdm(\u001b[39menumerate\u001b[39m(pdl), total\u001b[39m=\u001b[39m\u001b[39mlen\u001b[39m(pdl)):\n\u001b[1;32m      2\u001b[0m     \u001b[39m#pred = ReturnPattern(mean_hat=batch.t_daily, var_hat=batch.t_daily.abs() * 2, coords=batch.coords)\u001b[39;00m\n\u001b[1;32m      3\u001b[0m     pred \u001b[39m=\u001b[39m ReturnPattern(mean_hat\u001b[39m=\u001b[39mbatch\u001b[39m.\u001b[39mt_daily, var_hat\u001b[39m=\u001b[39m\u001b[39mNone\u001b[39;00m, coords\u001b[39m=\u001b[39mbatch\u001b[39m.\u001b[39mcoords)\n\u001b[0;32m----> 4\u001b[0m     output_writer\u001b[39m.\u001b[39;49mwrite_on_batch_end(trainer\u001b[39m=\u001b[39;49mtrainer, pl_module\u001b[39m=\u001b[39;49m\u001b[39mNone\u001b[39;49;00m, prediction\u001b[39m=\u001b[39;49mpred, batch_indices\u001b[39m=\u001b[39;49m\u001b[39mNone\u001b[39;49;00m, batch\u001b[39m=\u001b[39;49m\u001b[39mNone\u001b[39;49;00m, batch_idx\u001b[39m=\u001b[39;49m\u001b[39mNone\u001b[39;49;00m, dataloader_idx\u001b[39m=\u001b[39;49m\u001b[39m0\u001b[39;49m)\n",
      "Cell \u001b[0;32mIn[46], line 77\u001b[0m, in \u001b[0;36mOutputWriter.write_on_batch_end\u001b[0;34m(self, trainer, pl_module, prediction, batch_indices, batch, batch_idx, dataloader_idx)\u001b[0m\n\u001b[1;32m     68\u001b[0m     \u001b[39mself\u001b[39m\u001b[39m.\u001b[39mchunks[chunk_id] \u001b[39m=\u001b[39m {\n\u001b[1;32m     69\u001b[0m         \u001b[39m'\u001b[39m\u001b[39mds\u001b[39m\u001b[39m'\u001b[39m: chunk_ds,\n\u001b[1;32m     70\u001b[0m         \u001b[39m'\u001b[39m\u001b[39mnum_samples\u001b[39m\u001b[39m'\u001b[39m: num_samples,\n\u001b[0;32m   (...)\u001b[0m\n\u001b[1;32m     73\u001b[0m         \u001b[39m'\u001b[39m\u001b[39mlon_bounds\u001b[39m\u001b[39m'\u001b[39m: lon_bounds,\n\u001b[1;32m     74\u001b[0m     }\n\u001b[1;32m     76\u001b[0m \u001b[39mfor\u001b[39;00m target_i, target \u001b[39min\u001b[39;00m \u001b[39menumerate\u001b[39m(\u001b[39mself\u001b[39m\u001b[39m.\u001b[39mtargets):\n\u001b[0;32m---> 77\u001b[0m     \u001b[39mself\u001b[39;49m\u001b[39m.\u001b[39;49mchunks[chunk_id][\u001b[39m'\u001b[39;49m\u001b[39mds\u001b[39;49m\u001b[39m'\u001b[39;49m][\n\u001b[1;32m     78\u001b[0m         \u001b[39mself\u001b[39;49m\u001b[39m.\u001b[39;49mget_target_pred_name(name\u001b[39m=\u001b[39;49mtarget, is_variance\u001b[39m=\u001b[39;49m\u001b[39mFalse\u001b[39;49;00m)\n\u001b[1;32m     79\u001b[0m     ]\u001b[39m.\u001b[39;49mloc[{\u001b[39m'\u001b[39;49m\u001b[39mlat\u001b[39;49m\u001b[39m'\u001b[39;49m: i_pred\u001b[39m.\u001b[39;49mcoords\u001b[39m.\u001b[39;49mlat, \u001b[39m'\u001b[39;49m\u001b[39mlon\u001b[39;49m\u001b[39m'\u001b[39;49m: i_pred\u001b[39m.\u001b[39;49mcoords\u001b[39m.\u001b[39;49mlon}] \u001b[39m=\u001b[39m i_pred\u001b[39m.\u001b[39mmean_hat[\u001b[39m.\u001b[39m\u001b[39m.\u001b[39m\u001b[39m.\u001b[39m, target_i]\n\u001b[1;32m     81\u001b[0m     \u001b[39mif\u001b[39;00m \u001b[39mself\u001b[39m\u001b[39m.\u001b[39mhas_variance:\n\u001b[1;32m     82\u001b[0m         \u001b[39mself\u001b[39m\u001b[39m.\u001b[39mchunks[chunk_id][\u001b[39m'\u001b[39m\u001b[39mds\u001b[39m\u001b[39m'\u001b[39m][\n\u001b[1;32m     83\u001b[0m             \u001b[39mself\u001b[39m\u001b[39m.\u001b[39mget_target_pred_name(name\u001b[39m=\u001b[39mtarget, is_variance\u001b[39m=\u001b[39m\u001b[39mTrue\u001b[39;00m)\n\u001b[1;32m     84\u001b[0m         ]\u001b[39m.\u001b[39mloc[{\u001b[39m'\u001b[39m\u001b[39mlat\u001b[39m\u001b[39m'\u001b[39m: i_pred\u001b[39m.\u001b[39mcoords\u001b[39m.\u001b[39mlat, \u001b[39m'\u001b[39m\u001b[39mlon\u001b[39m\u001b[39m'\u001b[39m: i_pred\u001b[39m.\u001b[39mcoords\u001b[39m.\u001b[39mlon}] \u001b[39m=\u001b[39m i_pred\u001b[39m.\u001b[39mvar_hat[\u001b[39m.\u001b[39m\u001b[39m.\u001b[39m\u001b[39m.\u001b[39m, target_i]\n",
      "File \u001b[0;32m/Net/Groups/BGI/people/bkraft/anaconda3/envs/dml/lib/python3.10/site-packages/xarray/core/dataarray.py:218\u001b[0m, in \u001b[0;36m_LocIndexer.__setitem__\u001b[0;34m(self, key, value)\u001b[0m\n\u001b[1;32m    215\u001b[0m     key \u001b[39m=\u001b[39m \u001b[39mdict\u001b[39m(\u001b[39mzip\u001b[39m(\u001b[39mself\u001b[39m\u001b[39m.\u001b[39mdata_array\u001b[39m.\u001b[39mdims, labels))\n\u001b[1;32m    217\u001b[0m dim_indexers \u001b[39m=\u001b[39m map_index_queries(\u001b[39mself\u001b[39m\u001b[39m.\u001b[39mdata_array, key)\u001b[39m.\u001b[39mdim_indexers\n\u001b[0;32m--> 218\u001b[0m \u001b[39mself\u001b[39;49m\u001b[39m.\u001b[39;49mdata_array[dim_indexers] \u001b[39m=\u001b[39m value\n",
      "File \u001b[0;32m/Net/Groups/BGI/people/bkraft/anaconda3/envs/dml/lib/python3.10/site-packages/xarray/core/dataarray.py:836\u001b[0m, in \u001b[0;36mDataArray.__setitem__\u001b[0;34m(self, key, value)\u001b[0m\n\u001b[1;32m    831\u001b[0m \u001b[39m# DataArray key -> Variable key\u001b[39;00m\n\u001b[1;32m    832\u001b[0m key \u001b[39m=\u001b[39m {\n\u001b[1;32m    833\u001b[0m     k: v\u001b[39m.\u001b[39mvariable \u001b[39mif\u001b[39;00m \u001b[39misinstance\u001b[39m(v, DataArray) \u001b[39melse\u001b[39;00m v\n\u001b[1;32m    834\u001b[0m     \u001b[39mfor\u001b[39;00m k, v \u001b[39min\u001b[39;00m \u001b[39mself\u001b[39m\u001b[39m.\u001b[39m_item_key_to_dict(key)\u001b[39m.\u001b[39mitems()\n\u001b[1;32m    835\u001b[0m }\n\u001b[0;32m--> 836\u001b[0m \u001b[39mself\u001b[39;49m\u001b[39m.\u001b[39;49mvariable[key] \u001b[39m=\u001b[39m value\n",
      "File \u001b[0;32m/Net/Groups/BGI/people/bkraft/anaconda3/envs/dml/lib/python3.10/site-packages/xarray/core/variable.py:947\u001b[0m, in \u001b[0;36mVariable.__setitem__\u001b[0;34m(self, key, value)\u001b[0m\n\u001b[1;32m    944\u001b[0m     value \u001b[39m=\u001b[39m np\u001b[39m.\u001b[39mmoveaxis(value, new_order, \u001b[39mrange\u001b[39m(\u001b[39mlen\u001b[39m(new_order)))\n\u001b[1;32m    946\u001b[0m indexable \u001b[39m=\u001b[39m as_indexable(\u001b[39mself\u001b[39m\u001b[39m.\u001b[39m_data)\n\u001b[0;32m--> 947\u001b[0m indexable[index_tuple] \u001b[39m=\u001b[39m value\n",
      "File \u001b[0;32m/Net/Groups/BGI/people/bkraft/anaconda3/envs/dml/lib/python3.10/site-packages/xarray/core/indexing.py:1386\u001b[0m, in \u001b[0;36mDaskIndexingAdapter.__setitem__\u001b[0;34m(self, key, value)\u001b[0m\n\u001b[1;32m   1384\u001b[0m \u001b[39mif\u001b[39;00m mod_version(\u001b[39m\"\u001b[39m\u001b[39mdask\u001b[39m\u001b[39m\"\u001b[39m) \u001b[39m>\u001b[39m\u001b[39m=\u001b[39m Version(\u001b[39m\"\u001b[39m\u001b[39m2021.04.1\u001b[39m\u001b[39m\"\u001b[39m):\n\u001b[1;32m   1385\u001b[0m     \u001b[39mif\u001b[39;00m \u001b[39misinstance\u001b[39m(key, BasicIndexer):\n\u001b[0;32m-> 1386\u001b[0m         \u001b[39mself\u001b[39;49m\u001b[39m.\u001b[39;49marray[key\u001b[39m.\u001b[39;49mtuple] \u001b[39m=\u001b[39m value\n\u001b[1;32m   1387\u001b[0m     \u001b[39melif\u001b[39;00m \u001b[39misinstance\u001b[39m(key, VectorizedIndexer):\n\u001b[1;32m   1388\u001b[0m         \u001b[39mself\u001b[39m\u001b[39m.\u001b[39marray\u001b[39m.\u001b[39mvindex[key\u001b[39m.\u001b[39mtuple] \u001b[39m=\u001b[39m value\n",
      "File \u001b[0;32m/Net/Groups/BGI/people/bkraft/anaconda3/envs/dml/lib/python3.10/site-packages/dask/array/core.py:1913\u001b[0m, in \u001b[0;36mArray.__setitem__\u001b[0;34m(self, key, value)\u001b[0m\n\u001b[1;32m   1910\u001b[0m value \u001b[39m=\u001b[39m asanyarray(value)\n\u001b[1;32m   1912\u001b[0m out \u001b[39m=\u001b[39m \u001b[39m\"\u001b[39m\u001b[39msetitem-\u001b[39m\u001b[39m\"\u001b[39m \u001b[39m+\u001b[39m tokenize(\u001b[39mself\u001b[39m, key, value)\n\u001b[0;32m-> 1913\u001b[0m dsk \u001b[39m=\u001b[39m setitem_array(out, \u001b[39mself\u001b[39;49m, key, value)\n\u001b[1;32m   1915\u001b[0m meta \u001b[39m=\u001b[39m meta_from_array(\u001b[39mself\u001b[39m\u001b[39m.\u001b[39m_meta)\n\u001b[1;32m   1916\u001b[0m \u001b[39mif\u001b[39;00m np\u001b[39m.\u001b[39misscalar(meta):\n",
      "File \u001b[0;32m/Net/Groups/BGI/people/bkraft/anaconda3/envs/dml/lib/python3.10/site-packages/dask/array/slicing.py:2059\u001b[0m, in \u001b[0;36msetitem_array\u001b[0;34m(out_name, array, indices, value)\u001b[0m\n\u001b[1;32m   2057\u001b[0m v \u001b[39m=\u001b[39m value[\u001b[39mtuple\u001b[39m(value_indices)]\n\u001b[1;32m   2058\u001b[0m v \u001b[39m=\u001b[39m concatenate_array_chunks(v)\n\u001b[0;32m-> 2059\u001b[0m v_key \u001b[39m=\u001b[39m \u001b[39mnext\u001b[39m(flatten(v\u001b[39m.\u001b[39;49m__dask_keys__()))\n\u001b[1;32m   2061\u001b[0m \u001b[39m# Insert into the output dask dictionary the dask of the part\u001b[39;00m\n\u001b[1;32m   2062\u001b[0m \u001b[39m# of assignment value for this block (not minding when we\u001b[39;00m\n\u001b[1;32m   2063\u001b[0m \u001b[39m# overwrite any existing keys as the values will be the same).\u001b[39;00m\n\u001b[1;32m   2064\u001b[0m dsk \u001b[39m=\u001b[39m merge(\u001b[39mdict\u001b[39m(v\u001b[39m.\u001b[39mdask), dsk)\n",
      "File \u001b[0;32m/Net/Groups/BGI/people/bkraft/anaconda3/envs/dml/lib/python3.10/site-packages/dask/array/core.py:1401\u001b[0m, in \u001b[0;36mArray.__dask_keys__\u001b[0;34m(self)\u001b[0m\n\u001b[1;32m   1398\u001b[0m \u001b[39mif\u001b[39;00m \u001b[39mself\u001b[39m\u001b[39m.\u001b[39m_cached_keys \u001b[39mis\u001b[39;00m \u001b[39mnot\u001b[39;00m \u001b[39mNone\u001b[39;00m:\n\u001b[1;32m   1399\u001b[0m     \u001b[39mreturn\u001b[39;00m \u001b[39mself\u001b[39m\u001b[39m.\u001b[39m_cached_keys\n\u001b[0;32m-> 1401\u001b[0m name, chunks, numblocks \u001b[39m=\u001b[39m \u001b[39mself\u001b[39m\u001b[39m.\u001b[39mname, \u001b[39mself\u001b[39m\u001b[39m.\u001b[39mchunks, \u001b[39mself\u001b[39;49m\u001b[39m.\u001b[39;49mnumblocks\n\u001b[1;32m   1403\u001b[0m \u001b[39mdef\u001b[39;00m \u001b[39mkeys\u001b[39m(\u001b[39m*\u001b[39margs):\n\u001b[1;32m   1404\u001b[0m     \u001b[39mif\u001b[39;00m \u001b[39mnot\u001b[39;00m chunks:\n",
      "File \u001b[0;32m/Net/Groups/BGI/people/bkraft/anaconda3/envs/dml/lib/python3.10/functools.py:961\u001b[0m, in \u001b[0;36mcached_property.__get__\u001b[0;34m(self, instance, owner)\u001b[0m\n\u001b[1;32m    955\u001b[0m     \u001b[39melif\u001b[39;00m name \u001b[39m!=\u001b[39m \u001b[39mself\u001b[39m\u001b[39m.\u001b[39mattrname:\n\u001b[1;32m    956\u001b[0m         \u001b[39mraise\u001b[39;00m \u001b[39mTypeError\u001b[39;00m(\n\u001b[1;32m    957\u001b[0m             \u001b[39m\"\u001b[39m\u001b[39mCannot assign the same cached_property to two different names \u001b[39m\u001b[39m\"\u001b[39m\n\u001b[1;32m    958\u001b[0m             \u001b[39mf\u001b[39m\u001b[39m\"\u001b[39m\u001b[39m(\u001b[39m\u001b[39m{\u001b[39;00m\u001b[39mself\u001b[39m\u001b[39m.\u001b[39mattrname\u001b[39m!r}\u001b[39;00m\u001b[39m and \u001b[39m\u001b[39m{\u001b[39;00mname\u001b[39m!r}\u001b[39;00m\u001b[39m).\u001b[39m\u001b[39m\"\u001b[39m\n\u001b[1;32m    959\u001b[0m         )\n\u001b[0;32m--> 961\u001b[0m \u001b[39mdef\u001b[39;00m \u001b[39m__get__\u001b[39m(\u001b[39mself\u001b[39m, instance, owner\u001b[39m=\u001b[39m\u001b[39mNone\u001b[39;00m):\n\u001b[1;32m    962\u001b[0m     \u001b[39mif\u001b[39;00m instance \u001b[39mis\u001b[39;00m \u001b[39mNone\u001b[39;00m:\n\u001b[1;32m    963\u001b[0m         \u001b[39mreturn\u001b[39;00m \u001b[39mself\u001b[39m\n",
      "\u001b[0;31mKeyboardInterrupt\u001b[0m: "
     ]
    }
   ],
   "source": [
    "for i, batch in tqdm(enumerate(pdl), total=len(pdl)):\n",
    "    #pred = ReturnPattern(mean_hat=batch.t_daily, var_hat=batch.t_daily.abs() * 2, coords=batch.coords)\n",
    "    pred = ReturnPattern(mean_hat=batch.t_daily, var_hat=None, coords=batch.coords)\n",
    "    output_writer.write_on_batch_end(trainer=trainer, pl_module=None, prediction=pred, batch_indices=None, batch=None, batch_idx=None, dataloader_idx=0)"
   ]
  },
  {
   "cell_type": "code",
   "execution_count": 13,
   "metadata": {},
   "outputs": [],
   "source": [
    "mask = xr.open_zarr('/Net/Groups/BGI/scratch/bkraft/drought_data/cube.zarr/').fold_mask.isel(fold=3).load()"
   ]
  },
  {
   "cell_type": "code",
   "execution_count": 14,
   "metadata": {},
   "outputs": [
    {
     "data": {
      "text/plain": [
       "<matplotlib.collections.QuadMesh at 0x7f2a110e9600>"
      ]
     },
     "execution_count": 14,
     "metadata": {},
     "output_type": "execute_result"
    },
    {
     "data": {
      "image/png": "[encoded data removed]",
      "text/plain": [
       "<Figure size 640x480 with 2 Axes>"
      ]
     },
     "metadata": {},
     "output_type": "display_data"
    }
   ],
   "source": [
    "m = output_writer.zarr_file.fvc_ano_hat.isel(time=1000)\n",
    "m.plot()"
   ]
  },
  {
   "cell_type": "code",
   "execution_count": 15,
   "metadata": {},
   "outputs": [
    {
     "ename": "AttributeError",
     "evalue": "'Dataset' object has no attribute 'fvc_ano_vhat'",
     "output_type": "error",
     "traceback": [
      "\u001b[0;31m---------------------------------------------------------------------------\u001b[0m",
      "\u001b[0;31mAttributeError\u001b[0m                            Traceback (most recent call last)",
      "Cell \u001b[0;32mIn[15], line 1\u001b[0m\n\u001b[0;32m----> 1\u001b[0m m \u001b[39m=\u001b[39m output_writer\u001b[39m.\u001b[39;49mzarr_file\u001b[39m.\u001b[39;49mfvc_ano_vhat\u001b[39m.\u001b[39misel(time\u001b[39m=\u001b[39m\u001b[39m1000\u001b[39m)\n\u001b[1;32m      2\u001b[0m m\u001b[39m.\u001b[39mplot()\n",
      "File \u001b[0;32m/Net/Groups/BGI/people/bkraft/anaconda3/envs/dml/lib/python3.10/site-packages/xarray/core/common.py:278\u001b[0m, in \u001b[0;36mAttrAccessMixin.__getattr__\u001b[0;34m(self, name)\u001b[0m\n\u001b[1;32m    276\u001b[0m         \u001b[39mwith\u001b[39;00m suppress(\u001b[39mKeyError\u001b[39;00m):\n\u001b[1;32m    277\u001b[0m             \u001b[39mreturn\u001b[39;00m source[name]\n\u001b[0;32m--> 278\u001b[0m \u001b[39mraise\u001b[39;00m \u001b[39mAttributeError\u001b[39;00m(\n\u001b[1;32m    279\u001b[0m     \u001b[39mf\u001b[39m\u001b[39m\"\u001b[39m\u001b[39m{\u001b[39;00m\u001b[39mtype\u001b[39m(\u001b[39mself\u001b[39m)\u001b[39m.\u001b[39m\u001b[39m__name__\u001b[39m\u001b[39m!r}\u001b[39;00m\u001b[39m object has no attribute \u001b[39m\u001b[39m{\u001b[39;00mname\u001b[39m!r}\u001b[39;00m\u001b[39m\"\u001b[39m\n\u001b[1;32m    280\u001b[0m )\n",
      "\u001b[0;31mAttributeError\u001b[0m: 'Dataset' object has no attribute 'fvc_ano_vhat'"
     ]
    }
   ],
   "source": [
    "m = output_writer.zarr_file.fvc_ano_vhat.isel(time=1000)\n",
    "m.plot()"
   ]
  },
  {
   "cell_type": "code",
   "execution_count": null,
   "metadata": {},
   "outputs": [
    {
     "data": {
      "text/plain": [
       "<matplotlib.collections.QuadMesh at 0x7f52ed16a0b0>"
      ]
     },
     "execution_count": 9,
     "metadata": {},
     "output_type": "execute_result"
    },
    {
     "data": {
      "image/png": "[encoded data removed]",
      "text/plain": [
       "<Figure size 640x480 with 2 Axes>"
      ]
     },
     "metadata": {},
     "output_type": "display_data"
    }
   ],
   "source": [
    "mask_sel = mask\n",
    "mask_sel.plot()"
   ]
  },
  {
   "cell_type": "code",
   "execution_count": 17,
   "metadata": {},
   "outputs": [
    {
     "data": {
      "text/plain": [
       "{'chunks': (300, 20, 20),\n",
       " 'preferred_chunks': {'time': 300, 'lat': 20, 'lon': 20},\n",
       " 'compressor': Blosc(cname='lz4', clevel=5, shuffle=SHUFFLE, blocksize=0),\n",
       " 'filters': None,\n",
       " '_FillValue': nan,\n",
       " 'dtype': dtype('float32')}"
      ]
     },
     "execution_count": 17,
     "metadata": {},
     "output_type": "execute_result"
    }
   ],
   "source": [
    "m.encoding"
   ]
  },
  {
   "cell_type": "code",
   "execution_count": 19,
   "metadata": {},
   "outputs": [],
   "source": [
    "import torch.multiprocessing as mp\n",
    "from time import sleep"
   ]
  },
  {
   "cell_type": "code",
   "execution_count": 30,
   "metadata": {},
   "outputs": [
    {
     "name": "stdout",
     "output_type": "stream",
     "text": [
      "0\n",
      "2\n",
      "4\n",
      "6\n",
      "8\n",
      "10\n",
      "12\n",
      "14\n",
      "16\n",
      "18\n"
     ]
    }
   ],
   "source": [
    "def fun(a):\n",
    "    print(a)\n",
    "    sleep(2)\n",
    "\n",
    "processes = []\n",
    "for i in range(10):\n",
    "    a = i * 2\n",
    "    process = mp.Process(target=fun, args=(a,))\n",
    "    processes.append(process)\n",
    "    del a\n",
    "    process.start()\n",
    "    sleep(0.2)\n",
    "\n",
    "for process in processes:\n",
    "    process.join()\n"
   ]
  },
  {
   "cell_type": "code",
   "execution_count": 28,
   "metadata": {},
   "outputs": [],
   "source": [
    "p = processes[0]"
   ]
  },
  {
   "cell_type": "code",
   "execution_count": 29,
   "metadata": {},
   "outputs": [
    {
     "data": {
      "text/plain": [
       "False"
      ]
     },
     "execution_count": 29,
     "metadata": {},
     "output_type": "execute_result"
    }
   ],
   "source": [
    "p.is_alive()"
   ]
  },
  {
   "cell_type": "code",
   "execution_count": 33,
   "metadata": {},
   "outputs": [],
   "source": [
    "l = [1, 2, 3]"
   ]
  },
  {
   "cell_type": "code",
   "execution_count": 37,
   "metadata": {},
   "outputs": [
    {
     "ename": "TypeError",
     "evalue": "list indices must be integers or slices, not list",
     "output_type": "error",
     "traceback": [
      "\u001b[0;31m---------------------------------------------------------------------------\u001b[0m",
      "\u001b[0;31mTypeError\u001b[0m                                 Traceback (most recent call last)",
      "Cell \u001b[0;32mIn[37], line 1\u001b[0m\n\u001b[0;32m----> 1\u001b[0m l[[\u001b[39m2\u001b[39;49m, \u001b[39m3\u001b[39;49m]]\n",
      "\u001b[0;31mTypeError\u001b[0m: list indices must be integers or slices, not list"
     ]
    }
   ],
   "source": []
  },
  {
   "cell_type": "code",
   "execution_count": null,
   "metadata": {},
   "outputs": [],
   "source": []
  }
 ],
 "metadata": {
  "kernelspec": {
   "display_name": "Python 3.10.4 ('dml')",
   "language": "python",
   "name": "python3"
  },
  "language_info": {
   "codemirror_mode": {
    "name": "ipython",
    "version": 3
   },
   "file_extension": ".py",
   "mimetype": "text/x-python",
   "name": "python",
   "nbconvert_exporter": "python",
   "pygments_lexer": "ipython3",
   "version": "3.10.8"
  },
  "orig_nbformat": 4,
  "vscode": {
   "interpreter": {
    "hash": "86084ad56a93f274854d6fe97aba0aca6407c6c6756ce5067c11e8d5afc1eb38"
   }
  }
 },
 "nbformat": 4,
 "nbformat_minor": 2
}
